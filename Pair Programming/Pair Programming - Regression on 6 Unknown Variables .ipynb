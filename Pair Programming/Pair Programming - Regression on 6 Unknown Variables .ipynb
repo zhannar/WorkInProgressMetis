{
 "cells": [
  {
   "cell_type": "markdown",
   "metadata": {},
   "source": [
    "Pair Problem\n",
    "\n",
    "Explore a practice dataset by implementing a linear regression in five steps:\n",
    "\n",
    "1) Plot each independent variable against the dependent variable and take note of any obvious relationships.\n",
    "\n",
    "2) Break the data into a training set and a test set.\n",
    "\n",
    "3) Build a few regression models using the training set. Each model is choosing what variables to include and doing this: model = sm.OLS(y_train, X_train) results = model.fit()\n",
    "\n",
    "4) According to these models what can you say about the sign and certainty of the relationships between the variables in the data? Do the independent variables have a linear relationship with the dependent variable?\n",
    "\n",
    "5) Apply the results of each of these regression models to predict the values the dependent variable should take on in the test sample. Compare the models using the adjusted R2 - which model performs the best in the test sample?"
   ]
  },
  {
   "cell_type": "code",
   "execution_count": 3,
   "metadata": {
    "collapsed": true
   },
   "outputs": [],
   "source": [
    "import pandas as pd"
   ]
  },
  {
   "cell_type": "code",
   "execution_count": 183,
   "metadata": {
    "collapsed": false
   },
   "outputs": [],
   "source": [
    "data = pd.read_csv('Practice_data.csv')\n",
    "  "
   ]
  },
  {
   "cell_type": "code",
   "execution_count": 196,
   "metadata": {
    "collapsed": false
   },
   "outputs": [
    {
     "name": "stdout",
     "output_type": "stream",
     "text": [
      "   Ind_Variable_1  Ind_Variable_2  Ind_Variable_3  Ind_Variable_4  \\\n",
      "0       -0.662927        0.481136        0.247215        1.958167   \n",
      "1        1.582828        0.306494        1.548229       -0.707931   \n",
      "2       -0.559416        0.022729        1.553344        0.147306   \n",
      "3       -1.741017        0.366741        0.474254        0.111505   \n",
      "4        0.139236        0.244032        1.335525       -1.731315   \n",
      "\n",
      "   Ind_Variable_5  Ind_Variable_6  Dep_Variable  \n",
      "0        4.470671        0.036799      4.945552  \n",
      "1        1.871754        0.011579     -1.196168  \n",
      "2       -3.719343        0.213217     -1.244103  \n",
      "3        5.226183        0.327708     -2.516572  \n",
      "4        0.091636        0.516423    -12.755672  \n"
     ]
    },
    {
     "ename": "TypeError",
     "evalue": "bad operand type for unary ~: 'str'",
     "output_type": "error",
     "traceback": [
      "\u001b[0;31m---------------------------------------------------------------------------\u001b[0m",
      "\u001b[0;31mTypeError\u001b[0m                                 Traceback (most recent call last)",
      "\u001b[0;32m<ipython-input-196-a40250bc3e25>\u001b[0m in \u001b[0;36m<module>\u001b[0;34m()\u001b[0m\n\u001b[1;32m      1\u001b[0m \u001b[0;32mprint\u001b[0m \u001b[0meverything\u001b[0m\u001b[0;34m.\u001b[0m\u001b[0mhead\u001b[0m\u001b[0;34m(\u001b[0m\u001b[0;34m)\u001b[0m\u001b[0;34m\u001b[0m\u001b[0m\n\u001b[0;32m----> 2\u001b[0;31m \u001b[0meverything\u001b[0m\u001b[0;34m[\u001b[0m\u001b[0;34m~\u001b[0m\u001b[0;34m\"Dep_Variable\"\u001b[0m\u001b[0;34m]\u001b[0m\u001b[0;34m\u001b[0m\u001b[0m\n\u001b[0m",
      "\u001b[0;31mTypeError\u001b[0m: bad operand type for unary ~: 'str'"
     ]
    }
   ],
   "source": [
    "everything = pd.read_csv('Practice_data.csv')  \n",
    "print everything.head()\n",
    "everything[~\"Dep_Variable\"]"
   ]
  },
  {
   "cell_type": "code",
   "execution_count": 190,
   "metadata": {
    "collapsed": false
   },
   "outputs": [
    {
     "ename": "KeyError",
     "evalue": "1",
     "output_type": "error",
     "traceback": [
      "\u001b[0;31m---------------------------------------------------------------------------\u001b[0m",
      "\u001b[0;31mKeyError\u001b[0m                                  Traceback (most recent call last)",
      "\u001b[0;32m<ipython-input-190-b7691e0b9f94>\u001b[0m in \u001b[0;36m<module>\u001b[0;34m()\u001b[0m\n\u001b[0;32m----> 1\u001b[0;31m \u001b[0meverything\u001b[0m\u001b[0;34m[\u001b[0m\u001b[0meverything\u001b[0m\u001b[0;34m[\u001b[0m\u001b[0;36m1\u001b[0m\u001b[0;34m]\u001b[0m\u001b[0;34m]\u001b[0m\u001b[0;34m\u001b[0m\u001b[0m\n\u001b[0m",
      "\u001b[0;32m//anaconda/lib/python2.7/site-packages/pandas/core/frame.pyc\u001b[0m in \u001b[0;36m__getitem__\u001b[0;34m(self, key)\u001b[0m\n\u001b[1;32m   1795\u001b[0m             \u001b[0;32mreturn\u001b[0m \u001b[0mself\u001b[0m\u001b[0;34m.\u001b[0m\u001b[0m_getitem_multilevel\u001b[0m\u001b[0;34m(\u001b[0m\u001b[0mkey\u001b[0m\u001b[0;34m)\u001b[0m\u001b[0;34m\u001b[0m\u001b[0m\n\u001b[1;32m   1796\u001b[0m         \u001b[0;32melse\u001b[0m\u001b[0;34m:\u001b[0m\u001b[0;34m\u001b[0m\u001b[0m\n\u001b[0;32m-> 1797\u001b[0;31m             \u001b[0;32mreturn\u001b[0m \u001b[0mself\u001b[0m\u001b[0;34m.\u001b[0m\u001b[0m_getitem_column\u001b[0m\u001b[0;34m(\u001b[0m\u001b[0mkey\u001b[0m\u001b[0;34m)\u001b[0m\u001b[0;34m\u001b[0m\u001b[0m\n\u001b[0m\u001b[1;32m   1798\u001b[0m \u001b[0;34m\u001b[0m\u001b[0m\n\u001b[1;32m   1799\u001b[0m     \u001b[0;32mdef\u001b[0m \u001b[0m_getitem_column\u001b[0m\u001b[0;34m(\u001b[0m\u001b[0mself\u001b[0m\u001b[0;34m,\u001b[0m \u001b[0mkey\u001b[0m\u001b[0;34m)\u001b[0m\u001b[0;34m:\u001b[0m\u001b[0;34m\u001b[0m\u001b[0m\n",
      "\u001b[0;32m//anaconda/lib/python2.7/site-packages/pandas/core/frame.pyc\u001b[0m in \u001b[0;36m_getitem_column\u001b[0;34m(self, key)\u001b[0m\n\u001b[1;32m   1802\u001b[0m         \u001b[0;31m# get column\u001b[0m\u001b[0;34m\u001b[0m\u001b[0;34m\u001b[0m\u001b[0m\n\u001b[1;32m   1803\u001b[0m         \u001b[0;32mif\u001b[0m \u001b[0mself\u001b[0m\u001b[0;34m.\u001b[0m\u001b[0mcolumns\u001b[0m\u001b[0;34m.\u001b[0m\u001b[0mis_unique\u001b[0m\u001b[0;34m:\u001b[0m\u001b[0;34m\u001b[0m\u001b[0m\n\u001b[0;32m-> 1804\u001b[0;31m             \u001b[0;32mreturn\u001b[0m \u001b[0mself\u001b[0m\u001b[0;34m.\u001b[0m\u001b[0m_get_item_cache\u001b[0m\u001b[0;34m(\u001b[0m\u001b[0mkey\u001b[0m\u001b[0;34m)\u001b[0m\u001b[0;34m\u001b[0m\u001b[0m\n\u001b[0m\u001b[1;32m   1805\u001b[0m \u001b[0;34m\u001b[0m\u001b[0m\n\u001b[1;32m   1806\u001b[0m         \u001b[0;31m# duplicate columns & possible reduce dimensionaility\u001b[0m\u001b[0;34m\u001b[0m\u001b[0;34m\u001b[0m\u001b[0m\n",
      "\u001b[0;32m//anaconda/lib/python2.7/site-packages/pandas/core/generic.pyc\u001b[0m in \u001b[0;36m_get_item_cache\u001b[0;34m(self, item)\u001b[0m\n\u001b[1;32m   1082\u001b[0m         \u001b[0mres\u001b[0m \u001b[0;34m=\u001b[0m \u001b[0mcache\u001b[0m\u001b[0;34m.\u001b[0m\u001b[0mget\u001b[0m\u001b[0;34m(\u001b[0m\u001b[0mitem\u001b[0m\u001b[0;34m)\u001b[0m\u001b[0;34m\u001b[0m\u001b[0m\n\u001b[1;32m   1083\u001b[0m         \u001b[0;32mif\u001b[0m \u001b[0mres\u001b[0m \u001b[0;32mis\u001b[0m \u001b[0mNone\u001b[0m\u001b[0;34m:\u001b[0m\u001b[0;34m\u001b[0m\u001b[0m\n\u001b[0;32m-> 1084\u001b[0;31m             \u001b[0mvalues\u001b[0m \u001b[0;34m=\u001b[0m \u001b[0mself\u001b[0m\u001b[0;34m.\u001b[0m\u001b[0m_data\u001b[0m\u001b[0;34m.\u001b[0m\u001b[0mget\u001b[0m\u001b[0;34m(\u001b[0m\u001b[0mitem\u001b[0m\u001b[0;34m)\u001b[0m\u001b[0;34m\u001b[0m\u001b[0m\n\u001b[0m\u001b[1;32m   1085\u001b[0m             \u001b[0mres\u001b[0m \u001b[0;34m=\u001b[0m \u001b[0mself\u001b[0m\u001b[0;34m.\u001b[0m\u001b[0m_box_item_values\u001b[0m\u001b[0;34m(\u001b[0m\u001b[0mitem\u001b[0m\u001b[0;34m,\u001b[0m \u001b[0mvalues\u001b[0m\u001b[0;34m)\u001b[0m\u001b[0;34m\u001b[0m\u001b[0m\n\u001b[1;32m   1086\u001b[0m             \u001b[0mcache\u001b[0m\u001b[0;34m[\u001b[0m\u001b[0mitem\u001b[0m\u001b[0;34m]\u001b[0m \u001b[0;34m=\u001b[0m \u001b[0mres\u001b[0m\u001b[0;34m\u001b[0m\u001b[0m\n",
      "\u001b[0;32m//anaconda/lib/python2.7/site-packages/pandas/core/internals.pyc\u001b[0m in \u001b[0;36mget\u001b[0;34m(self, item, fastpath)\u001b[0m\n\u001b[1;32m   2849\u001b[0m \u001b[0;34m\u001b[0m\u001b[0m\n\u001b[1;32m   2850\u001b[0m             \u001b[0;32mif\u001b[0m \u001b[0;32mnot\u001b[0m \u001b[0misnull\u001b[0m\u001b[0;34m(\u001b[0m\u001b[0mitem\u001b[0m\u001b[0;34m)\u001b[0m\u001b[0;34m:\u001b[0m\u001b[0;34m\u001b[0m\u001b[0m\n\u001b[0;32m-> 2851\u001b[0;31m                 \u001b[0mloc\u001b[0m \u001b[0;34m=\u001b[0m \u001b[0mself\u001b[0m\u001b[0;34m.\u001b[0m\u001b[0mitems\u001b[0m\u001b[0;34m.\u001b[0m\u001b[0mget_loc\u001b[0m\u001b[0;34m(\u001b[0m\u001b[0mitem\u001b[0m\u001b[0;34m)\u001b[0m\u001b[0;34m\u001b[0m\u001b[0m\n\u001b[0m\u001b[1;32m   2852\u001b[0m             \u001b[0;32melse\u001b[0m\u001b[0;34m:\u001b[0m\u001b[0;34m\u001b[0m\u001b[0m\n\u001b[1;32m   2853\u001b[0m                 \u001b[0mindexer\u001b[0m \u001b[0;34m=\u001b[0m \u001b[0mnp\u001b[0m\u001b[0;34m.\u001b[0m\u001b[0marange\u001b[0m\u001b[0;34m(\u001b[0m\u001b[0mlen\u001b[0m\u001b[0;34m(\u001b[0m\u001b[0mself\u001b[0m\u001b[0;34m.\u001b[0m\u001b[0mitems\u001b[0m\u001b[0;34m)\u001b[0m\u001b[0;34m)\u001b[0m\u001b[0;34m[\u001b[0m\u001b[0misnull\u001b[0m\u001b[0;34m(\u001b[0m\u001b[0mself\u001b[0m\u001b[0;34m.\u001b[0m\u001b[0mitems\u001b[0m\u001b[0;34m)\u001b[0m\u001b[0;34m]\u001b[0m\u001b[0;34m\u001b[0m\u001b[0m\n",
      "\u001b[0;32m//anaconda/lib/python2.7/site-packages/pandas/core/index.pyc\u001b[0m in \u001b[0;36mget_loc\u001b[0;34m(self, key, method)\u001b[0m\n\u001b[1;32m   1570\u001b[0m         \"\"\"\n\u001b[1;32m   1571\u001b[0m         \u001b[0;32mif\u001b[0m \u001b[0mmethod\u001b[0m \u001b[0;32mis\u001b[0m \u001b[0mNone\u001b[0m\u001b[0;34m:\u001b[0m\u001b[0;34m\u001b[0m\u001b[0m\n\u001b[0;32m-> 1572\u001b[0;31m             \u001b[0;32mreturn\u001b[0m \u001b[0mself\u001b[0m\u001b[0;34m.\u001b[0m\u001b[0m_engine\u001b[0m\u001b[0;34m.\u001b[0m\u001b[0mget_loc\u001b[0m\u001b[0;34m(\u001b[0m\u001b[0m_values_from_object\u001b[0m\u001b[0;34m(\u001b[0m\u001b[0mkey\u001b[0m\u001b[0;34m)\u001b[0m\u001b[0;34m)\u001b[0m\u001b[0;34m\u001b[0m\u001b[0m\n\u001b[0m\u001b[1;32m   1573\u001b[0m \u001b[0;34m\u001b[0m\u001b[0m\n\u001b[1;32m   1574\u001b[0m         \u001b[0mindexer\u001b[0m \u001b[0;34m=\u001b[0m \u001b[0mself\u001b[0m\u001b[0;34m.\u001b[0m\u001b[0mget_indexer\u001b[0m\u001b[0;34m(\u001b[0m\u001b[0;34m[\u001b[0m\u001b[0mkey\u001b[0m\u001b[0;34m]\u001b[0m\u001b[0;34m,\u001b[0m \u001b[0mmethod\u001b[0m\u001b[0;34m=\u001b[0m\u001b[0mmethod\u001b[0m\u001b[0;34m)\u001b[0m\u001b[0;34m\u001b[0m\u001b[0m\n",
      "\u001b[0;32mpandas/index.pyx\u001b[0m in \u001b[0;36mpandas.index.IndexEngine.get_loc (pandas/index.c:3824)\u001b[0;34m()\u001b[0m\n",
      "\u001b[0;32mpandas/index.pyx\u001b[0m in \u001b[0;36mpandas.index.IndexEngine.get_loc (pandas/index.c:3704)\u001b[0;34m()\u001b[0m\n",
      "\u001b[0;32mpandas/hashtable.pyx\u001b[0m in \u001b[0;36mpandas.hashtable.PyObjectHashTable.get_item (pandas/hashtable.c:12280)\u001b[0;34m()\u001b[0m\n",
      "\u001b[0;32mpandas/hashtable.pyx\u001b[0m in \u001b[0;36mpandas.hashtable.PyObjectHashTable.get_item (pandas/hashtable.c:12231)\u001b[0;34m()\u001b[0m\n",
      "\u001b[0;31mKeyError\u001b[0m: 1"
     ]
    }
   ],
   "source": [
    "everything[everything[1]]"
   ]
  },
  {
   "cell_type": "code",
   "execution_count": 5,
   "metadata": {
    "collapsed": false
   },
   "outputs": [
    {
     "data": {
      "text/html": [
       "<div>\n",
       "<table border=\"1\" class=\"dataframe\">\n",
       "  <thead>\n",
       "    <tr style=\"text-align: right;\">\n",
       "      <th></th>\n",
       "      <th>Ind_Variable_1</th>\n",
       "      <th>Ind_Variable_2</th>\n",
       "      <th>Ind_Variable_3</th>\n",
       "      <th>Ind_Variable_4</th>\n",
       "      <th>Ind_Variable_5</th>\n",
       "      <th>Ind_Variable_6</th>\n",
       "      <th>Dep_Variable</th>\n",
       "    </tr>\n",
       "  </thead>\n",
       "  <tbody>\n",
       "    <tr>\n",
       "      <th>count</th>\n",
       "      <td>2000.000000</td>\n",
       "      <td>2000.000000</td>\n",
       "      <td>2000.000000</td>\n",
       "      <td>2000.000000</td>\n",
       "      <td>2000.000000</td>\n",
       "      <td>2000.000000</td>\n",
       "      <td>2000.000000</td>\n",
       "    </tr>\n",
       "    <tr>\n",
       "      <th>mean</th>\n",
       "      <td>0.033537</td>\n",
       "      <td>0.490905</td>\n",
       "      <td>1.015122</td>\n",
       "      <td>-0.000730</td>\n",
       "      <td>-0.034036</td>\n",
       "      <td>0.502679</td>\n",
       "      <td>-1.987714</td>\n",
       "    </tr>\n",
       "    <tr>\n",
       "      <th>std</th>\n",
       "      <td>1.004323</td>\n",
       "      <td>0.289239</td>\n",
       "      <td>1.143070</td>\n",
       "      <td>0.974491</td>\n",
       "      <td>2.905485</td>\n",
       "      <td>0.291490</td>\n",
       "      <td>5.451692</td>\n",
       "    </tr>\n",
       "    <tr>\n",
       "      <th>min</th>\n",
       "      <td>-3.797333</td>\n",
       "      <td>0.000137</td>\n",
       "      <td>-0.999359</td>\n",
       "      <td>-3.669716</td>\n",
       "      <td>-10.724628</td>\n",
       "      <td>0.000058</td>\n",
       "      <td>-81.191450</td>\n",
       "    </tr>\n",
       "    <tr>\n",
       "      <th>25%</th>\n",
       "      <td>-0.641363</td>\n",
       "      <td>0.243551</td>\n",
       "      <td>0.045748</td>\n",
       "      <td>-0.655812</td>\n",
       "      <td>-2.072929</td>\n",
       "      <td>0.248387</td>\n",
       "      <td>-2.933225</td>\n",
       "    </tr>\n",
       "    <tr>\n",
       "      <th>50%</th>\n",
       "      <td>0.027063</td>\n",
       "      <td>0.483979</td>\n",
       "      <td>1.042509</td>\n",
       "      <td>0.002222</td>\n",
       "      <td>0.026972</td>\n",
       "      <td>0.502329</td>\n",
       "      <td>-1.120595</td>\n",
       "    </tr>\n",
       "    <tr>\n",
       "      <th>75%</th>\n",
       "      <td>0.695891</td>\n",
       "      <td>0.746508</td>\n",
       "      <td>1.997709</td>\n",
       "      <td>0.643644</td>\n",
       "      <td>1.892338</td>\n",
       "      <td>0.761088</td>\n",
       "      <td>0.348834</td>\n",
       "    </tr>\n",
       "    <tr>\n",
       "      <th>max</th>\n",
       "      <td>3.417142</td>\n",
       "      <td>0.999542</td>\n",
       "      <td>2.999183</td>\n",
       "      <td>3.109923</td>\n",
       "      <td>9.516709</td>\n",
       "      <td>0.999821</td>\n",
       "      <td>23.855521</td>\n",
       "    </tr>\n",
       "  </tbody>\n",
       "</table>\n",
       "</div>"
      ],
      "text/plain": [
       "       Ind_Variable_1  Ind_Variable_2  Ind_Variable_3  Ind_Variable_4  \\\n",
       "count     2000.000000     2000.000000     2000.000000     2000.000000   \n",
       "mean         0.033537        0.490905        1.015122       -0.000730   \n",
       "std          1.004323        0.289239        1.143070        0.974491   \n",
       "min         -3.797333        0.000137       -0.999359       -3.669716   \n",
       "25%         -0.641363        0.243551        0.045748       -0.655812   \n",
       "50%          0.027063        0.483979        1.042509        0.002222   \n",
       "75%          0.695891        0.746508        1.997709        0.643644   \n",
       "max          3.417142        0.999542        2.999183        3.109923   \n",
       "\n",
       "       Ind_Variable_5  Ind_Variable_6  Dep_Variable  \n",
       "count     2000.000000     2000.000000   2000.000000  \n",
       "mean        -0.034036        0.502679     -1.987714  \n",
       "std          2.905485        0.291490      5.451692  \n",
       "min        -10.724628        0.000058    -81.191450  \n",
       "25%         -2.072929        0.248387     -2.933225  \n",
       "50%          0.026972        0.502329     -1.120595  \n",
       "75%          1.892338        0.761088      0.348834  \n",
       "max          9.516709        0.999821     23.855521  "
      ]
     },
     "execution_count": 5,
     "metadata": {},
     "output_type": "execute_result"
    }
   ],
   "source": [
    "data.describe()"
   ]
  },
  {
   "cell_type": "code",
   "execution_count": 8,
   "metadata": {
    "collapsed": false
   },
   "outputs": [
    {
     "data": {
      "text/html": [
       "<div>\n",
       "<table border=\"1\" class=\"dataframe\">\n",
       "  <thead>\n",
       "    <tr style=\"text-align: right;\">\n",
       "      <th></th>\n",
       "      <th>Ind_Variable_1</th>\n",
       "      <th>Ind_Variable_2</th>\n",
       "      <th>Ind_Variable_3</th>\n",
       "      <th>Ind_Variable_4</th>\n",
       "      <th>Ind_Variable_5</th>\n",
       "      <th>Ind_Variable_6</th>\n",
       "      <th>Dep_Variable</th>\n",
       "    </tr>\n",
       "  </thead>\n",
       "  <tbody>\n",
       "    <tr>\n",
       "      <th>0</th>\n",
       "      <td>-0.662927</td>\n",
       "      <td>0.481136</td>\n",
       "      <td>0.247215</td>\n",
       "      <td>1.958167</td>\n",
       "      <td>4.470671</td>\n",
       "      <td>0.036799</td>\n",
       "      <td>4.945552</td>\n",
       "    </tr>\n",
       "    <tr>\n",
       "      <th>1</th>\n",
       "      <td>1.582828</td>\n",
       "      <td>0.306494</td>\n",
       "      <td>1.548229</td>\n",
       "      <td>-0.707931</td>\n",
       "      <td>1.871754</td>\n",
       "      <td>0.011579</td>\n",
       "      <td>-1.196168</td>\n",
       "    </tr>\n",
       "    <tr>\n",
       "      <th>2</th>\n",
       "      <td>-0.559416</td>\n",
       "      <td>0.022729</td>\n",
       "      <td>1.553344</td>\n",
       "      <td>0.147306</td>\n",
       "      <td>-3.719343</td>\n",
       "      <td>0.213217</td>\n",
       "      <td>-1.244103</td>\n",
       "    </tr>\n",
       "    <tr>\n",
       "      <th>3</th>\n",
       "      <td>-1.741017</td>\n",
       "      <td>0.366741</td>\n",
       "      <td>0.474254</td>\n",
       "      <td>0.111505</td>\n",
       "      <td>5.226183</td>\n",
       "      <td>0.327708</td>\n",
       "      <td>-2.516572</td>\n",
       "    </tr>\n",
       "    <tr>\n",
       "      <th>4</th>\n",
       "      <td>0.139236</td>\n",
       "      <td>0.244032</td>\n",
       "      <td>1.335525</td>\n",
       "      <td>-1.731315</td>\n",
       "      <td>0.091636</td>\n",
       "      <td>0.516423</td>\n",
       "      <td>-12.755672</td>\n",
       "    </tr>\n",
       "  </tbody>\n",
       "</table>\n",
       "</div>"
      ],
      "text/plain": [
       "   Ind_Variable_1  Ind_Variable_2  Ind_Variable_3  Ind_Variable_4  \\\n",
       "0       -0.662927        0.481136        0.247215        1.958167   \n",
       "1        1.582828        0.306494        1.548229       -0.707931   \n",
       "2       -0.559416        0.022729        1.553344        0.147306   \n",
       "3       -1.741017        0.366741        0.474254        0.111505   \n",
       "4        0.139236        0.244032        1.335525       -1.731315   \n",
       "\n",
       "   Ind_Variable_5  Ind_Variable_6  Dep_Variable  \n",
       "0        4.470671        0.036799      4.945552  \n",
       "1        1.871754        0.011579     -1.196168  \n",
       "2       -3.719343        0.213217     -1.244103  \n",
       "3        5.226183        0.327708     -2.516572  \n",
       "4        0.091636        0.516423    -12.755672  "
      ]
     },
     "execution_count": 8,
     "metadata": {},
     "output_type": "execute_result"
    }
   ],
   "source": [
    "data.head()"
   ]
  },
  {
   "cell_type": "code",
   "execution_count": 7,
   "metadata": {
    "collapsed": false
   },
   "outputs": [
    {
     "data": {
      "text/plain": [
       "Index([u'Ind_Variable_1', u'Ind_Variable_2', u'Ind_Variable_3',\n",
       "       u'Ind_Variable_4', u'Ind_Variable_5', u'Ind_Variable_6',\n",
       "       u'Dep_Variable'],\n",
       "      dtype='object')"
      ]
     },
     "execution_count": 7,
     "metadata": {},
     "output_type": "execute_result"
    }
   ],
   "source": [
    "data.columns"
   ]
  },
  {
   "cell_type": "code",
   "execution_count": 6,
   "metadata": {
    "collapsed": true
   },
   "outputs": [],
   "source": [
    "y = data[\"Dep_Variable\"]"
   ]
  },
  {
   "cell_type": "code",
   "execution_count": null,
   "metadata": {
    "collapsed": false
   },
   "outputs": [],
   "source": []
  },
  {
   "cell_type": "markdown",
   "metadata": {},
   "source": [
    "# 1) Plot each independent variable against the dependent variable and take note of any obvious relationships."
   ]
  },
  {
   "cell_type": "code",
   "execution_count": 17,
   "metadata": {
    "collapsed": true
   },
   "outputs": [],
   "source": [
    "import matplotlib.pyplot as plt\n",
    "%matplotlib inline"
   ]
  },
  {
   "cell_type": "code",
   "execution_count": 25,
   "metadata": {
    "collapsed": false
   },
   "outputs": [
    {
     "data": {
      "image/png": "[encoded data removed]",
      "text/plain": [
       "<matplotlib.figure.Figure at 0x1085105d0>"
      ]
     },
     "metadata": {},
     "output_type": "display_data"
    }
   ],
   "source": [
    "plt.figure(figsize = (30,9))\n",
    "\n",
    "count = 1\n",
    "for i in data.columns[:-1]:\n",
    "    plt.subplot(2,3,count)\n",
    "    plt.scatter(data[i],data[\"Dep_Variable\"])\n",
    "    count += 1"
   ]
  },
  {
   "cell_type": "code",
   "execution_count": 31,
   "metadata": {
    "collapsed": false
   },
   "outputs": [],
   "source": [
    "X = data[data.columns[:-1]]"
   ]
  },
  {
   "cell_type": "markdown",
   "metadata": {},
   "source": [
    "# Breaking up our independent variables"
   ]
  },
  {
   "cell_type": "code",
   "execution_count": 163,
   "metadata": {
    "collapsed": false
   },
   "outputs": [],
   "source": [
    "a = np.array(data[\"Ind_Variable_1\"])\n",
    "b = np.array(data[\"Ind_Variable_2\"])\n",
    "c = np.array(data[\"Ind_Variable_3\"])\n",
    "d = np.array(data[\"Ind_Variable_4\"])\n",
    "e = np.array(data[\"Ind_Variable_5\"])\n",
    "f = np.array(data[\"Ind_Variable_6\"])\n",
    "\n",
    "list_of_variables = [\"a\",\"b\",\"c\",\"d\",\"e\",\"f\"]\n",
    "\n",
    "dict_of_variables = {\"a\":a,\"b\":b,\"c\":c,\"d\":d,\"e\":e,\"f\":f}\n",
    "    \n",
    "n = len(f)\n",
    "ones = np.ones(n)"
   ]
  },
  {
   "cell_type": "markdown",
   "metadata": {},
   "source": [
    "# Create some models"
   ]
  },
  {
   "cell_type": "code",
   "execution_count": 176,
   "metadata": {
    "collapsed": false
   },
   "outputs": [],
   "source": [
    "# Creating Model 1\n",
    "X1 = pd.DataFrame()\n",
    "X1[\"ones\"] = ones\n",
    "X1[\"d\"] = d\n",
    "X1[\"d squared\"] = d ** 2\n",
    "X1[\"d cubed\"] = d ** 3"
   ]
  },
  {
   "cell_type": "code",
   "execution_count": 177,
   "metadata": {
    "collapsed": false
   },
   "outputs": [],
   "source": [
    "X_ultimate = pd.DataFrame()\n",
    "X_ultimate[\"ones\"] = ones\n",
    "#v = list[a,b,c,d,e,f]\n",
    "#print v.head()\n",
    "\n",
    "for variable in list_of_variables:\n",
    "    X_ultimate[variable] = dict_of_variables[variable]\n",
    "    X_ultimate[variable + \" squared\"] = dict_of_variables[variable] ** 2\n",
    "    X_ultimate[variable + \" cubed\"] = dict_of_variables[variable] ** 3\n"
   ]
  },
  {
   "cell_type": "code",
   "execution_count": 178,
   "metadata": {
    "collapsed": false
   },
   "outputs": [
    {
     "data": {
      "text/html": [
       "<div>\n",
       "<table border=\"1\" class=\"dataframe\">\n",
       "  <thead>\n",
       "    <tr style=\"text-align: right;\">\n",
       "      <th></th>\n",
       "      <th>ones</th>\n",
       "      <th>a</th>\n",
       "      <th>a squared</th>\n",
       "      <th>a cubed</th>\n",
       "      <th>b</th>\n",
       "      <th>b squared</th>\n",
       "      <th>b cubed</th>\n",
       "      <th>c</th>\n",
       "      <th>c squared</th>\n",
       "      <th>c cubed</th>\n",
       "      <th>d</th>\n",
       "      <th>d squared</th>\n",
       "      <th>d cubed</th>\n",
       "      <th>e</th>\n",
       "      <th>e squared</th>\n",
       "      <th>e cubed</th>\n",
       "      <th>f</th>\n",
       "      <th>f squared</th>\n",
       "      <th>f cubed</th>\n",
       "    </tr>\n",
       "  </thead>\n",
       "  <tbody>\n",
       "    <tr>\n",
       "      <th>0</th>\n",
       "      <td>1</td>\n",
       "      <td>-0.662927</td>\n",
       "      <td>0.439472</td>\n",
       "      <td>-0.291337</td>\n",
       "      <td>0.481136</td>\n",
       "      <td>0.231492</td>\n",
       "      <td>0.111379</td>\n",
       "      <td>0.247215</td>\n",
       "      <td>0.061115</td>\n",
       "      <td>0.015109</td>\n",
       "      <td>1.958167</td>\n",
       "      <td>3.834417</td>\n",
       "      <td>7.508427</td>\n",
       "      <td>4.470671</td>\n",
       "      <td>19.986902</td>\n",
       "      <td>89.354867</td>\n",
       "      <td>0.036799</td>\n",
       "      <td>0.001354</td>\n",
       "      <td>0.000050</td>\n",
       "    </tr>\n",
       "    <tr>\n",
       "      <th>1</th>\n",
       "      <td>1</td>\n",
       "      <td>1.582828</td>\n",
       "      <td>2.505346</td>\n",
       "      <td>3.965532</td>\n",
       "      <td>0.306494</td>\n",
       "      <td>0.093939</td>\n",
       "      <td>0.028792</td>\n",
       "      <td>1.548229</td>\n",
       "      <td>2.397014</td>\n",
       "      <td>3.711128</td>\n",
       "      <td>-0.707931</td>\n",
       "      <td>0.501167</td>\n",
       "      <td>-0.354792</td>\n",
       "      <td>1.871754</td>\n",
       "      <td>3.503463</td>\n",
       "      <td>6.557621</td>\n",
       "      <td>0.011579</td>\n",
       "      <td>0.000134</td>\n",
       "      <td>0.000002</td>\n",
       "    </tr>\n",
       "    <tr>\n",
       "      <th>2</th>\n",
       "      <td>1</td>\n",
       "      <td>-0.559416</td>\n",
       "      <td>0.312946</td>\n",
       "      <td>-0.175067</td>\n",
       "      <td>0.022729</td>\n",
       "      <td>0.000517</td>\n",
       "      <td>0.000012</td>\n",
       "      <td>1.553344</td>\n",
       "      <td>2.412876</td>\n",
       "      <td>3.748026</td>\n",
       "      <td>0.147306</td>\n",
       "      <td>0.021699</td>\n",
       "      <td>0.003196</td>\n",
       "      <td>-3.719343</td>\n",
       "      <td>13.833516</td>\n",
       "      <td>-51.451598</td>\n",
       "      <td>0.213217</td>\n",
       "      <td>0.045461</td>\n",
       "      <td>0.009693</td>\n",
       "    </tr>\n",
       "    <tr>\n",
       "      <th>3</th>\n",
       "      <td>1</td>\n",
       "      <td>-1.741017</td>\n",
       "      <td>3.031140</td>\n",
       "      <td>-5.277267</td>\n",
       "      <td>0.366741</td>\n",
       "      <td>0.134499</td>\n",
       "      <td>0.049326</td>\n",
       "      <td>0.474254</td>\n",
       "      <td>0.224917</td>\n",
       "      <td>0.106668</td>\n",
       "      <td>0.111505</td>\n",
       "      <td>0.012433</td>\n",
       "      <td>0.001386</td>\n",
       "      <td>5.226183</td>\n",
       "      <td>27.312991</td>\n",
       "      <td>142.742692</td>\n",
       "      <td>0.327708</td>\n",
       "      <td>0.107392</td>\n",
       "      <td>0.035193</td>\n",
       "    </tr>\n",
       "    <tr>\n",
       "      <th>4</th>\n",
       "      <td>1</td>\n",
       "      <td>0.139236</td>\n",
       "      <td>0.019387</td>\n",
       "      <td>0.002699</td>\n",
       "      <td>0.244032</td>\n",
       "      <td>0.059552</td>\n",
       "      <td>0.014533</td>\n",
       "      <td>1.335525</td>\n",
       "      <td>1.783626</td>\n",
       "      <td>2.382077</td>\n",
       "      <td>-1.731315</td>\n",
       "      <td>2.997450</td>\n",
       "      <td>-5.189530</td>\n",
       "      <td>0.091636</td>\n",
       "      <td>0.008397</td>\n",
       "      <td>0.000769</td>\n",
       "      <td>0.516423</td>\n",
       "      <td>0.266693</td>\n",
       "      <td>0.137726</td>\n",
       "    </tr>\n",
       "  </tbody>\n",
       "</table>\n",
       "</div>"
      ],
      "text/plain": [
       "   ones         a  a squared   a cubed         b  b squared   b cubed  \\\n",
       "0     1 -0.662927   0.439472 -0.291337  0.481136   0.231492  0.111379   \n",
       "1     1  1.582828   2.505346  3.965532  0.306494   0.093939  0.028792   \n",
       "2     1 -0.559416   0.312946 -0.175067  0.022729   0.000517  0.000012   \n",
       "3     1 -1.741017   3.031140 -5.277267  0.366741   0.134499  0.049326   \n",
       "4     1  0.139236   0.019387  0.002699  0.244032   0.059552  0.014533   \n",
       "\n",
       "          c  c squared   c cubed         d  d squared   d cubed         e  \\\n",
       "0  0.247215   0.061115  0.015109  1.958167   3.834417  7.508427  4.470671   \n",
       "1  1.548229   2.397014  3.711128 -0.707931   0.501167 -0.354792  1.871754   \n",
       "2  1.553344   2.412876  3.748026  0.147306   0.021699  0.003196 -3.719343   \n",
       "3  0.474254   0.224917  0.106668  0.111505   0.012433  0.001386  5.226183   \n",
       "4  1.335525   1.783626  2.382077 -1.731315   2.997450 -5.189530  0.091636   \n",
       "\n",
       "   e squared     e cubed         f  f squared   f cubed  \n",
       "0  19.986902   89.354867  0.036799   0.001354  0.000050  \n",
       "1   3.503463    6.557621  0.011579   0.000134  0.000002  \n",
       "2  13.833516  -51.451598  0.213217   0.045461  0.009693  \n",
       "3  27.312991  142.742692  0.327708   0.107392  0.035193  \n",
       "4   0.008397    0.000769  0.516423   0.266693  0.137726  "
      ]
     },
     "execution_count": 178,
     "metadata": {},
     "output_type": "execute_result"
    }
   ],
   "source": [
    "X_ultimate.head()"
   ]
  },
  {
   "cell_type": "code",
   "execution_count": 179,
   "metadata": {
    "collapsed": false
   },
   "outputs": [],
   "source": [
    "# Creating Model 2 - Reduced\n",
    "X_distilled = pd.DataFrame()\n",
    "X_distilled[\"ones\"] = ones\n",
    "X_distilled[\"a\"] = a\n",
    "X_distilled[\"c\"] = c\n",
    "X_distilled[\"d\"] = d\n",
    "X_distilled[\"d squared\"] = d ** 2\n",
    "X_distilled[\"d cubed\"] = d ** 3"
   ]
  },
  {
   "cell_type": "code",
   "execution_count": 129,
   "metadata": {
    "collapsed": true
   },
   "outputs": [],
   "source": []
  },
  {
   "cell_type": "code",
   "execution_count": 138,
   "metadata": {
    "collapsed": true
   },
   "outputs": [],
   "source": [
    "# Creating Model 2\n",
    "X2 = pd.DataFrame()\n",
    "X2[\"ones\"] = ones\n",
    "X2[\"d cubed\"] = d ** 3"
   ]
  },
  {
   "cell_type": "code",
   "execution_count": 131,
   "metadata": {
    "collapsed": false
   },
   "outputs": [
    {
     "name": "stdout",
     "output_type": "stream",
     "text": [
      "   ones         d   d cubed\n",
      "0     1  1.958167  7.508427\n",
      "1     1 -0.707931 -0.354792\n",
      "2     1  0.147306  0.003196\n",
      "3     1  0.111505  0.001386\n",
      "4     1 -1.731315 -5.189530\n"
     ]
    }
   ],
   "source": [
    "print X2.head()"
   ]
  },
  {
   "cell_type": "code",
   "execution_count": null,
   "metadata": {
    "collapsed": true
   },
   "outputs": [],
   "source": [
    "# Creating Model 2\n",
    "X2 = pd.DataFrame()\n",
    "X2[\"ones\"] = ones\n",
    "X2[\"a\"] = a\n",
    "X2[\"a\"] = a\n",
    "X2[\"a\"] = a\n",
    "X2[\"a\"] = a\n",
    "X2[\"a\"] = a\n",
    "\n",
    "X2[\"d squared\"] = d ** 2\n",
    "X2[\"d cubed\"] = d ** 3"
   ]
  },
  {
   "cell_type": "code",
   "execution_count": 128,
   "metadata": {
    "collapsed": false
   },
   "outputs": [
    {
     "name": "stdout",
     "output_type": "stream",
     "text": [
      "   ones         d  d squared   d cubed\n",
      "0     1  1.958167   3.834417  7.508427\n",
      "1     1 -0.707931   0.501167 -0.354792\n",
      "2     1  0.147306   0.021699  0.003196\n",
      "3     1  0.111505   0.012433  0.001386\n",
      "4     1 -1.731315   2.997450 -5.189530\n"
     ]
    }
   ],
   "source": [
    "print X.head()"
   ]
  },
  {
   "cell_type": "code",
   "execution_count": null,
   "metadata": {
    "collapsed": false
   },
   "outputs": [],
   "source": []
  },
  {
   "cell_type": "markdown",
   "metadata": {},
   "source": [
    "# 2) Break the data into a training set and a test set."
   ]
  },
  {
   "cell_type": "code",
   "execution_count": 120,
   "metadata": {
    "collapsed": true
   },
   "outputs": [],
   "source": [
    "from sklearn import cross_validation"
   ]
  },
  {
   "cell_type": "code",
   "execution_count": 170,
   "metadata": {
    "collapsed": true
   },
   "outputs": [],
   "source": [
    "X_train, X_test, y_train, y_test = cross_validation.train_test_split(X_ultimate, y, test_size=0.4, random_state=0)"
   ]
  },
  {
   "cell_type": "code",
   "execution_count": 171,
   "metadata": {
    "collapsed": false
   },
   "outputs": [],
   "source": [
    "# print X.shape\n",
    "# print X_test.shape\n",
    "# print X_train.shape\n",
    "# print \" \"\n",
    "# print y.shape\n",
    "# print y_test.shape\n",
    "# print y_train.shape"
   ]
  },
  {
   "cell_type": "code",
   "execution_count": 172,
   "metadata": {
    "collapsed": false
   },
   "outputs": [
    {
     "data": {
      "text/html": [
       "<div>\n",
       "<table border=\"1\" class=\"dataframe\">\n",
       "  <thead>\n",
       "    <tr style=\"text-align: right;\">\n",
       "      <th></th>\n",
       "      <th>ones</th>\n",
       "      <th>a</th>\n",
       "      <th>a squared</th>\n",
       "      <th>a cubed</th>\n",
       "      <th>b</th>\n",
       "      <th>b squared</th>\n",
       "      <th>b cubed</th>\n",
       "      <th>c</th>\n",
       "      <th>c squared</th>\n",
       "      <th>c cubed</th>\n",
       "      <th>d</th>\n",
       "      <th>d squared</th>\n",
       "      <th>d cubed</th>\n",
       "      <th>e</th>\n",
       "      <th>e squared</th>\n",
       "      <th>e cubed</th>\n",
       "      <th>f</th>\n",
       "      <th>f squared</th>\n",
       "      <th>f cubed</th>\n",
       "    </tr>\n",
       "  </thead>\n",
       "  <tbody>\n",
       "    <tr>\n",
       "      <th>891</th>\n",
       "      <td>1</td>\n",
       "      <td>0.455742</td>\n",
       "      <td>0.207701</td>\n",
       "      <td>0.094658</td>\n",
       "      <td>0.356816</td>\n",
       "      <td>0.127318</td>\n",
       "      <td>0.045429</td>\n",
       "      <td>-0.714866</td>\n",
       "      <td>0.511034</td>\n",
       "      <td>-0.365321</td>\n",
       "      <td>1.630473</td>\n",
       "      <td>2.658443</td>\n",
       "      <td>4.334520</td>\n",
       "      <td>7.370726</td>\n",
       "      <td>54.327602</td>\n",
       "      <td>400.433871</td>\n",
       "      <td>0.772021</td>\n",
       "      <td>0.596016</td>\n",
       "      <td>0.460137</td>\n",
       "    </tr>\n",
       "    <tr>\n",
       "      <th>1796</th>\n",
       "      <td>1</td>\n",
       "      <td>1.589775</td>\n",
       "      <td>2.527384</td>\n",
       "      <td>4.017970</td>\n",
       "      <td>0.347499</td>\n",
       "      <td>0.120755</td>\n",
       "      <td>0.041962</td>\n",
       "      <td>-0.760616</td>\n",
       "      <td>0.578537</td>\n",
       "      <td>-0.440045</td>\n",
       "      <td>-1.103184</td>\n",
       "      <td>1.217014</td>\n",
       "      <td>-1.342590</td>\n",
       "      <td>0.635951</td>\n",
       "      <td>0.404433</td>\n",
       "      <td>0.257200</td>\n",
       "      <td>0.903997</td>\n",
       "      <td>0.817210</td>\n",
       "      <td>0.738756</td>\n",
       "    </tr>\n",
       "    <tr>\n",
       "      <th>1868</th>\n",
       "      <td>1</td>\n",
       "      <td>-0.750141</td>\n",
       "      <td>0.562711</td>\n",
       "      <td>-0.422112</td>\n",
       "      <td>0.397081</td>\n",
       "      <td>0.157673</td>\n",
       "      <td>0.062609</td>\n",
       "      <td>0.081092</td>\n",
       "      <td>0.006576</td>\n",
       "      <td>0.000533</td>\n",
       "      <td>0.518403</td>\n",
       "      <td>0.268742</td>\n",
       "      <td>0.139317</td>\n",
       "      <td>-0.840665</td>\n",
       "      <td>0.706717</td>\n",
       "      <td>-0.594112</td>\n",
       "      <td>0.757638</td>\n",
       "      <td>0.574015</td>\n",
       "      <td>0.434896</td>\n",
       "    </tr>\n",
       "    <tr>\n",
       "      <th>1042</th>\n",
       "      <td>1</td>\n",
       "      <td>1.442307</td>\n",
       "      <td>2.080250</td>\n",
       "      <td>3.000360</td>\n",
       "      <td>0.648759</td>\n",
       "      <td>0.420889</td>\n",
       "      <td>0.273056</td>\n",
       "      <td>-0.992773</td>\n",
       "      <td>0.985598</td>\n",
       "      <td>-0.978474</td>\n",
       "      <td>0.149649</td>\n",
       "      <td>0.022395</td>\n",
       "      <td>0.003351</td>\n",
       "      <td>1.826313</td>\n",
       "      <td>3.335419</td>\n",
       "      <td>6.091518</td>\n",
       "      <td>0.943689</td>\n",
       "      <td>0.890550</td>\n",
       "      <td>0.840402</td>\n",
       "    </tr>\n",
       "    <tr>\n",
       "      <th>996</th>\n",
       "      <td>1</td>\n",
       "      <td>0.875566</td>\n",
       "      <td>0.766615</td>\n",
       "      <td>0.671222</td>\n",
       "      <td>0.702449</td>\n",
       "      <td>0.493435</td>\n",
       "      <td>0.346613</td>\n",
       "      <td>1.218092</td>\n",
       "      <td>1.483748</td>\n",
       "      <td>1.807341</td>\n",
       "      <td>-1.095781</td>\n",
       "      <td>1.200736</td>\n",
       "      <td>-1.315743</td>\n",
       "      <td>1.881922</td>\n",
       "      <td>3.541630</td>\n",
       "      <td>6.665072</td>\n",
       "      <td>0.859864</td>\n",
       "      <td>0.739366</td>\n",
       "      <td>0.635754</td>\n",
       "    </tr>\n",
       "  </tbody>\n",
       "</table>\n",
       "</div>"
      ],
      "text/plain": [
       "      ones         a  a squared   a cubed         b  b squared   b cubed  \\\n",
       "891      1  0.455742   0.207701  0.094658  0.356816   0.127318  0.045429   \n",
       "1796     1  1.589775   2.527384  4.017970  0.347499   0.120755  0.041962   \n",
       "1868     1 -0.750141   0.562711 -0.422112  0.397081   0.157673  0.062609   \n",
       "1042     1  1.442307   2.080250  3.000360  0.648759   0.420889  0.273056   \n",
       "996      1  0.875566   0.766615  0.671222  0.702449   0.493435  0.346613   \n",
       "\n",
       "             c  c squared   c cubed         d  d squared   d cubed         e  \\\n",
       "891  -0.714866   0.511034 -0.365321  1.630473   2.658443  4.334520  7.370726   \n",
       "1796 -0.760616   0.578537 -0.440045 -1.103184   1.217014 -1.342590  0.635951   \n",
       "1868  0.081092   0.006576  0.000533  0.518403   0.268742  0.139317 -0.840665   \n",
       "1042 -0.992773   0.985598 -0.978474  0.149649   0.022395  0.003351  1.826313   \n",
       "996   1.218092   1.483748  1.807341 -1.095781   1.200736 -1.315743  1.881922   \n",
       "\n",
       "      e squared     e cubed         f  f squared   f cubed  \n",
       "891   54.327602  400.433871  0.772021   0.596016  0.460137  \n",
       "1796   0.404433    0.257200  0.903997   0.817210  0.738756  \n",
       "1868   0.706717   -0.594112  0.757638   0.574015  0.434896  \n",
       "1042   3.335419    6.091518  0.943689   0.890550  0.840402  \n",
       "996    3.541630    6.665072  0.859864   0.739366  0.635754  "
      ]
     },
     "execution_count": 172,
     "metadata": {},
     "output_type": "execute_result"
    }
   ],
   "source": [
    "X_train.head()"
   ]
  },
  {
   "cell_type": "markdown",
   "metadata": {},
   "source": [
    "# 3) Build a few regression models using the training set. Each model is choosing what variables to include and doing this: model = sm.OLS(y_train, X_train) results = model.fit()"
   ]
  },
  {
   "cell_type": "code",
   "execution_count": 173,
   "metadata": {
    "collapsed": true
   },
   "outputs": [],
   "source": [
    "import statsmodels.api as sm"
   ]
  },
  {
   "cell_type": "code",
   "execution_count": 174,
   "metadata": {
    "collapsed": false
   },
   "outputs": [],
   "source": [
    "model = sm.OLS(y_train,X_train)"
   ]
  },
  {
   "cell_type": "code",
   "execution_count": 175,
   "metadata": {
    "collapsed": false
   },
   "outputs": [
    {
     "data": {
      "text/html": [
       "<table class=\"simpletable\">\n",
       "<caption>OLS Regression Results</caption>\n",
       "<tr>\n",
       "  <th>Dep. Variable:</th>      <td>Dep_Variable</td>   <th>  R-squared:         </th> <td>   0.971</td>\n",
       "</tr>\n",
       "<tr>\n",
       "  <th>Model:</th>                   <td>OLS</td>       <th>  Adj. R-squared:    </th> <td>   0.971</td>\n",
       "</tr>\n",
       "<tr>\n",
       "  <th>Method:</th>             <td>Least Squares</td>  <th>  F-statistic:       </th> <td>   2197.</td>\n",
       "</tr>\n",
       "<tr>\n",
       "  <th>Date:</th>             <td>Mon, 18 Apr 2016</td> <th>  Prob (F-statistic):</th>  <td>  0.00</td> \n",
       "</tr>\n",
       "<tr>\n",
       "  <th>Time:</th>                 <td>10:27:24</td>     <th>  Log-Likelihood:    </th> <td> -1687.8</td>\n",
       "</tr>\n",
       "<tr>\n",
       "  <th>No. Observations:</th>      <td>  1200</td>      <th>  AIC:               </th> <td>   3414.</td>\n",
       "</tr>\n",
       "<tr>\n",
       "  <th>Df Residuals:</th>          <td>  1181</td>      <th>  BIC:               </th> <td>   3510.</td>\n",
       "</tr>\n",
       "<tr>\n",
       "  <th>Df Model:</th>              <td>    18</td>      <th>                     </th>     <td> </td>   \n",
       "</tr>\n",
       "<tr>\n",
       "  <th>Covariance Type:</th>      <td>nonrobust</td>    <th>                     </th>     <td> </td>   \n",
       "</tr>\n",
       "</table>\n",
       "<table class=\"simpletable\">\n",
       "<tr>\n",
       "      <td></td>         <th>coef</th>     <th>std err</th>      <th>t</th>      <th>P>|t|</th> <th>[95.0% Conf. Int.]</th> \n",
       "</tr>\n",
       "<tr>\n",
       "  <th>ones</th>      <td>    0.9670</td> <td>    0.167</td> <td>    5.799</td> <td> 0.000</td> <td>    0.640     1.294</td>\n",
       "</tr>\n",
       "<tr>\n",
       "  <th>a</th>         <td>    0.5469</td> <td>    0.047</td> <td>   11.645</td> <td> 0.000</td> <td>    0.455     0.639</td>\n",
       "</tr>\n",
       "<tr>\n",
       "  <th>a squared</th> <td>   -0.0064</td> <td>    0.022</td> <td>   -0.296</td> <td> 0.768</td> <td>   -0.049     0.036</td>\n",
       "</tr>\n",
       "<tr>\n",
       "  <th>a cubed</th>   <td>    0.0085</td> <td>    0.013</td> <td>    0.654</td> <td> 0.513</td> <td>   -0.017     0.034</td>\n",
       "</tr>\n",
       "<tr>\n",
       "  <th>b</th>         <td>    0.0454</td> <td>    0.985</td> <td>    0.046</td> <td> 0.963</td> <td>   -1.886     1.977</td>\n",
       "</tr>\n",
       "<tr>\n",
       "  <th>b squared</th> <td>   -2.6048</td> <td>    2.306</td> <td>   -1.130</td> <td> 0.259</td> <td>   -7.129     1.919</td>\n",
       "</tr>\n",
       "<tr>\n",
       "  <th>b cubed</th>   <td>    1.7538</td> <td>    1.527</td> <td>    1.148</td> <td> 0.251</td> <td>   -1.243     4.750</td>\n",
       "</tr>\n",
       "<tr>\n",
       "  <th>c</th>         <td>   -1.0616</td> <td>    0.056</td> <td>  -18.827</td> <td> 0.000</td> <td>   -1.172    -0.951</td>\n",
       "</tr>\n",
       "<tr>\n",
       "  <th>c squared</th> <td>   -0.0523</td> <td>    0.076</td> <td>   -0.689</td> <td> 0.491</td> <td>   -0.201     0.097</td>\n",
       "</tr>\n",
       "<tr>\n",
       "  <th>c cubed</th>   <td>    0.0097</td> <td>    0.024</td> <td>    0.404</td> <td> 0.686</td> <td>   -0.038     0.057</td>\n",
       "</tr>\n",
       "<tr>\n",
       "  <th>d</th>         <td>    0.2265</td> <td>    0.046</td> <td>    4.896</td> <td> 0.000</td> <td>    0.136     0.317</td>\n",
       "</tr>\n",
       "<tr>\n",
       "  <th>d squared</th> <td>   -1.5127</td> <td>    0.021</td> <td>  -72.738</td> <td> 0.000</td> <td>   -1.553    -1.472</td>\n",
       "</tr>\n",
       "<tr>\n",
       "  <th>d cubed</th>   <td>    1.2117</td> <td>    0.012</td> <td>  101.547</td> <td> 0.000</td> <td>    1.188     1.235</td>\n",
       "</tr>\n",
       "<tr>\n",
       "  <th>e</th>         <td>    0.0232</td> <td>    0.016</td> <td>    1.464</td> <td> 0.143</td> <td>   -0.008     0.054</td>\n",
       "</tr>\n",
       "<tr>\n",
       "  <th>e squared</th> <td>    0.0015</td> <td>    0.002</td> <td>    0.617</td> <td> 0.537</td> <td>   -0.003     0.006</td>\n",
       "</tr>\n",
       "<tr>\n",
       "  <th>e cubed</th>   <td>   -0.0007</td> <td>    0.000</td> <td>   -1.548</td> <td> 0.122</td> <td>   -0.002     0.000</td>\n",
       "</tr>\n",
       "<tr>\n",
       "  <th>f</th>         <td>    0.3793</td> <td>    1.000</td> <td>    0.379</td> <td> 0.705</td> <td>   -1.583     2.341</td>\n",
       "</tr>\n",
       "<tr>\n",
       "  <th>f squared</th> <td>   -1.3716</td> <td>    2.339</td> <td>   -0.587</td> <td> 0.558</td> <td>   -5.960     3.217</td>\n",
       "</tr>\n",
       "<tr>\n",
       "  <th>f cubed</th>   <td>    1.1760</td> <td>    1.541</td> <td>    0.763</td> <td> 0.446</td> <td>   -1.848     4.200</td>\n",
       "</tr>\n",
       "</table>\n",
       "<table class=\"simpletable\">\n",
       "<tr>\n",
       "  <th>Omnibus:</th>       <td> 0.325</td> <th>  Durbin-Watson:     </th> <td>   2.038</td>\n",
       "</tr>\n",
       "<tr>\n",
       "  <th>Prob(Omnibus):</th> <td> 0.850</td> <th>  Jarque-Bera (JB):  </th> <td>   0.243</td>\n",
       "</tr>\n",
       "<tr>\n",
       "  <th>Skew:</th>          <td> 0.024</td> <th>  Prob(JB):          </th> <td>   0.886</td>\n",
       "</tr>\n",
       "<tr>\n",
       "  <th>Kurtosis:</th>      <td> 3.051</td> <th>  Cond. No.          </th> <td>9.94e+03</td>\n",
       "</tr>\n",
       "</table>"
      ],
      "text/plain": [
       "<class 'statsmodels.iolib.summary.Summary'>\n",
       "\"\"\"\n",
       "                            OLS Regression Results                            \n",
       "==============================================================================\n",
       "Dep. Variable:           Dep_Variable   R-squared:                       0.971\n",
       "Model:                            OLS   Adj. R-squared:                  0.971\n",
       "Method:                 Least Squares   F-statistic:                     2197.\n",
       "Date:                Mon, 18 Apr 2016   Prob (F-statistic):               0.00\n",
       "Time:                        10:27:24   Log-Likelihood:                -1687.8\n",
       "No. Observations:                1200   AIC:                             3414.\n",
       "Df Residuals:                    1181   BIC:                             3510.\n",
       "Df Model:                          18                                         \n",
       "Covariance Type:            nonrobust                                         \n",
       "==============================================================================\n",
       "                 coef    std err          t      P>|t|      [95.0% Conf. Int.]\n",
       "------------------------------------------------------------------------------\n",
       "ones           0.9670      0.167      5.799      0.000         0.640     1.294\n",
       "a              0.5469      0.047     11.645      0.000         0.455     0.639\n",
       "a squared     -0.0064      0.022     -0.296      0.768        -0.049     0.036\n",
       "a cubed        0.0085      0.013      0.654      0.513        -0.017     0.034\n",
       "b              0.0454      0.985      0.046      0.963        -1.886     1.977\n",
       "b squared     -2.6048      2.306     -1.130      0.259        -7.129     1.919\n",
       "b cubed        1.7538      1.527      1.148      0.251        -1.243     4.750\n",
       "c             -1.0616      0.056    -18.827      0.000        -1.172    -0.951\n",
       "c squared     -0.0523      0.076     -0.689      0.491        -0.201     0.097\n",
       "c cubed        0.0097      0.024      0.404      0.686        -0.038     0.057\n",
       "d              0.2265      0.046      4.896      0.000         0.136     0.317\n",
       "d squared     -1.5127      0.021    -72.738      0.000        -1.553    -1.472\n",
       "d cubed        1.2117      0.012    101.547      0.000         1.188     1.235\n",
       "e              0.0232      0.016      1.464      0.143        -0.008     0.054\n",
       "e squared      0.0015      0.002      0.617      0.537        -0.003     0.006\n",
       "e cubed       -0.0007      0.000     -1.548      0.122        -0.002     0.000\n",
       "f              0.3793      1.000      0.379      0.705        -1.583     2.341\n",
       "f squared     -1.3716      2.339     -0.587      0.558        -5.960     3.217\n",
       "f cubed        1.1760      1.541      0.763      0.446        -1.848     4.200\n",
       "==============================================================================\n",
       "Omnibus:                        0.325   Durbin-Watson:                   2.038\n",
       "Prob(Omnibus):                  0.850   Jarque-Bera (JB):                0.243\n",
       "Skew:                           0.024   Prob(JB):                        0.886\n",
       "Kurtosis:                       3.051   Cond. No.                     9.94e+03\n",
       "==============================================================================\n",
       "\n",
       "Warnings:\n",
       "[1] Standard Errors assume that the covariance matrix of the errors is correctly specified.\n",
       "[2] The condition number is large, 9.94e+03. This might indicate that there are\n",
       "strong multicollinearity or other numerical problems.\n",
       "\"\"\""
      ]
     },
     "execution_count": 175,
     "metadata": {},
     "output_type": "execute_result"
    }
   ],
   "source": [
    "results = model.fit()\n",
    "results.summary()"
   ]
  },
  {
   "cell_type": "code",
   "execution_count": 180,
   "metadata": {
    "collapsed": false
   },
   "outputs": [
    {
     "data": {
      "text/html": [
       "<table class=\"simpletable\">\n",
       "<caption>OLS Regression Results</caption>\n",
       "<tr>\n",
       "  <th>Dep. Variable:</th>      <td>Dep_Variable</td>   <th>  R-squared:         </th> <td>   0.968</td>\n",
       "</tr>\n",
       "<tr>\n",
       "  <th>Model:</th>                   <td>OLS</td>       <th>  Adj. R-squared:    </th> <td>   0.968</td>\n",
       "</tr>\n",
       "<tr>\n",
       "  <th>Method:</th>             <td>Least Squares</td>  <th>  F-statistic:       </th> <td>   7327.</td>\n",
       "</tr>\n",
       "<tr>\n",
       "  <th>Date:</th>             <td>Mon, 18 Apr 2016</td> <th>  Prob (F-statistic):</th>  <td>  0.00</td> \n",
       "</tr>\n",
       "<tr>\n",
       "  <th>Time:</th>                 <td>10:31:47</td>     <th>  Log-Likelihood:    </th> <td> -1738.6</td>\n",
       "</tr>\n",
       "<tr>\n",
       "  <th>No. Observations:</th>      <td>  1200</td>      <th>  AIC:               </th> <td>   3489.</td>\n",
       "</tr>\n",
       "<tr>\n",
       "  <th>Df Residuals:</th>          <td>  1194</td>      <th>  BIC:               </th> <td>   3520.</td>\n",
       "</tr>\n",
       "<tr>\n",
       "  <th>Df Model:</th>              <td>     5</td>      <th>                     </th>     <td> </td>   \n",
       "</tr>\n",
       "<tr>\n",
       "  <th>Covariance Type:</th>      <td>nonrobust</td>    <th>                     </th>     <td> </td>   \n",
       "</tr>\n",
       "</table>\n",
       "<table class=\"simpletable\">\n",
       "<tr>\n",
       "      <td></td>         <th>coef</th>     <th>std err</th>      <th>t</th>      <th>P>|t|</th> <th>[95.0% Conf. Int.]</th> \n",
       "</tr>\n",
       "<tr>\n",
       "  <th>ones</th>      <td>    0.5735</td> <td>    0.045</td> <td>   12.712</td> <td> 0.000</td> <td>    0.485     0.662</td>\n",
       "</tr>\n",
       "<tr>\n",
       "  <th>a</th>         <td>    0.5674</td> <td>    0.030</td> <td>   19.109</td> <td> 0.000</td> <td>    0.509     0.626</td>\n",
       "</tr>\n",
       "<tr>\n",
       "  <th>c</th>         <td>   -1.0999</td> <td>    0.026</td> <td>  -42.242</td> <td> 0.000</td> <td>   -1.151    -1.049</td>\n",
       "</tr>\n",
       "<tr>\n",
       "  <th>d</th>         <td>    0.2189</td> <td>    0.048</td> <td>    4.586</td> <td> 0.000</td> <td>    0.125     0.313</td>\n",
       "</tr>\n",
       "<tr>\n",
       "  <th>d squared</th> <td>   -1.5231</td> <td>    0.021</td> <td>  -70.942</td> <td> 0.000</td> <td>   -1.565    -1.481</td>\n",
       "</tr>\n",
       "<tr>\n",
       "  <th>d cubed</th>   <td>    1.2150</td> <td>    0.012</td> <td>   99.527</td> <td> 0.000</td> <td>    1.191     1.239</td>\n",
       "</tr>\n",
       "</table>\n",
       "<table class=\"simpletable\">\n",
       "<tr>\n",
       "  <th>Omnibus:</th>       <td> 0.743</td> <th>  Durbin-Watson:     </th> <td>   2.018</td>\n",
       "</tr>\n",
       "<tr>\n",
       "  <th>Prob(Omnibus):</th> <td> 0.690</td> <th>  Jarque-Bera (JB):  </th> <td>   0.731</td>\n",
       "</tr>\n",
       "<tr>\n",
       "  <th>Skew:</th>          <td> 0.060</td> <th>  Prob(JB):          </th> <td>   0.694</td>\n",
       "</tr>\n",
       "<tr>\n",
       "  <th>Kurtosis:</th>      <td> 2.996</td> <th>  Cond. No.          </th> <td>    6.65</td>\n",
       "</tr>\n",
       "</table>"
      ],
      "text/plain": [
       "<class 'statsmodels.iolib.summary.Summary'>\n",
       "\"\"\"\n",
       "                            OLS Regression Results                            \n",
       "==============================================================================\n",
       "Dep. Variable:           Dep_Variable   R-squared:                       0.968\n",
       "Model:                            OLS   Adj. R-squared:                  0.968\n",
       "Method:                 Least Squares   F-statistic:                     7327.\n",
       "Date:                Mon, 18 Apr 2016   Prob (F-statistic):               0.00\n",
       "Time:                        10:31:47   Log-Likelihood:                -1738.6\n",
       "No. Observations:                1200   AIC:                             3489.\n",
       "Df Residuals:                    1194   BIC:                             3520.\n",
       "Df Model:                           5                                         \n",
       "Covariance Type:            nonrobust                                         \n",
       "==============================================================================\n",
       "                 coef    std err          t      P>|t|      [95.0% Conf. Int.]\n",
       "------------------------------------------------------------------------------\n",
       "ones           0.5735      0.045     12.712      0.000         0.485     0.662\n",
       "a              0.5674      0.030     19.109      0.000         0.509     0.626\n",
       "c             -1.0999      0.026    -42.242      0.000        -1.151    -1.049\n",
       "d              0.2189      0.048      4.586      0.000         0.125     0.313\n",
       "d squared     -1.5231      0.021    -70.942      0.000        -1.565    -1.481\n",
       "d cubed        1.2150      0.012     99.527      0.000         1.191     1.239\n",
       "==============================================================================\n",
       "Omnibus:                        0.743   Durbin-Watson:                   2.018\n",
       "Prob(Omnibus):                  0.690   Jarque-Bera (JB):                0.731\n",
       "Skew:                           0.060   Prob(JB):                        0.694\n",
       "Kurtosis:                       2.996   Cond. No.                         6.65\n",
       "==============================================================================\n",
       "\n",
       "Warnings:\n",
       "[1] Standard Errors assume that the covariance matrix of the errors is correctly specified.\n",
       "\"\"\""
      ]
     },
     "execution_count": 180,
     "metadata": {},
     "output_type": "execute_result"
    }
   ],
   "source": [
    "X_train, X_test, y_train, y_test = cross_validation.train_test_split(X_distilled, y, test_size=0.4, random_state=0)\n",
    "#X_train.head()\n",
    "\n",
    "model = sm.OLS(y_train,X_train)\n",
    "\n",
    "results = model.fit()\n",
    "results.summary()"
   ]
  },
  {
   "cell_type": "markdown",
   "metadata": {},
   "source": [
    "# 4) According to these models what can you say about the sign and certainty of the relationships between the variables in the data? Do the independent variables have a linear relationship with the dependent variable?"
   ]
  },
  {
   "cell_type": "markdown",
   "metadata": {},
   "source": [
    "# 5) Apply the results of each of these regression models to predict the values the dependent variable should take on in the test sample. Compare the models using the adjusted R2 - which model performs the best in the test sample?"
   ]
  },
  {
   "cell_type": "code",
   "execution_count": 197,
   "metadata": {
    "collapsed": false
   },
   "outputs": [],
   "source": [
    "blah = model.predict(X_test,y_test)"
   ]
  },
  {
   "cell_type": "code",
   "execution_count": null,
   "metadata": {
    "collapsed": true
   },
   "outputs": [],
   "source": []
  }
 ],
 "metadata": {
  "kernelspec": {
   "display_name": "Python 2",
   "language": "python",
   "name": "python2"
  },
  "language_info": {
   "codemirror_mode": {
    "name": "ipython",
    "version": 2
   },
   "file_extension": ".py",
   "mimetype": "text/x-python",
   "name": "python",
   "nbconvert_exporter": "python",
   "pygments_lexer": "ipython2",
   "version": "2.7.11"
  }
 },
 "nbformat": 4,
 "nbformat_minor": 0
}
