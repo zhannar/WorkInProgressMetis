{
 "cells": [
  {
   "cell_type": "markdown",
   "metadata": {},
   "source": [
    "Pair Problem\n",
    "\n",
    "We'll use statsmodels to fit some (Ordinary Least Squares) linear models using random data.\n",
    "\n",
    "First make a response y of 200 random numbers. Then generate 20 random features in an X to predict with. Fit a linear model and check the summary() output. Do you have any features with P>|t| less than 0.05? (Repeat the process until you have at least one.)\n",
    "\n",
    "Check out the model's R-squared and Adj. R-squared. Repeat the feature generation and model fitting process with 40, 60, 80, and 100 features. What happens with R-squared and Adj. R-squared?\n",
    "\n",
    "If you have time, automate this experimental procedure and make a plot of R-squared and Adj. R-squared against number of features for one to one hundred features."
   ]
  },
  {
   "cell_type": "code",
   "execution_count": 19,
   "metadata": {
    "collapsed": false
   },
   "outputs": [],
   "source": [
    "import numpy as np\n",
    "import pandas as pd"
   ]
  },
  {
   "cell_type": "code",
   "execution_count": 41,
   "metadata": {
    "collapsed": false
   },
   "outputs": [],
   "source": [
    "# Generates 200 random numbers\n",
    "y = np.random.randn(200,1)*100\n",
    "X = np.random.rand(200,20)*100"
   ]
  },
  {
   "cell_type": "code",
   "execution_count": 42,
   "metadata": {
    "collapsed": false
   },
   "outputs": [
    {
     "name": "stdout",
     "output_type": "stream",
     "text": [
      "(20, 1)\n"
     ]
    }
   ],
   "source": [
    "x_prime_x = np.dot(X.T,X)\n",
    "x_prime_x_inverse = np.linalg.inv(x_prime_x)\n",
    "x_prime_x_inverse_x_prime = np.dot(x_prime_x_inverse, X.T)\n",
    "x_prime_x_inverse_x_prime_y = np.dot(x_prime_x_inverse_x_prime,y)\n",
    "beta = x_prime_x_inverse_x_prime_y\n",
    "#beta = (np.linalg.inv((np.dot(X.T, X)) * X.T * y)\n",
    "print x_prime_x_inverse_x_prime_y.shape"
   ]
  },
  {
   "cell_type": "code",
   "execution_count": 43,
   "metadata": {
    "collapsed": false
   },
   "outputs": [
    {
     "name": "stdout",
     "output_type": "stream",
     "text": [
      "                            OLS Regression Results                            \n",
      "==============================================================================\n",
      "Dep. Variable:                      y   R-squared:                       0.090\n",
      "Model:                            OLS   Adj. R-squared:                 -0.011\n",
      "Method:                 Least Squares   F-statistic:                    0.8904\n",
      "Date:                Thu, 14 Apr 2016   Prob (F-statistic):              0.600\n",
      "Time:                        09:42:46   Log-Likelihood:                -1192.2\n",
      "No. Observations:                 200   AIC:                             2424.\n",
      "Df Residuals:                     180   BIC:                             2490.\n",
      "Df Model:                          20                                         \n",
      "Covariance Type:            nonrobust                                         \n",
      "==============================================================================\n",
      "                 coef    std err          t      P>|t|      [95.0% Conf. Int.]\n",
      "------------------------------------------------------------------------------\n",
      "x1             0.2608      0.265      0.983      0.327        -0.262     0.784\n",
      "x2            -0.1669      0.248     -0.674      0.501        -0.655     0.322\n",
      "x3             0.3619      0.246      1.469      0.144        -0.124     0.848\n",
      "x4            -0.0973      0.267     -0.365      0.716        -0.624     0.429\n",
      "x5             0.3192      0.262      1.219      0.225        -0.198     0.836\n",
      "x6            -0.0976      0.251     -0.389      0.698        -0.593     0.398\n",
      "x7            -0.3127      0.255     -1.228      0.221        -0.815     0.190\n",
      "x8            -0.2285      0.268     -0.852      0.395        -0.758     0.301\n",
      "x9            -0.1079      0.261     -0.414      0.680        -0.623     0.407\n",
      "x10            0.1097      0.253      0.433      0.666        -0.390     0.610\n",
      "x11           -0.0193      0.251     -0.077      0.939        -0.515     0.476\n",
      "x12            0.2580      0.240      1.073      0.285        -0.217     0.733\n",
      "x13           -0.0312      0.253     -0.123      0.902        -0.531     0.469\n",
      "x14            0.0094      0.252      0.037      0.970        -0.488     0.506\n",
      "x15           -0.6550      0.240     -2.734      0.007        -1.128    -0.182\n",
      "x16            0.0067      0.253      0.026      0.979        -0.493     0.507\n",
      "x17            0.0808      0.243      0.333      0.740        -0.399     0.560\n",
      "x18            0.2144      0.250      0.857      0.392        -0.279     0.708\n",
      "x19           -0.2713      0.241     -1.125      0.262        -0.747     0.205\n",
      "x20            0.3154      0.257      1.229      0.221        -0.191     0.822\n",
      "==============================================================================\n",
      "Omnibus:                        0.882   Durbin-Watson:                   1.872\n",
      "Prob(Omnibus):                  0.643   Jarque-Bera (JB):                0.639\n",
      "Skew:                          -0.127   Prob(JB):                        0.727\n",
      "Kurtosis:                       3.110   Cond. No.                         11.1\n",
      "==============================================================================\n",
      "\n",
      "Warnings:\n",
      "[1] Standard Errors assume that the covariance matrix of the errors is correctly specified.\n"
     ]
    }
   ],
   "source": [
    "import statsmodels.formula.api as sm\n",
    "\n",
    "model = sm.OLS(y, X)\n",
    "results = model.fit()\n",
    "print results.summary()"
   ]
  },
  {
   "cell_type": "code",
   "execution_count": 44,
   "metadata": {
    "collapsed": false
   },
   "outputs": [
    {
     "data": {
      "text/plain": [
       "0.090024596104748111"
      ]
     },
     "execution_count": 44,
     "metadata": {},
     "output_type": "execute_result"
    }
   ],
   "source": [
    "results.rsquared"
   ]
  },
  {
   "cell_type": "code",
   "execution_count": 45,
   "metadata": {
    "collapsed": false
   },
   "outputs": [
    {
     "data": {
      "text/plain": [
       "-0.011083782105835382"
      ]
     },
     "execution_count": 45,
     "metadata": {},
     "output_type": "execute_result"
    }
   ],
   "source": [
    "results.rsquared_adj"
   ]
  },
  {
   "cell_type": "code",
   "execution_count": 59,
   "metadata": {
    "collapsed": false
   },
   "outputs": [],
   "source": [
    "X_dimension = np.arange(1,101)\n",
    "R_values = []\n",
    "R_adj_values = []\n",
    "\n",
    "\n",
    "for dimension in X_dimension:\n",
    "    #Step 1 - Generate your X and Y (range of X's dimensions go from 1 to 100). Store X dimension value.\n",
    "    y = np.random.randn(200,1)*100\n",
    "    X = np.random.rand(200,dimension)*100\n",
    "    \n",
    "    # Step 2 - Model it using stats model\n",
    "\n",
    "    model = sm.OLS(y, X)\n",
    "    results = model.fit()\n",
    "    \n",
    "    # Step 3 - Extract out R and R adjusted & Insert R and R adjusted into Final Series\n",
    "    R_values.append(results.rsquared)\n",
    "    R_adj_values.append(results.rsquared_adj)"
   ]
  },
  {
   "cell_type": "code",
   "execution_count": 60,
   "metadata": {
    "collapsed": false
   },
   "outputs": [
    {
     "data": {
      "text/plain": [
       "[<matplotlib.lines.Line2D at 0x10e53b450>]"
      ]
     },
     "execution_count": 60,
     "metadata": {},
     "output_type": "execute_result"
    },
    {
     "data": {
      "image/png": "[encoded data removed]",
      "text/plain": [
       "<matplotlib.figure.Figure at 0x10df387d0>"
      ]
     },
     "metadata": {},
     "output_type": "display_data"
    }
   ],
   "source": [
    "import matplotlib.pyplot as plt\n",
    "%matplotlib inline\n",
    "\n",
    "plt.plot(X_dimension, R_values)"
   ]
  },
  {
   "cell_type": "code",
   "execution_count": 61,
   "metadata": {
    "collapsed": false
   },
   "outputs": [
    {
     "data": {
      "text/plain": [
       "[<matplotlib.lines.Line2D at 0x10e708d90>]"
      ]
     },
     "execution_count": 61,
     "metadata": {},
     "output_type": "execute_result"
    },
    {
     "data": {
      "image/png": "[encoded data removed]",
      "text/plain": [
       "<matplotlib.figure.Figure at 0x10e683ed0>"
      ]
     },
     "metadata": {},
     "output_type": "display_data"
    }
   ],
   "source": [
    "plt.plot(X_dimension,R_adj_values)"
   ]
  },
  {
   "cell_type": "code",
   "execution_count": null,
   "metadata": {
    "collapsed": true
   },
   "outputs": [],
   "source": []
  }
 ],
 "metadata": {
  "kernelspec": {
   "display_name": "Python 2",
   "language": "python",
   "name": "python2"
  },
  "language_info": {
   "codemirror_mode": {
    "name": "ipython",
    "version": 2
   },
   "file_extension": ".py",
   "mimetype": "text/x-python",
   "name": "python",
   "nbconvert_exporter": "python",
   "pygments_lexer": "ipython2",
   "version": "2.7.11"
  }
 },
 "nbformat": 4,
 "nbformat_minor": 0
}
