{
 "cells": [
  {
   "cell_type": "markdown",
   "metadata": {},
   "source": [
    "Pair Problem\n",
    "\n",
    "Write a function that takes a list of numbers and returns their variance.\n",
    "\n",
    "If you have time, write another function that takes two lists of numbers and returns their covariance.\n",
    "\n",
    "If you have more time, refactor.\n",
    "\n",
    "If you have yet more time, compare your functions to those in numpy and/or other implementations.\n",
    "\n",
    "(Feel free to use Google for this one -- to look up the terms, etc)"
   ]
  },
  {
   "cell_type": "code",
   "execution_count": 82,
   "metadata": {
    "collapsed": true
   },
   "outputs": [],
   "source": [
    "import numpy as np"
   ]
  },
  {
   "cell_type": "code",
   "execution_count": 83,
   "metadata": {
    "collapsed": false
   },
   "outputs": [
    {
     "data": {
      "text/plain": [
       "array([ 1.17186049, -3.84846746, -2.17569313, -4.23927924,  4.41619978,\n",
       "       -7.57300415,  5.47463182,  8.42576558, -2.7431682 , -3.08939503])"
      ]
     },
     "execution_count": 83,
     "metadata": {},
     "output_type": "execute_result"
    }
   ],
   "source": [
    "np.random.uniform(-10, 10, size=10)"
   ]
  },
  {
   "cell_type": "code",
   "execution_count": 88,
   "metadata": {
    "collapsed": false
   },
   "outputs": [],
   "source": [
    "list1 = np.random.uniform(-100, 200, size=1000)\n",
    "list2 = np.random.uniform(-40, 600, size=1000)"
   ]
  },
  {
   "cell_type": "code",
   "execution_count": 89,
   "metadata": {
    "collapsed": true
   },
   "outputs": [],
   "source": [
    "def diff_means(list):\n",
    "    n1 = len(list)\n",
    "    mu1 = sum(list)/n1\n",
    "    return (list - mu1)"
   ]
  },
  {
   "cell_type": "code",
   "execution_count": 90,
   "metadata": {
    "collapsed": false
   },
   "outputs": [],
   "source": [
    "def my_var(list1):\n",
    "    n1 = len(list1)\n",
    "    return sum((diff_means(list1) ** 2)/float(n1))"
   ]
  },
  {
   "cell_type": "code",
   "execution_count": 91,
   "metadata": {
    "collapsed": false
   },
   "outputs": [],
   "source": [
    "def my_cov(list1,list2):\n",
    "    n1 = len(list1)\n",
    "    return sum(diff_means(list1) * diff_means(list2))/(n1-1)\n"
   ]
  },
  {
   "cell_type": "code",
   "execution_count": 92,
   "metadata": {
    "collapsed": false
   },
   "outputs": [
    {
     "name": "stdout",
     "output_type": "stream",
     "text": [
      "         9 function calls in 0.001 seconds\n",
      "\n",
      "   Ordered by: standard name\n",
      "\n",
      "   ncalls  tottime  percall  cumtime  percall filename:lineno(function)\n",
      "        2    0.000    0.000    0.000    0.000 :0(len)\n",
      "        1    0.000    0.000    0.000    0.000 :0(setprofile)\n",
      "        2    0.000    0.000    0.000    0.000 :0(sum)\n",
      "        1    0.000    0.000    0.000    0.000 <ipython-input-89-ef9e204ae530>:1(diff_means)\n",
      "        1    0.000    0.000    0.000    0.000 <ipython-input-90-7de8e3092991>:1(my_var)\n",
      "        1    0.000    0.000    0.000    0.000 <string>:1(<module>)\n",
      "        1    0.000    0.000    0.001    0.001 profile:0(my_var(list1))\n",
      "        0    0.000             0.000          profile:0(profiler)\n",
      "\n",
      "\n"
     ]
    }
   ],
   "source": [
    "import profile\n",
    "profile.run('my_var(list1)')"
   ]
  },
  {
   "cell_type": "code",
   "execution_count": 96,
   "metadata": {
    "collapsed": false
   },
   "outputs": [
    {
     "name": "stdout",
     "output_type": "stream",
     "text": [
      "-140.147250404\n",
      "         35 function calls in 0.001 seconds\n",
      "\n",
      "   Ordered by: standard name\n",
      "\n",
      "   ncalls  tottime  percall  cumtime  percall filename:lineno(function)\n",
      "        1    0.000    0.000    0.000    0.000 :0(append)\n",
      "        2    0.000    0.000    0.000    0.000 :0(decode)\n",
      "        1    0.000    0.000    0.000    0.000 :0(get_ident)\n",
      "        2    0.000    0.000    0.000    0.000 :0(getpid)\n",
      "        1    0.000    0.000    0.000    0.000 :0(hasattr)\n",
      "        2    0.000    0.000    0.000    0.000 :0(isinstance)\n",
      "        3    0.000    0.000    0.000    0.000 :0(len)\n",
      "        1    0.000    0.000    0.000    0.000 :0(setprofile)\n",
      "        3    0.000    0.000    0.000    0.000 :0(sum)\n",
      "        2    0.000    0.000    0.000    0.000 :0(utf_8_decode)\n",
      "        2    0.000    0.000    0.000    0.000 :0(write)\n",
      "        2    0.000    0.000    0.000    0.000 <ipython-input-89-ef9e204ae530>:1(diff_means)\n",
      "        1    0.000    0.000    0.001    0.001 <ipython-input-91-d4ba513170b8>:1(my_cov)\n",
      "        1    0.000    0.000    0.001    0.001 <string>:1(<module>)\n",
      "        1    0.000    0.000    0.000    0.000 ioloop.py:928(add_callback)\n",
      "        2    0.000    0.000    0.000    0.000 iostream.py:227(_is_master_process)\n",
      "        2    0.000    0.000    0.000    0.000 iostream.py:240(_schedule_flush)\n",
      "        2    0.000    0.000    0.000    0.000 iostream.py:308(write)\n",
      "        1    0.000    0.000    0.001    0.001 profile:0(print my_cov(list1,list2))\n",
      "        0    0.000             0.000          profile:0(profiler)\n",
      "        1    0.000    0.000    0.000    0.000 stack_context.py:253(wrap)\n",
      "        2    0.000    0.000    0.000    0.000 utf_8.py:15(decode)\n",
      "\n",
      "\n"
     ]
    }
   ],
   "source": [
    "import profile\n",
    "profile.run('print my_cov(list1,list2)')"
   ]
  },
  {
   "cell_type": "code",
   "execution_count": 93,
   "metadata": {
    "collapsed": false
   },
   "outputs": [
    {
     "name": "stdout",
     "output_type": "stream",
     "text": [
      "-140.147250404\n"
     ]
    }
   ],
   "source": [
    "print my_cov(list1,list2)"
   ]
  },
  {
   "cell_type": "code",
   "execution_count": null,
   "metadata": {
    "collapsed": false
   },
   "outputs": [],
   "source": []
  },
  {
   "cell_type": "code",
   "execution_count": 95,
   "metadata": {
    "collapsed": false
   },
   "outputs": [
    {
     "data": {
      "text/plain": [
       "7408.2821807290684"
      ]
     },
     "execution_count": 95,
     "metadata": {},
     "output_type": "execute_result"
    }
   ],
   "source": [
    "np.var(list1)"
   ]
  },
  {
   "cell_type": "code",
   "execution_count": 103,
   "metadata": {
    "collapsed": false
   },
   "outputs": [
    {
     "name": "stdout",
     "output_type": "stream",
     "text": [
      "         20 function calls in 0.001 seconds\n",
      "\n",
      "   Ordered by: standard name\n",
      "\n",
      "   ncalls  tottime  percall  cumtime  percall filename:lineno(function)\n",
      "        2    0.000    0.000    0.000    0.000 :0(array)\n",
      "        1    0.000    0.000    0.000    0.000 :0(hasattr)\n",
      "        3    0.000    0.000    0.000    0.000 :0(isinstance)\n",
      "        2    0.000    0.000    0.000    0.000 :0(issubclass)\n",
      "        1    0.000    0.000    0.000    0.000 :0(max)\n",
      "        1    0.000    0.000    0.000    0.000 :0(range)\n",
      "        2    0.000    0.000    0.000    0.000 :0(reduce)\n",
      "        1    0.000    0.000    0.000    0.000 :0(setprofile)\n",
      "        1    0.000    0.000    0.000    0.000 <string>:1(<module>)\n",
      "        1    0.000    0.000    0.000    0.000 _methods.py:43(_count_reduce_items)\n",
      "        1    0.000    0.000    0.000    0.000 _methods.py:77(_var)\n",
      "        1    0.000    0.000    0.000    0.000 fromnumeric.py:2838(var)\n",
      "        2    0.000    0.000    0.000    0.000 numeric.py:464(asanyarray)\n",
      "        1    0.000    0.000    0.001    0.001 profile:0(np.var(list1))\n",
      "        0    0.000             0.000          profile:0(profiler)\n",
      "\n",
      "\n"
     ]
    }
   ],
   "source": [
    "import profile\n",
    "profile.run('np.var(list1)')"
   ]
  },
  {
   "cell_type": "code",
   "execution_count": null,
   "metadata": {
    "collapsed": false
   },
   "outputs": [],
   "source": []
  },
  {
   "cell_type": "code",
   "execution_count": 104,
   "metadata": {
    "collapsed": false
   },
   "outputs": [
    {
     "name": "stdout",
     "output_type": "stream",
     "text": [
      "         24 function calls in 0.001 seconds\n",
      "\n",
      "   Ordered by: standard name\n",
      "\n",
      "   ncalls  tottime  percall  cumtime  percall filename:lineno(function)\n",
      "        5    0.000    0.000    0.000    0.000 :0(array)\n",
      "        1    0.000    0.000    0.000    0.000 :0(concatenate)\n",
      "        1    0.000    0.000    0.000    0.000 :0(conj)\n",
      "        1    0.001    0.001    0.001    0.001 :0(dot)\n",
      "        2    0.000    0.000    0.000    0.000 :0(isinstance)\n",
      "        1    0.000    0.000    0.000    0.000 :0(issubclass)\n",
      "        1    0.000    0.000    0.000    0.000 :0(mean)\n",
      "        1    0.000    0.000    0.000    0.000 :0(reduce)\n",
      "        1    0.000    0.000    0.000    0.000 :0(result_type)\n",
      "        1    0.000    0.000    0.000    0.000 :0(setprofile)\n",
      "        1    0.000    0.000    0.000    0.000 :0(squeeze)\n",
      "        1    0.000    0.000    0.001    0.001 <string>:1(<module>)\n",
      "        1    0.000    0.000    0.000    0.000 _methods.py:43(_count_reduce_items)\n",
      "        1    0.000    0.000    0.000    0.000 _methods.py:53(_mean)\n",
      "        1    0.000    0.000    0.001    0.001 function_base.py:1780(cov)\n",
      "        2    0.000    0.000    0.000    0.000 numeric.py:394(asarray)\n",
      "        1    0.000    0.000    0.000    0.000 numeric.py:464(asanyarray)\n",
      "        1    0.000    0.000    0.001    0.001 profile:0(np.cov(list1,list2))\n",
      "        0    0.000             0.000          profile:0(profiler)\n",
      "\n",
      "\n"
     ]
    }
   ],
   "source": [
    "import profile\n",
    "profile.run('np.cov(list1,list2)')"
   ]
  },
  {
   "cell_type": "code",
   "execution_count": null,
   "metadata": {
    "collapsed": true
   },
   "outputs": [],
   "source": []
  },
  {
   "cell_type": "code",
   "execution_count": null,
   "metadata": {
    "collapsed": true
   },
   "outputs": [],
   "source": []
  }
 ],
 "metadata": {
  "kernelspec": {
   "display_name": "Python 2",
   "language": "python",
   "name": "python2"
  },
  "language_info": {
   "codemirror_mode": {
    "name": "ipython",
    "version": 2
   },
   "file_extension": ".py",
   "mimetype": "text/x-python",
   "name": "python",
   "nbconvert_exporter": "python",
   "pygments_lexer": "ipython2",
   "version": "2.7.11"
  }
 },
 "nbformat": 4,
 "nbformat_minor": 0
}
