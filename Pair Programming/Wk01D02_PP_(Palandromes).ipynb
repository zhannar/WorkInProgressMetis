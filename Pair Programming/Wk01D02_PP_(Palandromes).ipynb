{
 "cells": [
  {
   "cell_type": "markdown",
   "metadata": {},
   "source": [
    "Pair Problem #1\n",
    "\n",
    "Given a string, write a function to check if it's a palindrome (reads the same backwards). Do this using a loop, if possible.\n",
    "\n",
    "isPalindrome('noon') will return YES\n",
    "isPalindrome('moon') will return NO"
   ]
  },
  {
   "cell_type": "code",
   "execution_count": null,
   "metadata": {
    "collapsed": true
   },
   "outputs": [],
   "source": []
  },
  {
   "cell_type": "code",
   "execution_count": 4,
   "metadata": {
    "collapsed": false
   },
   "outputs": [
    {
     "name": "stdout",
     "output_type": "stream",
     "text": [
      "False\n"
     ]
    },
    {
     "data": {
      "text/plain": [
       "False"
      ]
     },
     "execution_count": 4,
     "metadata": {},
     "output_type": "execute_result"
    }
   ],
   "source": [
    "def isPalindrome(string):\n",
    "    backward = string[::-1]\n",
    "    print backward == string\n",
    "    return backward == string\n",
    "\n",
    "isPalindrome(\"moon\")"
   ]
  },
  {
   "cell_type": "markdown",
   "metadata": {},
   "source": [
    "Pair Problem #2\n",
    "\n",
    "Sal's classroom has a bag of alphabet magnets. She wants to know if she can spell her friend's name using the letters in the bag. Write a function that will take a list of alphabets and a name and print out yes if the name can be spelled and no otherwise.\n",
    "\n",
    "CanYouSpell(['y','n','p','g','n','l'],\"lynn\") would print YES\n",
    "CanYouSpell(['y','n','p','g','l'],\"lynn\") would print NO\n",
    "When you are done, submit to the Slack channel."
   ]
  },
  {
   "cell_type": "code",
   "execution_count": 23,
   "metadata": {
    "collapsed": false
   },
   "outputs": [
    {
     "name": "stdout",
     "output_type": "stream",
     "text": [
      "True\n",
      "False\n"
     ]
    },
    {
     "data": {
      "text/plain": [
       "False"
      ]
     },
     "execution_count": 23,
     "metadata": {},
     "output_type": "execute_result"
    }
   ],
   "source": [
    "def CanYouSpell(list, string):\n",
    "    for letter in string:\n",
    "        #print letter\n",
    "        if letter in list:\n",
    "            list.remove(letter)\n",
    "        else:\n",
    "            print False\n",
    "    print True\n",
    "    \n",
    "def CanYouSpell(list, string):\n",
    "    for letter in string:\n",
    "        if letter in list:\n",
    "            list.remove(letter)\n",
    "        else:\n",
    "            print False\n",
    "    print True\n",
    "    \n",
    "# Ideas of how to go about things:    \n",
    "#a) convert into dictionaries and compare letter quantitiy\n",
    "#b) remove a letter if there is a match, if there's any letter that doesn't match, break automatically\n",
    "    \n",
    "CanYouSpell(['y','n','p','g','n','l'],\"lynn\")\n",
    "CanYouSpell(['y','n','p','g','l'],\"lynn\")    \n",
    "\n",
    "# This non-dicitoary approuch is potentially more time intensive as it is O(N^2)"
   ]
  },
  {
   "cell_type": "code",
   "execution_count": null,
   "metadata": {
    "collapsed": false
   },
   "outputs": [],
   "source": [
    "#This way is order 2N -- O(N) in total because you only need N to go through the list, and \n",
    "\n",
    "from collections import default dict\n",
    "def CanYouSpell(mylist,word):\n",
    "    my_dict = defaultdict(int)\n",
    "    for char in mylist:\n",
    "        mydict[char]+= 1\n",
    "    for char in word:\n",
    "        mydict[char]-1= 0"
   ]
  },
  {
   "cell_type": "code",
   "execution_count": null,
   "metadata": {
    "collapsed": false
   },
   "outputs": [],
   "source": [
    "# Some notes:\n",
    "Benefits of dictionaries\n",
    "- Fast\n",
    "\n",
    "Benefits of non-dctionary approuch\n",
    "- maybe memory intensive since you have to create the dictionary... as n gets larger it may "
   ]
  },
  {
   "cell_type": "code",
   "execution_count": null,
   "metadata": {
    "collapsed": false
   },
   "outputs": [],
   "source": []
  },
  {
   "cell_type": "code",
   "execution_count": null,
   "metadata": {
    "collapsed": false
   },
   "outputs": [],
   "source": []
  },
  {
   "cell_type": "code",
   "execution_count": null,
   "metadata": {
    "collapsed": true
   },
   "outputs": [],
   "source": []
  }
 ],
 "metadata": {
  "kernelspec": {
   "display_name": "Python 2",
   "language": "python",
   "name": "python2"
  },
  "language_info": {
   "codemirror_mode": {
    "name": "ipython",
    "version": 2
   },
   "file_extension": ".py",
   "mimetype": "text/x-python",
   "name": "python",
   "nbconvert_exporter": "python",
   "pygments_lexer": "ipython2",
   "version": "2.7.11"
  }
 },
 "nbformat": 4,
 "nbformat_minor": 0
}
