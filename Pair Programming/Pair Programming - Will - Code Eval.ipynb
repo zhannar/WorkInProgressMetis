{
 "cells": [
  {
   "cell_type": "markdown",
   "metadata": {},
   "source": [
    "Pair Problem\n",
    "\n",
    "CodeEval is a site with a lot of problems you can solve. Solving CodeEval problems is a fun way to work on your coding skills.\n",
    "\n",
    "If you make an account on CodeEval, you can submit code that will run on their system and be evaluated against their test data, so you'll know whether you've solved a problem correctly.\n",
    "\n",
    "Solve the CodeEval Beautiful Strings challenge: https://www.codeeval.com/browse/83/"
   ]
  },
  {
   "cell_type": "markdown",
   "metadata": {},
   "source": [
    "When John was a little kid he didn't have much to do. There was no internet, no Facebook, and no programs to hack on. So he did the only thing he could... he evaluated the beauty of strings in a quest to discover the most beautiful string in the world. \n",
    "\n",
    "Given a string s, little Johnny defined the beauty of the string as the sum of the beauty of the letters in it. The beauty of each letter is an integer between 1 and 26, inclusive, and no two letters have the same beauty. Johnny doesn't care about whether letters are uppercase or lowercase, so that doesn't affect the beauty of a letter. (Uppercase 'F' is exactly as beautiful as lowercase 'f', for example.) \n",
    "\n",
    "You're a student writing a report on the youth of this famous hacker. You found the string that Johnny considered most beautiful. What is the maximum possible beauty of this string?\n",
    "\n",
    "INPUT SAMPLE:\n",
    "\n",
    "Your program should accept as its first argument a path to a filename. Each line in this file has a sentence. E.g."
   ]
  },
  {
   "cell_type": "markdown",
   "metadata": {},
   "source": [
    "## Using dictionaries as counters"
   ]
  },
  {
   "cell_type": "code",
   "execution_count": 44,
   "metadata": {
    "collapsed": false
   },
   "outputs": [
    {
     "name": "stdout",
     "output_type": "stream",
     "text": [
      "152\n",
      "491\n"
     ]
    }
   ],
   "source": [
    "#Create histogram for each letter in string\n",
    "from collections import defaultdict\n",
    "\n",
    "def get_max(s):\n",
    "    # Creating a dicitonary/histogram of letter values and counts\n",
    "    d=defaultdict(int)\n",
    "    \n",
    "    for l in s:\n",
    "        if l.isalpha():\n",
    "            d[l.lower()]=d.get(l.lower(),0)+1\n",
    "        \n",
    "    # Creating a list of tuples and sorting descending\n",
    "    x =sorted([(value,key) for key, value in d.items()], reverse=True)\n",
    "\n",
    "    # Assigning letter values which maximize word beauty (give highest possible value to letters of highest frequency)\n",
    "    mult=26\n",
    "    total=0\n",
    "\n",
    "    for count, letter in x:\n",
    "        total += count*mult\n",
    "        mult -=1\n",
    "    return total\n",
    "\n",
    "print get_max(\"abbccc\")\n",
    "print get_max(\"Ignore punctuation, please :)\")"
   ]
  },
  {
   "cell_type": "markdown",
   "metadata": {},
   "source": [
    "## Using counter as counters"
   ]
  },
  {
   "cell_type": "code",
   "execution_count": 51,
   "metadata": {
    "collapsed": false
   },
   "outputs": [
    {
     "name": "stdout",
     "output_type": "stream",
     "text": [
      "[('c', 3), ('b', 2), ('a', 1)]\n",
      "152\n",
      "[('e', 3), ('n', 3), ('a', 2), ('i', 2), ('o', 2), ('p', 2), ('u', 2), ('t', 2), ('c', 1), ('g', 1), ('l', 1), ('s', 1), ('r', 1)]\n",
      "491\n"
     ]
    }
   ],
   "source": [
    "#Create histogram for each letter in string\n",
    "from collections import defaultdict\n",
    "from collections import Counter\n",
    "import re\n",
    "\n",
    "def get_max(text):\n",
    "    text = text.lower()\n",
    "    text= re.sub(\"[^a-z]\",\"\",text)\n",
    "    counts = Counter(text).most_common()\n",
    "    print counts\n",
    "    return sum([(26-i)*counts[i][1] for i in range(len(counts))])\n",
    "\n",
    "print get_max(\"abbccc\")\n",
    "print get_max(\"Ignore punctuation, please :)\")"
   ]
  },
  {
   "cell_type": "code",
   "execution_count": null,
   "metadata": {
    "collapsed": true
   },
   "outputs": [],
   "source": []
  }
 ],
 "metadata": {
  "kernelspec": {
   "display_name": "Python 2",
   "language": "python",
   "name": "python2"
  },
  "language_info": {
   "codemirror_mode": {
    "name": "ipython",
    "version": 2
   },
   "file_extension": ".py",
   "mimetype": "text/x-python",
   "name": "python",
   "nbconvert_exporter": "python",
   "pygments_lexer": "ipython2",
   "version": "2.7.11"
  }
 },
 "nbformat": 4,
 "nbformat_minor": 0
}
