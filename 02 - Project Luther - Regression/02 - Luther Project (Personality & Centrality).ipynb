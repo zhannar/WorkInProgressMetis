{
 "cells": [
  {
   "cell_type": "code",
   "execution_count": null,
   "metadata": {
    "collapsed": true
   },
   "outputs": [],
   "source": [
    "http://bigdataexaminer.com/data-science/understanding-bias-and-variance-using-python/"
   ]
  },
  {
   "cell_type": "markdown",
   "metadata": {},
   "source": [
    "# Luther Problem Statement\n",
    "Source: https://github.com/thisismetis/nyc16_ds7/tree/master/projects/02-luther"
   ]
  },
  {
   "cell_type": "markdown",
   "metadata": {},
   "source": [
    "Back story:\n",
    "\n",
    "Using information we scrape from the web, can we build linear regression models from which we can learn about the movie industry?\n",
    "\n",
    "Data:\n",
    "\n",
    "acquisition: web scraping\n",
    "storage: flat files\n",
    "sources: Box Office Mojo, The Numbers, any other publicly available information\n",
    "Skills:\n",
    "\n",
    "basics of the web (requests, HTML, CSS, JavaScript)\n",
    "web scraping\n",
    "numpy and pandas\n",
    "statsmodels, scikit-learn\n",
    "Analysis:\n",
    "\n",
    "linear regression\n",
    "Deliverable/communication:\n",
    "\n",
    "organized project repository\n",
    "slide presentation\n",
    "visual and oral communication in presentations\n",
    "write-up of process and results\n",
    "Design:\n",
    "\n",
    "iterative design process\n",
    "scoping\n",
    "\"MVP\"s and building outward\n",
    "More information:\n",
    "\n",
    "We'll learn about web scraping using two popular tools - BeautifulSoup and Selenium. You'll have to know the very basics of HTML. We'll also be evolving the way we use IPython notebooks—during this project we'll begin to use the notebook as a development scratchpad, where we test things out through interactive scripting, but then solidify our work in python modules with reusable functions and classes.\n",
    "\n",
    "We'll practice using linear regression. We'll have a first taste of feature selection, this time based on our intuition and some trial and error, and we'll build and refine our models.\n",
    "\n",
    "We'll work in groups for brainstorming and design, and code sharing will be highly encouraged, but the final projects will be individual.\n",
    "\n",
    "This project will really give you the freedom to challenge yourself, no matter your skill level. Find your boundaries, meet them, and push them a little further.\n",
    "\n",
    "We are very excited to see what you will learn and do for Project Luther!"
   ]
  },
  {
   "cell_type": "markdown",
   "metadata": {},
   "source": [
    "# Luther Project Summary Statement\n",
    "Here I describe where I got my data. What my hypothesis is all about\n",
    "Introduction explaining the study and source of the day. And what terms mean"
   ]
  },
  {
   "cell_type": "markdown",
   "metadata": {},
   "source": [
    "# Background Information on Variables"
   ]
  },
  {
   "cell_type": "markdown",
   "metadata": {},
   "source": [
    "http://research.microsoft.com/pubs/163535/FacebookPersonality_michal_29_04_12.pdf"
   ]
  },
  {
   "cell_type": "markdown",
   "metadata": {},
   "source": [
    "# Import Data"
   ]
  },
  {
   "cell_type": "code",
   "execution_count": 54,
   "metadata": {
    "collapsed": false
   },
   "outputs": [],
   "source": [
    "import pandas as pd\n",
    "import statsmodels.api as sm\n",
    "from sklearn import preprocessing as pp"
   ]
  },
  {
   "cell_type": "code",
   "execution_count": 6,
   "metadata": {
    "collapsed": false
   },
   "outputs": [
    {
     "name": "stdout",
     "output_type": "stream",
     "text": [
      "\u001b[31mcelli-al_wcpr13.pdf\u001b[m\u001b[m     \u001b[31mmypersonality_final.csv\u001b[m\u001b[m \u001b[31mreadme.txt\u001b[m\u001b[m\r\n"
     ]
    }
   ],
   "source": [
    "!ls mypersonality_final/"
   ]
  },
  {
   "cell_type": "code",
   "execution_count": 7,
   "metadata": {
    "collapsed": false
   },
   "outputs": [],
   "source": [
    "df_raw = pd.read_csv('mypersonality_final/mypersonality_final.csv')"
   ]
  },
  {
   "cell_type": "code",
   "execution_count": 8,
   "metadata": {
    "collapsed": false
   },
   "outputs": [],
   "source": [
    "my_dict = {\"Joe\":25, \"Mary\":23, \"Bob\":42}"
   ]
  },
  {
   "cell_type": "code",
   "execution_count": 14,
   "metadata": {
    "collapsed": false
   },
   "outputs": [
    {
     "data": {
      "text/plain": [
       "(9917, 20)"
      ]
     },
     "execution_count": 14,
     "metadata": {},
     "output_type": "execute_result"
    }
   ],
   "source": [
    "df_raw.shape"
   ]
  },
  {
   "cell_type": "code",
   "execution_count": 11,
   "metadata": {
    "collapsed": false
   },
   "outputs": [
    {
     "data": {
      "text/html": [
       "<div>\n",
       "<table border=\"1\" class=\"dataframe\">\n",
       "  <thead>\n",
       "    <tr style=\"text-align: right;\">\n",
       "      <th></th>\n",
       "      <th>#AUTHID</th>\n",
       "      <th>STATUS</th>\n",
       "      <th>sEXT</th>\n",
       "      <th>sNEU</th>\n",
       "      <th>sAGR</th>\n",
       "      <th>sCON</th>\n",
       "      <th>sOPN</th>\n",
       "      <th>cEXT</th>\n",
       "      <th>cNEU</th>\n",
       "      <th>cAGR</th>\n",
       "      <th>cCON</th>\n",
       "      <th>cOPN</th>\n",
       "      <th>DATE</th>\n",
       "      <th>NETWORKSIZE</th>\n",
       "      <th>BETWEENNESS</th>\n",
       "      <th>NBETWEENNESS</th>\n",
       "      <th>DENSITY</th>\n",
       "      <th>BROKERAGE</th>\n",
       "      <th>NBROKERAGE</th>\n",
       "      <th>TRANSITIVITY</th>\n",
       "    </tr>\n",
       "  </thead>\n",
       "  <tbody>\n",
       "    <tr>\n",
       "      <th>0</th>\n",
       "      <td>b7b7764cfa1c523e4e93ab2a79a946c4</td>\n",
       "      <td>likes the sound of thunder.</td>\n",
       "      <td>2.65</td>\n",
       "      <td>3</td>\n",
       "      <td>3.15</td>\n",
       "      <td>3.25</td>\n",
       "      <td>4.4</td>\n",
       "      <td>n</td>\n",
       "      <td>y</td>\n",
       "      <td>n</td>\n",
       "      <td>n</td>\n",
       "      <td>y</td>\n",
       "      <td>06/19/09 03:21 PM</td>\n",
       "      <td>180</td>\n",
       "      <td>14861.6</td>\n",
       "      <td>93.29</td>\n",
       "      <td>0.03</td>\n",
       "      <td>15661</td>\n",
       "      <td>0.49</td>\n",
       "      <td>0.1</td>\n",
       "    </tr>\n",
       "    <tr>\n",
       "      <th>1</th>\n",
       "      <td>b7b7764cfa1c523e4e93ab2a79a946c4</td>\n",
       "      <td>is so sleepy it's not even funny that's she ca...</td>\n",
       "      <td>2.65</td>\n",
       "      <td>3</td>\n",
       "      <td>3.15</td>\n",
       "      <td>3.25</td>\n",
       "      <td>4.4</td>\n",
       "      <td>n</td>\n",
       "      <td>y</td>\n",
       "      <td>n</td>\n",
       "      <td>n</td>\n",
       "      <td>y</td>\n",
       "      <td>07/02/09 08:41 AM</td>\n",
       "      <td>180</td>\n",
       "      <td>14861.6</td>\n",
       "      <td>93.29</td>\n",
       "      <td>0.03</td>\n",
       "      <td>15661</td>\n",
       "      <td>0.49</td>\n",
       "      <td>0.1</td>\n",
       "    </tr>\n",
       "    <tr>\n",
       "      <th>2</th>\n",
       "      <td>b7b7764cfa1c523e4e93ab2a79a946c4</td>\n",
       "      <td>is sore and wants the knot of muscles at the b...</td>\n",
       "      <td>2.65</td>\n",
       "      <td>3</td>\n",
       "      <td>3.15</td>\n",
       "      <td>3.25</td>\n",
       "      <td>4.4</td>\n",
       "      <td>n</td>\n",
       "      <td>y</td>\n",
       "      <td>n</td>\n",
       "      <td>n</td>\n",
       "      <td>y</td>\n",
       "      <td>06/15/09 01:15 PM</td>\n",
       "      <td>180</td>\n",
       "      <td>14861.6</td>\n",
       "      <td>93.29</td>\n",
       "      <td>0.03</td>\n",
       "      <td>15661</td>\n",
       "      <td>0.49</td>\n",
       "      <td>0.1</td>\n",
       "    </tr>\n",
       "  </tbody>\n",
       "</table>\n",
       "</div>"
      ],
      "text/plain": [
       "                            #AUTHID  \\\n",
       "0  b7b7764cfa1c523e4e93ab2a79a946c4   \n",
       "1  b7b7764cfa1c523e4e93ab2a79a946c4   \n",
       "2  b7b7764cfa1c523e4e93ab2a79a946c4   \n",
       "\n",
       "                                              STATUS  sEXT  sNEU  sAGR  sCON  \\\n",
       "0                        likes the sound of thunder.  2.65     3  3.15  3.25   \n",
       "1  is so sleepy it's not even funny that's she ca...  2.65     3  3.15  3.25   \n",
       "2  is sore and wants the knot of muscles at the b...  2.65     3  3.15  3.25   \n",
       "\n",
       "   sOPN cEXT cNEU cAGR cCON cOPN               DATE  NETWORKSIZE  BETWEENNESS  \\\n",
       "0   4.4    n    y    n    n    y  06/19/09 03:21 PM          180      14861.6   \n",
       "1   4.4    n    y    n    n    y  07/02/09 08:41 AM          180      14861.6   \n",
       "2   4.4    n    y    n    n    y  06/15/09 01:15 PM          180      14861.6   \n",
       "\n",
       "   NBETWEENNESS  DENSITY  BROKERAGE  NBROKERAGE  TRANSITIVITY  \n",
       "0         93.29     0.03      15661        0.49           0.1  \n",
       "1         93.29     0.03      15661        0.49           0.1  \n",
       "2         93.29     0.03      15661        0.49           0.1  "
      ]
     },
     "execution_count": 11,
     "metadata": {},
     "output_type": "execute_result"
    }
   ],
   "source": [
    "df_raw.head(3)"
   ]
  },
  {
   "cell_type": "code",
   "execution_count": 41,
   "metadata": {
    "collapsed": false
   },
   "outputs": [],
   "source": [
    "df_grouped = df_raw.groupby(by = \"#AUTHID\", as_index = False).first()"
   ]
  },
  {
   "cell_type": "code",
   "execution_count": null,
   "metadata": {
    "collapsed": false
   },
   "outputs": [],
   "source": []
  },
  {
   "cell_type": "code",
   "execution_count": 44,
   "metadata": {
    "collapsed": false
   },
   "outputs": [
    {
     "data": {
      "text/html": [
       "<div>\n",
       "<table border=\"1\" class=\"dataframe\">\n",
       "  <thead>\n",
       "    <tr style=\"text-align: right;\">\n",
       "      <th></th>\n",
       "      <th>sEXT</th>\n",
       "      <th>sNEU</th>\n",
       "      <th>sAGR</th>\n",
       "      <th>sCON</th>\n",
       "      <th>sOPN</th>\n",
       "      <th>NETWORKSIZE</th>\n",
       "      <th>BETWEENNESS</th>\n",
       "      <th>NBETWEENNESS</th>\n",
       "      <th>DENSITY</th>\n",
       "      <th>BROKERAGE</th>\n",
       "      <th>NBROKERAGE</th>\n",
       "      <th>TRANSITIVITY</th>\n",
       "    </tr>\n",
       "  </thead>\n",
       "  <tbody>\n",
       "    <tr>\n",
       "      <th>count</th>\n",
       "      <td>250.000000</td>\n",
       "      <td>250.000000</td>\n",
       "      <td>250.000000</td>\n",
       "      <td>250.000000</td>\n",
       "      <td>250.00000</td>\n",
       "      <td>250.000000</td>\n",
       "      <td>250.000000</td>\n",
       "      <td>250.000000</td>\n",
       "      <td>250.000000</td>\n",
       "      <td>250.000000</td>\n",
       "      <td>250.000000</td>\n",
       "      <td>250.000000</td>\n",
       "    </tr>\n",
       "    <tr>\n",
       "      <th>mean</th>\n",
       "      <td>3.292120</td>\n",
       "      <td>2.627240</td>\n",
       "      <td>3.600320</td>\n",
       "      <td>3.522920</td>\n",
       "      <td>4.07856</td>\n",
       "      <td>408.012000</td>\n",
       "      <td>128936.801920</td>\n",
       "      <td>93.980960</td>\n",
       "      <td>0.033760</td>\n",
       "      <td>131342.232000</td>\n",
       "      <td>0.488320</td>\n",
       "      <td>0.138600</td>\n",
       "    </tr>\n",
       "    <tr>\n",
       "      <th>std</th>\n",
       "      <td>0.861368</td>\n",
       "      <td>0.776835</td>\n",
       "      <td>0.670758</td>\n",
       "      <td>0.740211</td>\n",
       "      <td>0.57506</td>\n",
       "      <td>316.636458</td>\n",
       "      <td>204807.609367</td>\n",
       "      <td>7.080237</td>\n",
       "      <td>0.036009</td>\n",
       "      <td>207014.930192</td>\n",
       "      <td>0.015587</td>\n",
       "      <td>0.113439</td>\n",
       "    </tr>\n",
       "    <tr>\n",
       "      <th>min</th>\n",
       "      <td>1.330000</td>\n",
       "      <td>1.250000</td>\n",
       "      <td>1.650000</td>\n",
       "      <td>1.450000</td>\n",
       "      <td>2.25000</td>\n",
       "      <td>24.000000</td>\n",
       "      <td>185.710000</td>\n",
       "      <td>31.210000</td>\n",
       "      <td>0.000000</td>\n",
       "      <td>241.000000</td>\n",
       "      <td>0.320000</td>\n",
       "      <td>0.000000</td>\n",
       "    </tr>\n",
       "    <tr>\n",
       "      <th>25%</th>\n",
       "      <td>2.662500</td>\n",
       "      <td>2.000000</td>\n",
       "      <td>3.150000</td>\n",
       "      <td>3.000000</td>\n",
       "      <td>3.75000</td>\n",
       "      <td>175.000000</td>\n",
       "      <td>14062.350000</td>\n",
       "      <td>93.260000</td>\n",
       "      <td>0.010000</td>\n",
       "      <td>14576.250000</td>\n",
       "      <td>0.490000</td>\n",
       "      <td>0.060000</td>\n",
       "    </tr>\n",
       "    <tr>\n",
       "      <th>50%</th>\n",
       "      <td>3.300000</td>\n",
       "      <td>2.590000</td>\n",
       "      <td>3.660000</td>\n",
       "      <td>3.500000</td>\n",
       "      <td>4.15000</td>\n",
       "      <td>315.000000</td>\n",
       "      <td>46636.100000</td>\n",
       "      <td>96.020000</td>\n",
       "      <td>0.020000</td>\n",
       "      <td>48358.000000</td>\n",
       "      <td>0.490000</td>\n",
       "      <td>0.110000</td>\n",
       "    </tr>\n",
       "    <tr>\n",
       "      <th>75%</th>\n",
       "      <td>4.000000</td>\n",
       "      <td>3.150000</td>\n",
       "      <td>4.100000</td>\n",
       "      <td>4.050000</td>\n",
       "      <td>4.50000</td>\n",
       "      <td>556.500000</td>\n",
       "      <td>145483.000000</td>\n",
       "      <td>97.807500</td>\n",
       "      <td>0.040000</td>\n",
       "      <td>152115.750000</td>\n",
       "      <td>0.500000</td>\n",
       "      <td>0.180000</td>\n",
       "    </tr>\n",
       "    <tr>\n",
       "      <th>max</th>\n",
       "      <td>5.000000</td>\n",
       "      <td>4.750000</td>\n",
       "      <td>5.000000</td>\n",
       "      <td>5.000000</td>\n",
       "      <td>5.00000</td>\n",
       "      <td>1596.000000</td>\n",
       "      <td>1251780.000000</td>\n",
       "      <td>99.820000</td>\n",
       "      <td>0.400000</td>\n",
       "      <td>1263790.000000</td>\n",
       "      <td>0.500000</td>\n",
       "      <td>0.630000</td>\n",
       "    </tr>\n",
       "  </tbody>\n",
       "</table>\n",
       "</div>"
      ],
      "text/plain": [
       "             sEXT        sNEU        sAGR        sCON       sOPN  NETWORKSIZE  \\\n",
       "count  250.000000  250.000000  250.000000  250.000000  250.00000   250.000000   \n",
       "mean     3.292120    2.627240    3.600320    3.522920    4.07856   408.012000   \n",
       "std      0.861368    0.776835    0.670758    0.740211    0.57506   316.636458   \n",
       "min      1.330000    1.250000    1.650000    1.450000    2.25000    24.000000   \n",
       "25%      2.662500    2.000000    3.150000    3.000000    3.75000   175.000000   \n",
       "50%      3.300000    2.590000    3.660000    3.500000    4.15000   315.000000   \n",
       "75%      4.000000    3.150000    4.100000    4.050000    4.50000   556.500000   \n",
       "max      5.000000    4.750000    5.000000    5.000000    5.00000  1596.000000   \n",
       "\n",
       "          BETWEENNESS  NBETWEENNESS     DENSITY       BROKERAGE  NBROKERAGE  \\\n",
       "count      250.000000    250.000000  250.000000      250.000000  250.000000   \n",
       "mean    128936.801920     93.980960    0.033760   131342.232000    0.488320   \n",
       "std     204807.609367      7.080237    0.036009   207014.930192    0.015587   \n",
       "min        185.710000     31.210000    0.000000      241.000000    0.320000   \n",
       "25%      14062.350000     93.260000    0.010000    14576.250000    0.490000   \n",
       "50%      46636.100000     96.020000    0.020000    48358.000000    0.490000   \n",
       "75%     145483.000000     97.807500    0.040000   152115.750000    0.500000   \n",
       "max    1251780.000000     99.820000    0.400000  1263790.000000    0.500000   \n",
       "\n",
       "       TRANSITIVITY  \n",
       "count    250.000000  \n",
       "mean       0.138600  \n",
       "std        0.113439  \n",
       "min        0.000000  \n",
       "25%        0.060000  \n",
       "50%        0.110000  \n",
       "75%        0.180000  \n",
       "max        0.630000  "
      ]
     },
     "execution_count": 44,
     "metadata": {},
     "output_type": "execute_result"
    }
   ],
   "source": [
    "df_grouped.describe()"
   ]
  },
  {
   "cell_type": "code",
   "execution_count": 67,
   "metadata": {
    "collapsed": false
   },
   "outputs": [],
   "source": [
    "x_extroversion = df_grouped[\"sEXT\"]\n",
    "x_neuroticism = df_grouped[\"sNEU\"]\n",
    "x_agreeableness = df_grouped[\"sAGR\"]\n",
    "x_conscientiousness = df_grouped[\"sCON\"]\n",
    "x_openness = df_grouped[\"sOPN\"]\n",
    "\n",
    "y_betweenness = df_grouped[\"BETWEENNESS\"]\n",
    "y_nbetweenness = df_grouped[\"NBETWEENNESS\"]\n",
    "\n",
    "network_size = df_grouped[\"NETWORKSIZE\"]\n"
   ]
  },
  {
   "cell_type": "code",
   "execution_count": 72,
   "metadata": {
    "collapsed": true
   },
   "outputs": [],
   "source": [
    "variable_list = [x_extroversion,x_neuroticism,x_agreeableness,x_conscientiousness,x_openness]"
   ]
  },
  {
   "cell_type": "code",
   "execution_count": 74,
   "metadata": {
    "collapsed": false
   },
   "outputs": [
    {
     "name": "stdout",
     "output_type": "stream",
     "text": [
      "(250,)\n",
      "(250,)\n",
      "(250,)\n",
      "(250,)\n",
      "(250,)\n"
     ]
    }
   ],
   "source": [
    "for var in variable_list:\n",
    "    print var.shape"
   ]
  },
  {
   "cell_type": "code",
   "execution_count": 79,
   "metadata": {
    "collapsed": true
   },
   "outputs": [],
   "source": [
    "x_individuals = pd.DataFrame([x_extroversion,x_neuroticism,x_agreeableness,x_conscientiousness,x_openness]).T"
   ]
  },
  {
   "cell_type": "code",
   "execution_count": 80,
   "metadata": {
    "collapsed": false
   },
   "outputs": [
    {
     "data": {
      "text/plain": [
       "(250, 5)"
      ]
     },
     "execution_count": 80,
     "metadata": {},
     "output_type": "execute_result"
    }
   ],
   "source": [
    "x_individuals.shape"
   ]
  },
  {
   "cell_type": "code",
   "execution_count": 81,
   "metadata": {
    "collapsed": false
   },
   "outputs": [
    {
     "data": {
      "text/html": [
       "<div>\n",
       "<table border=\"1\" class=\"dataframe\">\n",
       "  <thead>\n",
       "    <tr style=\"text-align: right;\">\n",
       "      <th></th>\n",
       "      <th>sEXT</th>\n",
       "      <th>sNEU</th>\n",
       "      <th>sAGR</th>\n",
       "      <th>sCON</th>\n",
       "      <th>sOPN</th>\n",
       "    </tr>\n",
       "  </thead>\n",
       "  <tbody>\n",
       "    <tr>\n",
       "      <th>0</th>\n",
       "      <td>1.90</td>\n",
       "      <td>4.15</td>\n",
       "      <td>3.15</td>\n",
       "      <td>4.65</td>\n",
       "      <td>3.45</td>\n",
       "    </tr>\n",
       "    <tr>\n",
       "      <th>1</th>\n",
       "      <td>2.05</td>\n",
       "      <td>4.00</td>\n",
       "      <td>2.20</td>\n",
       "      <td>2.20</td>\n",
       "      <td>3.75</td>\n",
       "    </tr>\n",
       "    <tr>\n",
       "      <th>2</th>\n",
       "      <td>3.84</td>\n",
       "      <td>3.55</td>\n",
       "      <td>2.85</td>\n",
       "      <td>4.32</td>\n",
       "      <td>3.45</td>\n",
       "    </tr>\n",
       "    <tr>\n",
       "      <th>3</th>\n",
       "      <td>3.20</td>\n",
       "      <td>3.60</td>\n",
       "      <td>3.85</td>\n",
       "      <td>4.35</td>\n",
       "      <td>4.80</td>\n",
       "    </tr>\n",
       "    <tr>\n",
       "      <th>4</th>\n",
       "      <td>2.85</td>\n",
       "      <td>2.35</td>\n",
       "      <td>3.35</td>\n",
       "      <td>4.70</td>\n",
       "      <td>3.35</td>\n",
       "    </tr>\n",
       "    <tr>\n",
       "      <th>5</th>\n",
       "      <td>3.00</td>\n",
       "      <td>3.15</td>\n",
       "      <td>2.95</td>\n",
       "      <td>3.55</td>\n",
       "      <td>4.80</td>\n",
       "    </tr>\n",
       "    <tr>\n",
       "      <th>6</th>\n",
       "      <td>3.35</td>\n",
       "      <td>2.30</td>\n",
       "      <td>4.10</td>\n",
       "      <td>2.40</td>\n",
       "      <td>4.50</td>\n",
       "    </tr>\n",
       "    <tr>\n",
       "      <th>7</th>\n",
       "      <td>4.33</td>\n",
       "      <td>2.17</td>\n",
       "      <td>3.17</td>\n",
       "      <td>4.17</td>\n",
       "      <td>4.83</td>\n",
       "    </tr>\n",
       "    <tr>\n",
       "      <th>8</th>\n",
       "      <td>2.80</td>\n",
       "      <td>1.60</td>\n",
       "      <td>3.65</td>\n",
       "      <td>3.25</td>\n",
       "      <td>4.15</td>\n",
       "    </tr>\n",
       "    <tr>\n",
       "      <th>9</th>\n",
       "      <td>2.85</td>\n",
       "      <td>3.20</td>\n",
       "      <td>2.85</td>\n",
       "      <td>4.10</td>\n",
       "      <td>4.70</td>\n",
       "    </tr>\n",
       "  </tbody>\n",
       "</table>\n",
       "</div>"
      ],
      "text/plain": [
       "   sEXT  sNEU  sAGR  sCON  sOPN\n",
       "0  1.90  4.15  3.15  4.65  3.45\n",
       "1  2.05  4.00  2.20  2.20  3.75\n",
       "2  3.84  3.55  2.85  4.32  3.45\n",
       "3  3.20  3.60  3.85  4.35  4.80\n",
       "4  2.85  2.35  3.35  4.70  3.35\n",
       "5  3.00  3.15  2.95  3.55  4.80\n",
       "6  3.35  2.30  4.10  2.40  4.50\n",
       "7  4.33  2.17  3.17  4.17  4.83\n",
       "8  2.80  1.60  3.65  3.25  4.15\n",
       "9  2.85  3.20  2.85  4.10  4.70"
      ]
     },
     "execution_count": 81,
     "metadata": {},
     "output_type": "execute_result"
    }
   ],
   "source": [
    "x_individuals.head(10)"
   ]
  },
  {
   "cell_type": "code",
   "execution_count": 228,
   "metadata": {
    "collapsed": false
   },
   "outputs": [
    {
     "data": {
      "text/html": [
       "<div>\n",
       "<table border=\"1\" class=\"dataframe\">\n",
       "  <thead>\n",
       "    <tr style=\"text-align: right;\">\n",
       "      <th></th>\n",
       "      <th>Constant Term</th>\n",
       "      <th>sEXT^1</th>\n",
       "      <th>sNEU^1</th>\n",
       "      <th>sAGR^1</th>\n",
       "      <th>sCON^1</th>\n",
       "      <th>sOPN^1</th>\n",
       "      <th>sEXT^2</th>\n",
       "      <th>sEXT^1 x sNEU^1</th>\n",
       "      <th>sEXT^1 x sAGR^1</th>\n",
       "      <th>sEXT^1 x sCON^1</th>\n",
       "      <th>...</th>\n",
       "      <th>sNEU^2</th>\n",
       "      <th>sNEU^1 x sAGR^1</th>\n",
       "      <th>sNEU^1 x sCON^1</th>\n",
       "      <th>sNEU^1 x sOPN^1</th>\n",
       "      <th>sAGR^2</th>\n",
       "      <th>sAGR^1 x sCON^1</th>\n",
       "      <th>sAGR^1 x sOPN^1</th>\n",
       "      <th>sCON^2</th>\n",
       "      <th>sCON^1 x sOPN^1</th>\n",
       "      <th>sOPN^2</th>\n",
       "    </tr>\n",
       "  </thead>\n",
       "  <tbody>\n",
       "    <tr>\n",
       "      <th>0</th>\n",
       "      <td>1</td>\n",
       "      <td>1.90</td>\n",
       "      <td>4.15</td>\n",
       "      <td>3.15</td>\n",
       "      <td>4.65</td>\n",
       "      <td>3.45</td>\n",
       "      <td>3.6100</td>\n",
       "      <td>7.8850</td>\n",
       "      <td>5.9850</td>\n",
       "      <td>8.8350</td>\n",
       "      <td>...</td>\n",
       "      <td>17.2225</td>\n",
       "      <td>13.0725</td>\n",
       "      <td>19.2975</td>\n",
       "      <td>14.3175</td>\n",
       "      <td>9.9225</td>\n",
       "      <td>14.6475</td>\n",
       "      <td>10.8675</td>\n",
       "      <td>21.6225</td>\n",
       "      <td>16.0425</td>\n",
       "      <td>11.9025</td>\n",
       "    </tr>\n",
       "    <tr>\n",
       "      <th>1</th>\n",
       "      <td>1</td>\n",
       "      <td>2.05</td>\n",
       "      <td>4.00</td>\n",
       "      <td>2.20</td>\n",
       "      <td>2.20</td>\n",
       "      <td>3.75</td>\n",
       "      <td>4.2025</td>\n",
       "      <td>8.2000</td>\n",
       "      <td>4.5100</td>\n",
       "      <td>4.5100</td>\n",
       "      <td>...</td>\n",
       "      <td>16.0000</td>\n",
       "      <td>8.8000</td>\n",
       "      <td>8.8000</td>\n",
       "      <td>15.0000</td>\n",
       "      <td>4.8400</td>\n",
       "      <td>4.8400</td>\n",
       "      <td>8.2500</td>\n",
       "      <td>4.8400</td>\n",
       "      <td>8.2500</td>\n",
       "      <td>14.0625</td>\n",
       "    </tr>\n",
       "    <tr>\n",
       "      <th>2</th>\n",
       "      <td>1</td>\n",
       "      <td>3.84</td>\n",
       "      <td>3.55</td>\n",
       "      <td>2.85</td>\n",
       "      <td>4.32</td>\n",
       "      <td>3.45</td>\n",
       "      <td>14.7456</td>\n",
       "      <td>13.6320</td>\n",
       "      <td>10.9440</td>\n",
       "      <td>16.5888</td>\n",
       "      <td>...</td>\n",
       "      <td>12.6025</td>\n",
       "      <td>10.1175</td>\n",
       "      <td>15.3360</td>\n",
       "      <td>12.2475</td>\n",
       "      <td>8.1225</td>\n",
       "      <td>12.3120</td>\n",
       "      <td>9.8325</td>\n",
       "      <td>18.6624</td>\n",
       "      <td>14.9040</td>\n",
       "      <td>11.9025</td>\n",
       "    </tr>\n",
       "    <tr>\n",
       "      <th>3</th>\n",
       "      <td>1</td>\n",
       "      <td>3.20</td>\n",
       "      <td>3.60</td>\n",
       "      <td>3.85</td>\n",
       "      <td>4.35</td>\n",
       "      <td>4.80</td>\n",
       "      <td>10.2400</td>\n",
       "      <td>11.5200</td>\n",
       "      <td>12.3200</td>\n",
       "      <td>13.9200</td>\n",
       "      <td>...</td>\n",
       "      <td>12.9600</td>\n",
       "      <td>13.8600</td>\n",
       "      <td>15.6600</td>\n",
       "      <td>17.2800</td>\n",
       "      <td>14.8225</td>\n",
       "      <td>16.7475</td>\n",
       "      <td>18.4800</td>\n",
       "      <td>18.9225</td>\n",
       "      <td>20.8800</td>\n",
       "      <td>23.0400</td>\n",
       "    </tr>\n",
       "    <tr>\n",
       "      <th>4</th>\n",
       "      <td>1</td>\n",
       "      <td>2.85</td>\n",
       "      <td>2.35</td>\n",
       "      <td>3.35</td>\n",
       "      <td>4.70</td>\n",
       "      <td>3.35</td>\n",
       "      <td>8.1225</td>\n",
       "      <td>6.6975</td>\n",
       "      <td>9.5475</td>\n",
       "      <td>13.3950</td>\n",
       "      <td>...</td>\n",
       "      <td>5.5225</td>\n",
       "      <td>7.8725</td>\n",
       "      <td>11.0450</td>\n",
       "      <td>7.8725</td>\n",
       "      <td>11.2225</td>\n",
       "      <td>15.7450</td>\n",
       "      <td>11.2225</td>\n",
       "      <td>22.0900</td>\n",
       "      <td>15.7450</td>\n",
       "      <td>11.2225</td>\n",
       "    </tr>\n",
       "  </tbody>\n",
       "</table>\n",
       "<p>5 rows × 21 columns</p>\n",
       "</div>"
      ],
      "text/plain": [
       "   Constant Term  sEXT^1  sNEU^1  sAGR^1  sCON^1  sOPN^1   sEXT^2  \\\n",
       "0              1    1.90    4.15    3.15    4.65    3.45   3.6100   \n",
       "1              1    2.05    4.00    2.20    2.20    3.75   4.2025   \n",
       "2              1    3.84    3.55    2.85    4.32    3.45  14.7456   \n",
       "3              1    3.20    3.60    3.85    4.35    4.80  10.2400   \n",
       "4              1    2.85    2.35    3.35    4.70    3.35   8.1225   \n",
       "\n",
       "   sEXT^1 x sNEU^1  sEXT^1 x sAGR^1  sEXT^1 x sCON^1   ...      sNEU^2  \\\n",
       "0           7.8850           5.9850           8.8350   ...     17.2225   \n",
       "1           8.2000           4.5100           4.5100   ...     16.0000   \n",
       "2          13.6320          10.9440          16.5888   ...     12.6025   \n",
       "3          11.5200          12.3200          13.9200   ...     12.9600   \n",
       "4           6.6975           9.5475          13.3950   ...      5.5225   \n",
       "\n",
       "   sNEU^1 x sAGR^1  sNEU^1 x sCON^1  sNEU^1 x sOPN^1   sAGR^2  \\\n",
       "0          13.0725          19.2975          14.3175   9.9225   \n",
       "1           8.8000           8.8000          15.0000   4.8400   \n",
       "2          10.1175          15.3360          12.2475   8.1225   \n",
       "3          13.8600          15.6600          17.2800  14.8225   \n",
       "4           7.8725          11.0450           7.8725  11.2225   \n",
       "\n",
       "   sAGR^1 x sCON^1  sAGR^1 x sOPN^1   sCON^2  sCON^1 x sOPN^1   sOPN^2  \n",
       "0          14.6475          10.8675  21.6225          16.0425  11.9025  \n",
       "1           4.8400           8.2500   4.8400           8.2500  14.0625  \n",
       "2          12.3120           9.8325  18.6624          14.9040  11.9025  \n",
       "3          16.7475          18.4800  18.9225          20.8800  23.0400  \n",
       "4          15.7450          11.2225  22.0900          15.7450  11.2225  \n",
       "\n",
       "[5 rows x 21 columns]"
      ]
     },
     "execution_count": 228,
     "metadata": {},
     "output_type": "execute_result"
    }
   ],
   "source": [
    "X = PolynomialFeatures_labeled(x_individuals,2)\n",
    "X.head()"
   ]
  },
  {
   "cell_type": "code",
   "execution_count": null,
   "metadata": {
    "collapsed": false
   },
   "outputs": [],
   "source": []
  },
  {
   "cell_type": "markdown",
   "metadata": {},
   "source": [
    "# Clean Data as Necesesary"
   ]
  },
  {
   "cell_type": "code",
   "execution_count": 229,
   "metadata": {
    "collapsed": false
   },
   "outputs": [
    {
     "data": {
      "text/html": [
       "<div>\n",
       "<table border=\"1\" class=\"dataframe\">\n",
       "  <thead>\n",
       "    <tr style=\"text-align: right;\">\n",
       "      <th></th>\n",
       "      <th>sEXT</th>\n",
       "      <th>sNEU</th>\n",
       "      <th>sAGR</th>\n",
       "      <th>sCON</th>\n",
       "      <th>sOPN</th>\n",
       "      <th>NETWORKSIZE</th>\n",
       "      <th>BETWEENNESS</th>\n",
       "      <th>NBETWEENNESS</th>\n",
       "      <th>DENSITY</th>\n",
       "      <th>BROKERAGE</th>\n",
       "      <th>NBROKERAGE</th>\n",
       "      <th>TRANSITIVITY</th>\n",
       "    </tr>\n",
       "  </thead>\n",
       "  <tbody>\n",
       "    <tr>\n",
       "      <th>count</th>\n",
       "      <td>9917.000000</td>\n",
       "      <td>9917.000000</td>\n",
       "      <td>9917.000000</td>\n",
       "      <td>9917.000000</td>\n",
       "      <td>9917.000000</td>\n",
       "      <td>9917.000000</td>\n",
       "      <td>9917.000000</td>\n",
       "      <td>9917.000000</td>\n",
       "      <td>9917.000000</td>\n",
       "      <td>9917.000000</td>\n",
       "      <td>9917.000000</td>\n",
       "      <td>9916.000000</td>\n",
       "    </tr>\n",
       "    <tr>\n",
       "      <th>mean</th>\n",
       "      <td>3.354760</td>\n",
       "      <td>2.609453</td>\n",
       "      <td>3.616643</td>\n",
       "      <td>3.474201</td>\n",
       "      <td>4.130386</td>\n",
       "      <td>429.377120</td>\n",
       "      <td>135425.315359</td>\n",
       "      <td>94.665170</td>\n",
       "      <td>3.154012</td>\n",
       "      <td>137642.476201</td>\n",
       "      <td>0.489920</td>\n",
       "      <td>0.128821</td>\n",
       "    </tr>\n",
       "    <tr>\n",
       "      <th>std</th>\n",
       "      <td>0.857578</td>\n",
       "      <td>0.760248</td>\n",
       "      <td>0.682485</td>\n",
       "      <td>0.737215</td>\n",
       "      <td>0.585672</td>\n",
       "      <td>428.760382</td>\n",
       "      <td>199433.803497</td>\n",
       "      <td>5.506696</td>\n",
       "      <td>311.073343</td>\n",
       "      <td>201392.066555</td>\n",
       "      <td>0.011908</td>\n",
       "      <td>0.106063</td>\n",
       "    </tr>\n",
       "    <tr>\n",
       "      <th>min</th>\n",
       "      <td>1.330000</td>\n",
       "      <td>1.250000</td>\n",
       "      <td>1.650000</td>\n",
       "      <td>1.450000</td>\n",
       "      <td>2.250000</td>\n",
       "      <td>24.000000</td>\n",
       "      <td>93.250000</td>\n",
       "      <td>0.040000</td>\n",
       "      <td>0.000000</td>\n",
       "      <td>0.490000</td>\n",
       "      <td>0.180000</td>\n",
       "      <td>0.000000</td>\n",
       "    </tr>\n",
       "    <tr>\n",
       "      <th>25%</th>\n",
       "      <td>2.710000</td>\n",
       "      <td>2.000000</td>\n",
       "      <td>3.140000</td>\n",
       "      <td>3.000000</td>\n",
       "      <td>3.750000</td>\n",
       "      <td>196.000000</td>\n",
       "      <td>16902.200000</td>\n",
       "      <td>93.770000</td>\n",
       "      <td>0.010000</td>\n",
       "      <td>17982.000000</td>\n",
       "      <td>0.490000</td>\n",
       "      <td>0.060000</td>\n",
       "    </tr>\n",
       "    <tr>\n",
       "      <th>50%</th>\n",
       "      <td>3.400000</td>\n",
       "      <td>2.600000</td>\n",
       "      <td>3.650000</td>\n",
       "      <td>3.400000</td>\n",
       "      <td>4.250000</td>\n",
       "      <td>317.000000</td>\n",
       "      <td>47166.900000</td>\n",
       "      <td>96.440000</td>\n",
       "      <td>0.020000</td>\n",
       "      <td>48683.000000</td>\n",
       "      <td>0.490000</td>\n",
       "      <td>0.090000</td>\n",
       "    </tr>\n",
       "    <tr>\n",
       "      <th>75%</th>\n",
       "      <td>4.000000</td>\n",
       "      <td>3.050000</td>\n",
       "      <td>4.150000</td>\n",
       "      <td>4.000000</td>\n",
       "      <td>4.550000</td>\n",
       "      <td>633.000000</td>\n",
       "      <td>196606.000000</td>\n",
       "      <td>97.880000</td>\n",
       "      <td>0.030000</td>\n",
       "      <td>198186.000000</td>\n",
       "      <td>0.500000</td>\n",
       "      <td>0.170000</td>\n",
       "    </tr>\n",
       "    <tr>\n",
       "      <th>max</th>\n",
       "      <td>5.000000</td>\n",
       "      <td>4.750000</td>\n",
       "      <td>5.000000</td>\n",
       "      <td>5.000000</td>\n",
       "      <td>5.000000</td>\n",
       "      <td>29724.900000</td>\n",
       "      <td>1251780.000000</td>\n",
       "      <td>99.820000</td>\n",
       "      <td>30978.000000</td>\n",
       "      <td>1263790.000000</td>\n",
       "      <td>0.500000</td>\n",
       "      <td>0.630000</td>\n",
       "    </tr>\n",
       "  </tbody>\n",
       "</table>\n",
       "</div>"
      ],
      "text/plain": [
       "              sEXT         sNEU         sAGR         sCON         sOPN  \\\n",
       "count  9917.000000  9917.000000  9917.000000  9917.000000  9917.000000   \n",
       "mean      3.354760     2.609453     3.616643     3.474201     4.130386   \n",
       "std       0.857578     0.760248     0.682485     0.737215     0.585672   \n",
       "min       1.330000     1.250000     1.650000     1.450000     2.250000   \n",
       "25%       2.710000     2.000000     3.140000     3.000000     3.750000   \n",
       "50%       3.400000     2.600000     3.650000     3.400000     4.250000   \n",
       "75%       4.000000     3.050000     4.150000     4.000000     4.550000   \n",
       "max       5.000000     4.750000     5.000000     5.000000     5.000000   \n",
       "\n",
       "        NETWORKSIZE     BETWEENNESS  NBETWEENNESS       DENSITY  \\\n",
       "count   9917.000000     9917.000000   9917.000000   9917.000000   \n",
       "mean     429.377120   135425.315359     94.665170      3.154012   \n",
       "std      428.760382   199433.803497      5.506696    311.073343   \n",
       "min       24.000000       93.250000      0.040000      0.000000   \n",
       "25%      196.000000    16902.200000     93.770000      0.010000   \n",
       "50%      317.000000    47166.900000     96.440000      0.020000   \n",
       "75%      633.000000   196606.000000     97.880000      0.030000   \n",
       "max    29724.900000  1251780.000000     99.820000  30978.000000   \n",
       "\n",
       "            BROKERAGE   NBROKERAGE  TRANSITIVITY  \n",
       "count     9917.000000  9917.000000   9916.000000  \n",
       "mean    137642.476201     0.489920      0.128821  \n",
       "std     201392.066555     0.011908      0.106063  \n",
       "min          0.490000     0.180000      0.000000  \n",
       "25%      17982.000000     0.490000      0.060000  \n",
       "50%      48683.000000     0.490000      0.090000  \n",
       "75%     198186.000000     0.500000      0.170000  \n",
       "max    1263790.000000     0.500000      0.630000  "
      ]
     },
     "execution_count": 229,
     "metadata": {},
     "output_type": "execute_result"
    }
   ],
   "source": [
    "df_raw.describe()"
   ]
  },
  {
   "cell_type": "code",
   "execution_count": 230,
   "metadata": {
    "collapsed": false
   },
   "outputs": [
    {
     "data": {
      "text/plain": [
       "(9917, 20)"
      ]
     },
     "execution_count": 230,
     "metadata": {},
     "output_type": "execute_result"
    }
   ],
   "source": [
    "df_raw.shape"
   ]
  },
  {
   "cell_type": "code",
   "execution_count": 231,
   "metadata": {
    "collapsed": false
   },
   "outputs": [
    {
     "data": {
      "text/html": [
       "<div>\n",
       "<table border=\"1\" class=\"dataframe\">\n",
       "  <thead>\n",
       "    <tr style=\"text-align: right;\">\n",
       "      <th></th>\n",
       "      <th>#AUTHID</th>\n",
       "      <th>STATUS</th>\n",
       "      <th>sEXT</th>\n",
       "      <th>sNEU</th>\n",
       "      <th>sAGR</th>\n",
       "      <th>sCON</th>\n",
       "      <th>sOPN</th>\n",
       "      <th>cEXT</th>\n",
       "      <th>cNEU</th>\n",
       "      <th>cAGR</th>\n",
       "      <th>cCON</th>\n",
       "      <th>cOPN</th>\n",
       "      <th>DATE</th>\n",
       "      <th>NETWORKSIZE</th>\n",
       "      <th>BETWEENNESS</th>\n",
       "      <th>NBETWEENNESS</th>\n",
       "      <th>DENSITY</th>\n",
       "      <th>BROKERAGE</th>\n",
       "      <th>NBROKERAGE</th>\n",
       "      <th>TRANSITIVITY</th>\n",
       "    </tr>\n",
       "  </thead>\n",
       "  <tbody>\n",
       "    <tr>\n",
       "      <th>0</th>\n",
       "      <td>b7b7764cfa1c523e4e93ab2a79a946c4</td>\n",
       "      <td>likes the sound of thunder.</td>\n",
       "      <td>2.65</td>\n",
       "      <td>3</td>\n",
       "      <td>3.15</td>\n",
       "      <td>3.25</td>\n",
       "      <td>4.4</td>\n",
       "      <td>n</td>\n",
       "      <td>y</td>\n",
       "      <td>n</td>\n",
       "      <td>n</td>\n",
       "      <td>y</td>\n",
       "      <td>06/19/09 03:21 PM</td>\n",
       "      <td>180</td>\n",
       "      <td>14861.6</td>\n",
       "      <td>93.29</td>\n",
       "      <td>0.03</td>\n",
       "      <td>15661</td>\n",
       "      <td>0.49</td>\n",
       "      <td>0.1</td>\n",
       "    </tr>\n",
       "    <tr>\n",
       "      <th>1</th>\n",
       "      <td>b7b7764cfa1c523e4e93ab2a79a946c4</td>\n",
       "      <td>is so sleepy it's not even funny that's she ca...</td>\n",
       "      <td>2.65</td>\n",
       "      <td>3</td>\n",
       "      <td>3.15</td>\n",
       "      <td>3.25</td>\n",
       "      <td>4.4</td>\n",
       "      <td>n</td>\n",
       "      <td>y</td>\n",
       "      <td>n</td>\n",
       "      <td>n</td>\n",
       "      <td>y</td>\n",
       "      <td>07/02/09 08:41 AM</td>\n",
       "      <td>180</td>\n",
       "      <td>14861.6</td>\n",
       "      <td>93.29</td>\n",
       "      <td>0.03</td>\n",
       "      <td>15661</td>\n",
       "      <td>0.49</td>\n",
       "      <td>0.1</td>\n",
       "    </tr>\n",
       "    <tr>\n",
       "      <th>2</th>\n",
       "      <td>b7b7764cfa1c523e4e93ab2a79a946c4</td>\n",
       "      <td>is sore and wants the knot of muscles at the b...</td>\n",
       "      <td>2.65</td>\n",
       "      <td>3</td>\n",
       "      <td>3.15</td>\n",
       "      <td>3.25</td>\n",
       "      <td>4.4</td>\n",
       "      <td>n</td>\n",
       "      <td>y</td>\n",
       "      <td>n</td>\n",
       "      <td>n</td>\n",
       "      <td>y</td>\n",
       "      <td>06/15/09 01:15 PM</td>\n",
       "      <td>180</td>\n",
       "      <td>14861.6</td>\n",
       "      <td>93.29</td>\n",
       "      <td>0.03</td>\n",
       "      <td>15661</td>\n",
       "      <td>0.49</td>\n",
       "      <td>0.1</td>\n",
       "    </tr>\n",
       "    <tr>\n",
       "      <th>3</th>\n",
       "      <td>b7b7764cfa1c523e4e93ab2a79a946c4</td>\n",
       "      <td>likes how the day sounds in this new song.</td>\n",
       "      <td>2.65</td>\n",
       "      <td>3</td>\n",
       "      <td>3.15</td>\n",
       "      <td>3.25</td>\n",
       "      <td>4.4</td>\n",
       "      <td>n</td>\n",
       "      <td>y</td>\n",
       "      <td>n</td>\n",
       "      <td>n</td>\n",
       "      <td>y</td>\n",
       "      <td>06/22/09 04:48 AM</td>\n",
       "      <td>180</td>\n",
       "      <td>14861.6</td>\n",
       "      <td>93.29</td>\n",
       "      <td>0.03</td>\n",
       "      <td>15661</td>\n",
       "      <td>0.49</td>\n",
       "      <td>0.1</td>\n",
       "    </tr>\n",
       "    <tr>\n",
       "      <th>4</th>\n",
       "      <td>b7b7764cfa1c523e4e93ab2a79a946c4</td>\n",
       "      <td>is home. &lt;3</td>\n",
       "      <td>2.65</td>\n",
       "      <td>3</td>\n",
       "      <td>3.15</td>\n",
       "      <td>3.25</td>\n",
       "      <td>4.4</td>\n",
       "      <td>n</td>\n",
       "      <td>y</td>\n",
       "      <td>n</td>\n",
       "      <td>n</td>\n",
       "      <td>y</td>\n",
       "      <td>07/20/09 02:31 AM</td>\n",
       "      <td>180</td>\n",
       "      <td>14861.6</td>\n",
       "      <td>93.29</td>\n",
       "      <td>0.03</td>\n",
       "      <td>15661</td>\n",
       "      <td>0.49</td>\n",
       "      <td>0.1</td>\n",
       "    </tr>\n",
       "  </tbody>\n",
       "</table>\n",
       "</div>"
      ],
      "text/plain": [
       "                            #AUTHID  \\\n",
       "0  b7b7764cfa1c523e4e93ab2a79a946c4   \n",
       "1  b7b7764cfa1c523e4e93ab2a79a946c4   \n",
       "2  b7b7764cfa1c523e4e93ab2a79a946c4   \n",
       "3  b7b7764cfa1c523e4e93ab2a79a946c4   \n",
       "4  b7b7764cfa1c523e4e93ab2a79a946c4   \n",
       "\n",
       "                                              STATUS  sEXT  sNEU  sAGR  sCON  \\\n",
       "0                        likes the sound of thunder.  2.65     3  3.15  3.25   \n",
       "1  is so sleepy it's not even funny that's she ca...  2.65     3  3.15  3.25   \n",
       "2  is sore and wants the knot of muscles at the b...  2.65     3  3.15  3.25   \n",
       "3         likes how the day sounds in this new song.  2.65     3  3.15  3.25   \n",
       "4                                        is home. <3  2.65     3  3.15  3.25   \n",
       "\n",
       "   sOPN cEXT cNEU cAGR cCON cOPN               DATE  NETWORKSIZE  BETWEENNESS  \\\n",
       "0   4.4    n    y    n    n    y  06/19/09 03:21 PM          180      14861.6   \n",
       "1   4.4    n    y    n    n    y  07/02/09 08:41 AM          180      14861.6   \n",
       "2   4.4    n    y    n    n    y  06/15/09 01:15 PM          180      14861.6   \n",
       "3   4.4    n    y    n    n    y  06/22/09 04:48 AM          180      14861.6   \n",
       "4   4.4    n    y    n    n    y  07/20/09 02:31 AM          180      14861.6   \n",
       "\n",
       "   NBETWEENNESS  DENSITY  BROKERAGE  NBROKERAGE  TRANSITIVITY  \n",
       "0         93.29     0.03      15661        0.49           0.1  \n",
       "1         93.29     0.03      15661        0.49           0.1  \n",
       "2         93.29     0.03      15661        0.49           0.1  \n",
       "3         93.29     0.03      15661        0.49           0.1  \n",
       "4         93.29     0.03      15661        0.49           0.1  "
      ]
     },
     "execution_count": 231,
     "metadata": {},
     "output_type": "execute_result"
    }
   ],
   "source": [
    "# G\n",
    "df_raw.head()"
   ]
  },
  {
   "cell_type": "code",
   "execution_count": 232,
   "metadata": {
    "collapsed": false
   },
   "outputs": [
    {
     "ename": "SyntaxError",
     "evalue": "unexpected EOF while parsing (<ipython-input-232-14a2a09d8e74>, line 1)",
     "output_type": "error",
     "traceback": [
      "\u001b[0;36m  File \u001b[0;32m\"<ipython-input-232-14a2a09d8e74>\"\u001b[0;36m, line \u001b[0;32m1\u001b[0m\n\u001b[0;31m    df_raw.groupby(#AUTHID, idex = false)\u001b[0m\n\u001b[0m                                         ^\u001b[0m\n\u001b[0;31mSyntaxError\u001b[0m\u001b[0;31m:\u001b[0m unexpected EOF while parsing\n"
     ]
    }
   ],
   "source": [
    "df_raw.groupby(#AUTHID, idex = false)"
   ]
  },
  {
   "cell_type": "markdown",
   "metadata": {},
   "source": [
    "# Summary Statistics & Descriptive Visualizations (Pandas and Matplotlib, etc)"
   ]
  },
  {
   "cell_type": "code",
   "execution_count": 233,
   "metadata": {
    "collapsed": true
   },
   "outputs": [],
   "source": [
    "### Plot network size"
   ]
  },
  {
   "cell_type": "markdown",
   "metadata": {},
   "source": [
    "### Printing the covaraiance matrix"
   ]
  },
  {
   "cell_type": "code",
   "execution_count": 238,
   "metadata": {
    "collapsed": false
   },
   "outputs": [
    {
     "data": {
      "text/plain": [
       "array([[ 0.44991636,  0.04948019,  0.11868526, -0.21926337,  0.06930046],\n",
       "       [ 0.04948019,  0.54791232,  0.12810945, -0.13474452,  0.03516567],\n",
       "       [ 0.11868526,  0.12810945,  0.74195493, -0.25243188,  0.10056692],\n",
       "       [-0.21926337, -0.13474452, -0.25243188,  0.60347227, -0.06037226],\n",
       "       [ 0.06930046,  0.03516567,  0.10056692, -0.06037226,  0.3306935 ]])"
      ]
     },
     "execution_count": 238,
     "metadata": {},
     "output_type": "execute_result"
    }
   ],
   "source": [
    "np.cov(np.vstack([x_agreeableness,x_conscientiousness,x_extroversion,x_neuroticism,x_openness]))\n"
   ]
  },
  {
   "cell_type": "markdown",
   "metadata": {},
   "source": [
    "### Perform Scatter plots (y vs. Xi) for each of the X's -- this suggest relationship"
   ]
  },
  {
   "cell_type": "markdown",
   "metadata": {},
   "source": [
    "### Check features for normality by using a density plot - plot normal on top of it. If it's not normal, then do some transformations on the features until they get to be normal"
   ]
  },
  {
   "cell_type": "markdown",
   "metadata": {},
   "source": [
    "# Testing (Regression)"
   ]
  },
  {
   "cell_type": "markdown",
   "metadata": {},
   "source": [
    "### Step 1a: (via intuition) Generate different models and provide explanations of why (avoid products, okay for squares and logs)"
   ]
  },
  {
   "cell_type": "markdown",
   "metadata": {},
   "source": [
    "### Step 1b: Algorithmly - go throuhg all the options and create them."
   ]
  },
  {
   "cell_type": "markdown",
   "metadata": {},
   "source": [
    "### Step 2: Separate Data into 3 groupings: training, cv, and \n",
    "- Create seed"
   ]
  },
  {
   "cell_type": "code",
   "execution_count": 241,
   "metadata": {
    "collapsed": false
   },
   "outputs": [],
   "source": [
    "from sklearn import cross_validation\n",
    "X_train, X_test, y_train, y_test = cross_validation.train_test_split(X, y_betweenness, test_size=0.4, random_state=0)"
   ]
  },
  {
   "cell_type": "code",
   "execution_count": null,
   "metadata": {
    "collapsed": false
   },
   "outputs": [],
   "source": []
  },
  {
   "cell_type": "markdown",
   "metadata": {},
   "source": [
    "### Step 3: Using the Training set, determine the best coefficients for each model... (Fitting a model -- sm.fit()))"
   ]
  },
  {
   "cell_type": "code",
   "execution_count": 242,
   "metadata": {
    "collapsed": false
   },
   "outputs": [
    {
     "data": {
      "text/html": [
       "<table class=\"simpletable\">\n",
       "<caption>OLS Regression Results</caption>\n",
       "<tr>\n",
       "  <th>Dep. Variable:</th>       <td>BETWEENNESS</td>   <th>  R-squared:         </th> <td>   0.184</td>\n",
       "</tr>\n",
       "<tr>\n",
       "  <th>Model:</th>                   <td>OLS</td>       <th>  Adj. R-squared:    </th> <td>   0.057</td>\n",
       "</tr>\n",
       "<tr>\n",
       "  <th>Method:</th>             <td>Least Squares</td>  <th>  F-statistic:       </th> <td>   1.453</td>\n",
       "</tr>\n",
       "<tr>\n",
       "  <th>Date:</th>             <td>Mon, 18 Apr 2016</td> <th>  Prob (F-statistic):</th>  <td> 0.110</td> \n",
       "</tr>\n",
       "<tr>\n",
       "  <th>Time:</th>                 <td>23:23:05</td>     <th>  Log-Likelihood:    </th> <td> -2015.1</td>\n",
       "</tr>\n",
       "<tr>\n",
       "  <th>No. Observations:</th>      <td>   150</td>      <th>  AIC:               </th> <td>   4072.</td>\n",
       "</tr>\n",
       "<tr>\n",
       "  <th>Df Residuals:</th>          <td>   129</td>      <th>  BIC:               </th> <td>   4135.</td>\n",
       "</tr>\n",
       "<tr>\n",
       "  <th>Df Model:</th>              <td>    20</td>      <th>                     </th>     <td> </td>   \n",
       "</tr>\n",
       "<tr>\n",
       "  <th>Covariance Type:</th>      <td>nonrobust</td>    <th>                     </th>     <td> </td>   \n",
       "</tr>\n",
       "</table>\n",
       "<table class=\"simpletable\">\n",
       "<tr>\n",
       "         <td></td>            <th>coef</th>     <th>std err</th>      <th>t</th>      <th>P>|t|</th> <th>[95.0% Conf. Int.]</th> \n",
       "</tr>\n",
       "<tr>\n",
       "  <th>Constant Term</th>   <td> 1.408e+06</td> <td> 1.75e+06</td> <td>    0.804</td> <td> 0.423</td> <td>-2.06e+06  4.87e+06</td>\n",
       "</tr>\n",
       "<tr>\n",
       "  <th>sEXT^1</th>          <td> 8.653e+04</td> <td>  2.9e+05</td> <td>    0.299</td> <td> 0.766</td> <td>-4.87e+05   6.6e+05</td>\n",
       "</tr>\n",
       "<tr>\n",
       "  <th>sNEU^1</th>          <td> 1.893e+05</td> <td> 3.39e+05</td> <td>    0.558</td> <td> 0.578</td> <td>-4.82e+05  8.61e+05</td>\n",
       "</tr>\n",
       "<tr>\n",
       "  <th>sAGR^1</th>          <td>-1.781e+05</td> <td> 4.16e+05</td> <td>   -0.428</td> <td> 0.669</td> <td>   -1e+06  6.45e+05</td>\n",
       "</tr>\n",
       "<tr>\n",
       "  <th>sCON^1</th>          <td>-2.687e+05</td> <td> 2.85e+05</td> <td>   -0.942</td> <td> 0.348</td> <td>-8.33e+05  2.96e+05</td>\n",
       "</tr>\n",
       "<tr>\n",
       "  <th>sOPN^1</th>          <td>-5.772e+05</td> <td> 3.78e+05</td> <td>   -1.527</td> <td> 0.129</td> <td>-1.33e+06  1.71e+05</td>\n",
       "</tr>\n",
       "<tr>\n",
       "  <th>sEXT^2</th>          <td> 8503.1872</td> <td> 2.32e+04</td> <td>    0.366</td> <td> 0.715</td> <td>-3.74e+04  5.44e+04</td>\n",
       "</tr>\n",
       "<tr>\n",
       "  <th>sEXT^1 x sNEU^1</th> <td>-2.545e+04</td> <td> 2.68e+04</td> <td>   -0.949</td> <td> 0.344</td> <td>-7.85e+04  2.76e+04</td>\n",
       "</tr>\n",
       "<tr>\n",
       "  <th>sEXT^1 x sAGR^1</th> <td>-1.232e+04</td> <td> 3.89e+04</td> <td>   -0.317</td> <td> 0.752</td> <td>-8.93e+04  6.46e+04</td>\n",
       "</tr>\n",
       "<tr>\n",
       "  <th>sEXT^1 x sCON^1</th> <td> 2.247e+04</td> <td> 2.72e+04</td> <td>    0.825</td> <td> 0.411</td> <td>-3.14e+04  7.64e+04</td>\n",
       "</tr>\n",
       "<tr>\n",
       "  <th>sEXT^1 x sOPN^1</th> <td>-1.454e+04</td> <td> 2.99e+04</td> <td>   -0.487</td> <td> 0.627</td> <td>-7.36e+04  4.45e+04</td>\n",
       "</tr>\n",
       "<tr>\n",
       "  <th>sNEU^2</th>          <td>-9507.1485</td> <td> 2.51e+04</td> <td>   -0.379</td> <td> 0.705</td> <td>-5.91e+04  4.01e+04</td>\n",
       "</tr>\n",
       "<tr>\n",
       "  <th>sNEU^1 x sAGR^1</th> <td>-4752.3801</td> <td> 3.86e+04</td> <td>   -0.123</td> <td> 0.902</td> <td>-8.12e+04  7.17e+04</td>\n",
       "</tr>\n",
       "<tr>\n",
       "  <th>sNEU^1 x sCON^1</th> <td> 2911.7070</td> <td> 2.94e+04</td> <td>    0.099</td> <td> 0.921</td> <td>-5.53e+04  6.12e+04</td>\n",
       "</tr>\n",
       "<tr>\n",
       "  <th>sNEU^1 x sOPN^1</th> <td>-1.346e+04</td> <td> 3.72e+04</td> <td>   -0.362</td> <td> 0.718</td> <td> -8.7e+04  6.01e+04</td>\n",
       "</tr>\n",
       "<tr>\n",
       "  <th>sAGR^2</th>          <td>  1.84e+04</td> <td> 3.58e+04</td> <td>    0.513</td> <td> 0.609</td> <td>-5.25e+04  8.93e+04</td>\n",
       "</tr>\n",
       "<tr>\n",
       "  <th>sAGR^1 x sCON^1</th> <td>  1.12e+04</td> <td> 4.01e+04</td> <td>    0.279</td> <td> 0.781</td> <td>-6.82e+04  9.06e+04</td>\n",
       "</tr>\n",
       "<tr>\n",
       "  <th>sAGR^1 x sOPN^1</th> <td> 2.424e+04</td> <td> 4.51e+04</td> <td>    0.537</td> <td> 0.592</td> <td> -6.5e+04  1.14e+05</td>\n",
       "</tr>\n",
       "<tr>\n",
       "  <th>sCON^2</th>          <td>-7905.6155</td> <td> 2.36e+04</td> <td>   -0.336</td> <td> 0.738</td> <td>-5.45e+04  3.87e+04</td>\n",
       "</tr>\n",
       "<tr>\n",
       "  <th>sCON^1 x sOPN^1</th> <td> 5.759e+04</td> <td> 3.14e+04</td> <td>    1.833</td> <td> 0.069</td> <td>-4580.092   1.2e+05</td>\n",
       "</tr>\n",
       "<tr>\n",
       "  <th>sOPN^2</th>          <td> 4.862e+04</td> <td> 3.54e+04</td> <td>    1.372</td> <td> 0.173</td> <td>-2.15e+04  1.19e+05</td>\n",
       "</tr>\n",
       "</table>\n",
       "<table class=\"simpletable\">\n",
       "<tr>\n",
       "  <th>Omnibus:</th>       <td>101.524</td> <th>  Durbin-Watson:     </th> <td>   1.658</td> \n",
       "</tr>\n",
       "<tr>\n",
       "  <th>Prob(Omnibus):</th> <td> 0.000</td>  <th>  Jarque-Bera (JB):  </th> <td> 661.249</td> \n",
       "</tr>\n",
       "<tr>\n",
       "  <th>Skew:</th>          <td> 2.476</td>  <th>  Prob(JB):          </th> <td>2.58e-144</td>\n",
       "</tr>\n",
       "<tr>\n",
       "  <th>Kurtosis:</th>      <td>12.015</td>  <th>  Cond. No.          </th> <td>6.08e+03</td> \n",
       "</tr>\n",
       "</table>"
      ],
      "text/plain": [
       "<class 'statsmodels.iolib.summary.Summary'>\n",
       "\"\"\"\n",
       "                            OLS Regression Results                            \n",
       "==============================================================================\n",
       "Dep. Variable:            BETWEENNESS   R-squared:                       0.184\n",
       "Model:                            OLS   Adj. R-squared:                  0.057\n",
       "Method:                 Least Squares   F-statistic:                     1.453\n",
       "Date:                Mon, 18 Apr 2016   Prob (F-statistic):              0.110\n",
       "Time:                        23:23:05   Log-Likelihood:                -2015.1\n",
       "No. Observations:                 150   AIC:                             4072.\n",
       "Df Residuals:                     129   BIC:                             4135.\n",
       "Df Model:                          20                                         \n",
       "Covariance Type:            nonrobust                                         \n",
       "===================================================================================\n",
       "                      coef    std err          t      P>|t|      [95.0% Conf. Int.]\n",
       "-----------------------------------------------------------------------------------\n",
       "Constant Term    1.408e+06   1.75e+06      0.804      0.423     -2.06e+06  4.87e+06\n",
       "sEXT^1           8.653e+04    2.9e+05      0.299      0.766     -4.87e+05   6.6e+05\n",
       "sNEU^1           1.893e+05   3.39e+05      0.558      0.578     -4.82e+05  8.61e+05\n",
       "sAGR^1          -1.781e+05   4.16e+05     -0.428      0.669        -1e+06  6.45e+05\n",
       "sCON^1          -2.687e+05   2.85e+05     -0.942      0.348     -8.33e+05  2.96e+05\n",
       "sOPN^1          -5.772e+05   3.78e+05     -1.527      0.129     -1.33e+06  1.71e+05\n",
       "sEXT^2           8503.1872   2.32e+04      0.366      0.715     -3.74e+04  5.44e+04\n",
       "sEXT^1 x sNEU^1 -2.545e+04   2.68e+04     -0.949      0.344     -7.85e+04  2.76e+04\n",
       "sEXT^1 x sAGR^1 -1.232e+04   3.89e+04     -0.317      0.752     -8.93e+04  6.46e+04\n",
       "sEXT^1 x sCON^1  2.247e+04   2.72e+04      0.825      0.411     -3.14e+04  7.64e+04\n",
       "sEXT^1 x sOPN^1 -1.454e+04   2.99e+04     -0.487      0.627     -7.36e+04  4.45e+04\n",
       "sNEU^2          -9507.1485   2.51e+04     -0.379      0.705     -5.91e+04  4.01e+04\n",
       "sNEU^1 x sAGR^1 -4752.3801   3.86e+04     -0.123      0.902     -8.12e+04  7.17e+04\n",
       "sNEU^1 x sCON^1  2911.7070   2.94e+04      0.099      0.921     -5.53e+04  6.12e+04\n",
       "sNEU^1 x sOPN^1 -1.346e+04   3.72e+04     -0.362      0.718      -8.7e+04  6.01e+04\n",
       "sAGR^2            1.84e+04   3.58e+04      0.513      0.609     -5.25e+04  8.93e+04\n",
       "sAGR^1 x sCON^1   1.12e+04   4.01e+04      0.279      0.781     -6.82e+04  9.06e+04\n",
       "sAGR^1 x sOPN^1  2.424e+04   4.51e+04      0.537      0.592      -6.5e+04  1.14e+05\n",
       "sCON^2          -7905.6155   2.36e+04     -0.336      0.738     -5.45e+04  3.87e+04\n",
       "sCON^1 x sOPN^1  5.759e+04   3.14e+04      1.833      0.069     -4580.092   1.2e+05\n",
       "sOPN^2           4.862e+04   3.54e+04      1.372      0.173     -2.15e+04  1.19e+05\n",
       "==============================================================================\n",
       "Omnibus:                      101.524   Durbin-Watson:                   1.658\n",
       "Prob(Omnibus):                  0.000   Jarque-Bera (JB):              661.249\n",
       "Skew:                           2.476   Prob(JB):                    2.58e-144\n",
       "Kurtosis:                      12.015   Cond. No.                     6.08e+03\n",
       "==============================================================================\n",
       "\n",
       "Warnings:\n",
       "[1] Standard Errors assume that the covariance matrix of the errors is correctly specified.\n",
       "[2] The condition number is large, 6.08e+03. This might indicate that there are\n",
       "strong multicollinearity or other numerical problems.\n",
       "\"\"\""
      ]
     },
     "execution_count": 242,
     "metadata": {},
     "output_type": "execute_result"
    }
   ],
   "source": [
    "import statsmodels.api as sm\n",
    "model = sm.OLS(y_train,X_train)\n",
    "results = model.fit()\n",
    "results.summary()"
   ]
  },
  {
   "cell_type": "markdown",
   "metadata": {},
   "source": [
    "### Step 4: Against the CV set, compare the cost functions for each of the models and choose which model is the best (predict... and then get the difference) + ALso compare the adjusted R squared for all of them"
   ]
  },
  {
   "cell_type": "markdown",
   "metadata": {},
   "source": [
    "### Step 5: Once the model is chosen, retrain that model using the combination of CV + Training"
   ]
  },
  {
   "cell_type": "markdown",
   "metadata": {},
   "source": [
    "### Step 6: Test your final model against your test set."
   ]
  },
  {
   "cell_type": "code",
   "execution_count": null,
   "metadata": {
    "collapsed": true
   },
   "outputs": [],
   "source": [
    "Diagnostic Tool #1:\n",
    "\n",
    "https://theclevermachine.files.wordpress.com/2013/04/bias-variance-train-test-error.png"
   ]
  },
  {
   "cell_type": "code",
   "execution_count": null,
   "metadata": {
    "collapsed": true
   },
   "outputs": [],
   "source": [
    "Diagnostic Tool #2\n",
    "### Step 7 - If you increase the size of your training set (from 0 to the full amount)\n",
    "http://www.bigdataexaminer.com/wp-content/uploads/2014/11/code-9.png"
   ]
  },
  {
   "cell_type": "markdown",
   "metadata": {},
   "source": [
    "# Analysis & Interpretations"
   ]
  },
  {
   "cell_type": "code",
   "execution_count": null,
   "metadata": {
    "collapsed": true
   },
   "outputs": [],
   "source": []
  },
  {
   "cell_type": "code",
   "execution_count": null,
   "metadata": {
    "collapsed": true
   },
   "outputs": [],
   "source": []
  },
  {
   "cell_type": "markdown",
   "metadata": {
    "collapsed": true
   },
   "source": [
    "# Next Steps"
   ]
  },
  {
   "cell_type": "code",
   "execution_count": null,
   "metadata": {
    "collapsed": true
   },
   "outputs": [],
   "source": [
    "Add sentiment analysis stuff\n",
    "# Create Repository called luther (?)\n",
    "\n",
    "# Extract out #auth & status updates\n",
    "\n",
    "# Generate some \"word usage\" variable per person (collapse all statuses into a single metric per person)\n",
    "\n",
    "# Add that metric to your model\n",
    "# See if that's representative for the centrality metrics."
   ]
  },
  {
   "cell_type": "code",
   "execution_count": 113,
   "metadata": {
    "collapsed": false
   },
   "outputs": [],
   "source": []
  },
  {
   "cell_type": "code",
   "execution_count": 206,
   "metadata": {
    "collapsed": false
   },
   "outputs": [
    {
     "name": "stdout",
     "output_type": "stream",
     "text": [
      "   0  1  2\n",
      "0  1  2  3\n",
      "1  1  2  3\n",
      "2  1  2  3\n"
     ]
    }
   ],
   "source": [
    "import pandas as pd\n",
    "import numpy as np\n",
    "from sklearn import preprocessing as pp\n",
    "\n",
    "a = np.ones(3)\n",
    "b = np.ones(3) * 2\n",
    "c = np.ones(3) * 3\n",
    "\n",
    "input_df = pd.DataFrame([a,b,c])\n",
    "input_df = input_df.T\n",
    "print blah_df\n",
    "blah_df.columns=['a', 'b', 'c']"
   ]
  },
  {
   "cell_type": "code",
   "execution_count": 207,
   "metadata": {
    "collapsed": false
   },
   "outputs": [
    {
     "data": {
      "text/html": [
       "<div>\n",
       "<table border=\"1\" class=\"dataframe\">\n",
       "  <thead>\n",
       "    <tr style=\"text-align: right;\">\n",
       "      <th></th>\n",
       "      <th>a</th>\n",
       "      <th>b</th>\n",
       "      <th>c</th>\n",
       "    </tr>\n",
       "  </thead>\n",
       "  <tbody>\n",
       "    <tr>\n",
       "      <th>0</th>\n",
       "      <td>1</td>\n",
       "      <td>2</td>\n",
       "      <td>3</td>\n",
       "    </tr>\n",
       "    <tr>\n",
       "      <th>1</th>\n",
       "      <td>1</td>\n",
       "      <td>2</td>\n",
       "      <td>3</td>\n",
       "    </tr>\n",
       "    <tr>\n",
       "      <th>2</th>\n",
       "      <td>1</td>\n",
       "      <td>2</td>\n",
       "      <td>3</td>\n",
       "    </tr>\n",
       "  </tbody>\n",
       "</table>\n",
       "</div>"
      ],
      "text/plain": [
       "   a  b  c\n",
       "0  1  2  3\n",
       "1  1  2  3\n",
       "2  1  2  3"
      ]
     },
     "execution_count": 207,
     "metadata": {},
     "output_type": "execute_result"
    }
   ],
   "source": [
    "blah_df"
   ]
  },
  {
   "cell_type": "code",
   "execution_count": null,
   "metadata": {
    "collapsed": false
   },
   "outputs": [],
   "source": []
  },
  {
   "cell_type": "code",
   "execution_count": 135,
   "metadata": {
    "collapsed": false
   },
   "outputs": [],
   "source": [
    "poly = pp.PolynomialFeatures(2)\n",
    "output_nparray = poly.fit_transform(blah_df)"
   ]
  },
  {
   "cell_type": "code",
   "execution_count": 130,
   "metadata": {
    "collapsed": true
   },
   "outputs": [],
   "source": [
    "input_df = pd.DataFrame([a,b,c], columns=['a', 'b', 'c'])\n",
    "feature_names = input_df.columns"
   ]
  },
  {
   "cell_type": "code",
   "execution_count": 131,
   "metadata": {
    "collapsed": false
   },
   "outputs": [],
   "source": [
    "feature_names = input_df.columns"
   ]
  },
  {
   "cell_type": "code",
   "execution_count": 133,
   "metadata": {
    "collapsed": false
   },
   "outputs": [
    {
     "name": "stdout",
     "output_type": "stream",
     "text": [
      "<type 'numpy.ndarray'>\n"
     ]
    }
   ],
   "source": [
    "print type(output_df)"
   ]
  },
  {
   "cell_type": "code",
   "execution_count": null,
   "metadata": {
    "collapsed": true
   },
   "outputs": [],
   "source": [
    "poly = pp.PolynomialFeatures(2)\n",
    "poly.fit_transform(x_individuals)\n",
    "poly.powers_"
   ]
  },
  {
   "cell_type": "code",
   "execution_count": 189,
   "metadata": {
    "collapsed": false
   },
   "outputs": [
    {
     "name": "stdout",
     "output_type": "stream",
     "text": [
      "0\n"
     ]
    }
   ],
   "source": []
  },
  {
   "cell_type": "code",
   "execution_count": null,
   "metadata": {
    "collapsed": true
   },
   "outputs": [],
   "source": []
  },
  {
   "cell_type": "code",
   "execution_count": 209,
   "metadata": {
    "collapsed": false
   },
   "outputs": [
    {
     "name": "stdout",
     "output_type": "stream",
     "text": [
      "   Constant Term  a^1  b^1  c^1  a^2  a^1 x b^1  a^1 x c^1  b^2  b^1 x c^1  \\\n",
      "0              1    1    2    3    1          2          3    4          6   \n",
      "1              1    1    2    3    1          2          3    4          6   \n",
      "2              1    1    2    3    1          2          3    4          6   \n",
      "\n",
      "   c^2  a^3  a^2 x b^1  a^2 x c^1  a^1 x b^2  a^1 x b^1 x c^1  a^1 x c^2  b^3  \\\n",
      "0    9    1          2          3          4                6          9    8   \n",
      "1    9    1          2          3          4                6          9    8   \n",
      "2    9    1          2          3          4                6          9    8   \n",
      "\n",
      "   b^2 x c^1  b^1 x c^2  c^3  \n",
      "0         12         18   27  \n",
      "1         12         18   27  \n",
      "2         12         18   27  \n"
     ]
    }
   ],
   "source": [
    "#??? What's the best way to write this function? WHat are the ideal inputs and outputs?\n",
    "\n",
    "\n",
    "def PolynomialFeatures_labeled(input_df,power):\n",
    "    '''Basically\n",
    "    \n",
    "    Input = the input to poly.fit_transform\n",
    "    Output_df = the thing which is the result of poly.fit_transform(blah_df)\n",
    "    It basically outputs output_nparray as a labeled dataframe\n",
    "    '''\n",
    "    poly = pp.PolynomialFeatures(power)\n",
    "    output_nparray = poly.fit_transform(input_df)\n",
    "    powers_nparray = poly.powers_\n",
    "    \n",
    "    \n",
    "    input_feature_names = list(input_df.columns)\n",
    "    #print input_feature_names\n",
    "    target_feature_names = [\"Constant Term\"]\n",
    "    #print output_nparray\n",
    "    #print target_feature_names\n",
    "    #print powers_nparray[1:]\n",
    "    \n",
    "    # Iterate across them\n",
    "    # (Powers) If it's 0, move on. 1 leave as is.\n",
    "    # (Multipliers)\n",
    "    for feature_distillation in powers_nparray[1:]:\n",
    "        #print feature_distillation\n",
    "        intermediary_label = \"\"\n",
    "        final_label = \"\"\n",
    "        for i in range(len(input_feature_names)):\n",
    "\n",
    "            if feature_distillation[i] == 0:\n",
    "                continue\n",
    "            else:\n",
    "                variable = input_feature_names[i]\n",
    "                power = feature_distillation[i]\n",
    "                intermediary_label = \"%s^%d\"%(variable,power)\n",
    "                #print \"intermediary: \", intermediary_label\n",
    "                #print len(final_label)\n",
    "                if final_label == \"\":         #If the final label isn't yet specified\n",
    "                    final_label = intermediary_label\n",
    "                    #print \"final: \", final_label\n",
    "                else:\n",
    "                    final_label = final_label + \" x \" + intermediary_label\n",
    "                    #print \"final: \", final_label\n",
    "        target_feature_names.append(final_label)\n",
    "#    print target_feature_names\n",
    "    import pandas as pd\n",
    "    output_df = pd.DataFrame(output_nparray, columns = target_feature_names)\n",
    "    return output_df\n",
    "            \n",
    "blah = PolynomialFeatures_labeled(blah_df,3)\n",
    "print blah"
   ]
  },
  {
   "cell_type": "code",
   "execution_count": 214,
   "metadata": {
    "collapsed": false
   },
   "outputs": [
    {
     "name": "stdout",
     "output_type": "stream",
     "text": [
      "   a  b  c\n",
      "0  1  2  3\n",
      "1  1  2  3\n",
      "2  1  2  3\n",
      "<class 'pandas.core.frame.DataFrame'>\n",
      "   Constant Term  a^1  b^1  c^1  a^2  a^1 x b^1  a^1 x c^1  b^2  b^1 x c^1  \\\n",
      "0              1    1    2    3    1          2          3    4          6   \n",
      "1              1    1    2    3    1          2          3    4          6   \n",
      "2              1    1    2    3    1          2          3    4          6   \n",
      "\n",
      "   c^2  a^3  a^2 x b^1  a^2 x c^1  a^1 x b^2  a^1 x b^1 x c^1  a^1 x c^2  b^3  \\\n",
      "0    9    1          2          3          4                6          9    8   \n",
      "1    9    1          2          3          4                6          9    8   \n",
      "2    9    1          2          3          4                6          9    8   \n",
      "\n",
      "   b^2 x c^1  b^1 x c^2  c^3  \n",
      "0         12         18   27  \n",
      "1         12         18   27  \n",
      "2         12         18   27  \n"
     ]
    }
   ],
   "source": [
    "#??? What's the best way to write this function? WHat are the ideal inputs and outputs?\n",
    "\n",
    "\n",
    "def PolynomialFeatures_labeled(input_df,power):\n",
    "    '''Basically this is a cover for the sklearn preprocessing function. \n",
    "    The problem with that function is if you give it a labeled dataframe, it ouputs an unlabeled dataframe with potentially\n",
    "    a whole bunch of unlabeled columns. \n",
    "    \n",
    "    Inputs:\n",
    "    input_df = Your labeled pandas dataframe (list of x's not raised to any power) \n",
    "    power = what order polynomial you want variables up to. (use the same power as you want entered into pp.PolynomialFeatures(power) directly)\n",
    "    \n",
    "    Ouput:\n",
    "    Output: This function relies on the powers_ matrix which is one of the preprocessing function's outputs to create logical labels and \n",
    "    outputs a labeled pandas dataframe   \n",
    "    '''\n",
    "    poly = pp.PolynomialFeatures(power)\n",
    "    output_nparray = poly.fit_transform(input_df)\n",
    "    powers_nparray = poly.powers_\n",
    "    \n",
    "    input_feature_names = list(input_df.columns)\n",
    "    target_feature_names = [\"Constant Term\"]\n",
    "    for feature_distillation in powers_nparray[1:]:\n",
    "        intermediary_label = \"\"\n",
    "        final_label = \"\"\n",
    "        for i in range(len(input_feature_names)):\n",
    "            if feature_distillation[i] == 0:\n",
    "                continue\n",
    "            else:\n",
    "                variable = input_feature_names[i]\n",
    "                power = feature_distillation[i]\n",
    "                intermediary_label = \"%s^%d\" % (variable,power)\n",
    "                if final_label == \"\":         #If the final label isn't yet specified\n",
    "                    final_label = intermediary_label\n",
    "                else:\n",
    "                    final_label = final_label + \" x \" + intermediary_label\n",
    "        target_feature_names.append(final_label)\n",
    "    output_df = pd.DataFrame(output_nparray, columns = target_feature_names)\n",
    "    return output_df\n",
    "\n",
    "\n",
    "print blah_df\n",
    "\n",
    "output_df = PolynomialFeatures_labeled(blah_df,3)\n",
    "print type(output_df)\n",
    "print output_df"
   ]
  },
  {
   "cell_type": "code",
   "execution_count": 149,
   "metadata": {
    "collapsed": false
   },
   "outputs": [
    {
     "name": "stdout",
     "output_type": "stream",
     "text": [
      "Index([u'a', u'b', u'c'], dtype='object')\n",
      "[[ 1.  1.  1.  1.  1.  1.  1.  1.  1.  1.]\n",
      " [ 1.  2.  2.  2.  4.  4.  4.  4.  4.  4.]\n",
      " [ 1.  3.  3.  3.  9.  9.  9.  9.  9.  9.]]\n",
      "['Constant Term']\n",
      "[[0 0 0]\n",
      " [1 0 0]\n",
      " [0 1 0]\n",
      " [0 0 1]\n",
      " [2 0 0]\n",
      " [1 1 0]\n",
      " [1 0 1]\n",
      " [0 2 0]\n",
      " [0 1 1]\n",
      " [0 0 2]]\n"
     ]
    }
   ],
   "source": [
    "PolynomialFeatures_labeled(input_df,2)"
   ]
  },
  {
   "cell_type": "code",
   "execution_count": null,
   "metadata": {
    "collapsed": true
   },
   "outputs": [],
   "source": []
  }
 ],
 "metadata": {
  "kernelspec": {
   "display_name": "Python 2",
   "language": "python",
   "name": "python2"
  },
  "language_info": {
   "codemirror_mode": {
    "name": "ipython",
    "version": 2
   },
   "file_extension": ".py",
   "mimetype": "text/x-python",
   "name": "python",
   "nbconvert_exporter": "python",
   "pygments_lexer": "ipython2",
   "version": "2.7.11"
  }
 },
 "nbformat": 4,
 "nbformat_minor": 0
}
