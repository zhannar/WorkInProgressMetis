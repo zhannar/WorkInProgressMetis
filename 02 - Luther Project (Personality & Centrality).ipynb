{
 "cells": [
  {
   "cell_type": "markdown",
   "metadata": {},
   "source": [
    "# Luther Problem Statement\n",
    "Source: https://github.com/thisismetis/nyc16_ds7/tree/master/projects/02-luther"
   ]
  },
  {
   "cell_type": "markdown",
   "metadata": {},
   "source": [
    "Back story:\n",
    "\n",
    "Using information we scrape from the web, can we build linear regression models from which we can learn about the movie industry?\n",
    "\n",
    "Data:\n",
    "\n",
    "acquisition: web scraping\n",
    "storage: flat files\n",
    "sources: Box Office Mojo, The Numbers, any other publicly available information\n",
    "Skills:\n",
    "\n",
    "basics of the web (requests, HTML, CSS, JavaScript)\n",
    "web scraping\n",
    "numpy and pandas\n",
    "statsmodels, scikit-learn\n",
    "Analysis:\n",
    "\n",
    "linear regression\n",
    "Deliverable/communication:\n",
    "\n",
    "organized project repository\n",
    "slide presentation\n",
    "visual and oral communication in presentations\n",
    "write-up of process and results\n",
    "Design:\n",
    "\n",
    "iterative design process\n",
    "scoping\n",
    "\"MVP\"s and building outward\n",
    "More information:\n",
    "\n",
    "We'll learn about web scraping using two popular tools - BeautifulSoup and Selenium. You'll have to know the very basics of HTML. We'll also be evolving the way we use IPython notebooks—during this project we'll begin to use the notebook as a development scratchpad, where we test things out through interactive scripting, but then solidify our work in python modules with reusable functions and classes.\n",
    "\n",
    "We'll practice using linear regression. We'll have a first taste of feature selection, this time based on our intuition and some trial and error, and we'll build and refine our models.\n",
    "\n",
    "We'll work in groups for brainstorming and design, and code sharing will be highly encouraged, but the final projects will be individual.\n",
    "\n",
    "This project will really give you the freedom to challenge yourself, no matter your skill level. Find your boundaries, meet them, and push them a little further.\n",
    "\n",
    "We are very excited to see what you will learn and do for Project Luther!"
   ]
  },
  {
   "cell_type": "markdown",
   "metadata": {},
   "source": [
    "# Luther Project Summary Statement\n",
    "Here I describe where I got my data. What my hypothesis is all about\n",
    "Introduction explaining the study and source of the day. And what terms mean"
   ]
  },
  {
   "cell_type": "markdown",
   "metadata": {},
   "source": [
    "# Background Information on Variables"
   ]
  },
  {
   "cell_type": "markdown",
   "metadata": {},
   "source": [
    "http://research.microsoft.com/pubs/163535/FacebookPersonality_michal_29_04_12.pdf"
   ]
  },
  {
   "cell_type": "markdown",
   "metadata": {},
   "source": [
    "# Import Data"
   ]
  },
  {
   "cell_type": "code",
   "execution_count": null,
   "metadata": {
    "collapsed": true
   },
   "outputs": [],
   "source": [
    "import pandas as pd\n",
    "data = pd.read_csv('http://domain.com/passkey=wedsmdjsjmdd')"
   ]
  },
  {
   "cell_type": "markdown",
   "metadata": {},
   "source": [
    "# Clean Data as Necesesary"
   ]
  },
  {
   "cell_type": "markdown",
   "metadata": {},
   "source": [
    "# Summary Statistics & Descriptive Visualizations"
   ]
  },
  {
   "cell_type": "markdown",
   "metadata": {},
   "source": [
    "### Perform Scatter plots (y vs. Xi) for each of the X's -- this suggest relationship"
   ]
  },
  {
   "cell_type": "markdown",
   "metadata": {},
   "source": [
    "### Check features for normality by using a density plot - plot normal on top of it. If it's not normal, then do some transformations on the features until they get to be normal"
   ]
  },
  {
   "cell_type": "markdown",
   "metadata": {},
   "source": [
    "# Testing (Regression)"
   ]
  },
  {
   "cell_type": "markdown",
   "metadata": {},
   "source": [
    "### Step 1: Generate different models and provide explanations of why"
   ]
  },
  {
   "cell_type": "markdown",
   "metadata": {},
   "source": [
    "### Step 2: Separate Data into 3 groupings: training, cv, and \n",
    "- Create seed"
   ]
  },
  {
   "cell_type": "markdown",
   "metadata": {},
   "source": [
    "### Step 3: Using the Training set, determine the best coefficients for each model... (Fitting a model -- sm.fit()))"
   ]
  },
  {
   "cell_type": "markdown",
   "metadata": {},
   "source": [
    "### Step 4: Against the CV set, compare the cost functions for each of the models and choose which model is the best (predict... and then get the difference) + "
   ]
  },
  {
   "cell_type": "markdown",
   "metadata": {},
   "source": [
    "### Step 5: Once the model is chosen, retrain that model using the combination of CV + Training"
   ]
  },
  {
   "cell_type": "markdown",
   "metadata": {},
   "source": [
    "### Step 6: Test your final model against your test set."
   ]
  },
  {
   "cell_type": "code",
   "execution_count": null,
   "metadata": {
    "collapsed": true
   },
   "outputs": [],
   "source": []
  },
  {
   "cell_type": "markdown",
   "metadata": {},
   "source": [
    "# Analysis & Interpretations"
   ]
  },
  {
   "cell_type": "code",
   "execution_count": null,
   "metadata": {
    "collapsed": true
   },
   "outputs": [],
   "source": []
  },
  {
   "cell_type": "code",
   "execution_count": null,
   "metadata": {
    "collapsed": true
   },
   "outputs": [],
   "source": []
  },
  {
   "cell_type": "code",
   "execution_count": null,
   "metadata": {
    "collapsed": true
   },
   "outputs": [],
   "source": []
  }
 ],
 "metadata": {
  "kernelspec": {
   "display_name": "Python 2",
   "language": "python",
   "name": "python2"
  },
  "language_info": {
   "codemirror_mode": {
    "name": "ipython",
    "version": 2
   },
   "file_extension": ".py",
   "mimetype": "text/x-python",
   "name": "python",
   "nbconvert_exporter": "python",
   "pygments_lexer": "ipython2",
   "version": "2.7.11"
  }
 },
 "nbformat": 4,
 "nbformat_minor": 0
}
