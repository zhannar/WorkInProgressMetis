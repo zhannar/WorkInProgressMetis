{
 "cells": [
  {
   "cell_type": "code",
   "execution_count": 1,
   "metadata": {
    "collapsed": false
   },
   "outputs": [],
   "source": [
    "from __future__ import division\n",
    "import csv\n",
    "from datetime import datetime\n",
    "from collections import Counter"
   ]
  },
  {
   "cell_type": "code",
   "execution_count": 2,
   "metadata": {
    "collapsed": false
   },
   "outputs": [],
   "source": [
    "#!curl -O http://web.mta.info/developers/data/nyct/turnstile/turnstile_150627.txt"
   ]
  },
  {
   "cell_type": "code",
   "execution_count": 3,
   "metadata": {
    "collapsed": false
   },
   "outputs": [],
   "source": [
    "with open('turnstile_160319.txt') as f:    #open the link to the data\n",
    "    reader = csv.reader(f)    #read in the data\n",
    "    rows = [[cell.strip() for cell in row] for row in reader]    #loop over the rows and witin the rows to extract the data and remove any whitespace from the beginning and end"
   ]
  },
  {
   "cell_type": "code",
   "execution_count": 4,
   "metadata": {
    "collapsed": false
   },
   "outputs": [],
   "source": [
    "assert rows.pop(0) == ['C/A', 'UNIT', 'SCP', 'STATION', 'LINENAME',\n",
    "                       'DIVISION', 'DATE', 'TIME', 'DESC', 'ENTRIES',\n",
    "                       'EXITS']    #check to make sure that we have the correct variable names"
   ]
  },
  {
   "cell_type": "code",
   "execution_count": 5,
   "metadata": {
    "collapsed": true
   },
   "outputs": [],
   "source": [
    "raw_readings = {}    #an empty dictionary\n",
    "for row in rows[0:100]:    #loop over the elements in the list rows\n",
    "    raw_readings.setdefault(tuple(row[:4]), []).append(tuple(row[4:]))    #loop over the rows, add new keys to the dictionary when the row info is not already present, append to existing data when it is"
   ]
  },
  {
   "cell_type": "code",
   "execution_count": 6,
   "metadata": {
    "collapsed": false
   },
   "outputs": [],
   "source": [
    "#raw_readings.keys()    #the dictionary raw_readings solves challenge 1"
   ]
  },
  {
   "cell_type": "code",
   "execution_count": 7,
   "metadata": {
    "collapsed": true
   },
   "outputs": [],
   "source": [
    "datetime_cumulative = {turnstile: [(datetime.strptime(date + time,'%m/%d/%Y%X'),int(in_cumulative))\n",
    "                                   for _, _, date, time,_, in_cumulative, _ in rows]\n",
    "                       for turnstile, rows in raw_readings.items()}    #make a new dictionary; the keys will be the turnstiles, and each will have a list of tuples consisting of date and cumulative total"
   ]
  },
  {
   "cell_type": "code",
   "execution_count": 9,
   "metadata": {
    "collapsed": false
   },
   "outputs": [],
   "source": [
    "for rows in datetime_cumulative.values():    #loop over the time series\n",
    "    assert rows == sorted(rows)    #and ensure that each is in the correct order in time - note that tuples are sorted by first element"
   ]
  },
  {
   "cell_type": "code",
   "execution_count": 10,
   "metadata": {
    "collapsed": false
   },
   "outputs": [
    {
     "name": "stdout",
     "output_type": "stream",
     "text": [
      "('A002', 'R051', '02-00-00', '59 ST') [(datetime.datetime(2016, 3, 12, 3, 0), 5583673), (datetime.datetime(2016, 3, 12, 7, 0), 5583689), (datetime.datetime(2016, 3, 12, 11, 0), 5583785), (datetime.datetime(2016, 3, 12, 15, 0), 5584037), (datetime.datetime(2016, 3, 12, 19, 0), 5584482), (datetime.datetime(2016, 3, 12, 23, 0), 5584768), (datetime.datetime(2016, 3, 13, 4, 0), 5584835), (datetime.datetime(2016, 3, 13, 8, 0), 5584851), (datetime.datetime(2016, 3, 13, 12, 0), 5584909), (datetime.datetime(2016, 3, 13, 16, 0), 5585119), (datetime.datetime(2016, 3, 13, 20, 0), 5585346), (datetime.datetime(2016, 3, 14, 0, 0), 5585473), (datetime.datetime(2016, 3, 14, 4, 0), 5585482), (datetime.datetime(2016, 3, 14, 8, 0), 5585531), (datetime.datetime(2016, 3, 14, 12, 0), 5585680), (datetime.datetime(2016, 3, 14, 16, 0), 5585933), (datetime.datetime(2016, 3, 14, 20, 0), 5586481), (datetime.datetime(2016, 3, 15, 0, 0), 5586640), (datetime.datetime(2016, 3, 15, 4, 0), 5586649), (datetime.datetime(2016, 3, 15, 8, 0), 5586694), (datetime.datetime(2016, 3, 15, 12, 0), 5586796), (datetime.datetime(2016, 3, 15, 16, 0), 5587096), (datetime.datetime(2016, 3, 15, 20, 0), 5587516), (datetime.datetime(2016, 3, 16, 0, 0), 5587644), (datetime.datetime(2016, 3, 16, 4, 0), 5587644), (datetime.datetime(2016, 3, 16, 8, 0), 5587674), (datetime.datetime(2016, 3, 16, 12, 0), 5587710), (datetime.datetime(2016, 3, 16, 16, 0), 5587966), (datetime.datetime(2016, 3, 16, 20, 0), 5588468), (datetime.datetime(2016, 3, 17, 0, 0), 5588611), (datetime.datetime(2016, 3, 17, 4, 0), 5588623), (datetime.datetime(2016, 3, 17, 8, 0), 5588671), (datetime.datetime(2016, 3, 17, 12, 0), 5588718), (datetime.datetime(2016, 3, 17, 16, 0), 5588864), (datetime.datetime(2016, 3, 17, 20, 0), 5589445), (datetime.datetime(2016, 3, 18, 0, 0), 5589621), (datetime.datetime(2016, 3, 18, 4, 0), 5589621), (datetime.datetime(2016, 3, 18, 8, 0), 5589662), (datetime.datetime(2016, 3, 18, 12, 0), 5589769), (datetime.datetime(2016, 3, 18, 16, 0), 5590056), (datetime.datetime(2016, 3, 18, 20, 0), 5590568)]\n",
      "\n",
      "('A002', 'R051', '02-00-01', '59 ST') [(datetime.datetime(2016, 3, 12, 3, 0), 5132898), (datetime.datetime(2016, 3, 12, 7, 0), 5132906), (datetime.datetime(2016, 3, 12, 11, 0), 5132977), (datetime.datetime(2016, 3, 12, 15, 0), 5133224), (datetime.datetime(2016, 3, 12, 19, 0), 5133620), (datetime.datetime(2016, 3, 12, 23, 0), 5133833), (datetime.datetime(2016, 3, 13, 4, 0), 5133882), (datetime.datetime(2016, 3, 13, 8, 0), 5133893), (datetime.datetime(2016, 3, 13, 12, 0), 5133946), (datetime.datetime(2016, 3, 13, 16, 0), 5134127), (datetime.datetime(2016, 3, 13, 20, 0), 5134353), (datetime.datetime(2016, 3, 14, 0, 0), 5134456), (datetime.datetime(2016, 3, 14, 4, 0), 5134470), (datetime.datetime(2016, 3, 14, 8, 0), 5134519), (datetime.datetime(2016, 3, 14, 12, 0), 5134659), (datetime.datetime(2016, 3, 14, 16, 0), 5134887), (datetime.datetime(2016, 3, 14, 20, 0), 5135464), (datetime.datetime(2016, 3, 15, 0, 0), 5135640), (datetime.datetime(2016, 3, 15, 4, 0), 5135650), (datetime.datetime(2016, 3, 15, 8, 0), 5135692), (datetime.datetime(2016, 3, 15, 12, 0), 5135820), (datetime.datetime(2016, 3, 15, 16, 0), 5136082), (datetime.datetime(2016, 3, 15, 20, 0), 5136479), (datetime.datetime(2016, 3, 16, 0, 0), 5136589), (datetime.datetime(2016, 3, 16, 4, 0), 5136589), (datetime.datetime(2016, 3, 16, 8, 0), 5136619), (datetime.datetime(2016, 3, 16, 12, 0), 5136654), (datetime.datetime(2016, 3, 16, 16, 0), 5136900), (datetime.datetime(2016, 3, 16, 20, 0), 5137407), (datetime.datetime(2016, 3, 17, 0, 0), 5137505), (datetime.datetime(2016, 3, 17, 4, 0), 5137518), (datetime.datetime(2016, 3, 17, 8, 0), 5137569), (datetime.datetime(2016, 3, 17, 12, 0), 5137640), (datetime.datetime(2016, 3, 17, 16, 0), 5137759), (datetime.datetime(2016, 3, 17, 20, 0), 5138298), (datetime.datetime(2016, 3, 18, 0, 0), 5138424), (datetime.datetime(2016, 3, 18, 4, 0), 5138424), (datetime.datetime(2016, 3, 18, 8, 0), 5138468), (datetime.datetime(2016, 3, 18, 12, 0), 5138552), (datetime.datetime(2016, 3, 18, 16, 0), 5138798), (datetime.datetime(2016, 3, 18, 20, 0), 5139316)]\n",
      "\n",
      "('A002', 'R051', '02-03-00', '59 ST') [(datetime.datetime(2016, 3, 12, 3, 0), 662624), (datetime.datetime(2016, 3, 12, 7, 0), 662632), (datetime.datetime(2016, 3, 12, 11, 0), 662672), (datetime.datetime(2016, 3, 12, 15, 0), 662756), (datetime.datetime(2016, 3, 12, 19, 0), 662906), (datetime.datetime(2016, 3, 12, 23, 0), 663028), (datetime.datetime(2016, 3, 13, 4, 0), 663065), (datetime.datetime(2016, 3, 13, 8, 0), 663069), (datetime.datetime(2016, 3, 13, 12, 0), 663088), (datetime.datetime(2016, 3, 13, 16, 0), 663175), (datetime.datetime(2016, 3, 13, 20, 0), 663324), (datetime.datetime(2016, 3, 14, 0, 0), 663402), (datetime.datetime(2016, 3, 14, 4, 0), 663411), (datetime.datetime(2016, 3, 14, 8, 0), 663429), (datetime.datetime(2016, 3, 14, 12, 0), 663466), (datetime.datetime(2016, 3, 14, 16, 0), 663575), (datetime.datetime(2016, 3, 14, 20, 0), 663997), (datetime.datetime(2016, 3, 15, 0, 0), 664087)]\n",
      "\n"
     ]
    }
   ],
   "source": [
    "count = 0\n",
    "for key, value in datetime_cumulative.iteritems():\n",
    "    if count > 5:\n",
    "        break\n",
    "    count += 1\n",
    "    print key,value\n",
    "    print"
   ]
  },
  {
   "cell_type": "code",
   "execution_count": null,
   "metadata": {
    "collapsed": true
   },
   "outputs": [],
   "source": []
  },
  {
   "cell_type": "code",
   "execution_count": 13,
   "metadata": {
    "collapsed": false
   },
   "outputs": [],
   "source": [
    "datetime_count_times = {turnstile: [[rows[i][0],\n",
    "                                     rows[i+1][1] - rows[i][1],\n",
    "                                     rows[i+1][0] - rows[i][0]]\n",
    "                                    for i in range(len(rows) - 1)]\n",
    "                        for turnstile, rows in datetime_cumulative.items()}    #make a new dictionary; keys will be the turnstiles, each will have a list of lists, each of which will give date, change in entries from last time, and elasped time"
   ]
  },
  {
   "cell_type": "code",
   "execution_count": 14,
   "metadata": {
    "collapsed": false
   },
   "outputs": [],
   "source": [
    "#datetime_count_times"
   ]
  },
  {
   "cell_type": "code",
   "execution_count": 15,
   "metadata": {
    "collapsed": false
   },
   "outputs": [],
   "source": [
    "datetime_counts = {turnstile: [(time, count)\n",
    "                               for (time, count, _) in rows\n",
    "                               if 0 <= count <= 5000]\n",
    "                   for turnstile, rows in datetime_count_times.items()}    #make one more dictionary; keys will be turnstiles, each will have a list of lists with date and change in entries"
   ]
  },
  {
   "cell_type": "code",
   "execution_count": 67,
   "metadata": {
    "collapsed": false
   },
   "outputs": [],
   "source": [
    "#datetime_counts.keys()    #the dictionary datetime_counts solves challenge 2"
   ]
  },
  {
   "cell_type": "code",
   "execution_count": 76,
   "metadata": {
    "collapsed": true
   },
   "outputs": [],
   "source": [
    "day_counts = {}    #an empty dictionary to hold the total counts\n",
    "for turnstile, rows in datetime_counts.items():    #loop over key/data pairs in datetime_counts\n",
    "    by_day = {}    #for each make a new empty dictionary\n",
    "    for time, count in rows:    #loop over the time and the count\n",
    "        day = time.date()    #keep only the day info\n",
    "        by_day[day] = by_day.get(day, 0) + count    #pull out the data associated with key <day> and add the count to it - if <day> is in the dictionary return 0\n",
    "    day_counts[turnstile] = sorted(by_day.items())    #save the count by turnstile in the dictionary"
   ]
  },
  {
   "cell_type": "code",
   "execution_count": 80,
   "metadata": {
    "collapsed": false
   },
   "outputs": [],
   "source": [
    "#day_counts.items()    #the dictionary day_counts solves challenge 3"
   ]
  },
  {
   "cell_type": "code",
   "execution_count": null,
   "metadata": {
    "collapsed": true
   },
   "outputs": [],
   "source": []
  }
 ],
 "metadata": {
  "kernelspec": {
   "display_name": "Python 2",
   "language": "python",
   "name": "python2"
  },
  "language_info": {
   "codemirror_mode": {
    "name": "ipython",
    "version": 2
   },
   "file_extension": ".py",
   "mimetype": "text/x-python",
   "name": "python",
   "nbconvert_exporter": "python",
   "pygments_lexer": "ipython2",
   "version": "2.7.11"
  }
 },
 "nbformat": 4,
 "nbformat_minor": 0
}
