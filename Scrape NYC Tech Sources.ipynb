{
 "cells": [
  {
   "cell_type": "markdown",
   "metadata": {},
   "source": [
    "# What needs to be done (general plan):"
   ]
  },
  {
   "cell_type": "markdown",
   "metadata": {},
   "source": [
    "# On: http://www.digital.nyc/startups\n",
    "- http://www.digital.nyc/startups\n",
    "- http://www.digital.nyc/startups?page=1\n",
    "- http://www.digital.nyc/startups?page=380\n",
    "\n",
    "# Out of each page, extract out:\n",
    "- Startup name : Next Island LLC\n",
    "- Website on the digital thing: http://www.digital.nyc/startups/next-island-llc\n",
    "\n",
    "# Go to the website: e.g. \n",
    "- http://www.digital.nyc/startups/next-island-llc\n",
    "\n",
    "# Pull the \"Script\" via beautiful soup:\n",
    "- <script>jQuery.extend(Drupal.settings, ...\n",
    "\n",
    "# Select out the lat & long values\n",
    "\"center\":{\"lat\":\"\",\"lon\":\"\",\"geocode\":\"Find my location\"}},\"data\":{\"type\":\"Point\",\"coordinates\":[-74.006,40.7144],\""
   ]
  },
  {
   "cell_type": "markdown",
   "metadata": {},
   "source": [
    "# Doing the work"
   ]
  },
  {
   "cell_type": "markdown",
   "metadata": {},
   "source": [
    "## Import Directories"
   ]
  },
  {
   "cell_type": "code",
   "execution_count": 36,
   "metadata": {
    "collapsed": false
   },
   "outputs": [],
   "source": [
    "import requests\n",
    "import json\n",
    "from bs4 import BeautifulSoup\n",
    "import pprint"
   ]
  },
  {
   "cell_type": "code",
   "execution_count": 80,
   "metadata": {
    "collapsed": true
   },
   "outputs": [],
   "source": [
    "url = \"http://www.boxofficemojo.com/intl/china/yearly/?yr=2015&p=.htm\""
   ]
  },
  {
   "cell_type": "code",
   "execution_count": 81,
   "metadata": {
    "collapsed": true
   },
   "outputs": [],
   "source": [
    "def extract_location_data(url):\n",
    "    response = requests.get(url)\n",
    "    page_html = response.text\n",
    "    soup = BeautifulSoup(page_html)\n",
    "    \n",
    "    # Retrieve all of the script tags\n",
    "    blah = soup('tbody')\n",
    "    print blah"
   ]
  },
  {
   "cell_type": "code",
   "execution_count": null,
   "metadata": {
    "collapsed": true
   },
   "outputs": [],
   "source": [
    "extract_location_data(url)"
   ]
  },
  {
   "cell_type": "markdown",
   "metadata": {},
   "source": [
    "## Generate the list of startup pages"
   ]
  },
  {
   "cell_type": "code",
   "execution_count": 12,
   "metadata": {
    "collapsed": false
   },
   "outputs": [],
   "source": [
    "digital_nyc_startups_pages_list = [\"http://www.digital.nyc/startups\"]\n",
    "\n",
    "for i in range(1,380):\n",
    "    website = \"http://www.digital.nyc/startups?page=\" + str(i)\n",
    "    digital_nyc_startups_pages_list.append(website)"
   ]
  },
  {
   "cell_type": "code",
   "execution_count": 13,
   "metadata": {
    "collapsed": false
   },
   "outputs": [
    {
     "name": "stdout",
     "output_type": "stream",
     "text": [
      "['http://www.digital.nyc/startups', 'http://www.digital.nyc/startups?page=1', 'http://www.digital.nyc/startups?page=2']\n"
     ]
    }
   ],
   "source": [
    "print digital_nyc_startups_pages_list[:3]"
   ]
  },
  {
   "cell_type": "markdown",
   "metadata": {},
   "source": [
    "## Go through all those http://www.digital.nyc/startups/ links and compile a list of individual companies"
   ]
  },
  {
   "cell_type": "code",
   "execution_count": null,
   "metadata": {
    "collapsed": true
   },
   "outputs": [],
   "source": []
  },
  {
   "cell_type": "code",
   "execution_count": null,
   "metadata": {
    "collapsed": true
   },
   "outputs": [],
   "source": []
  },
  {
   "cell_type": "code",
   "execution_count": null,
   "metadata": {
    "collapsed": false
   },
   "outputs": [],
   "source": []
  },
  {
   "cell_type": "code",
   "execution_count": 14,
   "metadata": {
    "collapsed": false
   },
   "outputs": [],
   "source": [
    "def get_company_links(startup_url):\n",
    "    '''This takes some webpage like http://www.digital.nyc/startups?page=1\n",
    "    and returns a list of tuples (company_data_listof the form (company name, company url).\n",
    "    That object is called companies_list'''\n",
    "    response = requests.get(startup_url)\n",
    "    page_html = response.text\n",
    "    soup = BeautifulSoup(page_html)\n",
    "    # Retrieve all of the link tags\n",
    "    links_collection = soup.find_all('a')\n",
    "    companies_list = []\n",
    "    for link in links_collection:\n",
    "        try:\n",
    "            # There are some links without href -- this keeps the code from \n",
    "            # breaking when it gets to them\n",
    "            #print link[\"href\"]\n",
    "            if \"/startups/\" in link[\"href\"]:    #This selects only htose links of startups\n",
    "                #print True\n",
    "                company_url = \"http://www.digital.nyc/\" + str(link[\"href\"])\n",
    "                #print company_url\n",
    "                company_name = link[\"href\"][10:]\n",
    "                #print company_name\n",
    "                company_tuple = (company_name,company_url)\n",
    "                if company_tuple not in companies_list:\n",
    "                    companies_list.append(company_tuple)\n",
    "        except:\n",
    "            pass\n",
    "    return companies_list"
   ]
  },
  {
   "cell_type": "code",
   "execution_count": 15,
   "metadata": {
    "collapsed": true
   },
   "outputs": [],
   "source": [
    "big_list_of_company_websites = []"
   ]
  },
  {
   "cell_type": "markdown",
   "metadata": {},
   "source": [
    "# Warning the next step is going to take a really long time (it actually scrapes the web)"
   ]
  },
  {
   "cell_type": "code",
   "execution_count": 16,
   "metadata": {
    "collapsed": false
   },
   "outputs": [],
   "source": [
    "for webpage in digital_nyc_startups_pages_list:\n",
    "    #print webpage\n",
    "    #print get_company_links(fwebpage)\n",
    "    big_list_of_company_websites = big_list_of_company_websites + get_company_links(webpage)\n",
    "    #print"
   ]
  },
  {
   "cell_type": "code",
   "execution_count": 17,
   "metadata": {
    "collapsed": false
   },
   "outputs": [
    {
     "name": "stdout",
     "output_type": "stream",
     "text": [
      "7494\n"
     ]
    }
   ],
   "source": [
    "print len(big_list_of_company_websites)"
   ]
  },
  {
   "cell_type": "code",
   "execution_count": 18,
   "metadata": {
    "collapsed": false
   },
   "outputs": [
    {
     "data": {
      "text/plain": [
       "[('genesis', 'http://www.digital.nyc//startups/genesis'),\n",
       " ('yank-technologies-inc',\n",
       "  'http://www.digital.nyc//startups/yank-technologies-inc'),\n",
       " ('cinematcher', 'http://www.digital.nyc//startups/cinematcher'),\n",
       " ('1-atelier-llc', 'http://www.digital.nyc//startups/1-atelier-llc'),\n",
       " ('first-wall-street', 'http://www.digital.nyc//startups/first-wall-street'),\n",
       " ('httpwwwbluemailmediacom',\n",
       "  'http://www.digital.nyc//startups/httpwwwbluemailmediacom'),\n",
       " ('studytree', 'http://www.digital.nyc//startups/studytree'),\n",
       " ('heed-media', 'http://www.digital.nyc//startups/heed-media'),\n",
       " ('pips-island', 'http://www.digital.nyc//startups/pips-island'),\n",
       " ('raleigh-and-drake', 'http://www.digital.nyc//startups/raleigh-and-drake')]"
      ]
     },
     "execution_count": 18,
     "metadata": {},
     "output_type": "execute_result"
    }
   ],
   "source": [
    "big_list_of_company_websites[0:10]"
   ]
  },
  {
   "cell_type": "code",
   "execution_count": 19,
   "metadata": {
    "collapsed": false
   },
   "outputs": [],
   "source": [
    "# Saving it to csv just in case...\n",
    "import csv\n",
    "\n",
    "with open('big_list_of_company_websites.csv', 'wb') as myfile:\n",
    "    wr = csv.writer(myfile, quoting=csv.QUOTE_ALL)\n",
    "    wr.writerow(big_list_of_company_websites)"
   ]
  },
  {
   "cell_type": "code",
   "execution_count": 20,
   "metadata": {
    "collapsed": false
   },
   "outputs": [],
   "source": [
    "big_list_of_company_websites1 = big_list_of_company_websites[0:1000]\n",
    "big_list_of_company_websites2 = big_list_of_company_websites[1000:2000]\n",
    "big_list_of_company_websites3 = big_list_of_company_websites[2000:3000]\n",
    "big_list_of_company_websites4 = big_list_of_company_websites[3000:4000]\n",
    "big_list_of_company_websites5 = big_list_of_company_websites[4000:5000]\n",
    "big_list_of_company_websites6 = big_list_of_company_websites[5000:6000]\n",
    "big_list_of_company_websites7 = big_list_of_company_websites[6000:7000]\n",
    "big_list_of_company_websites8 = big_list_of_company_websites[7000:]"
   ]
  },
  {
   "cell_type": "code",
   "execution_count": 24,
   "metadata": {
    "collapsed": false
   },
   "outputs": [
    {
     "data": {
      "text/plain": [
       "1000"
      ]
     },
     "execution_count": 24,
     "metadata": {},
     "output_type": "execute_result"
    }
   ],
   "source": []
  },
  {
   "cell_type": "markdown",
   "metadata": {},
   "source": [
    "# Goes to Website, pulls out script, extracts out coordinates"
   ]
  },
  {
   "cell_type": "code",
   "execution_count": null,
   "metadata": {
    "collapsed": true
   },
   "outputs": [],
   "source": []
  },
  {
   "cell_type": "code",
   "execution_count": 109,
   "metadata": {
    "collapsed": false
   },
   "outputs": [],
   "source": [
    "def extract_location_data(url):\n",
    "    response = requests.get(url)\n",
    "    page_html = response.text\n",
    "    soup = BeautifulSoup(page_html)\n",
    "    \n",
    "    # Retrieve all of the script tags\n",
    "    scripts_collection = soup('script')\n",
    "    # Finds script associated with the google maps thing in the top right\n",
    "    #for i in range(0,len(scripts_collection)):\n",
    "    #    print i\n",
    "    #    print scripts_collection[i]\n",
    "    google_script_BSTag = scripts_collection[8]\n",
    "    # This is a bunch of stuff to make the script easy to work with\n",
    "    #print google_script_BSTag\n",
    "    google_script_string = str(google_script_BSTag)\n",
    "    google_script_string_dict_portion = google_script_string[39:len(google_script_string)-11]    # Removes the javascript/jquery grammer to just get the JSON portion\n",
    "\n",
    "    google_script_dict = json.loads(google_script_string_dict_portion)\n",
    "    #print google_script_dict['geofieldMap']\n",
    "\n",
    "    #pp = pprint.PrettyPrinter(depth=6)\n",
    "    #pp.pprint(google_script_dict)\n",
    "    # (There was a bunch of steps here nec. to determine where the lat long info was contained)\n",
    "\n",
    "    \n",
    "    # http://stackoverflow.com/questions/17106819/accessing-python-dict-values-with-the-key-start-characters\n",
    "    # It seems the key that looks like the following changes it's numbers ever time there's a new point. Since\n",
    "    # I can't predict the numbers, I'll just have create the key on the fly.\n",
    "    # [\"geofield-map-entity-node-965-field-geo-location\"]\n",
    "\n",
    "    geofield_etc_key = google_script_dict['geofieldMap'].keys()[0]\n",
    "    lat_long_list = google_script_dict['geofieldMap'][geofield_etc_key][\"data\"][\"coordinates\"]\n",
    "    return lat_long_list\n"
   ]
  },
  {
   "cell_type": "code",
   "execution_count": null,
   "metadata": {
    "collapsed": false
   },
   "outputs": [],
   "source": []
  },
  {
   "cell_type": "code",
   "execution_count": 110,
   "metadata": {
    "collapsed": false
   },
   "outputs": [
    {
     "data": {
      "text/plain": [
       "[-74.006, 40.7144]"
      ]
     },
     "execution_count": 110,
     "metadata": {},
     "output_type": "execute_result"
    }
   ],
   "source": [
    "extract_location_data(\"http://www.digital.nyc//startups/better-schools-everyone\")"
   ]
  },
  {
   "cell_type": "code",
   "execution_count": 93,
   "metadata": {
    "collapsed": false
   },
   "outputs": [
    {
     "data": {
      "text/plain": [
       "[('better-schools-everyone',\n",
       "  'http://www.digital.nyc//startups/better-schools-everyone'),\n",
       " ('foxotic', 'http://www.digital.nyc//startups/foxotic'),\n",
       " ('cheater-beater', 'http://www.digital.nyc//startups/cheater-beater'),\n",
       " ('vowched', 'http://www.digital.nyc//startups/vowched'),\n",
       " ('domainpaid-inc', 'http://www.digital.nyc//startups/domainpaid-inc'),\n",
       " ('prax-algorithm-designs',\n",
       "  'http://www.digital.nyc//startups/prax-algorithm-designs'),\n",
       " ('playdin-llc', 'http://www.digital.nyc//startups/playdin-llc'),\n",
       " ('ovenhotfoodgroup', 'http://www.digital.nyc//startups/ovenhotfoodgroup'),\n",
       " ('educo-kids-inc', 'http://www.digital.nyc//startups/educo-kids-inc'),\n",
       " ('palace-design', 'http://www.digital.nyc//startups/palace-design')]"
      ]
     },
     "execution_count": 93,
     "metadata": {},
     "output_type": "execute_result"
    }
   ],
   "source": [
    "big_list_of_company_websites4[0:10]"
   ]
  },
  {
   "cell_type": "code",
   "execution_count": 68,
   "metadata": {
    "collapsed": true
   },
   "outputs": [],
   "source": [
    "''' Commenting this out just to make sure peopel don't accidently erase the data\n",
    "full_list_company_data = []\n",
    "full_list_company_data1 = []\n",
    "full_list_company_data2 = []\n",
    "full_list_company_data3 = []\n",
    "full_list_company_data4 = []\n",
    "full_list_company_data5 = []\n",
    "full_list_company_data6 = []\n",
    "full_list_company_data7 = []\n",
    "full_list_company_data8 = []\n",
    "'''\n",
    "# Estimated it may take 30-1hr\n",
    "# #1 - Started at 11:43 -- done by 12:16\n",
    "# #2 - Started at 12:45 -- done by 1:07\n",
    "# #3 - Started at 1:08 -- done by \n",
    "# #4 - Started at  -- done by \n",
    "# #5 - Started at  -- done by \n",
    "# #6 - Started at  -- done by \n",
    "# #7 - Started at  -- done by \n",
    "# #8 - Started at  -- done by "
   ]
  },
  {
   "cell_type": "code",
   "execution_count": 133,
   "metadata": {
    "collapsed": false
   },
   "outputs": [],
   "source": [
    "full_list_company_data1 = []"
   ]
  },
  {
   "cell_type": "code",
   "execution_count": 134,
   "metadata": {
    "collapsed": false
   },
   "outputs": [
    {
     "name": "stdout",
     "output_type": "stream",
     "text": [
      "1 2 3 4 5 6 7 8 9 10 11 12 13 14 15 16 17 18 19 20 21 22 23 24 25 26 27 28 29 30 31 32 33 34 35 36 37 38 39 40 41 42 43 44 45 46 47 48 49 50 51 52 53 54 55 56 57 58 59 60 61 62 63 64 65 66 67 68 69 70 71 72 73 74 75 76 77 78 79 80 81 82 83 84 85 86 87 88 89 90 91 92 93 94 95 96 97 98 99 100 101 102 103 104 105 106 107 108 109 110 111 112 113 114 115 116 117 118 119 120 121 122 123 124 125 126 127 128 129 130 131 132 133 134 135 136 137 138 139 140 141 142 143 144 145 146 147 148 149 150 151 152 153 154 155 156 157 158 159 160 161 162 163 164 165 166 167 168 169 170 171 172 173 174 175 176 177 178 179 180 181 182 183 184 185 186 187 188 189 190 191 192 193 194 195 196 197 198 199 200 201 202 203 204 205 206 207 208 209 210 211 212 213 214 215 216 217 218 219 220 221 222 223 224 225 226 227 228 229 230 231 232 233 234 235 236 237 238 239 240 241 242 243 244 245 246 247 248 249 250 251 252 253 254 255 256 257 258 259 260 261 262 263 264 265 266 267 268 269 270 271 272 273 274 275 276 277 278 279 280 281 282 283 284 285 286 287 288 289 290 291 292 293 294 295 296 297 298 299 300 301 302 303 304 305 306 307 308 309 310 311 312 313 314 315 316 317 318 319 320 321 322 323 324 325 326 327 328 329 330 331 332 333 334 335 336 337 338 339 340 341 342 343 344 345 346 347 348 349 350 351 352 353 354 355 356 357 358 359 360 361 362 363 364 365 366 367 368 369 370 371 372 373 374 375 376 377 378 379 380 381 382 383 384 385 386 387 388 389 390 391 392 393 394 395 396 397 398 399 400 401 402 403 404 405 406 407 408 409 410 411 412 413 414 415 416 417 418 419 420 421 422 423 424 425 426 427 428 429 430 431 432 433 434 435 436 437 438 439 440 441 442 443 444 445 446 447 448 449 450 451 452 453 454 455 456 457 458 459 460 461 462 463 464 465 466 467 468 469 470 471 472 473 474 475 476 477 478 479 480 481 482 483 484 485 486 487 488 489 490 491 492 493 494 495 496 497 498 499 500 501 502 503 504 505 506 507 508 509 510 511 512 513 514 515 516 517 518 519 520 521 522 523 524 525 526 527 528 529 530 531 532 533 534 535 536 537 538 539 540 541 542 543 544 545 546 547 548 549 550 551 552 553 554 555 556 557 558 559 560 561 562 563 564 565 566 567 568 569 570 571 572 573 574 575 576 577 578 579 580 581 582 583 584 585 586 587 588 589 590 591 592 593 594 595 596 597 598 599 600 601 602 603 604 605 606 607 608 609 610 611 612 613 614 615 616 617 618 619 620 621 622 623 624 625 626 627 628 629 630 631 632 633 634 635 636 637 638 639 640 641 642 643 644 645 646 647 648 649 650 651 652 653 654 655 656 657 658 659 660 661 662 663 664 665 666 667 668 669 670 671 672 673 674 675 676 677 678 679 680 681 682 683 684 685 686 687 688 689 690 691 692 693 694 695 696 697 698 699 700 701 702 703 704 705 706 707 708 709 710 711 712 713 714 715 716 717 718 719 720 721 722 723 724 725 726 727 728 729 730 731 732 733 734 735 736 737 738 739 740 741 742 743 744 745 746 747 748 749 750 751 752 753 754 755 756 757 758 759 760 761 762 763 764 765 766 767 768 769 770 771 772 773 774 775 776 777 778 779 780 781 782 783 784 785 786 787 788 789 790 791 792 793 794 795 796 797 798 799 800 801 802 803 804 805 806 807 808 809 810 811 812 813 814 815 816 817 818 819 820 821 822 823 824 825 826 827 828 829 830 831 832 833 834 835 836 837 838 839 840 841 842 843 844 845 846 847 848 849 850 851 852 853 854 855 856 857 858 859 860 861 862 863 864 865 866 867 868 869 870 871 872 873 874 875 876 877 878 879 880 881 882 883 884 885 886 887 888 889 890 891 892 893 894 895 896 897 898 899 900 901 902 903 904 905 906 907 908 909 910 911 912 913 914 915 916 917 918 919 920 921 922 923 924 925 926 927 928 929 930 931 932 933 934 935 936 937 938 939 940 941 942 943 944 945 946 947 948 949 950 951 952 953 954 955 956 957 958 959 960 961 962 963 964 965 966 967 968 969 970 971 972 973 974 975 976 977 978 979 980 981 982 983 984 985 986 987 988 989 990 991 992 993 994 995 996 997 998 999 1000\n"
     ]
    }
   ],
   "source": [
    "''' This worked to get the first 3 sets of distance data but seemed to stop afterwards'''\n",
    "\n",
    "counter = 0\n",
    "for company_name_and_link in big_list_of_company_websites1:\n",
    "    name = company_name_and_link[0]\n",
    "    link = company_name_and_link[1]\n",
    "    counter += 1\n",
    "    print counter,\n",
    "    try:\n",
    "        location = extract_location_data(link)\n",
    "        longitude = location[0]\n",
    "        latitude = location[1]\n",
    "        company_tuple_full = (name,link,latitude,longitude)\n",
    "        full_list_company_data1.append(company_tuple_full)\n",
    "    except:\n",
    "        pass\n",
    "\n"
   ]
  },
  {
   "cell_type": "code",
   "execution_count": 108,
   "metadata": {
    "collapsed": false
   },
   "outputs": [],
   "source": []
  },
  {
   "cell_type": "code",
   "execution_count": null,
   "metadata": {
    "collapsed": false
   },
   "outputs": [],
   "source": []
  },
  {
   "cell_type": "code",
   "execution_count": 136,
   "metadata": {
    "collapsed": false
   },
   "outputs": [
    {
     "name": "stdout",
     "output_type": "stream",
     "text": [
      "Total Websites to Scrape: 1000 Total Companies w/ scraped Lat/Long Data 939\n",
      "Total Websites to Scrape: 1000 Total Companies w/ scraped Lat/Long Data 980\n",
      "Total Websites to Scrape: 1000 Total Companies w/ scraped Lat/Long Data 913\n",
      "Total Websites to Scrape: 1000 Total Companies w/ scraped Lat/Long Data 999\n",
      "Total Websites to Scrape: 1000 Total Companies w/ scraped Lat/Long Data 1000\n",
      "Total Websites to Scrape: 1000 Total Companies w/ scraped Lat/Long Data 996\n",
      "Total Websites to Scrape: 1000 Total Companies w/ scraped Lat/Long Data 1000\n",
      "Total Websites to Scrape: 494 Total Companies w/ scraped Lat/Long Data 400\n"
     ]
    }
   ],
   "source": [
    "print \"Total Websites to Scrape:\", len(big_list_of_company_websites1), \"Total Companies w/ scraped Lat/Long Data\", len(full_list_company_data1)\n",
    "print \"Total Websites to Scrape:\", len(big_list_of_company_websites2), \"Total Companies w/ scraped Lat/Long Data\", len(full_list_company_data2)\n",
    "print \"Total Websites to Scrape:\", len(big_list_of_company_websites3), \"Total Companies w/ scraped Lat/Long Data\", len(full_list_company_data3)\n",
    "print \"Total Websites to Scrape:\", len(big_list_of_company_websites4), \"Total Companies w/ scraped Lat/Long Data\", len(full_list_company_data4)\n",
    "print \"Total Websites to Scrape:\", len(big_list_of_company_websites5), \"Total Companies w/ scraped Lat/Long Data\", len(full_list_company_data5)\n",
    "print \"Total Websites to Scrape:\", len(big_list_of_company_websites6), \"Total Companies w/ scraped Lat/Long Data\", len(full_list_company_data6)\n",
    "print \"Total Websites to Scrape:\", len(big_list_of_company_websites7), \"Total Companies w/ scraped Lat/Long Data\", len(full_list_company_data7)\n",
    "print \"Total Websites to Scrape:\", len(big_list_of_company_websites8), \"Total Companies w/ scraped Lat/Long Data\", len(full_list_company_data8)\n"
   ]
  },
  {
   "cell_type": "code",
   "execution_count": null,
   "metadata": {
    "collapsed": false
   },
   "outputs": [],
   "source": []
  },
  {
   "cell_type": "code",
   "execution_count": 138,
   "metadata": {
    "collapsed": false
   },
   "outputs": [],
   "source": [
    "full_list_company_data = full_list_company_data1 + full_list_company_data2 + full_list_company_data3 + full_list_company_data4 +full_list_company_data5 + full_list_company_data6 + full_list_company_data7 + full_list_company_data8"
   ]
  },
  {
   "cell_type": "code",
   "execution_count": 131,
   "metadata": {
    "collapsed": false
   },
   "outputs": [
    {
     "data": {
      "text/plain": [
       "7227"
      ]
     },
     "execution_count": 131,
     "metadata": {},
     "output_type": "execute_result"
    }
   ],
   "source": [
    "len(full_list_company_data)"
   ]
  },
  {
   "cell_type": "code",
   "execution_count": 137,
   "metadata": {
    "collapsed": false
   },
   "outputs": [],
   "source": [
    "with open('full_list_company_data.csv', 'wb') as myfile:\n",
    "    wr = csv.writer(myfile, quoting=csv.QUOTE_ALL)\n",
    "    wr.writerow(big_list_of_company_websites)"
   ]
  },
  {
   "cell_type": "code",
   "execution_count": null,
   "metadata": {
    "collapsed": false
   },
   "outputs": [],
   "source": []
  },
  {
   "cell_type": "code",
   "execution_count": null,
   "metadata": {
    "collapsed": true
   },
   "outputs": [],
   "source": []
  }
 ],
 "metadata": {
  "kernelspec": {
   "display_name": "Python 2",
   "language": "python",
   "name": "python2"
  },
  "language_info": {
   "codemirror_mode": {
    "name": "ipython",
    "version": 2
   },
   "file_extension": ".py",
   "mimetype": "text/x-python",
   "name": "python",
   "nbconvert_exporter": "python",
   "pygments_lexer": "ipython2",
   "version": "2.7.11"
  }
 },
 "nbformat": 4,
 "nbformat_minor": 0
}
