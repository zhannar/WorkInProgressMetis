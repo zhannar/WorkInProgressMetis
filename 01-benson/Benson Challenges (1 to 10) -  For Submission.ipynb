{
 "cells": [
  {
   "cell_type": "code",
   "execution_count": 266,
   "metadata": {
    "collapsed": true
   },
   "outputs": [],
   "source": [
    "import csv\n",
    "\n",
    "def read_data(data):\n",
    "   parsed_data = []\n",
    "   with open(data) as csv_file:\n",
    "       reader = csv.DictReader(csv_file)\n",
    "       for row in reader:\n",
    "           parsed_data.append(row)\n",
    "   return parsed_data"
   ]
  },
  {
   "cell_type": "code",
   "execution_count": 267,
   "metadata": {
    "collapsed": false
   },
   "outputs": [
    {
     "name": "stdout",
     "output_type": "stream",
     "text": [
      "['turnstile_160312.txt', 'turnstile_160319.txt', 'turnstile_160326.txt', 'turnstile_160402.txt']\n"
     ]
    }
   ],
   "source": [
    "# Create a list of the data files from which to import \n",
    "files = !ls mta_turnstyle_data/\n",
    "print files"
   ]
  },
  {
   "cell_type": "code",
   "execution_count": 268,
   "metadata": {
    "collapsed": false
   },
   "outputs": [],
   "source": [
    "data = []\n",
    "\n",
    "for file_name in files:\n",
    "    path = \"mta_turnstyle_data/\" + file_name\n",
    "    data += read_data(path)"
   ]
  },
  {
   "cell_type": "code",
   "execution_count": 269,
   "metadata": {
    "collapsed": true
   },
   "outputs": [],
   "source": [
    "# Making the dataset smaller just so I can print stuff\n",
    "#data = data[0:1000]"
   ]
  },
  {
   "cell_type": "markdown",
   "metadata": {},
   "source": [
    "# Challenge 1\n",
    "\n",
    "- Open up a new IPython notebook\n",
    "- Download a few MTA turnstile data files\n",
    "- Open up a file, use csv reader to read it, make a python dict where there is a key for each (C/A, UNIT, SCP, STATION). These are the first four columns. The value for this key should be a list of lists. Each list in the list is the rest of the columns in a row. For example, one key-value pair should look like\n",
    "\n",
    "{ ('A002','R051','02-00-00','LEXINGTON AVE'): [ ['NQR456', 'BMT', '01/03/2015', '03:00:00', 'REGULAR', '0004945474', '0001675324'], ['NQR456', 'BMT', '01/03/2015', '07:00:00', 'REGULAR', '0004945478', '0001675333'], ['NQR456', 'BMT', '01/03/2015', '11:00:00', 'REGULAR', '0004945515', '0001675364'], ... ] }"
   ]
  },
  {
   "cell_type": "code",
   "execution_count": 270,
   "metadata": {
    "collapsed": false
   },
   "outputs": [],
   "source": [
    "chal_1_dict = {}\n",
    "\n",
    "for x in data:\n",
    "    ca = x[\"C/A\"]\n",
    "    unit = x[\"UNIT\"]\n",
    "    scp = x[\"SCP\"]\n",
    "    station =  x[\"STATION\"]\n",
    "\n",
    "    my_tuple = (ca, unit, scp, station)\n",
    "\n",
    "    linelame = x[\"LINENAME\"]\n",
    "    division =x[\"DIVISION\"]\n",
    "    date = x[\"DATE\"]\n",
    "    time = x[\"TIME\"]\n",
    "    desc = x[\"DESC\"]\n",
    "    entries = x[\"ENTRIES\"]\n",
    "    exits = x['EXITS                                                               ']\n",
    "    # Removing all the whitespace that comes in the exits key\n",
    "    exits = exits.strip()\n",
    "    \n",
    "    values_list = [linelame, division,date,time, desc, entries, exits]\n",
    "        \n",
    "    if my_tuple not in chal_1_dict:\n",
    "        chal_1_dict[my_tuple] = [values_list]\n",
    "    else:\n",
    "        chal_1_dict[my_tuple] = chal_1_dict[my_tuple] + [values_list]"
   ]
  },
  {
   "cell_type": "markdown",
   "metadata": {},
   "source": [
    "# Challenge 2\n",
    "\n",
    "Let's turn this into a time series.\n",
    "\n",
    "For each key (basically the control area, unit, device address and station of a specific turnstile), have a list again, but let the list be comprised of just the point in time and the count of entries.\n",
    "\n",
    "This basically means keeping only the date, time, and entries fields in each list. You can convert the date and time into datetime objects -- That is a python class that represents a point in time. You can combine the date and time fields into a string and use the dateutil module to convert it into a datetime object. For an example check this StackOverflow question.\n",
    "\n",
    "Your new dict should look something like\n",
    "\n",
    "{ ('A002','R051','02-00-00','LEXINGTON AVE'): [ [datetime.datetime(2013, 3, 2, 3, 0), 3788], [datetime.datetime(2013, 3, 2, 7, 0), 2585], [datetime.datetime(2013, 3, 2, 12, 0), 10653], [datetime.datetime(2013, 3, 2, 17, 0), 11016], [datetime.datetime(2013, 3, 2, 23, 0), 10666], [datetime.datetime(2013, 3, 3, 3, 0), 10814], [datetime.datetime(2013, 3, 3, 7, 0), 10229], ... ], .... }"
   ]
  },
  {
   "cell_type": "code",
   "execution_count": 271,
   "metadata": {
    "collapsed": false
   },
   "outputs": [],
   "source": [
    "# Part 1 - Converting the dates & times\n",
    "\n",
    "import dateutil.parser\n",
    "\n",
    "chal_2_dict = {}\n",
    "\n",
    "for key in chal_1_dict:\n",
    "    for timestamp in chal_1_dict[key]:\n",
    "        entries = int(timestamp[-2])\n",
    "        date_unparsed = timestamp[2]\n",
    "        time_unparsed = timestamp[3]\n",
    "        date_time_combo = date_unparsed + \" \" + time_unparsed\n",
    "        time_list = [dateutil.parser.parse(date_time_combo),entries]\n",
    "        \n",
    "        if key not in chal_2_dict:\n",
    "            chal_2_dict[key] = [time_list]\n",
    "        else:\n",
    "            chal_2_dict[key] = chal_2_dict[key] + [time_list]"
   ]
  },
  {
   "cell_type": "code",
   "execution_count": 272,
   "metadata": {
    "collapsed": false
   },
   "outputs": [],
   "source": [
    "chal_2_dict = {turnstile: [[rows[i][0],\n",
    "                                     rows[i+1][1] - rows[i][1]]\n",
    "                                    for i in range(len(rows) - 1)]\n",
    "                        for turnstile, rows in chal_2_dict.items()}    #make a new dictionary; keys will be the turnstiles, each will have a list of lists, each of which will give date, change in entries from last time, and elasped time"
   ]
  },
  {
   "cell_type": "markdown",
   "metadata": {},
   "source": [
    "# Challenge 3\n",
    "\n",
    "These counts are for every n hours. (What is n?) We want total daily entries.\n",
    "Now make it that we again have the same keys, but now we have a single value for a single day, which is the total number of passengers that entered through this turnstile on this day."
   ]
  },
  {
   "cell_type": "markdown",
   "metadata": {},
   "source": [
    "n = 4 for most of the dataset. There are some occasions when n bumps to 5 hours (e.g. when the schedules goes from (in military time) 1900 to 2300 and then to 0400 and 0800). There are other times when there are \"audits\" which aren't taken on the hour, and occur at strange times like 5:37. This creates an arbitrary amount of time between itself and the previous/subsequent time."
   ]
  },
  {
   "cell_type": "code",
   "execution_count": 273,
   "metadata": {
    "collapsed": true
   },
   "outputs": [],
   "source": [
    "# row[i][0] - This is the datetime elements\n",
    "# row[i][1] - This is the entries elements\n",
    "\n",
    "chal_3a_dict = {turnstile: [[rows[i][0],\n",
    "                                     rows[i+1][1] - rows[i][1]]\n",
    "                                    for i in range(len(rows) - 1)]\n",
    "                        for turnstile, rows in chal_2_dict.items()}    #make a new dictionary; keys will be the turnstiles, each will have a list of lists, each of which will give date, change in entries from last time, and elasped time"
   ]
  },
  {
   "cell_type": "code",
   "execution_count": 274,
   "metadata": {
    "collapsed": false
   },
   "outputs": [],
   "source": [
    "chal_3b_dict = {turnstile: [(time, count)\n",
    "                               for (time, count) in rows\n",
    "                               if 0 <= count <= 5000]\n",
    "                   for turnstile, rows in chal_3a_dict.items()}    #make one more dictionary; keys will be turnstiles, each will have a list of lists with date and change in entries"
   ]
  },
  {
   "cell_type": "code",
   "execution_count": 275,
   "metadata": {
    "collapsed": false
   },
   "outputs": [],
   "source": [
    "chal_3c_dict = {}    #an empty dictionary to hold the total counts\n",
    "for turnstile, rows in chal_3b_dict.items():    #loop over key/data pairs in datetime_counts\n",
    "    by_day = {}    #for each make a new empty dictionary\n",
    "    for time, count in rows:    #loop over the time and the count\n",
    "        day = time.date()    #keep only the day info\n",
    "        by_day[day] = by_day.get(day, 0) + count    #pull out the data associated with key <day> and add the count to it - if <day> is in the dictionary return 0\n",
    "    chal_3c_dict[turnstile] = sorted(by_day.items())    #save the count by turnstile in the dictionary"
   ]
  },
  {
   "cell_type": "markdown",
   "metadata": {},
   "source": [
    "# Challenge 4\n",
    "\n",
    "We will plot the daily time series for a turnstile.\n",
    "\n",
    "In ipython notebook, add this to the beginning of your next cell:\n",
    "\n",
    "%matplotlib inline\n",
    "This will make your matplotlib graphs integrate nicely with the notebook. To plot the time series, import matplotlib with\n",
    "\n",
    "import matplotlib.pyplot as plt\n",
    "\n",
    "Take the list of [(date1, count1), (date2, count2), ...], for the turnstile and turn it into two lists: dates and counts. This should plot it:\n",
    "\n",
    "plt.figure(figsize=(10,3))\n",
    "plt.plot(dates,counts)"
   ]
  },
  {
   "cell_type": "code",
   "execution_count": 276,
   "metadata": {
    "collapsed": true
   },
   "outputs": [],
   "source": [
    "%matplotlib inline\n",
    "import matplotlib.pyplot as plt"
   ]
  },
  {
   "cell_type": "code",
   "execution_count": 277,
   "metadata": {
    "collapsed": false
   },
   "outputs": [],
   "source": [
    "def plot_turnstyle_volume_chal4(key, dictionary):\n",
    "    '''This takes an input like the following and makes a plot of counts for all the date/count pairs they have. \n",
    "    ('A002', 'R051', '02-00-00', '59 ST')\n",
    "    '''\n",
    "    dates = []\n",
    "    counts = []\n",
    "    for value in dictionary[key]:\n",
    "        dates.append(value[0]) \n",
    "        counts.append(value[1])\n",
    "    #print dates\n",
    "    #print counts\n",
    "    \n",
    "    plt.figure(figsize=(20,5))\n",
    "    plt.plot(dates,counts)"
   ]
  },
  {
   "cell_type": "code",
   "execution_count": 278,
   "metadata": {
    "collapsed": false
   },
   "outputs": [
    {
     "data": {
      "image/png": "[encoded data removed]",
      "text/plain": [
       "<matplotlib.figure.Figure at 0x11e75ea50>"
      ]
     },
     "metadata": {},
     "output_type": "display_data"
    }
   ],
   "source": [
    "plot_turnstyle_volume_chal4(('R245A', 'R051', '01-00-00', '59 ST'),chal_3c_dict)"
   ]
  },
  {
   "cell_type": "code",
   "execution_count": 279,
   "metadata": {
    "collapsed": false
   },
   "outputs": [
    {
     "data": {
      "text/plain": [
       "[(datetime.date(2016, 3, 5), 931),\n",
       " (datetime.date(2016, 3, 6), 695),\n",
       " (datetime.date(2016, 3, 7), 1952),\n",
       " (datetime.date(2016, 3, 8), 1442),\n",
       " (datetime.date(2016, 3, 9), 1999),\n",
       " (datetime.date(2016, 3, 10), 1591),\n",
       " (datetime.date(2016, 3, 11), 1802),\n",
       " (datetime.date(2016, 3, 12), 958),\n",
       " (datetime.date(2016, 3, 13), 703),\n",
       " (datetime.date(2016, 3, 14), 1865),\n",
       " (datetime.date(2016, 3, 15), 1278),\n",
       " (datetime.date(2016, 3, 16), 1841),\n",
       " (datetime.date(2016, 3, 17), 1974),\n",
       " (datetime.date(2016, 3, 18), 2001),\n",
       " (datetime.date(2016, 3, 19), 825),\n",
       " (datetime.date(2016, 3, 20), 667),\n",
       " (datetime.date(2016, 3, 21), 2009),\n",
       " (datetime.date(2016, 3, 22), 2048),\n",
       " (datetime.date(2016, 3, 23), 1961),\n",
       " (datetime.date(2016, 3, 24), 1812),\n",
       " (datetime.date(2016, 3, 25), 1139),\n",
       " (datetime.date(2016, 3, 26), 819),\n",
       " (datetime.date(2016, 3, 27), 577),\n",
       " (datetime.date(2016, 3, 28), 1891),\n",
       " (datetime.date(2016, 3, 29), 1859),\n",
       " (datetime.date(2016, 3, 30), 1816),\n",
       " (datetime.date(2016, 3, 31), 1794),\n",
       " (datetime.date(2016, 4, 1), 1812)]"
      ]
     },
     "execution_count": 279,
     "metadata": {},
     "output_type": "execute_result"
    }
   ],
   "source": [
    "chal_3c_dict[('R245A', 'R051', '01-00-00', '59 ST')]"
   ]
  },
  {
   "cell_type": "markdown",
   "metadata": {},
   "source": [
    "# Challenge 5\n",
    "\n",
    "So far we've been operating on a single turnstile level, let's combine turnstiles in the same ControlArea/Unit/Station combo. There are some ControlArea/Unit/Station groups that have a single turnstile, but most have multiple turnstilea-- same value for the C/A, UNIT and STATION columns, different values for the SCP column.\n",
    "We want to combine the numbers together -- for each ControlArea/UNIT/STATION combo, for each day, add the counts from each turnstile belonging to that combo."
   ]
  },
  {
   "cell_type": "code",
   "execution_count": 280,
   "metadata": {
    "collapsed": false
   },
   "outputs": [],
   "source": [
    "chal_5_dict = {}\n",
    "\n",
    "for turnstile,day_time_count_list_of_tuples in chal_3c_dict.items():\n",
    "    # (Preparation Step) Massaging the key...\n",
    "    # Extract out the control area, unit, and turnstyle of each key.\n",
    "    control = turnstile[0]\n",
    "    unit = turnstile[1]\n",
    "    station = turnstile[3]\n",
    "    \n",
    "    control_unit_station_tuple = (control,unit,station)\n",
    "    \n",
    "    # (Preparation Step) Massaing the values...\n",
    "    # This is nec. because later I will have to update the counts. Since tuples are immutable, it wouldn't update.\n",
    "       # day_time_count_list_of_lists = map(list, day_time_count_list_of_tuples)\n",
    "    \n",
    "    #The keys will be dates, the values will be a rolling sum for a given station (iterating across all the turnstyles)\n",
    "    date_sum = {}\n",
    "    \n",
    "    for day_times,counts in day_time_count_list_of_tuples:\n",
    "        date_sum[day_times] = date_sum.get(day_times, 0) + counts\n",
    "    \n",
    "    if control_unit_station_tuple in chal_5_dict:\n",
    "        preexisting_station_dictionary = chal_5_dict[control_unit_station_tuple]\n",
    "\n",
    "        for temp_times,temp_counts in date_sum.items():\n",
    "            preexisting_station_dictionary[temp_times] = preexisting_station_dictionary.get(temp_times, 0) + temp_counts\n",
    "    else:\n",
    "        chal_5_dict[control_unit_station_tuple] = date_sum   #This takes out all the values of the date dictionary "
   ]
  },
  {
   "cell_type": "markdown",
   "metadata": {},
   "source": [
    "# Challenge 6\n",
    "\n",
    "Similarly, combine everything in each station, and come up with a time series of [(date1, count1),(date2,count2),...] type of time series for each STATION, by adding up all the turnstiles in a station."
   ]
  },
  {
   "cell_type": "code",
   "execution_count": 281,
   "metadata": {
    "collapsed": false
   },
   "outputs": [],
   "source": [
    "chal_6_dict = {}\n",
    "\n",
    "for control_unit_station,day_time_count_list_of_tuples in chal_5_dict.items():\n",
    "    # (Preparation Step) Massaging the key...\n",
    "    # Extract out the station\n",
    "    station = control_unit_station[2]\n",
    "        \n",
    "    # (Preparation Step) Massaing the values...\n",
    "    # This is nec. because later I will have to update the counts. Since tuples are immutable, it wouldn't update.\n",
    "       # day_time_count_list_of_lists = map(list, day_time_count_list_of_tuples)\n",
    "    \n",
    "    #The keys will be dates, the values will be a rolling sum for a given station (iterating across all the turnstyles)\n",
    "    date_sum = {}\n",
    "    \n",
    "    for day_times,counts in day_time_count_list_of_tuples.items():\n",
    "        date_sum[day_times] = date_sum.get(day_times, 0) + counts\n",
    "    \n",
    "    if station in chal_6_dict:\n",
    "        preexisting_station_dictionary = chal_6_dict[station]\n",
    "\n",
    "        for temp_times,temp_counts in date_sum.items():\n",
    "            preexisting_station_dictionary[temp_times] = preexisting_station_dictionary.get(temp_times, 0) + temp_counts\n",
    "    else:\n",
    "        chal_6_dict[(station,)] = date_sum   #This takes out all the values of the date dictionary "
   ]
  },
  {
   "cell_type": "markdown",
   "metadata": {},
   "source": [
    "# Challenge 7\n",
    "\n",
    "Plot the time series for a station."
   ]
  },
  {
   "cell_type": "code",
   "execution_count": 285,
   "metadata": {
    "collapsed": false
   },
   "outputs": [],
   "source": [
    "import pandas as pd\n",
    "\n",
    "def plot_turnstyle_volume_chal6(key, dictionary):\n",
    "    '''This takes an input like the following and prints \n",
    "    ('A002', 'R051', '02-00-00', '59 ST')\n",
    "    '''\n",
    "    #for date,count in dictionary[key].items(): # For some reason there's a difference b/w how chal_6_dict and chal_3_dict is created, so I need to re-create this function and add in the \"items\" part.\n",
    "    \n",
    "    data = sorted([(date,count) for date,count in dictionary[key].items()])\n",
    "    data_and_counts_separated = zip(*data)\n",
    "    \n",
    "    plt.figure(figsize=(20,5))\n",
    "    plt.plot(data_and_counts_separated[0],data_and_counts_separated[1])"
   ]
  },
  {
   "cell_type": "code",
   "execution_count": 286,
   "metadata": {
    "collapsed": false
   },
   "outputs": [
    {
     "data": {
      "image/png": "[encoded data removed]",
      "text/plain": [
       "<matplotlib.figure.Figure at 0x11dc22d10>"
      ]
     },
     "metadata": {},
     "output_type": "display_data"
    }
   ],
   "source": [
    "plot_turnstyle_volume_chal6(('59 ST',),chal_6_dict)"
   ]
  },
  {
   "cell_type": "markdown",
   "metadata": {},
   "source": [
    "# Challenge 8\n",
    "\n",
    "Make one list of counts for one week for one station. Monday's count, Tuesday's count, etc. so it's a list of 7 counts. Make the same list for another week, and another week, and another week. plt.plot(week_count_list) for every week_count_list you created this way. You should get a rainbow plot of weekly commute numbers on top of each other."
   ]
  },
  {
   "cell_type": "code",
   "execution_count": 287,
   "metadata": {
    "collapsed": false
   },
   "outputs": [
    {
     "name": "stdout",
     "output_type": "stream",
     "text": [
      "(1662, 1176, 2627, 2673, 2516, 2558, 2040)\n",
      "(962, 751, 1800, 2139, 1817, 1790, 1505)\n",
      "(1059, 525, 1910, 1804, 1757, 1776, 1772)\n",
      "(938, 723, 1813, 1931, 1884, 1799, 1831)\n"
     ]
    },
    {
     "data": {
      "image/png": "[encoded data removed]",
      "text/plain": [
       "<matplotlib.figure.Figure at 0x11dc22bd0>"
      ]
     },
     "metadata": {},
     "output_type": "display_data"
    },
    {
     "data": {
      "image/png": "[encoded data removed]",
      "text/plain": [
       "<matplotlib.figure.Figure at 0x12c327d50>"
      ]
     },
     "metadata": {},
     "output_type": "display_data"
    },
    {
     "data": {
      "image/png": "[encoded data removed]",
      "text/plain": [
       "<matplotlib.figure.Figure at 0x12ac40a10>"
      ]
     },
     "metadata": {},
     "output_type": "display_data"
    },
    {
     "data": {
      "image/png": "[encoded data removed]",
      "text/plain": [
       "<matplotlib.figure.Figure at 0x126a9ef10>"
      ]
     },
     "metadata": {},
     "output_type": "display_data"
    }
   ],
   "source": [
    "# Takes the output of chal_6_dict[('59 ST',)] which is a dictionary of date-count pairs, and \n",
    "# and transforms it into a tuple of the form (date, count, weekday). 0 is a monday, 1 is tuesday\n",
    "# and so on and so forth. \n",
    "\n",
    "data = sorted([(date,count,date.weekday()) for date,count in chal_6_dict[('59 ST',)].iteritems()])\n",
    "\n",
    "\n",
    "####### Separate the data into distinct groups of weeks.##############\n",
    "# Some Preliminary Set-up\n",
    "starting_weekday = data[0][2]\n",
    "week_group = 0\n",
    "from collections import defaultdict\n",
    "weekly_data_dictionary = defaultdict()\n",
    "\n",
    "\n",
    "# The Meat...\n",
    "for i in range(len(data)):          #This works because the data is already sorted.  \n",
    "    # Create a new dictionary for each new week\n",
    "    if data[i][2] == starting_weekday:  #If the day of the week is the same as the first week, it creates a new key to put data into\n",
    "        week_group += 1\n",
    "        key = \"Week\" + str(week_group)\n",
    "        weekly_data_dictionary[key] = [data[i]]  # Set the first value of the default dict to the first saturday        \n",
    "    # Otherwise, add it to the exisitng dictionary\n",
    "    else:\n",
    "        weekly_data_dictionary[key] = weekly_data_dictionary[key] + [data[i]]\n",
    "\n",
    "list_of_weekly_groupes = weekly_data_dictionary.keys()\n",
    "\n",
    "for list in list_of_weekly_groupes: \n",
    "    data_and_counts_separated = zip(*weekly_data_dictionary[list])\n",
    "    print data_and_counts_separated[1]\n",
    "    #dates = list(data_and_counts_separated[0])\n",
    "    counts = data_and_counts_separated[1]\n",
    "    #weekdays = list(data_and_counts_separated[2])\n",
    "    df=pd.DataFrame({'Weekday':['Sat','Sun','Mon','Tues','Wed','Thurs','Fri'],\n",
    "         'Volume':counts})\n",
    "    df.plot(kind='bar',x='Weekday',color=[\"tomato\", \"darkorange\", \"yellow\",\n",
    "                                      \"darkgreen\", \"darkcyan\", \"blue\",\"darkviolet\"], title = \"Traffic Volume vs. Weekday in \" + list)\n",
    "\n",
    "\n",
    "# This seems to reorder the values from greatest to least\n",
    "# my_labels=[\"Sat\",\"Sun\",\"Mon\",\"Tues\",\"Wed\",\"Thurs\",\"Fri\"]\n",
    "# plt.bar(weekdays, counts, width=0.3, color=[\"tomato\", \"darkorange\", \"yellow\",\"darkgreen\", \"darkcyan\", \"blue\",\"darkviolet\"])\n",
    "# ax = plt.gca()\n",
    "# ax.set_xticklabels(my_labels, rotation=45)\n",
    "# plt.xlabel(\"Weekday\")\n",
    "# plt.ylabel(\"Station Volume\")\n",
    "# plt.title(\"Station Volume vs. Weekday over week: \",y=1.1)\n",
    "# plt.show\n",
    "# plt.scatter(weekdays,counts)"
   ]
  },
  {
   "cell_type": "markdown",
   "metadata": {},
   "source": [
    "# Challenge 9\n",
    "\n",
    "Over multiple weeks, sum total ridership for each station and sort them, so you can find out the stations with the highest traffic during the time you investigate"
   ]
  },
  {
   "cell_type": "code",
   "execution_count": 345,
   "metadata": {
    "collapsed": false
   },
   "outputs": [],
   "source": [
    "    #an empty dictionary to hold the total counts\n",
    "# for station, date_counts in chal_6_dict.items():    \n",
    "#     total_station_volume = 0\n",
    "#     print date_counts\n",
    "#     for time, count in date_counts:    #loop over the time and the count\n",
    "#         total_station_volume += count\n",
    "#     chal_9_dict[station] = total_station_volume    \n",
    "\n",
    "station_list = []\n",
    "counts_list = []\n",
    "\n",
    "for station,date_counts in chal_6_dict.items():\n",
    "        total_station_volume = 0\n",
    "        for date,counts in date_counts.items():\n",
    "            total_station_volume += counts\n",
    "        station_list.append(station[0])  # Taking the station out of the tuple...\n",
    "        counts_list.append(total_station_volume)\n",
    "\n",
    "chal_9_df = pd.DataFrame(counts_list, index = station_list,columns = [\"Station Volume\"])"
   ]
  },
  {
   "cell_type": "code",
   "execution_count": 347,
   "metadata": {
    "collapsed": false
   },
   "outputs": [
    {
     "data": {
      "text/html": [
       "<div>\n",
       "<table border=\"1\" class=\"dataframe\">\n",
       "  <thead>\n",
       "    <tr style=\"text-align: right;\">\n",
       "      <th></th>\n",
       "      <th>Station Volume</th>\n",
       "    </tr>\n",
       "  </thead>\n",
       "  <tbody>\n",
       "    <tr>\n",
       "      <th>PATH WTC</th>\n",
       "      <td>477252</td>\n",
       "    </tr>\n",
       "    <tr>\n",
       "      <th>47-50 STS ROCK</th>\n",
       "      <td>395576</td>\n",
       "    </tr>\n",
       "    <tr>\n",
       "      <th>68ST-HUNTER CO</th>\n",
       "      <td>303819</td>\n",
       "    </tr>\n",
       "    <tr>\n",
       "      <th>LEXINGTON AV/53</th>\n",
       "      <td>284654</td>\n",
       "    </tr>\n",
       "    <tr>\n",
       "      <th>34 ST-HERALD SQ</th>\n",
       "      <td>283156</td>\n",
       "    </tr>\n",
       "    <tr>\n",
       "      <th>CHAMBERS ST</th>\n",
       "      <td>278746</td>\n",
       "    </tr>\n",
       "    <tr>\n",
       "      <th>BEDFORD AV</th>\n",
       "      <td>272600</td>\n",
       "    </tr>\n",
       "    <tr>\n",
       "      <th>THIRTY THIRD ST</th>\n",
       "      <td>268665</td>\n",
       "    </tr>\n",
       "    <tr>\n",
       "      <th>GRD CNTRL-42 ST</th>\n",
       "      <td>267245</td>\n",
       "    </tr>\n",
       "    <tr>\n",
       "      <th>34 ST-PENN STA</th>\n",
       "      <td>258055</td>\n",
       "    </tr>\n",
       "    <tr>\n",
       "      <th>GROVE STREET</th>\n",
       "      <td>246164</td>\n",
       "    </tr>\n",
       "    <tr>\n",
       "      <th>W 4 ST-WASH SQ</th>\n",
       "      <td>237293</td>\n",
       "    </tr>\n",
       "    <tr>\n",
       "      <th>JOURNAL SQUARE</th>\n",
       "      <td>233341</td>\n",
       "    </tr>\n",
       "    <tr>\n",
       "      <th>PAVONIA/NEWPORT</th>\n",
       "      <td>229529</td>\n",
       "    </tr>\n",
       "    <tr>\n",
       "      <th>JAY ST-METROTEC</th>\n",
       "      <td>224466</td>\n",
       "    </tr>\n",
       "    <tr>\n",
       "      <th>JAMAICA CENTER</th>\n",
       "      <td>224428</td>\n",
       "    </tr>\n",
       "    <tr>\n",
       "      <th>77 ST</th>\n",
       "      <td>223639</td>\n",
       "    </tr>\n",
       "    <tr>\n",
       "      <th>CITY / BUS</th>\n",
       "      <td>222390</td>\n",
       "    </tr>\n",
       "    <tr>\n",
       "      <th>8 AV</th>\n",
       "      <td>218739</td>\n",
       "    </tr>\n",
       "    <tr>\n",
       "      <th>125 ST</th>\n",
       "      <td>215862</td>\n",
       "    </tr>\n",
       "    <tr>\n",
       "      <th>EXCHANGE PLACE</th>\n",
       "      <td>213619</td>\n",
       "    </tr>\n",
       "    <tr>\n",
       "      <th>JUNCTION BLVD</th>\n",
       "      <td>203217</td>\n",
       "    </tr>\n",
       "    <tr>\n",
       "      <th>GRAND-NEWTOWN</th>\n",
       "      <td>189926</td>\n",
       "    </tr>\n",
       "    <tr>\n",
       "      <th>ASTORIA DITMARS</th>\n",
       "      <td>186202</td>\n",
       "    </tr>\n",
       "    <tr>\n",
       "      <th>14 ST-UNION SQ</th>\n",
       "      <td>185958</td>\n",
       "    </tr>\n",
       "    <tr>\n",
       "      <th>CROWN HTS-UTICA</th>\n",
       "      <td>185222</td>\n",
       "    </tr>\n",
       "    <tr>\n",
       "      <th>96 ST</th>\n",
       "      <td>182960</td>\n",
       "    </tr>\n",
       "    <tr>\n",
       "      <th>103 ST-CORONA</th>\n",
       "      <td>178377</td>\n",
       "    </tr>\n",
       "    <tr>\n",
       "      <th>SUTPHIN-ARCHER</th>\n",
       "      <td>176208</td>\n",
       "    </tr>\n",
       "    <tr>\n",
       "      <th>B'WAY-LAFAYETTE</th>\n",
       "      <td>175320</td>\n",
       "    </tr>\n",
       "    <tr>\n",
       "      <th>...</th>\n",
       "      <td>...</td>\n",
       "    </tr>\n",
       "    <tr>\n",
       "      <th>E 149 ST</th>\n",
       "      <td>14990</td>\n",
       "    </tr>\n",
       "    <tr>\n",
       "      <th>215 ST</th>\n",
       "      <td>14382</td>\n",
       "    </tr>\n",
       "    <tr>\n",
       "      <th>OCEAN PKWY</th>\n",
       "      <td>14240</td>\n",
       "    </tr>\n",
       "    <tr>\n",
       "      <th>AQUEDUCT N.COND</th>\n",
       "      <td>13853</td>\n",
       "    </tr>\n",
       "    <tr>\n",
       "      <th>FLUSHING AV</th>\n",
       "      <td>13683</td>\n",
       "    </tr>\n",
       "    <tr>\n",
       "      <th>CYPRESS HILLS</th>\n",
       "      <td>13462</td>\n",
       "    </tr>\n",
       "    <tr>\n",
       "      <th>ATLANTIC AV</th>\n",
       "      <td>13436</td>\n",
       "    </tr>\n",
       "    <tr>\n",
       "      <th>WHITLOCK AV</th>\n",
       "      <td>13422</td>\n",
       "    </tr>\n",
       "    <tr>\n",
       "      <th>GRAHAM AV</th>\n",
       "      <td>11958</td>\n",
       "    </tr>\n",
       "    <tr>\n",
       "      <th>WOODHAVEN BLVD</th>\n",
       "      <td>11349</td>\n",
       "    </tr>\n",
       "    <tr>\n",
       "      <th>NEWARK HM HE</th>\n",
       "      <td>11156</td>\n",
       "    </tr>\n",
       "    <tr>\n",
       "      <th>W 8 ST-AQUARIUM</th>\n",
       "      <td>10927</td>\n",
       "    </tr>\n",
       "    <tr>\n",
       "      <th>PROSPECT AV</th>\n",
       "      <td>10157</td>\n",
       "    </tr>\n",
       "    <tr>\n",
       "      <th>BEACH 90 ST</th>\n",
       "      <td>10123</td>\n",
       "    </tr>\n",
       "    <tr>\n",
       "      <th>80 ST</th>\n",
       "      <td>9922</td>\n",
       "    </tr>\n",
       "    <tr>\n",
       "      <th>E 143/ST MARY'S</th>\n",
       "      <td>9050</td>\n",
       "    </tr>\n",
       "    <tr>\n",
       "      <th>BEACH 36 ST</th>\n",
       "      <td>9007</td>\n",
       "    </tr>\n",
       "    <tr>\n",
       "      <th>28 ST</th>\n",
       "      <td>8008</td>\n",
       "    </tr>\n",
       "    <tr>\n",
       "      <th>TOMPKINSVILLE</th>\n",
       "      <td>7900</td>\n",
       "    </tr>\n",
       "    <tr>\n",
       "      <th>BEACH 98 ST</th>\n",
       "      <td>7119</td>\n",
       "    </tr>\n",
       "    <tr>\n",
       "      <th>ROCKAWAY PARK B</th>\n",
       "      <td>6949</td>\n",
       "    </tr>\n",
       "    <tr>\n",
       "      <th>161/YANKEE STAD</th>\n",
       "      <td>6648</td>\n",
       "    </tr>\n",
       "    <tr>\n",
       "      <th>LONGWOOD AV</th>\n",
       "      <td>6518</td>\n",
       "    </tr>\n",
       "    <tr>\n",
       "      <th>BEACH 44 ST</th>\n",
       "      <td>6367</td>\n",
       "    </tr>\n",
       "    <tr>\n",
       "      <th>PATH WTC 2</th>\n",
       "      <td>5185</td>\n",
       "    </tr>\n",
       "    <tr>\n",
       "      <th>BROAD CHANNEL</th>\n",
       "      <td>4020</td>\n",
       "    </tr>\n",
       "    <tr>\n",
       "      <th>BEACH 105 ST</th>\n",
       "      <td>3864</td>\n",
       "    </tr>\n",
       "    <tr>\n",
       "      <th>VAN SICLEN AV</th>\n",
       "      <td>2818</td>\n",
       "    </tr>\n",
       "    <tr>\n",
       "      <th>111 ST</th>\n",
       "      <td>599</td>\n",
       "    </tr>\n",
       "    <tr>\n",
       "      <th>METS-WILLETS PT</th>\n",
       "      <td>68</td>\n",
       "    </tr>\n",
       "  </tbody>\n",
       "</table>\n",
       "<p>373 rows × 1 columns</p>\n",
       "</div>"
      ],
      "text/plain": [
       "                 Station Volume\n",
       "PATH WTC                 477252\n",
       "47-50 STS ROCK           395576\n",
       "68ST-HUNTER CO           303819\n",
       "LEXINGTON AV/53          284654\n",
       "34 ST-HERALD SQ          283156\n",
       "CHAMBERS ST              278746\n",
       "BEDFORD AV               272600\n",
       "THIRTY THIRD ST          268665\n",
       "GRD CNTRL-42 ST          267245\n",
       "34 ST-PENN STA           258055\n",
       "GROVE STREET             246164\n",
       "W 4 ST-WASH SQ           237293\n",
       "JOURNAL SQUARE           233341\n",
       "PAVONIA/NEWPORT          229529\n",
       "JAY ST-METROTEC          224466\n",
       "JAMAICA CENTER           224428\n",
       "77 ST                    223639\n",
       "CITY / BUS               222390\n",
       "8 AV                     218739\n",
       "125 ST                   215862\n",
       "EXCHANGE PLACE           213619\n",
       "JUNCTION BLVD            203217\n",
       "GRAND-NEWTOWN            189926\n",
       "ASTORIA DITMARS          186202\n",
       "14 ST-UNION SQ           185958\n",
       "CROWN HTS-UTICA          185222\n",
       "96 ST                    182960\n",
       "103 ST-CORONA            178377\n",
       "SUTPHIN-ARCHER           176208\n",
       "B'WAY-LAFAYETTE          175320\n",
       "...                         ...\n",
       "E 149 ST                  14990\n",
       "215 ST                    14382\n",
       "OCEAN PKWY                14240\n",
       "AQUEDUCT N.COND           13853\n",
       "FLUSHING AV               13683\n",
       "CYPRESS HILLS             13462\n",
       "ATLANTIC AV               13436\n",
       "WHITLOCK AV               13422\n",
       "GRAHAM AV                 11958\n",
       "WOODHAVEN BLVD            11349\n",
       "NEWARK HM HE              11156\n",
       "W 8 ST-AQUARIUM           10927\n",
       "PROSPECT AV               10157\n",
       "BEACH 90 ST               10123\n",
       "80 ST                      9922\n",
       "E 143/ST MARY'S            9050\n",
       "BEACH 36 ST                9007\n",
       "28 ST                      8008\n",
       "TOMPKINSVILLE              7900\n",
       "BEACH 98 ST                7119\n",
       "ROCKAWAY PARK B            6949\n",
       "161/YANKEE STAD            6648\n",
       "LONGWOOD AV                6518\n",
       "BEACH 44 ST                6367\n",
       "PATH WTC 2                 5185\n",
       "BROAD CHANNEL              4020\n",
       "BEACH 105 ST               3864\n",
       "VAN SICLEN AV              2818\n",
       "111 ST                      599\n",
       "METS-WILLETS PT              68\n",
       "\n",
       "[373 rows x 1 columns]"
      ]
     },
     "execution_count": 347,
     "metadata": {},
     "output_type": "execute_result"
    }
   ],
   "source": [
    "chal_9_df.sort(columns = \"Station Volume\", ascending = False)"
   ]
  },
  {
   "cell_type": "markdown",
   "metadata": {},
   "source": [
    "# Challenge 10\n",
    "\n",
    "Make a single list of these total ridership values and plot it with\n",
    "\n",
    "plt.hist(total_ridership_counts)\n",
    "\n",
    "to get an idea about the distribution of total ridership among different stations.\n",
    "\n",
    "This should show you that most stations have a small traffic, and the histogram bins for large traffic volumes have small bars.\n",
    "\n",
    "Additional Hint:\n",
    "\n",
    "If you want to see which stations take the meat of the traffic, you can sort the total ridership counts and make a plt.bar graph. For this, you want to have two lists: the indices of each bar, and the values. The indices can just be 0,1,2,3,..., so you can do\n",
    "\n",
    "indices = range(len(total_ridership_values))\n",
    "plt.bar(indices, total_ridership_values)"
   ]
  },
  {
   "cell_type": "code",
   "execution_count": 356,
   "metadata": {
    "collapsed": false
   },
   "outputs": [
    {
     "data": {
      "text/plain": [
       "(array([ 171.,  110.,   41.,   29.,   11.,    8.,    1.,    0.,    1.,    1.]),\n",
       " array([  6.80000000e+01,   4.77864000e+04,   9.55048000e+04,\n",
       "          1.43223200e+05,   1.90941600e+05,   2.38660000e+05,\n",
       "          2.86378400e+05,   3.34096800e+05,   3.81815200e+05,\n",
       "          4.29533600e+05,   4.77252000e+05]),\n",
       " <a list of 10 Patch objects>)"
      ]
     },
     "execution_count": 356,
     "metadata": {},
     "output_type": "execute_result"
    },
    {
     "data": {
      "image/png": "[encoded data removed]",
      "text/plain": [
       "<matplotlib.figure.Figure at 0x149e7a390>"
      ]
     },
     "metadata": {},
     "output_type": "display_data"
    }
   ],
   "source": [
    "plt.figure(figsize=(25,10))\n",
    "plt.hist(chal_9_df[\"Station Volume\"])"
   ]
  },
  {
   "cell_type": "code",
   "execution_count": 365,
   "metadata": {
    "collapsed": false
   },
   "outputs": [
    {
     "data": {
      "text/plain": [
       "<Container object of 373 artists>"
      ]
     },
     "execution_count": 365,
     "metadata": {},
     "output_type": "execute_result"
    },
    {
     "data": {
      "image/png": "[encoded data removed]",
      "text/plain": [
       "<matplotlib.figure.Figure at 0x13364ebd0>"
      ]
     },
     "metadata": {},
     "output_type": "display_data"
    }
   ],
   "source": [
    "indices = range(len(chal_9_df[\"Station Volume\"])) \n",
    "plt.figure(figsize=(25,10))\n",
    "plt.bar(indices, sorted(chal_9_df[\"Station Volume\"]))"
   ]
  },
  {
   "cell_type": "code",
   "execution_count": null,
   "metadata": {
    "collapsed": true
   },
   "outputs": [],
   "source": []
  }
 ],
 "metadata": {
  "kernelspec": {
   "display_name": "Python 2",
   "language": "python",
   "name": "python2"
  },
  "language_info": {
   "codemirror_mode": {
    "name": "ipython",
    "version": 2
   },
   "file_extension": ".py",
   "mimetype": "text/x-python",
   "name": "python",
   "nbconvert_exporter": "python",
   "pygments_lexer": "ipython2",
   "version": "2.7.11"
  }
 },
 "nbformat": 4,
 "nbformat_minor": 0
}
