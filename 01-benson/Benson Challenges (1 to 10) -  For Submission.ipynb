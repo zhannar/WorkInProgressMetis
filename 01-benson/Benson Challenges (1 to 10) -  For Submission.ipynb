{
 "cells": [
  {
   "cell_type": "markdown",
   "metadata": {},
   "source": [
    "# Challenge 1\n",
    "\n",
    "- Open up a new IPython notebook\n",
    "- Download a few MTA turnstile data files\n",
    "- Open up a file, use csv reader to read it, make a python dict where there is a key for each (C/A, UNIT, SCP, STATION). These are the first four columns. The value for this key should be a list of lists. Each list in the list is the rest of the columns in a row. For example, one key-value pair should look like\n",
    "\n",
    "{ ('A002','R051','02-00-00','LEXINGTON AVE'): [ ['NQR456', 'BMT', '01/03/2015', '03:00:00', 'REGULAR', '0004945474', '0001675324'], ['NQR456', 'BMT', '01/03/2015', '07:00:00', 'REGULAR', '0004945478', '0001675333'], ['NQR456', 'BMT', '01/03/2015', '11:00:00', 'REGULAR', '0004945515', '0001675364'], ... ] }"
   ]
  },
  {
   "cell_type": "code",
   "execution_count": 1,
   "metadata": {
    "collapsed": true
   },
   "outputs": [],
   "source": [
    "import csv"
   ]
  },
  {
   "cell_type": "code",
   "execution_count": 22,
   "metadata": {
    "collapsed": true
   },
   "outputs": [],
   "source": [
    "def read_data(data):\n",
    "   parsed_data = []\n",
    "   with open(data) as csv_file:\n",
    "       reader = csv.DictReader(csv_file)\n",
    "       for row in reader:\n",
    "           parsed_data.append(row)\n",
    "   return parsed_data"
   ]
  },
  {
   "cell_type": "code",
   "execution_count": 23,
   "metadata": {
    "collapsed": false
   },
   "outputs": [],
   "source": [
    "data = read_data('turnstile_160319.txt')\n",
    "data = data[0:100]"
   ]
  },
  {
   "cell_type": "code",
   "execution_count": 24,
   "metadata": {
    "collapsed": false
   },
   "outputs": [],
   "source": [
    "chal_1_dict = {}\n",
    "\n",
    "for x in data:\n",
    "    ca = x[\"C/A\"]\n",
    "    unit = x[\"UNIT\"]\n",
    "    scp = x[\"SCP\"]\n",
    "    station =  x[\"STATION\"]\n",
    "\n",
    "    my_tuple = (ca, unit, scp, station)\n",
    "\n",
    "    linelame = x[\"LINENAME\"]\n",
    "    division =x[\"DIVISION\"]\n",
    "    date = x[\"DATE\"]\n",
    "    time = x[\"TIME\"]\n",
    "    desc = x[\"DESC\"]\n",
    "    entries = x[\"ENTRIES\"]\n",
    "    exits = x['EXITS                                                               ']\n",
    "    # Removing all the whitespace that comes in the exits key\n",
    "    exits = exits.strip()\n",
    "    \n",
    "    values_list = [linelame, division,date,time, desc, entries, exits]\n",
    "        \n",
    "    if my_tuple not in chal_1_dict:\n",
    "        chal_1_dict[my_tuple] = [values_list]\n",
    "    else:\n",
    "        chal_1_dict[my_tuple] = chal_1_dict[my_tuple] + [values_list]"
   ]
  },
  {
   "cell_type": "code",
   "execution_count": 25,
   "metadata": {
    "collapsed": false,
    "scrolled": true
   },
   "outputs": [
    {
     "name": "stdout",
     "output_type": "stream",
     "text": [
      "{('A002', 'R051', '02-00-00', '59 ST'): [['NQR456', 'BMT', '03/12/2016', '03:00:00', 'REGULAR', '0005583673', '0001884949'], ['NQR456', 'BMT', '03/12/2016', '07:00:00', 'REGULAR', '0005583689', '0001884968'], ['NQR456', 'BMT', '03/12/2016', '11:00:00', 'REGULAR', '0005583785', '0001885067'], ['NQR456', 'BMT', '03/12/2016', '15:00:00', 'REGULAR', '0005584037', '0001885157'], ['NQR456', 'BMT', '03/12/2016', '19:00:00', 'REGULAR', '0005584482', '0001885250'], ['NQR456', 'BMT', '03/12/2016', '23:00:00', 'REGULAR', '0005584768', '0001885284'], ['NQR456', 'BMT', '03/13/2016', '04:00:00', 'REGULAR', '0005584835', '0001885305'], ['NQR456', 'BMT', '03/13/2016', '08:00:00', 'REGULAR', '0005584851', '0001885325'], ['NQR456', 'BMT', '03/13/2016', '12:00:00', 'REGULAR', '0005584909', '0001885403'], ['NQR456', 'BMT', '03/13/2016', '16:00:00', 'REGULAR', '0005585119', '0001885458'], ['NQR456', 'BMT', '03/13/2016', '20:00:00', 'REGULAR', '0005585346', '0001885500'], ['NQR456', 'BMT', '03/14/2016', '00:00:00', 'REGULAR', '0005585473', '0001885526'], ['NQR456', 'BMT', '03/14/2016', '04:00:00', 'REGULAR', '0005585482', '0001885527'], ['NQR456', 'BMT', '03/14/2016', '08:00:00', 'REGULAR', '0005585531', '0001885624'], ['NQR456', 'BMT', '03/14/2016', '12:00:00', 'REGULAR', '0005585680', '0001885859'], ['NQR456', 'BMT', '03/14/2016', '16:00:00', 'REGULAR', '0005585933', '0001885925'], ['NQR456', 'BMT', '03/14/2016', '20:00:00', 'REGULAR', '0005586481', '0001886343'], ['NQR456', 'BMT', '03/15/2016', '00:00:00', 'REGULAR', '0005586640', '0001886393'], ['NQR456', 'BMT', '03/15/2016', '04:00:00', 'REGULAR', '0005586649', '0001886398'], ['NQR456', 'BMT', '03/15/2016', '08:00:00', 'REGULAR', '0005586694', '0001886502'], ['NQR456', 'BMT', '03/15/2016', '12:00:00', 'REGULAR', '0005586796', '0001886882'], ['NQR456', 'BMT', '03/15/2016', '16:00:00', 'REGULAR', '0005587096', '0001886963'], ['NQR456', 'BMT', '03/15/2016', '20:00:00', 'REGULAR', '0005587516', '0001887156'], ['NQR456', 'BMT', '03/16/2016', '00:00:00', 'REGULAR', '0005587644', '0001887168'], ['NQR456', 'BMT', '03/16/2016', '04:00:00', 'REGULAR', '0005587644', '0001887168'], ['NQR456', 'BMT', '03/16/2016', '08:00:00', 'REGULAR', '0005587674', '0001887247'], ['NQR456', 'BMT', '03/16/2016', '12:00:00', 'REGULAR', '0005587710', '0001887282'], ['NQR456', 'BMT', '03/16/2016', '16:00:00', 'REGULAR', '0005587966', '0001887336'], ['NQR456', 'BMT', '03/16/2016', '20:00:00', 'REGULAR', '0005588468', '0001887692'], ['NQR456', 'BMT', '03/17/2016', '00:00:00', 'REGULAR', '0005588611', '0001887703'], ['NQR456', 'BMT', '03/17/2016', '04:00:00', 'REGULAR', '0005588623', '0001887707'], ['NQR456', 'BMT', '03/17/2016', '08:00:00', 'REGULAR', '0005588671', '0001887831'], ['NQR456', 'BMT', '03/17/2016', '12:00:00', 'REGULAR', '0005588718', '0001887999'], ['NQR456', 'BMT', '03/17/2016', '16:00:00', 'REGULAR', '0005588864', '0001888038'], ['NQR456', 'BMT', '03/17/2016', '20:00:00', 'REGULAR', '0005589445', '0001888331'], ['NQR456', 'BMT', '03/18/2016', '00:00:00', 'REGULAR', '0005589621', '0001888364'], ['NQR456', 'BMT', '03/18/2016', '04:00:00', 'REGULAR', '0005589621', '0001888364'], ['NQR456', 'BMT', '03/18/2016', '08:00:00', 'REGULAR', '0005589662', '0001888470'], ['NQR456', 'BMT', '03/18/2016', '12:00:00', 'REGULAR', '0005589769', '0001888604'], ['NQR456', 'BMT', '03/18/2016', '16:00:00', 'REGULAR', '0005590056', '0001888679'], ['NQR456', 'BMT', '03/18/2016', '20:00:00', 'REGULAR', '0005590568', '0001888979']], ('A002', 'R051', '02-03-00', '59 ST'): [['NQR456', 'BMT', '03/12/2016', '03:00:00', 'REGULAR', '0000662624', '0002496965'], ['NQR456', 'BMT', '03/12/2016', '07:00:00', 'REGULAR', '0000662632', '0002497001'], ['NQR456', 'BMT', '03/12/2016', '11:00:00', 'REGULAR', '0000662672', '0002497344'], ['NQR456', 'BMT', '03/12/2016', '15:00:00', 'REGULAR', '0000662756', '0002497792'], ['NQR456', 'BMT', '03/12/2016', '19:00:00', 'REGULAR', '0000662906', '0002498308'], ['NQR456', 'BMT', '03/12/2016', '23:00:00', 'REGULAR', '0000663028', '0002498519'], ['NQR456', 'BMT', '03/13/2016', '04:00:00', 'REGULAR', '0000663065', '0002498592'], ['NQR456', 'BMT', '03/13/2016', '08:00:00', 'REGULAR', '0000663069', '0002498659'], ['NQR456', 'BMT', '03/13/2016', '12:00:00', 'REGULAR', '0000663088', '0002498908'], ['NQR456', 'BMT', '03/13/2016', '16:00:00', 'REGULAR', '0000663175', '0002499262'], ['NQR456', 'BMT', '03/13/2016', '20:00:00', 'REGULAR', '0000663324', '0002499618'], ['NQR456', 'BMT', '03/14/2016', '00:00:00', 'REGULAR', '0000663402', '0002499761'], ['NQR456', 'BMT', '03/14/2016', '04:00:00', 'REGULAR', '0000663411', '0002499772'], ['NQR456', 'BMT', '03/14/2016', '08:00:00', 'REGULAR', '0000663429', '0002500028'], ['NQR456', 'BMT', '03/14/2016', '12:00:00', 'REGULAR', '0000663466', '0002500713'], ['NQR456', 'BMT', '03/14/2016', '16:00:00', 'REGULAR', '0000663575', '0002501129'], ['NQR456', 'BMT', '03/14/2016', '20:00:00', 'REGULAR', '0000663997', '0002501793'], ['NQR456', 'BMT', '03/15/2016', '00:00:00', 'REGULAR', '0000664087', '0002501985']], ('A002', 'R051', '02-00-01', '59 ST'): [['NQR456', 'BMT', '03/12/2016', '03:00:00', 'REGULAR', '0005132898', '0001120917'], ['NQR456', 'BMT', '03/12/2016', '07:00:00', 'REGULAR', '0005132906', '0001120929'], ['NQR456', 'BMT', '03/12/2016', '11:00:00', 'REGULAR', '0005132977', '0001120996'], ['NQR456', 'BMT', '03/12/2016', '15:00:00', 'REGULAR', '0005133224', '0001121053'], ['NQR456', 'BMT', '03/12/2016', '19:00:00', 'REGULAR', '0005133620', '0001121106'], ['NQR456', 'BMT', '03/12/2016', '23:00:00', 'REGULAR', '0005133833', '0001121128'], ['NQR456', 'BMT', '03/13/2016', '04:00:00', 'REGULAR', '0005133882', '0001121136'], ['NQR456', 'BMT', '03/13/2016', '08:00:00', 'REGULAR', '0005133893', '0001121150'], ['NQR456', 'BMT', '03/13/2016', '12:00:00', 'REGULAR', '0005133946', '0001121196'], ['NQR456', 'BMT', '03/13/2016', '16:00:00', 'REGULAR', '0005134127', '0001121236'], ['NQR456', 'BMT', '03/13/2016', '20:00:00', 'REGULAR', '0005134353', '0001121269'], ['NQR456', 'BMT', '03/14/2016', '00:00:00', 'REGULAR', '0005134456', '0001121289'], ['NQR456', 'BMT', '03/14/2016', '04:00:00', 'REGULAR', '0005134470', '0001121290'], ['NQR456', 'BMT', '03/14/2016', '08:00:00', 'REGULAR', '0005134519', '0001121328'], ['NQR456', 'BMT', '03/14/2016', '12:00:00', 'REGULAR', '0005134659', '0001121446'], ['NQR456', 'BMT', '03/14/2016', '16:00:00', 'REGULAR', '0005134887', '0001121502'], ['NQR456', 'BMT', '03/14/2016', '20:00:00', 'REGULAR', '0005135464', '0001121971'], ['NQR456', 'BMT', '03/15/2016', '00:00:00', 'REGULAR', '0005135640', '0001122000'], ['NQR456', 'BMT', '03/15/2016', '04:00:00', 'REGULAR', '0005135650', '0001122002'], ['NQR456', 'BMT', '03/15/2016', '08:00:00', 'REGULAR', '0005135692', '0001122044'], ['NQR456', 'BMT', '03/15/2016', '12:00:00', 'REGULAR', '0005135820', '0001122230'], ['NQR456', 'BMT', '03/15/2016', '16:00:00', 'REGULAR', '0005136082', '0001122294'], ['NQR456', 'BMT', '03/15/2016', '20:00:00', 'REGULAR', '0005136479', '0001122754'], ['NQR456', 'BMT', '03/16/2016', '00:00:00', 'REGULAR', '0005136589', '0001122770'], ['NQR456', 'BMT', '03/16/2016', '04:00:00', 'REGULAR', '0005136589', '0001122770'], ['NQR456', 'BMT', '03/16/2016', '08:00:00', 'REGULAR', '0005136619', '0001122807'], ['NQR456', 'BMT', '03/16/2016', '12:00:00', 'REGULAR', '0005136654', '0001122829'], ['NQR456', 'BMT', '03/16/2016', '16:00:00', 'REGULAR', '0005136900', '0001122885'], ['NQR456', 'BMT', '03/16/2016', '20:00:00', 'REGULAR', '0005137407', '0001123302'], ['NQR456', 'BMT', '03/17/2016', '00:00:00', 'REGULAR', '0005137505', '0001123310'], ['NQR456', 'BMT', '03/17/2016', '04:00:00', 'REGULAR', '0005137518', '0001123312'], ['NQR456', 'BMT', '03/17/2016', '08:00:00', 'REGULAR', '0005137569', '0001123359'], ['NQR456', 'BMT', '03/17/2016', '12:00:00', 'REGULAR', '0005137640', '0001123433'], ['NQR456', 'BMT', '03/17/2016', '16:00:00', 'REGULAR', '0005137759', '0001123459'], ['NQR456', 'BMT', '03/17/2016', '20:00:00', 'REGULAR', '0005138298', '0001123837'], ['NQR456', 'BMT', '03/18/2016', '00:00:00', 'REGULAR', '0005138424', '0001123853'], ['NQR456', 'BMT', '03/18/2016', '04:00:00', 'REGULAR', '0005138424', '0001123853'], ['NQR456', 'BMT', '03/18/2016', '08:00:00', 'REGULAR', '0005138468', '0001123889'], ['NQR456', 'BMT', '03/18/2016', '12:00:00', 'REGULAR', '0005138552', '0001123965'], ['NQR456', 'BMT', '03/18/2016', '16:00:00', 'REGULAR', '0005138798', '0001124020'], ['NQR456', 'BMT', '03/18/2016', '20:00:00', 'REGULAR', '0005139316', '0001124317']]}\n"
     ]
    }
   ],
   "source": [
    "# print chal_1_dict"
   ]
  },
  {
   "cell_type": "markdown",
   "metadata": {},
   "source": [
    "# Challenge 2\n",
    "\n",
    "Let's turn this into a time series.\n",
    "\n",
    "For each key (basically the control area, unit, device address and station of a specific turnstile), have a list again, but let the list be comprised of just the point in time and the count of entries.\n",
    "\n",
    "This basically means keeping only the date, time, and entries fields in each list. You can convert the date and time into datetime objects -- That is a python class that represents a point in time. You can combine the date and time fields into a string and use the dateutil module to convert it into a datetime object. For an example check this StackOverflow question.\n",
    "\n",
    "Your new dict should look something like\n",
    "\n",
    "{ ('A002','R051','02-00-00','LEXINGTON AVE'): [ [datetime.datetime(2013, 3, 2, 3, 0), 3788], [datetime.datetime(2013, 3, 2, 7, 0), 2585], [datetime.datetime(2013, 3, 2, 12, 0), 10653], [datetime.datetime(2013, 3, 2, 17, 0), 11016], [datetime.datetime(2013, 3, 2, 23, 0), 10666], [datetime.datetime(2013, 3, 3, 3, 0), 10814], [datetime.datetime(2013, 3, 3, 7, 0), 10229], ... ], .... }"
   ]
  },
  {
   "cell_type": "code",
   "execution_count": 27,
   "metadata": {
    "collapsed": true
   },
   "outputs": [],
   "source": []
  },
  {
   "cell_type": "code",
   "execution_count": 30,
   "metadata": {
    "collapsed": false
   },
   "outputs": [],
   "source": [
    "# Part 1 - Converting the dates & times\n",
    "\n",
    "import dateutil.parser\n",
    "\n",
    "chal_2_dict = {}\n",
    "\n",
    "for key in chal_1_dict:\n",
    "    for timestamp in chal_1_dict[key]:\n",
    "        entries = int(timestamp[-2])\n",
    "        date_unparsed = timestamp[2]\n",
    "        time_unparsed = timestamp[3]\n",
    "        date_time_combo = date_unparsed + \" \" + time_unparsed\n",
    "        time_list = [dateutil.parser.parse(date_time_combo),entries]\n",
    "        \n",
    "        if key not in chal_2_dict:\n",
    "            chal_2_dict[key] = [time_list]\n",
    "        else:\n",
    "            chal_2_dict[key] = chal_2_dict[key] + [time_list]"
   ]
  },
  {
   "cell_type": "code",
   "execution_count": 33,
   "metadata": {
    "collapsed": false
   },
   "outputs": [
    {
     "name": "stdout",
     "output_type": "stream",
     "text": [
      "{('A002', 'R051', '02-00-00', '59 ST'): [[datetime.datetime(2016, 3, 12, 3, 0), 5583673], [datetime.datetime(2016, 3, 12, 7, 0), 5583689], [datetime.datetime(2016, 3, 12, 11, 0), 5583785], [datetime.datetime(2016, 3, 12, 15, 0), 5584037], [datetime.datetime(2016, 3, 12, 19, 0), 5584482], [datetime.datetime(2016, 3, 12, 23, 0), 5584768], [datetime.datetime(2016, 3, 13, 4, 0), 5584835], [datetime.datetime(2016, 3, 13, 8, 0), 5584851], [datetime.datetime(2016, 3, 13, 12, 0), 5584909], [datetime.datetime(2016, 3, 13, 16, 0), 5585119], [datetime.datetime(2016, 3, 13, 20, 0), 5585346], [datetime.datetime(2016, 3, 14, 0, 0), 5585473], [datetime.datetime(2016, 3, 14, 4, 0), 5585482], [datetime.datetime(2016, 3, 14, 8, 0), 5585531], [datetime.datetime(2016, 3, 14, 12, 0), 5585680], [datetime.datetime(2016, 3, 14, 16, 0), 5585933], [datetime.datetime(2016, 3, 14, 20, 0), 5586481], [datetime.datetime(2016, 3, 15, 0, 0), 5586640], [datetime.datetime(2016, 3, 15, 4, 0), 5586649], [datetime.datetime(2016, 3, 15, 8, 0), 5586694], [datetime.datetime(2016, 3, 15, 12, 0), 5586796], [datetime.datetime(2016, 3, 15, 16, 0), 5587096], [datetime.datetime(2016, 3, 15, 20, 0), 5587516], [datetime.datetime(2016, 3, 16, 0, 0), 5587644], [datetime.datetime(2016, 3, 16, 4, 0), 5587644], [datetime.datetime(2016, 3, 16, 8, 0), 5587674], [datetime.datetime(2016, 3, 16, 12, 0), 5587710], [datetime.datetime(2016, 3, 16, 16, 0), 5587966], [datetime.datetime(2016, 3, 16, 20, 0), 5588468], [datetime.datetime(2016, 3, 17, 0, 0), 5588611], [datetime.datetime(2016, 3, 17, 4, 0), 5588623], [datetime.datetime(2016, 3, 17, 8, 0), 5588671], [datetime.datetime(2016, 3, 17, 12, 0), 5588718], [datetime.datetime(2016, 3, 17, 16, 0), 5588864], [datetime.datetime(2016, 3, 17, 20, 0), 5589445], [datetime.datetime(2016, 3, 18, 0, 0), 5589621], [datetime.datetime(2016, 3, 18, 4, 0), 5589621], [datetime.datetime(2016, 3, 18, 8, 0), 5589662], [datetime.datetime(2016, 3, 18, 12, 0), 5589769], [datetime.datetime(2016, 3, 18, 16, 0), 5590056], [datetime.datetime(2016, 3, 18, 20, 0), 5590568]], ('A002', 'R051', '02-00-01', '59 ST'): [[datetime.datetime(2016, 3, 12, 3, 0), 5132898], [datetime.datetime(2016, 3, 12, 7, 0), 5132906], [datetime.datetime(2016, 3, 12, 11, 0), 5132977], [datetime.datetime(2016, 3, 12, 15, 0), 5133224], [datetime.datetime(2016, 3, 12, 19, 0), 5133620], [datetime.datetime(2016, 3, 12, 23, 0), 5133833], [datetime.datetime(2016, 3, 13, 4, 0), 5133882], [datetime.datetime(2016, 3, 13, 8, 0), 5133893], [datetime.datetime(2016, 3, 13, 12, 0), 5133946], [datetime.datetime(2016, 3, 13, 16, 0), 5134127], [datetime.datetime(2016, 3, 13, 20, 0), 5134353], [datetime.datetime(2016, 3, 14, 0, 0), 5134456], [datetime.datetime(2016, 3, 14, 4, 0), 5134470], [datetime.datetime(2016, 3, 14, 8, 0), 5134519], [datetime.datetime(2016, 3, 14, 12, 0), 5134659], [datetime.datetime(2016, 3, 14, 16, 0), 5134887], [datetime.datetime(2016, 3, 14, 20, 0), 5135464], [datetime.datetime(2016, 3, 15, 0, 0), 5135640], [datetime.datetime(2016, 3, 15, 4, 0), 5135650], [datetime.datetime(2016, 3, 15, 8, 0), 5135692], [datetime.datetime(2016, 3, 15, 12, 0), 5135820], [datetime.datetime(2016, 3, 15, 16, 0), 5136082], [datetime.datetime(2016, 3, 15, 20, 0), 5136479], [datetime.datetime(2016, 3, 16, 0, 0), 5136589], [datetime.datetime(2016, 3, 16, 4, 0), 5136589], [datetime.datetime(2016, 3, 16, 8, 0), 5136619], [datetime.datetime(2016, 3, 16, 12, 0), 5136654], [datetime.datetime(2016, 3, 16, 16, 0), 5136900], [datetime.datetime(2016, 3, 16, 20, 0), 5137407], [datetime.datetime(2016, 3, 17, 0, 0), 5137505], [datetime.datetime(2016, 3, 17, 4, 0), 5137518], [datetime.datetime(2016, 3, 17, 8, 0), 5137569], [datetime.datetime(2016, 3, 17, 12, 0), 5137640], [datetime.datetime(2016, 3, 17, 16, 0), 5137759], [datetime.datetime(2016, 3, 17, 20, 0), 5138298], [datetime.datetime(2016, 3, 18, 0, 0), 5138424], [datetime.datetime(2016, 3, 18, 4, 0), 5138424], [datetime.datetime(2016, 3, 18, 8, 0), 5138468], [datetime.datetime(2016, 3, 18, 12, 0), 5138552], [datetime.datetime(2016, 3, 18, 16, 0), 5138798], [datetime.datetime(2016, 3, 18, 20, 0), 5139316]], ('A002', 'R051', '02-03-00', '59 ST'): [[datetime.datetime(2016, 3, 12, 3, 0), 662624], [datetime.datetime(2016, 3, 12, 7, 0), 662632], [datetime.datetime(2016, 3, 12, 11, 0), 662672], [datetime.datetime(2016, 3, 12, 15, 0), 662756], [datetime.datetime(2016, 3, 12, 19, 0), 662906], [datetime.datetime(2016, 3, 12, 23, 0), 663028], [datetime.datetime(2016, 3, 13, 4, 0), 663065], [datetime.datetime(2016, 3, 13, 8, 0), 663069], [datetime.datetime(2016, 3, 13, 12, 0), 663088], [datetime.datetime(2016, 3, 13, 16, 0), 663175], [datetime.datetime(2016, 3, 13, 20, 0), 663324], [datetime.datetime(2016, 3, 14, 0, 0), 663402], [datetime.datetime(2016, 3, 14, 4, 0), 663411], [datetime.datetime(2016, 3, 14, 8, 0), 663429], [datetime.datetime(2016, 3, 14, 12, 0), 663466], [datetime.datetime(2016, 3, 14, 16, 0), 663575], [datetime.datetime(2016, 3, 14, 20, 0), 663997], [datetime.datetime(2016, 3, 15, 0, 0), 664087]]}\n"
     ]
    }
   ],
   "source": [
    "print chal_2_dict"
   ]
  },
  {
   "cell_type": "code",
   "execution_count": 76,
   "metadata": {
    "collapsed": false
   },
   "outputs": [],
   "source": [
    "chal_2_dict = {turnstile: [[rows[i][0],\n",
    "                                     rows[i+1][1] - rows[i][1]]\n",
    "                                    for i in range(len(rows) - 1)]\n",
    "                        for turnstile, rows in chal_2_dict.items()}    #make a new dictionary; keys will be the turnstiles, each will have a list of lists, each of which will give date, change in entries from last time, and elasped time"
   ]
  },
  {
   "cell_type": "markdown",
   "metadata": {},
   "source": [
    "# Challenge 3\n",
    "\n",
    "These counts are for every n hours. (What is n?) We want total daily entries.\n",
    "Now make it that we again have the same keys, but now we have a single value for a single day, which is the total number of passengers that entered through this turnstile on this day."
   ]
  },
  {
   "cell_type": "markdown",
   "metadata": {},
   "source": [
    "n = 4 for most of the dataset. There are some occasions when n bumps to 5 hours (e.g. when the schedules goes from (in military time) 1900 to 2300 and then to 0400 and 0800). There are other times when there are \"audits\" which aren't taken on the hour, and occur at strange times like 5:37. This creates an arbitrary amount of time between itself and the previous/subsequent time."
   ]
  },
  {
   "cell_type": "code",
   "execution_count": null,
   "metadata": {
    "collapsed": true
   },
   "outputs": [],
   "source": []
  },
  {
   "cell_type": "code",
   "execution_count": 93,
   "metadata": {
    "collapsed": true
   },
   "outputs": [],
   "source": [
    "# row[i][0] - This is the datetime elements\n",
    "# row[i][1] - This is the entries elements\n",
    "\n",
    "chal_3_dict = {turnstile: [[rows[i][0],\n",
    "                                     rows[i+1][1] - rows[i][1]]\n",
    "                                    for i in range(len(rows) - 1)]\n",
    "                        for turnstile, rows in chal_2_dict.items()}    #make a new dictionary; keys will be the turnstiles, each will have a list of lists, each of which will give date, change in entries from last time, and elasped time"
   ]
  },
  {
   "cell_type": "code",
   "execution_count": 94,
   "metadata": {
    "collapsed": false
   },
   "outputs": [],
   "source": [
    "chal_3_dict = {turnstile: [(time, count)\n",
    "                               for (time, count) in rows\n",
    "                               if 0 <= count <= 5000]\n",
    "                   for turnstile, rows in chal_3_dict.items()}    #make one more dictionary; keys will be turnstiles, each will have a list of lists with date and change in entries"
   ]
  },
  {
   "cell_type": "code",
   "execution_count": 95,
   "metadata": {
    "collapsed": false
   },
   "outputs": [],
   "source": [
    "day_counts = {}    #an empty dictionary to hold the total counts\n",
    "for turnstile, rows in chal_3_dict.items():    #loop over key/data pairs in datetime_counts\n",
    "    by_day = {}    #for each make a new empty dictionary\n",
    "    for time, count in rows:    #loop over the time and the count\n",
    "        day = time.date()    #keep only the day info\n",
    "        by_day[day] = by_day.get(day, 0) + count    #pull out the data associated with key <day> and add the count to it - if <day> is in the dictionary return 0\n",
    "    day_counts[turnstile] = sorted(by_day.items())    #save the count by turnstile in the dictionary"
   ]
  },
  {
   "cell_type": "code",
   "execution_count": 58,
   "metadata": {
    "collapsed": false
   },
   "outputs": [
    {
     "data": {
      "text/plain": [
       "[(16, datetime.datetime(2016, 3, 12, 3, 0)),\n",
       " (96, datetime.datetime(2016, 3, 12, 7, 0)),\n",
       " (252, datetime.datetime(2016, 3, 12, 11, 0)),\n",
       " (445, datetime.datetime(2016, 3, 12, 15, 0)),\n",
       " (286, datetime.datetime(2016, 3, 12, 19, 0)),\n",
       " (67, datetime.datetime(2016, 3, 12, 23, 0)),\n",
       " (16, datetime.datetime(2016, 3, 13, 4, 0)),\n",
       " (58, datetime.datetime(2016, 3, 13, 8, 0)),\n",
       " (210, datetime.datetime(2016, 3, 13, 12, 0)),\n",
       " (227, datetime.datetime(2016, 3, 13, 16, 0)),\n",
       " (127, datetime.datetime(2016, 3, 13, 20, 0)),\n",
       " (9, datetime.datetime(2016, 3, 14, 0, 0)),\n",
       " (49, datetime.datetime(2016, 3, 14, 4, 0)),\n",
       " (149, datetime.datetime(2016, 3, 14, 8, 0)),\n",
       " (253, datetime.datetime(2016, 3, 14, 12, 0)),\n",
       " (548, datetime.datetime(2016, 3, 14, 16, 0)),\n",
       " (159, datetime.datetime(2016, 3, 14, 20, 0)),\n",
       " (9, datetime.datetime(2016, 3, 15, 0, 0)),\n",
       " (45, datetime.datetime(2016, 3, 15, 4, 0)),\n",
       " (102, datetime.datetime(2016, 3, 15, 8, 0)),\n",
       " (300, datetime.datetime(2016, 3, 15, 12, 0)),\n",
       " (420, datetime.datetime(2016, 3, 15, 16, 0)),\n",
       " (128, datetime.datetime(2016, 3, 15, 20, 0)),\n",
       " (0, datetime.datetime(2016, 3, 16, 0, 0)),\n",
       " (30, datetime.datetime(2016, 3, 16, 4, 0)),\n",
       " (36, datetime.datetime(2016, 3, 16, 8, 0)),\n",
       " (256, datetime.datetime(2016, 3, 16, 12, 0)),\n",
       " (502, datetime.datetime(2016, 3, 16, 16, 0)),\n",
       " (143, datetime.datetime(2016, 3, 16, 20, 0)),\n",
       " (12, datetime.datetime(2016, 3, 17, 0, 0)),\n",
       " (48, datetime.datetime(2016, 3, 17, 4, 0)),\n",
       " (47, datetime.datetime(2016, 3, 17, 8, 0)),\n",
       " (146, datetime.datetime(2016, 3, 17, 12, 0)),\n",
       " (581, datetime.datetime(2016, 3, 17, 16, 0)),\n",
       " (176, datetime.datetime(2016, 3, 17, 20, 0)),\n",
       " (0, datetime.datetime(2016, 3, 18, 0, 0)),\n",
       " (41, datetime.datetime(2016, 3, 18, 4, 0)),\n",
       " (107, datetime.datetime(2016, 3, 18, 8, 0)),\n",
       " (287, datetime.datetime(2016, 3, 18, 12, 0)),\n",
       " (512, datetime.datetime(2016, 3, 18, 16, 0))]"
      ]
     },
     "execution_count": 58,
     "metadata": {},
     "output_type": "execute_result"
    }
   ],
   "source": [
    "[(x[1],x[0]) for x in chal_2_dict[('A002', 'R051', '02-00-00', '59 ST')] if x[0]]"
   ]
  },
  {
   "cell_type": "code",
   "execution_count": 49,
   "metadata": {
    "collapsed": false
   },
   "outputs": [
    {
     "name": "stdout",
     "output_type": "stream",
     "text": [
      "[datetime.datetime(2016, 3, 12, 3, 0), 16]\n",
      "[datetime.datetime(2016, 3, 12, 7, 0), 96]\n",
      "[datetime.datetime(2016, 3, 12, 11, 0), 252]\n",
      "[datetime.datetime(2016, 3, 12, 15, 0), 445]\n",
      "[datetime.datetime(2016, 3, 12, 19, 0), 286]\n",
      "[datetime.datetime(2016, 3, 12, 23, 0), 67]\n",
      "[datetime.datetime(2016, 3, 13, 4, 0), 16]\n",
      "[datetime.datetime(2016, 3, 13, 8, 0), 58]\n",
      "[datetime.datetime(2016, 3, 13, 12, 0), 210]\n",
      "[datetime.datetime(2016, 3, 13, 16, 0), 227]\n",
      "[datetime.datetime(2016, 3, 13, 20, 0), 127]\n",
      "[datetime.datetime(2016, 3, 14, 0, 0), 9]\n",
      "[datetime.datetime(2016, 3, 14, 4, 0), 49]\n",
      "[datetime.datetime(2016, 3, 14, 8, 0), 149]\n",
      "[datetime.datetime(2016, 3, 14, 12, 0), 253]\n",
      "[datetime.datetime(2016, 3, 14, 16, 0), 548]\n",
      "[datetime.datetime(2016, 3, 14, 20, 0), 159]\n",
      "[datetime.datetime(2016, 3, 15, 0, 0), 9]\n",
      "[datetime.datetime(2016, 3, 15, 4, 0), 45]\n",
      "[datetime.datetime(2016, 3, 15, 8, 0), 102]\n",
      "[datetime.datetime(2016, 3, 15, 12, 0), 300]\n",
      "[datetime.datetime(2016, 3, 15, 16, 0), 420]\n",
      "[datetime.datetime(2016, 3, 15, 20, 0), 128]\n",
      "[datetime.datetime(2016, 3, 16, 0, 0), 0]\n",
      "[datetime.datetime(2016, 3, 16, 4, 0), 30]\n",
      "[datetime.datetime(2016, 3, 16, 8, 0), 36]\n",
      "[datetime.datetime(2016, 3, 16, 12, 0), 256]\n",
      "[datetime.datetime(2016, 3, 16, 16, 0), 502]\n",
      "[datetime.datetime(2016, 3, 16, 20, 0), 143]\n",
      "[datetime.datetime(2016, 3, 17, 0, 0), 12]\n",
      "[datetime.datetime(2016, 3, 17, 4, 0), 48]\n",
      "[datetime.datetime(2016, 3, 17, 8, 0), 47]\n",
      "[datetime.datetime(2016, 3, 17, 12, 0), 146]\n",
      "[datetime.datetime(2016, 3, 17, 16, 0), 581]\n",
      "[datetime.datetime(2016, 3, 17, 20, 0), 176]\n",
      "[datetime.datetime(2016, 3, 18, 0, 0), 0]\n",
      "[datetime.datetime(2016, 3, 18, 4, 0), 41]\n",
      "[datetime.datetime(2016, 3, 18, 8, 0), 107]\n",
      "[datetime.datetime(2016, 3, 18, 12, 0), 287]\n",
      "[datetime.datetime(2016, 3, 18, 16, 0), 512]\n"
     ]
    }
   ],
   "source": [
    "for x in chal_2_dict[('A002', 'R051', '02-00-00', '59 ST')]:\n",
    "    print x"
   ]
  },
  {
   "cell_type": "code",
   "execution_count": 84,
   "metadata": {
    "collapsed": false
   },
   "outputs": [
    {
     "ename": "ValueError",
     "evalue": "need more than 2 values to unpack",
     "output_type": "error",
     "traceback": [
      "\u001b[0;31m---------------------------------------------------------------------------\u001b[0m",
      "\u001b[0;31mValueError\u001b[0m                                Traceback (most recent call last)",
      "\u001b[0;32m<ipython-input-84-84637e15e0bc>\u001b[0m in \u001b[0;36m<module>\u001b[0;34m()\u001b[0m\n\u001b[1;32m      2\u001b[0m                                \u001b[0;32mfor\u001b[0m \u001b[0;34m(\u001b[0m\u001b[0mtime\u001b[0m\u001b[0;34m,\u001b[0m \u001b[0mcount\u001b[0m\u001b[0;34m,\u001b[0m \u001b[0m_\u001b[0m\u001b[0;34m)\u001b[0m \u001b[0;32min\u001b[0m \u001b[0mrows\u001b[0m\u001b[0;34m\u001b[0m\u001b[0m\n\u001b[1;32m      3\u001b[0m                                if 0 <= count <= 5000]\n\u001b[0;32m----> 4\u001b[0;31m                    for turnstile, rows in chal_3_dict.items()}    #make one more dictionary; keys will be turnstiles, each will have a list of lists with date and change in entries\n\u001b[0m",
      "\u001b[0;32m<ipython-input-84-84637e15e0bc>\u001b[0m in \u001b[0;36m<dictcomp>\u001b[0;34m((turnstile, rows))\u001b[0m\n\u001b[1;32m      2\u001b[0m                                \u001b[0;32mfor\u001b[0m \u001b[0;34m(\u001b[0m\u001b[0mtime\u001b[0m\u001b[0;34m,\u001b[0m \u001b[0mcount\u001b[0m\u001b[0;34m,\u001b[0m \u001b[0m_\u001b[0m\u001b[0;34m)\u001b[0m \u001b[0;32min\u001b[0m \u001b[0mrows\u001b[0m\u001b[0;34m\u001b[0m\u001b[0m\n\u001b[1;32m      3\u001b[0m                                if 0 <= count <= 5000]\n\u001b[0;32m----> 4\u001b[0;31m                    for turnstile, rows in chal_3_dict.items()}    #make one more dictionary; keys will be turnstiles, each will have a list of lists with date and change in entries\n\u001b[0m",
      "\u001b[0;31mValueError\u001b[0m: need more than 2 values to unpack"
     ]
    }
   ],
   "source": [
    "chal_3_dict = {turnstile: [(time, count)\n",
    "                               for (time, count, _) in rows\n",
    "                               if 0 <= count <= 5000]\n",
    "                   for turnstile, rows in chal_3_dict.items()}    #make one more dictionary; keys will be turnstiles, each will have a list of lists with date and change in entries"
   ]
  },
  {
   "cell_type": "markdown",
   "metadata": {},
   "source": [
    "# Challenge 4\n",
    "\n",
    "We will plot the daily time series for a turnstile.\n",
    "\n",
    "In ipython notebook, add this to the beginning of your next cell:\n",
    "\n",
    "%matplotlib inline\n",
    "This will make your matplotlib graphs integrate nicely with the notebook. To plot the time series, import matplotlib with\n",
    "\n",
    "import matplotlib.pyplot as plt\n",
    "\n",
    "Take the list of [(date1, count1), (date2, count2), ...], for the turnstile and turn it into two lists: dates and counts. This should plot it:\n",
    "\n",
    "plt.figure(figsize=(10,3))\n",
    "plt.plot(dates,counts)"
   ]
  },
  {
   "cell_type": "code",
   "execution_count": 97,
   "metadata": {
    "collapsed": true
   },
   "outputs": [],
   "source": [
    "%matplotlib inline\n",
    "import matplotlib.pyplot as plt"
   ]
  },
  {
   "cell_type": "code",
   "execution_count": 98,
   "metadata": {
    "collapsed": true
   },
   "outputs": [],
   "source": [
    "def plot_turnstyle_volume(key):\n",
    "    '''This takes an input like the following and prints \n",
    "    ('A002', 'R051', '02-00-00', '59 ST')\n",
    "    '''\n",
    "    dates = []\n",
    "    counts = []\n",
    "    for value in chal_3_dict[key]:\n",
    "        dates.append(value[0]) \n",
    "        counts.append(value[1])\n",
    "    #print dates\n",
    "    #print counts\n",
    "    \n",
    "    plt.figure(figsize=(10,3))\n",
    "    plt.plot(dates,counts)"
   ]
  },
  {
   "cell_type": "code",
   "execution_count": 99,
   "metadata": {
    "collapsed": false
   },
   "outputs": [
    {
     "data": {
      "image/png": "[encoded data removed]",
      "text/plain": [
       "<matplotlib.figure.Figure at 0x1068965d0>"
      ]
     },
     "metadata": {},
     "output_type": "display_data"
    }
   ],
   "source": [
    "plot_turnstyle_volume(('A002', 'R051', '02-00-00', '59 ST'))"
   ]
  },
  {
   "cell_type": "markdown",
   "metadata": {},
   "source": [
    "# Challenge 5\n",
    "\n",
    "So far we've been operating on a single turnstile level, let's combine turnstiles in the same ControlArea/Unit/Station combo. There are some ControlArea/Unit/Station groups that have a single turnstile, but most have multiple turnstilea-- same value for the C/A, UNIT and STATION columns, different values for the SCP column.\n",
    "We want to combine the numbers together -- for each ControlArea/UNIT/STATION combo, for each day, add the counts from each turnstile belonging to that combo."
   ]
  },
  {
   "cell_type": "code",
   "execution_count": 101,
   "metadata": {
    "collapsed": true
   },
   "outputs": [],
   "source": [
    "import pandas as pd"
   ]
  },
  {
   "cell_type": "code",
   "execution_count": 102,
   "metadata": {
    "collapsed": false
   },
   "outputs": [
    {
     "ename": "ValueError",
     "evalue": "arrays must all be same length",
     "output_type": "error",
     "traceback": [
      "\u001b[0;31m---------------------------------------------------------------------------\u001b[0m",
      "\u001b[0;31mValueError\u001b[0m                                Traceback (most recent call last)",
      "\u001b[0;32m<ipython-input-102-3ef551db300f>\u001b[0m in \u001b[0;36m<module>\u001b[0;34m()\u001b[0m\n\u001b[0;32m----> 1\u001b[0;31m \u001b[0mchal_5_df\u001b[0m \u001b[0;34m=\u001b[0m \u001b[0mpd\u001b[0m\u001b[0;34m.\u001b[0m\u001b[0mDataFrame\u001b[0m\u001b[0;34m(\u001b[0m\u001b[0mchal_3_dict\u001b[0m\u001b[0;34m)\u001b[0m\u001b[0;34m\u001b[0m\u001b[0m\n\u001b[0m",
      "\u001b[0;32m//anaconda/lib/python2.7/site-packages/pandas/core/frame.pyc\u001b[0m in \u001b[0;36m__init__\u001b[0;34m(self, data, index, columns, dtype, copy)\u001b[0m\n\u001b[1;32m    212\u001b[0m                                  dtype=dtype, copy=copy)\n\u001b[1;32m    213\u001b[0m         \u001b[0;32melif\u001b[0m \u001b[0misinstance\u001b[0m\u001b[0;34m(\u001b[0m\u001b[0mdata\u001b[0m\u001b[0;34m,\u001b[0m \u001b[0mdict\u001b[0m\u001b[0;34m)\u001b[0m\u001b[0;34m:\u001b[0m\u001b[0;34m\u001b[0m\u001b[0m\n\u001b[0;32m--> 214\u001b[0;31m             \u001b[0mmgr\u001b[0m \u001b[0;34m=\u001b[0m \u001b[0mself\u001b[0m\u001b[0;34m.\u001b[0m\u001b[0m_init_dict\u001b[0m\u001b[0;34m(\u001b[0m\u001b[0mdata\u001b[0m\u001b[0;34m,\u001b[0m \u001b[0mindex\u001b[0m\u001b[0;34m,\u001b[0m \u001b[0mcolumns\u001b[0m\u001b[0;34m,\u001b[0m \u001b[0mdtype\u001b[0m\u001b[0;34m=\u001b[0m\u001b[0mdtype\u001b[0m\u001b[0;34m)\u001b[0m\u001b[0;34m\u001b[0m\u001b[0m\n\u001b[0m\u001b[1;32m    215\u001b[0m         \u001b[0;32melif\u001b[0m \u001b[0misinstance\u001b[0m\u001b[0;34m(\u001b[0m\u001b[0mdata\u001b[0m\u001b[0;34m,\u001b[0m \u001b[0mma\u001b[0m\u001b[0;34m.\u001b[0m\u001b[0mMaskedArray\u001b[0m\u001b[0;34m)\u001b[0m\u001b[0;34m:\u001b[0m\u001b[0;34m\u001b[0m\u001b[0m\n\u001b[1;32m    216\u001b[0m             \u001b[0;32mimport\u001b[0m \u001b[0mnumpy\u001b[0m\u001b[0;34m.\u001b[0m\u001b[0mma\u001b[0m\u001b[0;34m.\u001b[0m\u001b[0mmrecords\u001b[0m \u001b[0;32mas\u001b[0m \u001b[0mmrecords\u001b[0m\u001b[0;34m\u001b[0m\u001b[0m\n",
      "\u001b[0;32m//anaconda/lib/python2.7/site-packages/pandas/core/frame.pyc\u001b[0m in \u001b[0;36m_init_dict\u001b[0;34m(self, data, index, columns, dtype)\u001b[0m\n\u001b[1;32m    339\u001b[0m \u001b[0;34m\u001b[0m\u001b[0m\n\u001b[1;32m    340\u001b[0m         return _arrays_to_mgr(arrays, data_names, index, columns,\n\u001b[0;32m--> 341\u001b[0;31m                               dtype=dtype)\n\u001b[0m\u001b[1;32m    342\u001b[0m \u001b[0;34m\u001b[0m\u001b[0m\n\u001b[1;32m    343\u001b[0m     def _init_ndarray(self, values, index, columns, dtype=None,\n",
      "\u001b[0;32m//anaconda/lib/python2.7/site-packages/pandas/core/frame.pyc\u001b[0m in \u001b[0;36m_arrays_to_mgr\u001b[0;34m(arrays, arr_names, index, columns, dtype)\u001b[0m\n\u001b[1;32m   4796\u001b[0m     \u001b[0;31m# figure out the index, if necessary\u001b[0m\u001b[0;34m\u001b[0m\u001b[0;34m\u001b[0m\u001b[0m\n\u001b[1;32m   4797\u001b[0m     \u001b[0;32mif\u001b[0m \u001b[0mindex\u001b[0m \u001b[0;32mis\u001b[0m \u001b[0mNone\u001b[0m\u001b[0;34m:\u001b[0m\u001b[0;34m\u001b[0m\u001b[0m\n\u001b[0;32m-> 4798\u001b[0;31m         \u001b[0mindex\u001b[0m \u001b[0;34m=\u001b[0m \u001b[0mextract_index\u001b[0m\u001b[0;34m(\u001b[0m\u001b[0marrays\u001b[0m\u001b[0;34m)\u001b[0m\u001b[0;34m\u001b[0m\u001b[0m\n\u001b[0m\u001b[1;32m   4799\u001b[0m     \u001b[0;32melse\u001b[0m\u001b[0;34m:\u001b[0m\u001b[0;34m\u001b[0m\u001b[0m\n\u001b[1;32m   4800\u001b[0m         \u001b[0mindex\u001b[0m \u001b[0;34m=\u001b[0m \u001b[0m_ensure_index\u001b[0m\u001b[0;34m(\u001b[0m\u001b[0mindex\u001b[0m\u001b[0;34m)\u001b[0m\u001b[0;34m\u001b[0m\u001b[0m\n",
      "\u001b[0;32m//anaconda/lib/python2.7/site-packages/pandas/core/frame.pyc\u001b[0m in \u001b[0;36mextract_index\u001b[0;34m(data)\u001b[0m\n\u001b[1;32m   4844\u001b[0m             \u001b[0mlengths\u001b[0m \u001b[0;34m=\u001b[0m \u001b[0mlist\u001b[0m\u001b[0;34m(\u001b[0m\u001b[0mset\u001b[0m\u001b[0;34m(\u001b[0m\u001b[0mraw_lengths\u001b[0m\u001b[0;34m)\u001b[0m\u001b[0;34m)\u001b[0m\u001b[0;34m\u001b[0m\u001b[0m\n\u001b[1;32m   4845\u001b[0m             \u001b[0;32mif\u001b[0m \u001b[0mlen\u001b[0m\u001b[0;34m(\u001b[0m\u001b[0mlengths\u001b[0m\u001b[0;34m)\u001b[0m \u001b[0;34m>\u001b[0m \u001b[0;36m1\u001b[0m\u001b[0;34m:\u001b[0m\u001b[0;34m\u001b[0m\u001b[0m\n\u001b[0;32m-> 4846\u001b[0;31m                 \u001b[0;32mraise\u001b[0m \u001b[0mValueError\u001b[0m\u001b[0;34m(\u001b[0m\u001b[0;34m'arrays must all be same length'\u001b[0m\u001b[0;34m)\u001b[0m\u001b[0;34m\u001b[0m\u001b[0m\n\u001b[0m\u001b[1;32m   4847\u001b[0m \u001b[0;34m\u001b[0m\u001b[0m\n\u001b[1;32m   4848\u001b[0m             \u001b[0;32mif\u001b[0m \u001b[0mhave_dicts\u001b[0m\u001b[0;34m:\u001b[0m\u001b[0;34m\u001b[0m\u001b[0m\n",
      "\u001b[0;31mValueError\u001b[0m: arrays must all be same length"
     ]
    }
   ],
   "source": [
    "chal_5_df = pd.DataFrame(chal_3_dict)"
   ]
  },
  {
   "cell_type": "markdown",
   "metadata": {},
   "source": [
    "# Challenge 6\n",
    "\n",
    "Similarly, combine everything in each station, and come up with a time series of [(date1, count1),(date2,count2),...] type of time series for each STATION, by adding up all the turnstiles in a station."
   ]
  },
  {
   "cell_type": "markdown",
   "metadata": {},
   "source": [
    "# Challenge 7\n",
    "\n",
    "Plot the time series for a station."
   ]
  },
  {
   "cell_type": "markdown",
   "metadata": {},
   "source": [
    "# Challenge 8\n",
    "\n",
    "Make one list of counts for one week for one station. Monday's count, Tuesday's count, etc. so it's a list of 7 counts. Make the same list for another week, and another week, and another week. plt.plot(week_count_list) for every week_count_list you created this way. You should get a rainbow plot of weekly commute numbers on top of each other."
   ]
  },
  {
   "cell_type": "markdown",
   "metadata": {},
   "source": [
    "# Challenge 9\n",
    "\n",
    "Over multiple weeks, sum total ridership for each station and sort them, so you can find out the stations with the highest traffic during the time you investigate"
   ]
  },
  {
   "cell_type": "markdown",
   "metadata": {},
   "source": [
    "# Challenge 10\n",
    "\n",
    "Make a single list of these total ridership values and plot it with\n",
    "\n",
    "plt.hist(total_ridership_counts)\n",
    "\n",
    "to get an idea about the distribution of total ridership among different stations.\n",
    "\n",
    "This should show you that most stations have a small traffic, and the histogram bins for large traffic volumes have small bars.\n",
    "\n",
    "Additional Hint:\n",
    "\n",
    "If you want to see which stations take the meat of the traffic, you can sort the total ridership counts and make a plt.bar graph. For this, you want to have two lists: the indices of each bar, and the values. The indices can just be 0,1,2,3,..., so you can do\n",
    "\n",
    "indices = range(len(total_ridership_values))\n",
    "plt.bar(indices, total_ridership_values)"
   ]
  }
 ],
 "metadata": {
  "kernelspec": {
   "display_name": "Python 2",
   "language": "python",
   "name": "python2"
  },
  "language_info": {
   "codemirror_mode": {
    "name": "ipython",
    "version": 2
   },
   "file_extension": ".py",
   "mimetype": "text/x-python",
   "name": "python",
   "nbconvert_exporter": "python",
   "pygments_lexer": "ipython2",
   "version": "2.7.11"
  }
 },
 "nbformat": 4,
 "nbformat_minor": 0
}
