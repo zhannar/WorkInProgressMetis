{
 "cells": [
  {
   "cell_type": "code",
   "execution_count": 79,
   "metadata": {
    "collapsed": false
   },
   "outputs": [],
   "source": [
    "from __future__ import division\n",
    "import csv\n",
    "from datetime import datetime\n",
    "from collections import Counter\n",
    "import pandas as pd\n",
    "import numpy as np \n",
    "import time"
   ]
  },
  {
   "cell_type": "code",
   "execution_count": 80,
   "metadata": {
    "collapsed": false
   },
   "outputs": [],
   "source": [
    "with open('turnstile_160319_mod.csv','rU') as f:    #open the link to the data\n",
    "    reader = csv.reader(f)    #read in the data\n",
    "    rows = [[cell.strip() for cell in row] for row in reader]    #loop over the rows and witin the rows to extract the data and remove any whitespace from the beginning and end"
   ]
  },
  {
   "cell_type": "code",
   "execution_count": 81,
   "metadata": {
    "collapsed": false
   },
   "outputs": [],
   "source": [
    "assert rows.pop(0) == ['C/A', 'UNIT', 'SCP', 'STATION', 'LINENAME',\n",
    "                       'DIVISION', 'DATE', 'TIME', 'DESC', 'ENTRIES',\n",
    "                       'EXITS']    #check to make sure that we have the correct variable names"
   ]
  },
  {
   "cell_type": "code",
   "execution_count": 82,
   "metadata": {
    "collapsed": true
   },
   "outputs": [],
   "source": [
    "raw_readings = {}    #an empty dictionary\n",
    "for row in rows:    #loop over the elements in the list rows\n",
    "    raw_readings.setdefault(tuple(row[:4]), []).append(tuple(row[4:]))    #loop over the rows, add new keys to the dictionary when the row info is not already present, append to existing data when it is"
   ]
  },
  {
   "cell_type": "code",
   "execution_count": 83,
   "metadata": {
    "collapsed": false
   },
   "outputs": [],
   "source": [
    "#raw_readings.keys()    #the dictionary raw_readings solves challenge 1"
   ]
  },
  {
   "cell_type": "code",
   "execution_count": 84,
   "metadata": {
    "collapsed": false
   },
   "outputs": [],
   "source": [
    "datetime_cumulative = {turnstile: [(datetime.strptime(date + time,'%m/%d/%y%H:%M:%S'),int(in_cumulative))\n",
    "                                   for _, _, date, time,_, in_cumulative, _ in rows]\n",
    "                       for turnstile, rows in raw_readings.items()}    #make a new dictionary; the keys will be the turnstiles, and each will have a list of tuples consisting of date and cumulative total"
   ]
  },
  {
   "cell_type": "code",
   "execution_count": 85,
   "metadata": {
    "collapsed": false
   },
   "outputs": [],
   "source": [
    "datetime_count_times = {turnstile: [[rows[i][0],\n",
    "                                     rows[i+1][1] - rows[i][1],\n",
    "                                     rows[i+1][0] - rows[i][0]]\n",
    "                                    for i in range(len(rows) - 1)]\n",
    "                        for turnstile, rows in datetime_cumulative.items()}    #make a new dictionary; keys will be the turnstiles, each will have a list of lists, each of which will give date, change in entries from last time, and elasped time"
   ]
  },
  {
   "cell_type": "code",
   "execution_count": 86,
   "metadata": {
    "collapsed": false
   },
   "outputs": [],
   "source": [
    "datetime_counts = {turnstile: [(time, count)\n",
    "                               for (time, count, _) in rows\n",
    "                               if 0 <= count <= 5000]\n",
    "                   for turnstile, rows in datetime_count_times.items()}    #make one more dictionary; keys will be turnstiles, each will have a list of lists with date and change in entries"
   ]
  },
  {
   "cell_type": "code",
   "execution_count": 87,
   "metadata": {
    "collapsed": false,
    "scrolled": true
   },
   "outputs": [],
   "source": [
    "# Convert dictionary to list\n",
    "the_list = list(datetime_counts.iteritems())"
   ]
  },
  {
   "cell_type": "code",
   "execution_count": 88,
   "metadata": {
    "collapsed": false
   },
   "outputs": [
    {
     "name": "stdout",
     "output_type": "stream",
     "text": [
      "168 ST\n",
      "2016-03-12 03:00:00\n",
      "5\n",
      "133\n",
      "168 ST\n",
      "2016-03-12 07:00:00\n",
      "5\n",
      "467\n",
      "168 ST\n",
      "2016-03-12 11:00:00\n",
      "5\n",
      "517\n",
      "168 ST\n",
      "2016-03-12 15:00:00\n",
      "5\n",
      "477\n",
      "168 ST\n",
      "2016-03-12 19:00:00\n",
      "5\n",
      "335\n"
     ]
    }
   ],
   "source": [
    "# Build set of times\n",
    "times_list = []\n",
    "stations_list =[]\n",
    "traffic_list = []\n",
    "for the_station in the_list:\n",
    "    for values in the_station[1]:\n",
    "        times_list.append(values[0])\n",
    "        traffic_list.append(values[1])\n",
    "        stations_list.append(the_station[0][3])\n",
    "\n",
    "# Get day of the week\n",
    "day_num_list = []\n",
    "for date_time in times_list:\n",
    "    day_num_list.append(date_time.weekday())\n",
    "\n",
    "# Check to see if entries match up\n",
    "for i in range(5):\n",
    "    print stations_list[i]\n",
    "    print times_list[i]\n",
    "    print day_num_list[i]\n",
    "    print traffic_list[i]"
   ]
  },
  {
   "cell_type": "code",
   "execution_count": 89,
   "metadata": {
    "collapsed": false
   },
   "outputs": [
    {
     "data": {
      "text/html": [
       "<div>\n",
       "<table border=\"1\" class=\"dataframe\">\n",
       "  <thead>\n",
       "    <tr style=\"text-align: right;\">\n",
       "      <th></th>\n",
       "      <th>Datetime</th>\n",
       "      <th>Day Number</th>\n",
       "      <th>Station</th>\n",
       "      <th>Traffic</th>\n",
       "    </tr>\n",
       "  </thead>\n",
       "  <tbody>\n",
       "    <tr>\n",
       "      <th>0</th>\n",
       "      <td>2016-03-12 03:00:00</td>\n",
       "      <td>5</td>\n",
       "      <td>168 ST</td>\n",
       "      <td>133</td>\n",
       "    </tr>\n",
       "    <tr>\n",
       "      <th>1</th>\n",
       "      <td>2016-03-12 07:00:00</td>\n",
       "      <td>5</td>\n",
       "      <td>168 ST</td>\n",
       "      <td>467</td>\n",
       "    </tr>\n",
       "    <tr>\n",
       "      <th>2</th>\n",
       "      <td>2016-03-12 11:00:00</td>\n",
       "      <td>5</td>\n",
       "      <td>168 ST</td>\n",
       "      <td>517</td>\n",
       "    </tr>\n",
       "    <tr>\n",
       "      <th>3</th>\n",
       "      <td>2016-03-12 15:00:00</td>\n",
       "      <td>5</td>\n",
       "      <td>168 ST</td>\n",
       "      <td>477</td>\n",
       "    </tr>\n",
       "    <tr>\n",
       "      <th>4</th>\n",
       "      <td>2016-03-12 19:00:00</td>\n",
       "      <td>5</td>\n",
       "      <td>168 ST</td>\n",
       "      <td>335</td>\n",
       "    </tr>\n",
       "  </tbody>\n",
       "</table>\n",
       "</div>"
      ],
      "text/plain": [
       "             Datetime  Day Number Station  Traffic\n",
       "0 2016-03-12 03:00:00           5  168 ST      133\n",
       "1 2016-03-12 07:00:00           5  168 ST      467\n",
       "2 2016-03-12 11:00:00           5  168 ST      517\n",
       "3 2016-03-12 15:00:00           5  168 ST      477\n",
       "4 2016-03-12 19:00:00           5  168 ST      335"
      ]
     },
     "execution_count": 89,
     "metadata": {},
     "output_type": "execute_result"
    }
   ],
   "source": [
    "# Build dataframe from lists\n",
    "df = pd.DataFrame({'Station': stations_list,\\\n",
    "                  'Datetime': times_list,\\\n",
    "                  'Day Number': day_num_list,\\\n",
    "                  'Traffic': traffic_list})\n",
    "df.head()"
   ]
  },
  {
   "cell_type": "code",
   "execution_count": 90,
   "metadata": {
    "collapsed": false
   },
   "outputs": [
    {
     "name": "stderr",
     "output_type": "stream",
     "text": [
      "/Users/peter/anaconda/lib/python2.7/site-packages/ipykernel/__main__.py:2: FutureWarning: sort(columns=....) is deprecated, use sort_values(by=.....)\n",
      "  from ipykernel import kernelapp as app\n"
     ]
    },
    {
     "data": {
      "text/html": [
       "<div>\n",
       "<table border=\"1\" class=\"dataframe\">\n",
       "  <thead>\n",
       "    <tr style=\"text-align: right;\">\n",
       "      <th></th>\n",
       "      <th>Datetime</th>\n",
       "      <th>Day Number</th>\n",
       "      <th>Station</th>\n",
       "      <th>Traffic</th>\n",
       "    </tr>\n",
       "  </thead>\n",
       "  <tbody>\n",
       "    <tr>\n",
       "      <th>97825</th>\n",
       "      <td>2016-03-16 12:00:00</td>\n",
       "      <td>2</td>\n",
       "      <td>34 ST-HERALD SQ</td>\n",
       "      <td>4983</td>\n",
       "    </tr>\n",
       "    <tr>\n",
       "      <th>56122</th>\n",
       "      <td>2016-03-17 08:00:00</td>\n",
       "      <td>3</td>\n",
       "      <td>PATH WTC 2</td>\n",
       "      <td>4743</td>\n",
       "    </tr>\n",
       "    <tr>\n",
       "      <th>56127</th>\n",
       "      <td>2016-03-18 05:00:00</td>\n",
       "      <td>4</td>\n",
       "      <td>PATH WTC 2</td>\n",
       "      <td>4470</td>\n",
       "    </tr>\n",
       "    <tr>\n",
       "      <th>56427</th>\n",
       "      <td>2016-03-14 16:00:00</td>\n",
       "      <td>0</td>\n",
       "      <td>42 ST-PORT AUTH</td>\n",
       "      <td>4073</td>\n",
       "    </tr>\n",
       "    <tr>\n",
       "      <th>140411</th>\n",
       "      <td>2016-03-15 16:00:00</td>\n",
       "      <td>1</td>\n",
       "      <td>86 ST</td>\n",
       "      <td>3999</td>\n",
       "    </tr>\n",
       "    <tr>\n",
       "      <th>169856</th>\n",
       "      <td>2016-03-17 09:00:00</td>\n",
       "      <td>3</td>\n",
       "      <td>GRD CNTRL-42 ST</td>\n",
       "      <td>3981</td>\n",
       "    </tr>\n",
       "    <tr>\n",
       "      <th>82071</th>\n",
       "      <td>2016-03-18 17:00:00</td>\n",
       "      <td>4</td>\n",
       "      <td>W 4 ST-WASH SQ</td>\n",
       "      <td>3966</td>\n",
       "    </tr>\n",
       "    <tr>\n",
       "      <th>134871</th>\n",
       "      <td>2016-03-15 16:00:00</td>\n",
       "      <td>1</td>\n",
       "      <td>86 ST</td>\n",
       "      <td>3961</td>\n",
       "    </tr>\n",
       "    <tr>\n",
       "      <th>165088</th>\n",
       "      <td>2016-03-14 16:00:00</td>\n",
       "      <td>0</td>\n",
       "      <td>42 ST-PORT AUTH</td>\n",
       "      <td>3956</td>\n",
       "    </tr>\n",
       "    <tr>\n",
       "      <th>56107</th>\n",
       "      <td>2016-03-14 09:00:00</td>\n",
       "      <td>0</td>\n",
       "      <td>PATH WTC 2</td>\n",
       "      <td>3918</td>\n",
       "    </tr>\n",
       "  </tbody>\n",
       "</table>\n",
       "</div>"
      ],
      "text/plain": [
       "                  Datetime  Day Number          Station  Traffic\n",
       "97825  2016-03-16 12:00:00           2  34 ST-HERALD SQ     4983\n",
       "56122  2016-03-17 08:00:00           3       PATH WTC 2     4743\n",
       "56127  2016-03-18 05:00:00           4       PATH WTC 2     4470\n",
       "56427  2016-03-14 16:00:00           0  42 ST-PORT AUTH     4073\n",
       "140411 2016-03-15 16:00:00           1            86 ST     3999\n",
       "169856 2016-03-17 09:00:00           3  GRD CNTRL-42 ST     3981\n",
       "82071  2016-03-18 17:00:00           4   W 4 ST-WASH SQ     3966\n",
       "134871 2016-03-15 16:00:00           1            86 ST     3961\n",
       "165088 2016-03-14 16:00:00           0  42 ST-PORT AUTH     3956\n",
       "56107  2016-03-14 09:00:00           0       PATH WTC 2     3918"
      ]
     },
     "execution_count": 90,
     "metadata": {},
     "output_type": "execute_result"
    }
   ],
   "source": [
    "# Top ten busiest stations at any given time\n",
    "# Note 0 = Monday\n",
    "df_top_ten = df.sort(['Traffic'], ascending=False)[:10]\n",
    "df_top_ten"
   ]
  },
  {
   "cell_type": "code",
   "execution_count": 91,
   "metadata": {
    "collapsed": false
   },
   "outputs": [
    {
     "data": {
      "text/plain": [
       "Station\n",
       "34 ST-PENN STA     1915644\n",
       "GRD CNTRL-42 ST    1734933\n",
       "34 ST-HERALD SQ    1375632\n",
       "23 ST              1287165\n",
       "14 ST-UNION SQ     1244204\n",
       "86 ST              1226992\n",
       "TIMES SQ-42 ST     1151716\n",
       "42 ST-PORT AUTH     995479\n",
       "FULTON ST           891354\n",
       "59 ST               882741\n",
       "Name: Traffic, dtype: int64"
      ]
     },
     "execution_count": 91,
     "metadata": {},
     "output_type": "execute_result"
    }
   ],
   "source": [
    "# Top ten busiest stations\n",
    "# Group by station, sum traffic over one week\n",
    "\n",
    "df_station_traffic= df.groupby(['Station'])['Traffic'].sum()\n",
    "df_station_traffic.sort_values(ascending=False)[:10] # Top ten busiest stations in the week"
   ]
  },
  {
   "cell_type": "code",
   "execution_count": 92,
   "metadata": {
    "collapsed": false
   },
   "outputs": [
    {
     "data": {
      "text/plain": [
       "Datetime\n",
       "2016-03-15 16:00:00    1918310\n",
       "2016-03-16 16:00:00    1917760\n",
       "2016-03-17 16:00:00    1893481\n",
       "2016-03-18 16:00:00    1871236\n",
       "2016-03-14 16:00:00    1793062\n",
       "2016-03-16 08:00:00    1653267\n",
       "2016-03-15 08:00:00    1607212\n",
       "2016-03-17 08:00:00    1578437\n",
       "2016-03-18 08:00:00    1514451\n",
       "2016-03-14 08:00:00    1469310\n",
       "Name: Traffic, dtype: int64"
      ]
     },
     "execution_count": 92,
     "metadata": {},
     "output_type": "execute_result"
    }
   ],
   "source": [
    "# Busiest times of the week\n",
    "# Group by time of day\n",
    "df_time_traffic= df.groupby(['Datetime'])['Traffic'].sum()\n",
    "df_time_traffic.sort_values(ascending=False)[:10]"
   ]
  },
  {
   "cell_type": "code",
   "execution_count": 93,
   "metadata": {
    "collapsed": false
   },
   "outputs": [
    {
     "data": {
      "text/plain": [
       "Day Number\n",
       "3    10831769\n",
       "2    10725979\n",
       "1    10557245\n",
       "0     9988195\n",
       "4     9591498\n",
       "5     6271657\n",
       "6     4549419\n",
       "Name: Traffic, dtype: int64"
      ]
     },
     "execution_count": 93,
     "metadata": {},
     "output_type": "execute_result"
    }
   ],
   "source": [
    "# Busiest days of the week (in descending order of traffic)\n",
    "# Group by weekday\n",
    "df_day_of_wk_traffic= df.groupby(['Day Number'])['Traffic'].sum()\n",
    "df_day_of_wk_traffic.sort_values(ascending=False)\n",
    "#the_days = ['Mon', 'Tue','Wed','Thu','Fri','Sat','Sun']"
   ]
  },
  {
   "cell_type": "code",
   "execution_count": null,
   "metadata": {
    "collapsed": true
   },
   "outputs": [],
   "source": []
  }
 ],
 "metadata": {
  "kernelspec": {
   "display_name": "Python 2",
   "language": "python",
   "name": "python2"
  },
  "language_info": {
   "codemirror_mode": {
    "name": "ipython",
    "version": 2
   },
   "file_extension": ".py",
   "mimetype": "text/x-python",
   "name": "python",
   "nbconvert_exporter": "python",
   "pygments_lexer": "ipython2",
   "version": "2.7.11"
  }
 },
 "nbformat": 4,
 "nbformat_minor": 0
}
