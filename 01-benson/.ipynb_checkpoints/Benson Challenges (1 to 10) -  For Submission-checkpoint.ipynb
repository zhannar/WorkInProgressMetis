{
 "cells": [
  {
   "cell_type": "markdown",
   "metadata": {},
   "source": [
    "# Challenge 1\n",
    "\n",
    "- Open up a new IPython notebook\n",
    "- Download a few MTA turnstile data files\n",
    "- Open up a file, use csv reader to read it, make a python dict where there is a key for each (C/A, UNIT, SCP, STATION). These are the first four columns. The value for this key should be a list of lists. Each list in the list is the rest of the columns in a row. For example, one key-value pair should look like\n",
    "\n",
    "{ ('A002','R051','02-00-00','LEXINGTON AVE'): [ ['NQR456', 'BMT', '01/03/2015', '03:00:00', 'REGULAR', '0004945474', '0001675324'], ['NQR456', 'BMT', '01/03/2015', '07:00:00', 'REGULAR', '0004945478', '0001675333'], ['NQR456', 'BMT', '01/03/2015', '11:00:00', 'REGULAR', '0004945515', '0001675364'], ... ] }"
   ]
  },
  {
   "cell_type": "code",
   "execution_count": 130,
   "metadata": {
    "collapsed": true
   },
   "outputs": [],
   "source": [
    "import csv"
   ]
  },
  {
   "cell_type": "code",
   "execution_count": 131,
   "metadata": {
    "collapsed": true
   },
   "outputs": [],
   "source": [
    "def read_data(data):\n",
    "   parsed_data = []\n",
    "   with open(data) as csv_file:\n",
    "       reader = csv.DictReader(csv_file)\n",
    "       for row in reader:\n",
    "           parsed_data.append(row)\n",
    "   return parsed_data"
   ]
  },
  {
   "cell_type": "code",
   "execution_count": 132,
   "metadata": {
    "collapsed": false
   },
   "outputs": [],
   "source": [
    "data = read_data('turnstile_160319.txt')\n",
    "data = data[0:220]"
   ]
  },
  {
   "cell_type": "code",
   "execution_count": 133,
   "metadata": {
    "collapsed": false
   },
   "outputs": [],
   "source": [
    "chal_1_dict = {}\n",
    "\n",
    "for x in data:\n",
    "    ca = x[\"C/A\"]\n",
    "    unit = x[\"UNIT\"]\n",
    "    scp = x[\"SCP\"]\n",
    "    station =  x[\"STATION\"]\n",
    "\n",
    "    my_tuple = (ca, unit, scp, station)\n",
    "\n",
    "    linelame = x[\"LINENAME\"]\n",
    "    division =x[\"DIVISION\"]\n",
    "    date = x[\"DATE\"]\n",
    "    time = x[\"TIME\"]\n",
    "    desc = x[\"DESC\"]\n",
    "    entries = x[\"ENTRIES\"]\n",
    "    exits = x['EXITS                                                               ']\n",
    "    # Removing all the whitespace that comes in the exits key\n",
    "    exits = exits.strip()\n",
    "    \n",
    "    values_list = [linelame, division,date,time, desc, entries, exits]\n",
    "        \n",
    "    if my_tuple not in chal_1_dict:\n",
    "        chal_1_dict[my_tuple] = [values_list]\n",
    "    else:\n",
    "        chal_1_dict[my_tuple] = chal_1_dict[my_tuple] + [values_list]"
   ]
  },
  {
   "cell_type": "code",
   "execution_count": 134,
   "metadata": {
    "collapsed": false,
    "scrolled": true
   },
   "outputs": [],
   "source": [
    "# print chal_1_dict"
   ]
  },
  {
   "cell_type": "markdown",
   "metadata": {},
   "source": [
    "# Challenge 2\n",
    "\n",
    "Let's turn this into a time series.\n",
    "\n",
    "For each key (basically the control area, unit, device address and station of a specific turnstile), have a list again, but let the list be comprised of just the point in time and the count of entries.\n",
    "\n",
    "This basically means keeping only the date, time, and entries fields in each list. You can convert the date and time into datetime objects -- That is a python class that represents a point in time. You can combine the date and time fields into a string and use the dateutil module to convert it into a datetime object. For an example check this StackOverflow question.\n",
    "\n",
    "Your new dict should look something like\n",
    "\n",
    "{ ('A002','R051','02-00-00','LEXINGTON AVE'): [ [datetime.datetime(2013, 3, 2, 3, 0), 3788], [datetime.datetime(2013, 3, 2, 7, 0), 2585], [datetime.datetime(2013, 3, 2, 12, 0), 10653], [datetime.datetime(2013, 3, 2, 17, 0), 11016], [datetime.datetime(2013, 3, 2, 23, 0), 10666], [datetime.datetime(2013, 3, 3, 3, 0), 10814], [datetime.datetime(2013, 3, 3, 7, 0), 10229], ... ], .... }"
   ]
  },
  {
   "cell_type": "code",
   "execution_count": null,
   "metadata": {
    "collapsed": true
   },
   "outputs": [],
   "source": []
  },
  {
   "cell_type": "code",
   "execution_count": 135,
   "metadata": {
    "collapsed": false
   },
   "outputs": [],
   "source": [
    "# Part 1 - Converting the dates & times\n",
    "\n",
    "import dateutil.parser\n",
    "\n",
    "chal_2_dict = {}\n",
    "\n",
    "for key in chal_1_dict:\n",
    "    for timestamp in chal_1_dict[key]:\n",
    "        entries = int(timestamp[-2])\n",
    "        date_unparsed = timestamp[2]\n",
    "        time_unparsed = timestamp[3]\n",
    "        date_time_combo = date_unparsed + \" \" + time_unparsed\n",
    "        time_list = [dateutil.parser.parse(date_time_combo),entries]\n",
    "        \n",
    "        if key not in chal_2_dict:\n",
    "            chal_2_dict[key] = [time_list]\n",
    "        else:\n",
    "            chal_2_dict[key] = chal_2_dict[key] + [time_list]"
   ]
  },
  {
   "cell_type": "code",
   "execution_count": 136,
   "metadata": {
    "collapsed": false
   },
   "outputs": [
    {
     "name": "stdout",
     "output_type": "stream",
     "text": [
      "{('A002', 'R051', '02-03-03', '59 ST'): [[datetime.datetime(2016, 3, 12, 3, 0), 4451939], [datetime.datetime(2016, 3, 12, 7, 0), 4451945], [datetime.datetime(2016, 3, 12, 11, 0), 4452028], [datetime.datetime(2016, 3, 12, 15, 0), 4452252], [datetime.datetime(2016, 3, 12, 19, 0), 4452644], [datetime.datetime(2016, 3, 12, 23, 0), 4452853], [datetime.datetime(2016, 3, 13, 4, 0), 4452935], [datetime.datetime(2016, 3, 13, 8, 0), 4452947], [datetime.datetime(2016, 3, 13, 12, 0), 4453024], [datetime.datetime(2016, 3, 13, 16, 0), 4453202], [datetime.datetime(2016, 3, 13, 20, 0), 4453500], [datetime.datetime(2016, 3, 14, 0, 0), 4453714], [datetime.datetime(2016, 3, 14, 4, 0), 4453731], [datetime.datetime(2016, 3, 14, 8, 0), 4453784], [datetime.datetime(2016, 3, 14, 12, 0), 4454063]], ('A002', 'R051', '02-00-01', '59 ST'): [[datetime.datetime(2016, 3, 12, 3, 0), 5132898], [datetime.datetime(2016, 3, 12, 7, 0), 5132906], [datetime.datetime(2016, 3, 12, 11, 0), 5132977], [datetime.datetime(2016, 3, 12, 15, 0), 5133224], [datetime.datetime(2016, 3, 12, 19, 0), 5133620], [datetime.datetime(2016, 3, 12, 23, 0), 5133833], [datetime.datetime(2016, 3, 13, 4, 0), 5133882], [datetime.datetime(2016, 3, 13, 8, 0), 5133893], [datetime.datetime(2016, 3, 13, 12, 0), 5133946], [datetime.datetime(2016, 3, 13, 16, 0), 5134127], [datetime.datetime(2016, 3, 13, 20, 0), 5134353], [datetime.datetime(2016, 3, 14, 0, 0), 5134456], [datetime.datetime(2016, 3, 14, 4, 0), 5134470], [datetime.datetime(2016, 3, 14, 8, 0), 5134519], [datetime.datetime(2016, 3, 14, 12, 0), 5134659], [datetime.datetime(2016, 3, 14, 16, 0), 5134887], [datetime.datetime(2016, 3, 14, 20, 0), 5135464], [datetime.datetime(2016, 3, 15, 0, 0), 5135640], [datetime.datetime(2016, 3, 15, 4, 0), 5135650], [datetime.datetime(2016, 3, 15, 8, 0), 5135692], [datetime.datetime(2016, 3, 15, 12, 0), 5135820], [datetime.datetime(2016, 3, 15, 16, 0), 5136082], [datetime.datetime(2016, 3, 15, 20, 0), 5136479], [datetime.datetime(2016, 3, 16, 0, 0), 5136589], [datetime.datetime(2016, 3, 16, 4, 0), 5136589], [datetime.datetime(2016, 3, 16, 8, 0), 5136619], [datetime.datetime(2016, 3, 16, 12, 0), 5136654], [datetime.datetime(2016, 3, 16, 16, 0), 5136900], [datetime.datetime(2016, 3, 16, 20, 0), 5137407], [datetime.datetime(2016, 3, 17, 0, 0), 5137505], [datetime.datetime(2016, 3, 17, 4, 0), 5137518], [datetime.datetime(2016, 3, 17, 8, 0), 5137569], [datetime.datetime(2016, 3, 17, 12, 0), 5137640], [datetime.datetime(2016, 3, 17, 16, 0), 5137759], [datetime.datetime(2016, 3, 17, 20, 0), 5138298], [datetime.datetime(2016, 3, 18, 0, 0), 5138424], [datetime.datetime(2016, 3, 18, 4, 0), 5138424], [datetime.datetime(2016, 3, 18, 8, 0), 5138468], [datetime.datetime(2016, 3, 18, 12, 0), 5138552], [datetime.datetime(2016, 3, 18, 16, 0), 5138798], [datetime.datetime(2016, 3, 18, 20, 0), 5139316]], ('A002', 'R051', '02-03-01', '59 ST'): [[datetime.datetime(2016, 3, 12, 3, 0), 5095763], [datetime.datetime(2016, 3, 12, 7, 0), 5095788], [datetime.datetime(2016, 3, 12, 11, 0), 5095897], [datetime.datetime(2016, 3, 12, 15, 0), 5096168], [datetime.datetime(2016, 3, 12, 19, 0), 5096572], [datetime.datetime(2016, 3, 12, 23, 0), 5096836], [datetime.datetime(2016, 3, 13, 4, 0), 5096947], [datetime.datetime(2016, 3, 13, 8, 0), 5096967], [datetime.datetime(2016, 3, 13, 12, 0), 5097058], [datetime.datetime(2016, 3, 13, 16, 0), 5097322], [datetime.datetime(2016, 3, 13, 20, 0), 5097726], [datetime.datetime(2016, 3, 14, 0, 0), 5097950], [datetime.datetime(2016, 3, 14, 4, 0), 5097970], [datetime.datetime(2016, 3, 14, 8, 0), 5098013], [datetime.datetime(2016, 3, 14, 12, 0), 5098160], [datetime.datetime(2016, 3, 14, 16, 0), 5098468], [datetime.datetime(2016, 3, 14, 20, 0), 5099133], [datetime.datetime(2016, 3, 15, 0, 0), 5099414], [datetime.datetime(2016, 3, 15, 4, 0), 5099443], [datetime.datetime(2016, 3, 15, 8, 0), 5099497], [datetime.datetime(2016, 3, 15, 12, 0), 5099711], [datetime.datetime(2016, 3, 15, 16, 0), 5100020], [datetime.datetime(2016, 3, 15, 20, 0), 5100829], [datetime.datetime(2016, 3, 16, 0, 0), 5101217], [datetime.datetime(2016, 3, 16, 4, 0), 5101256], [datetime.datetime(2016, 3, 16, 8, 0), 5101328], [datetime.datetime(2016, 3, 16, 12, 0), 5101537], [datetime.datetime(2016, 3, 16, 16, 0), 5101888], [datetime.datetime(2016, 3, 16, 20, 0), 5102658], [datetime.datetime(2016, 3, 17, 0, 0), 5103054], [datetime.datetime(2016, 3, 17, 4, 0), 5103097], [datetime.datetime(2016, 3, 17, 8, 0), 5103147], [datetime.datetime(2016, 3, 17, 12, 0), 5103353], [datetime.datetime(2016, 3, 17, 16, 0), 5103756], [datetime.datetime(2016, 3, 17, 20, 0), 5104483], [datetime.datetime(2016, 3, 18, 0, 0), 5104873], [datetime.datetime(2016, 3, 18, 4, 0), 5104938], [datetime.datetime(2016, 3, 18, 8, 0), 5105007], [datetime.datetime(2016, 3, 18, 12, 0), 5105221], [datetime.datetime(2016, 3, 18, 16, 0), 5105594], [datetime.datetime(2016, 3, 18, 20, 0), 5106350]], ('A002', 'R051', '02-03-02', '59 ST'): [[datetime.datetime(2016, 3, 12, 3, 0), 4821263], [datetime.datetime(2016, 3, 12, 7, 0), 4821289], [datetime.datetime(2016, 3, 12, 11, 0), 4821399], [datetime.datetime(2016, 3, 12, 15, 0), 4821650], [datetime.datetime(2016, 3, 12, 19, 0), 4822016], [datetime.datetime(2016, 3, 12, 23, 0), 4822251], [datetime.datetime(2016, 3, 13, 4, 0), 4822335], [datetime.datetime(2016, 3, 13, 8, 0), 4822360], [datetime.datetime(2016, 3, 13, 12, 0), 4822443], [datetime.datetime(2016, 3, 13, 16, 0), 4822625], [datetime.datetime(2016, 3, 13, 20, 0), 4822995], [datetime.datetime(2016, 3, 14, 0, 0), 4823212], [datetime.datetime(2016, 3, 14, 4, 0), 4823229], [datetime.datetime(2016, 3, 14, 8, 0), 4823273], [datetime.datetime(2016, 3, 14, 12, 0), 4823474], [datetime.datetime(2016, 3, 14, 16, 0), 4823790], [datetime.datetime(2016, 3, 14, 20, 0), 4824549], [datetime.datetime(2016, 3, 15, 0, 0), 4824828], [datetime.datetime(2016, 3, 15, 4, 0), 4824849], [datetime.datetime(2016, 3, 15, 8, 0), 4824911], [datetime.datetime(2016, 3, 15, 12, 0), 4825169], [datetime.datetime(2016, 3, 15, 16, 0), 4825503], [datetime.datetime(2016, 3, 15, 20, 0), 4826328], [datetime.datetime(2016, 3, 16, 0, 0), 4826671], [datetime.datetime(2016, 3, 16, 4, 0), 4826721], [datetime.datetime(2016, 3, 16, 8, 0), 4826783], [datetime.datetime(2016, 3, 16, 12, 0), 4827105], [datetime.datetime(2016, 3, 16, 16, 0), 4827427], [datetime.datetime(2016, 3, 16, 20, 0), 4828214], [datetime.datetime(2016, 3, 17, 0, 0), 4828542], [datetime.datetime(2016, 3, 17, 4, 0), 4828573], [datetime.datetime(2016, 3, 17, 8, 0), 4828636], [datetime.datetime(2016, 3, 17, 12, 0), 4828915], [datetime.datetime(2016, 3, 17, 16, 0), 4829326], [datetime.datetime(2016, 3, 17, 20, 0), 4830081], [datetime.datetime(2016, 3, 18, 0, 0), 4830390], [datetime.datetime(2016, 3, 18, 4, 0), 4830429], [datetime.datetime(2016, 3, 18, 8, 0), 4830475], [datetime.datetime(2016, 3, 18, 12, 0), 4830728], [datetime.datetime(2016, 3, 18, 16, 0), 4831098], [datetime.datetime(2016, 3, 18, 20, 0), 4831940]], ('A002', 'R051', '02-03-00', '59 ST'): [[datetime.datetime(2016, 3, 12, 3, 0), 662624], [datetime.datetime(2016, 3, 12, 7, 0), 662632], [datetime.datetime(2016, 3, 12, 11, 0), 662672], [datetime.datetime(2016, 3, 12, 15, 0), 662756], [datetime.datetime(2016, 3, 12, 19, 0), 662906], [datetime.datetime(2016, 3, 12, 23, 0), 663028], [datetime.datetime(2016, 3, 13, 4, 0), 663065], [datetime.datetime(2016, 3, 13, 8, 0), 663069], [datetime.datetime(2016, 3, 13, 12, 0), 663088], [datetime.datetime(2016, 3, 13, 16, 0), 663175], [datetime.datetime(2016, 3, 13, 20, 0), 663324], [datetime.datetime(2016, 3, 14, 0, 0), 663402], [datetime.datetime(2016, 3, 14, 4, 0), 663411], [datetime.datetime(2016, 3, 14, 8, 0), 663429], [datetime.datetime(2016, 3, 14, 12, 0), 663466], [datetime.datetime(2016, 3, 14, 16, 0), 663575], [datetime.datetime(2016, 3, 14, 20, 0), 663997], [datetime.datetime(2016, 3, 15, 0, 0), 664087], [datetime.datetime(2016, 3, 15, 4, 0), 664090], [datetime.datetime(2016, 3, 15, 8, 0), 664111], [datetime.datetime(2016, 3, 15, 12, 0), 664192], [datetime.datetime(2016, 3, 15, 16, 0), 664305], [datetime.datetime(2016, 3, 15, 20, 0), 664771], [datetime.datetime(2016, 3, 16, 0, 0), 664919], [datetime.datetime(2016, 3, 16, 4, 0), 664931], [datetime.datetime(2016, 3, 16, 8, 0), 664951], [datetime.datetime(2016, 3, 16, 12, 0), 665030], [datetime.datetime(2016, 3, 16, 16, 0), 665131], [datetime.datetime(2016, 3, 16, 20, 0), 665493], [datetime.datetime(2016, 3, 17, 0, 0), 665625], [datetime.datetime(2016, 3, 17, 4, 0), 665643], [datetime.datetime(2016, 3, 17, 8, 0), 665653], [datetime.datetime(2016, 3, 17, 12, 0), 665728], [datetime.datetime(2016, 3, 17, 16, 0), 665881], [datetime.datetime(2016, 3, 17, 20, 0), 666257], [datetime.datetime(2016, 3, 18, 0, 0), 666418], [datetime.datetime(2016, 3, 18, 4, 0), 666434], [datetime.datetime(2016, 3, 18, 8, 0), 666451], [datetime.datetime(2016, 3, 18, 12, 0), 666527], [datetime.datetime(2016, 3, 18, 16, 0), 666644], [datetime.datetime(2016, 3, 18, 20, 0), 667015]], ('A002', 'R051', '02-00-00', '59 ST'): [[datetime.datetime(2016, 3, 12, 3, 0), 5583673], [datetime.datetime(2016, 3, 12, 7, 0), 5583689], [datetime.datetime(2016, 3, 12, 11, 0), 5583785], [datetime.datetime(2016, 3, 12, 15, 0), 5584037], [datetime.datetime(2016, 3, 12, 19, 0), 5584482], [datetime.datetime(2016, 3, 12, 23, 0), 5584768], [datetime.datetime(2016, 3, 13, 4, 0), 5584835], [datetime.datetime(2016, 3, 13, 8, 0), 5584851], [datetime.datetime(2016, 3, 13, 12, 0), 5584909], [datetime.datetime(2016, 3, 13, 16, 0), 5585119], [datetime.datetime(2016, 3, 13, 20, 0), 5585346], [datetime.datetime(2016, 3, 14, 0, 0), 5585473], [datetime.datetime(2016, 3, 14, 4, 0), 5585482], [datetime.datetime(2016, 3, 14, 8, 0), 5585531], [datetime.datetime(2016, 3, 14, 12, 0), 5585680], [datetime.datetime(2016, 3, 14, 16, 0), 5585933], [datetime.datetime(2016, 3, 14, 20, 0), 5586481], [datetime.datetime(2016, 3, 15, 0, 0), 5586640], [datetime.datetime(2016, 3, 15, 4, 0), 5586649], [datetime.datetime(2016, 3, 15, 8, 0), 5586694], [datetime.datetime(2016, 3, 15, 12, 0), 5586796], [datetime.datetime(2016, 3, 15, 16, 0), 5587096], [datetime.datetime(2016, 3, 15, 20, 0), 5587516], [datetime.datetime(2016, 3, 16, 0, 0), 5587644], [datetime.datetime(2016, 3, 16, 4, 0), 5587644], [datetime.datetime(2016, 3, 16, 8, 0), 5587674], [datetime.datetime(2016, 3, 16, 12, 0), 5587710], [datetime.datetime(2016, 3, 16, 16, 0), 5587966], [datetime.datetime(2016, 3, 16, 20, 0), 5588468], [datetime.datetime(2016, 3, 17, 0, 0), 5588611], [datetime.datetime(2016, 3, 17, 4, 0), 5588623], [datetime.datetime(2016, 3, 17, 8, 0), 5588671], [datetime.datetime(2016, 3, 17, 12, 0), 5588718], [datetime.datetime(2016, 3, 17, 16, 0), 5588864], [datetime.datetime(2016, 3, 17, 20, 0), 5589445], [datetime.datetime(2016, 3, 18, 0, 0), 5589621], [datetime.datetime(2016, 3, 18, 4, 0), 5589621], [datetime.datetime(2016, 3, 18, 8, 0), 5589662], [datetime.datetime(2016, 3, 18, 12, 0), 5589769], [datetime.datetime(2016, 3, 18, 16, 0), 5590056], [datetime.datetime(2016, 3, 18, 20, 0), 5590568]]}\n"
     ]
    }
   ],
   "source": [
    "print chal_2_dict"
   ]
  },
  {
   "cell_type": "code",
   "execution_count": 137,
   "metadata": {
    "collapsed": false
   },
   "outputs": [],
   "source": [
    "chal_2_dict = {turnstile: [[rows[i][0],\n",
    "                                     rows[i+1][1] - rows[i][1]]\n",
    "                                    for i in range(len(rows) - 1)]\n",
    "                        for turnstile, rows in chal_2_dict.items()}    #make a new dictionary; keys will be the turnstiles, each will have a list of lists, each of which will give date, change in entries from last time, and elasped time"
   ]
  },
  {
   "cell_type": "markdown",
   "metadata": {},
   "source": [
    "# Challenge 3\n",
    "\n",
    "These counts are for every n hours. (What is n?) We want total daily entries.\n",
    "Now make it that we again have the same keys, but now we have a single value for a single day, which is the total number of passengers that entered through this turnstile on this day."
   ]
  },
  {
   "cell_type": "markdown",
   "metadata": {},
   "source": [
    "n = 4 for most of the dataset. There are some occasions when n bumps to 5 hours (e.g. when the schedules goes from (in military time) 1900 to 2300 and then to 0400 and 0800). There are other times when there are \"audits\" which aren't taken on the hour, and occur at strange times like 5:37. This creates an arbitrary amount of time between itself and the previous/subsequent time."
   ]
  },
  {
   "cell_type": "code",
   "execution_count": null,
   "metadata": {
    "collapsed": true
   },
   "outputs": [],
   "source": []
  },
  {
   "cell_type": "code",
   "execution_count": 204,
   "metadata": {
    "collapsed": true
   },
   "outputs": [],
   "source": [
    "# row[i][0] - This is the datetime elements\n",
    "# row[i][1] - This is the entries elements\n",
    "\n",
    "chal_3_dict = {turnstile: [[rows[i][0],\n",
    "                                     rows[i+1][1] - rows[i][1]]\n",
    "                                    for i in range(len(rows) - 1)]\n",
    "                        for turnstile, rows in chal_2_dict.items()}    #make a new dictionary; keys will be the turnstiles, each will have a list of lists, each of which will give date, change in entries from last time, and elasped time"
   ]
  },
  {
   "cell_type": "code",
   "execution_count": 205,
   "metadata": {
    "collapsed": false
   },
   "outputs": [],
   "source": [
    "chal_3_dict = {turnstile: [(time, count)\n",
    "                               for (time, count) in rows\n",
    "                               if 0 <= count <= 5000]\n",
    "                   for turnstile, rows in chal_3_dict.items()}    #make one more dictionary; keys will be turnstiles, each will have a list of lists with date and change in entries"
   ]
  },
  {
   "cell_type": "code",
   "execution_count": 206,
   "metadata": {
    "collapsed": false
   },
   "outputs": [],
   "source": [
    "day_counts = {}    #an empty dictionary to hold the total counts\n",
    "for turnstile, rows in chal_3_dict.items():    #loop over key/data pairs in datetime_counts\n",
    "    by_day = {}    #for each make a new empty dictionary\n",
    "    for time, count in rows:    #loop over the time and the count\n",
    "        day = time.date()    #keep only the day info\n",
    "        by_day[day] = by_day.get(day, 0) + count    #pull out the data associated with key <day> and add the count to it - if <day> is in the dictionary return 0\n",
    "    day_counts[turnstile] = sorted(by_day.items())    #save the count by turnstile in the dictionary"
   ]
  },
  {
   "cell_type": "code",
   "execution_count": 207,
   "metadata": {
    "collapsed": false
   },
   "outputs": [
    {
     "data": {
      "text/plain": [
       "[(16, datetime.datetime(2016, 3, 12, 3, 0)),\n",
       " (96, datetime.datetime(2016, 3, 12, 7, 0)),\n",
       " (252, datetime.datetime(2016, 3, 12, 11, 0)),\n",
       " (445, datetime.datetime(2016, 3, 12, 15, 0)),\n",
       " (286, datetime.datetime(2016, 3, 12, 19, 0)),\n",
       " (67, datetime.datetime(2016, 3, 12, 23, 0)),\n",
       " (16, datetime.datetime(2016, 3, 13, 4, 0)),\n",
       " (58, datetime.datetime(2016, 3, 13, 8, 0)),\n",
       " (210, datetime.datetime(2016, 3, 13, 12, 0)),\n",
       " (227, datetime.datetime(2016, 3, 13, 16, 0)),\n",
       " (127, datetime.datetime(2016, 3, 13, 20, 0)),\n",
       " (9, datetime.datetime(2016, 3, 14, 0, 0)),\n",
       " (49, datetime.datetime(2016, 3, 14, 4, 0)),\n",
       " (149, datetime.datetime(2016, 3, 14, 8, 0)),\n",
       " (253, datetime.datetime(2016, 3, 14, 12, 0)),\n",
       " (548, datetime.datetime(2016, 3, 14, 16, 0)),\n",
       " (159, datetime.datetime(2016, 3, 14, 20, 0)),\n",
       " (9, datetime.datetime(2016, 3, 15, 0, 0)),\n",
       " (45, datetime.datetime(2016, 3, 15, 4, 0)),\n",
       " (102, datetime.datetime(2016, 3, 15, 8, 0)),\n",
       " (300, datetime.datetime(2016, 3, 15, 12, 0)),\n",
       " (420, datetime.datetime(2016, 3, 15, 16, 0)),\n",
       " (128, datetime.datetime(2016, 3, 15, 20, 0)),\n",
       " (0, datetime.datetime(2016, 3, 16, 0, 0)),\n",
       " (30, datetime.datetime(2016, 3, 16, 4, 0)),\n",
       " (36, datetime.datetime(2016, 3, 16, 8, 0)),\n",
       " (256, datetime.datetime(2016, 3, 16, 12, 0)),\n",
       " (502, datetime.datetime(2016, 3, 16, 16, 0)),\n",
       " (143, datetime.datetime(2016, 3, 16, 20, 0)),\n",
       " (12, datetime.datetime(2016, 3, 17, 0, 0)),\n",
       " (48, datetime.datetime(2016, 3, 17, 4, 0)),\n",
       " (47, datetime.datetime(2016, 3, 17, 8, 0)),\n",
       " (146, datetime.datetime(2016, 3, 17, 12, 0)),\n",
       " (581, datetime.datetime(2016, 3, 17, 16, 0)),\n",
       " (176, datetime.datetime(2016, 3, 17, 20, 0)),\n",
       " (0, datetime.datetime(2016, 3, 18, 0, 0)),\n",
       " (41, datetime.datetime(2016, 3, 18, 4, 0)),\n",
       " (107, datetime.datetime(2016, 3, 18, 8, 0)),\n",
       " (287, datetime.datetime(2016, 3, 18, 12, 0)),\n",
       " (512, datetime.datetime(2016, 3, 18, 16, 0))]"
      ]
     },
     "execution_count": 207,
     "metadata": {},
     "output_type": "execute_result"
    }
   ],
   "source": [
    "[(x[1],x[0]) for x in chal_2_dict[('A002', 'R051', '02-00-00', '59 ST')] if x[0]]"
   ]
  },
  {
   "cell_type": "code",
   "execution_count": 208,
   "metadata": {
    "collapsed": false
   },
   "outputs": [
    {
     "name": "stdout",
     "output_type": "stream",
     "text": [
      "[datetime.datetime(2016, 3, 12, 3, 0), 16]\n",
      "[datetime.datetime(2016, 3, 12, 7, 0), 96]\n",
      "[datetime.datetime(2016, 3, 12, 11, 0), 252]\n",
      "[datetime.datetime(2016, 3, 12, 15, 0), 445]\n",
      "[datetime.datetime(2016, 3, 12, 19, 0), 286]\n",
      "[datetime.datetime(2016, 3, 12, 23, 0), 67]\n",
      "[datetime.datetime(2016, 3, 13, 4, 0), 16]\n",
      "[datetime.datetime(2016, 3, 13, 8, 0), 58]\n",
      "[datetime.datetime(2016, 3, 13, 12, 0), 210]\n",
      "[datetime.datetime(2016, 3, 13, 16, 0), 227]\n",
      "[datetime.datetime(2016, 3, 13, 20, 0), 127]\n",
      "[datetime.datetime(2016, 3, 14, 0, 0), 9]\n",
      "[datetime.datetime(2016, 3, 14, 4, 0), 49]\n",
      "[datetime.datetime(2016, 3, 14, 8, 0), 149]\n",
      "[datetime.datetime(2016, 3, 14, 12, 0), 253]\n",
      "[datetime.datetime(2016, 3, 14, 16, 0), 548]\n",
      "[datetime.datetime(2016, 3, 14, 20, 0), 159]\n",
      "[datetime.datetime(2016, 3, 15, 0, 0), 9]\n",
      "[datetime.datetime(2016, 3, 15, 4, 0), 45]\n",
      "[datetime.datetime(2016, 3, 15, 8, 0), 102]\n",
      "[datetime.datetime(2016, 3, 15, 12, 0), 300]\n",
      "[datetime.datetime(2016, 3, 15, 16, 0), 420]\n",
      "[datetime.datetime(2016, 3, 15, 20, 0), 128]\n",
      "[datetime.datetime(2016, 3, 16, 0, 0), 0]\n",
      "[datetime.datetime(2016, 3, 16, 4, 0), 30]\n",
      "[datetime.datetime(2016, 3, 16, 8, 0), 36]\n",
      "[datetime.datetime(2016, 3, 16, 12, 0), 256]\n",
      "[datetime.datetime(2016, 3, 16, 16, 0), 502]\n",
      "[datetime.datetime(2016, 3, 16, 20, 0), 143]\n",
      "[datetime.datetime(2016, 3, 17, 0, 0), 12]\n",
      "[datetime.datetime(2016, 3, 17, 4, 0), 48]\n",
      "[datetime.datetime(2016, 3, 17, 8, 0), 47]\n",
      "[datetime.datetime(2016, 3, 17, 12, 0), 146]\n",
      "[datetime.datetime(2016, 3, 17, 16, 0), 581]\n",
      "[datetime.datetime(2016, 3, 17, 20, 0), 176]\n",
      "[datetime.datetime(2016, 3, 18, 0, 0), 0]\n",
      "[datetime.datetime(2016, 3, 18, 4, 0), 41]\n",
      "[datetime.datetime(2016, 3, 18, 8, 0), 107]\n",
      "[datetime.datetime(2016, 3, 18, 12, 0), 287]\n",
      "[datetime.datetime(2016, 3, 18, 16, 0), 512]\n"
     ]
    }
   ],
   "source": [
    "for x in chal_2_dict[('A002', 'R051', '02-00-00', '59 ST')]:\n",
    "    print x"
   ]
  },
  {
   "cell_type": "code",
   "execution_count": null,
   "metadata": {
    "collapsed": false
   },
   "outputs": [],
   "source": []
  },
  {
   "cell_type": "markdown",
   "metadata": {},
   "source": [
    "# Challenge 4\n",
    "\n",
    "We will plot the daily time series for a turnstile.\n",
    "\n",
    "In ipython notebook, add this to the beginning of your next cell:\n",
    "\n",
    "%matplotlib inline\n",
    "This will make your matplotlib graphs integrate nicely with the notebook. To plot the time series, import matplotlib with\n",
    "\n",
    "import matplotlib.pyplot as plt\n",
    "\n",
    "Take the list of [(date1, count1), (date2, count2), ...], for the turnstile and turn it into two lists: dates and counts. This should plot it:\n",
    "\n",
    "plt.figure(figsize=(10,3))\n",
    "plt.plot(dates,counts)"
   ]
  },
  {
   "cell_type": "code",
   "execution_count": 209,
   "metadata": {
    "collapsed": true
   },
   "outputs": [],
   "source": [
    "%matplotlib inline\n",
    "import matplotlib.pyplot as plt"
   ]
  },
  {
   "cell_type": "code",
   "execution_count": 210,
   "metadata": {
    "collapsed": true
   },
   "outputs": [],
   "source": [
    "def plot_turnstyle_volume(key):\n",
    "    '''This takes an input like the following and prints \n",
    "    ('A002', 'R051', '02-00-00', '59 ST')\n",
    "    '''\n",
    "    dates = []\n",
    "    counts = []\n",
    "    for value in chal_3_dict[key]:\n",
    "        dates.append(value[0]) \n",
    "        counts.append(value[1])\n",
    "    #print dates\n",
    "    #print counts\n",
    "    \n",
    "    plt.figure(figsize=(10,3))\n",
    "    plt.plot(dates,counts)"
   ]
  },
  {
   "cell_type": "code",
   "execution_count": 211,
   "metadata": {
    "collapsed": false
   },
   "outputs": [
    {
     "data": {
      "image/png": "[encoded data removed]",
      "text/plain": [
       "<matplotlib.figure.Figure at 0x106a6e690>"
      ]
     },
     "metadata": {},
     "output_type": "display_data"
    }
   ],
   "source": [
    "plot_turnstyle_volume(('A002', 'R051', '02-00-00', '59 ST'))"
   ]
  },
  {
   "cell_type": "markdown",
   "metadata": {},
   "source": [
    "# Challenge 5\n",
    "\n",
    "So far we've been operating on a single turnstile level, let's combine turnstiles in the same ControlArea/Unit/Station combo. There are some ControlArea/Unit/Station groups that have a single turnstile, but most have multiple turnstilea-- same value for the C/A, UNIT and STATION columns, different values for the SCP column.\n",
    "We want to combine the numbers together -- for each ControlArea/UNIT/STATION combo, for each day, add the counts from each turnstile belonging to that combo."
   ]
  },
  {
   "cell_type": "code",
   "execution_count": 212,
   "metadata": {
    "collapsed": true
   },
   "outputs": [],
   "source": [
    "import pandas as pd"
   ]
  },
  {
   "cell_type": "code",
   "execution_count": null,
   "metadata": {
    "collapsed": true
   },
   "outputs": [],
   "source": []
  },
  {
   "cell_type": "code",
   "execution_count": null,
   "metadata": {
    "collapsed": true
   },
   "outputs": [],
   "source": []
  },
  {
   "cell_type": "code",
   "execution_count": 306,
   "metadata": {
    "collapsed": false
   },
   "outputs": [
    {
     "name": "stdout",
     "output_type": "stream",
     "text": [
      "[(datetime.datetime(2016, 3, 12, 3, 0), 77), (datetime.datetime(2016, 3, 12, 7, 0), 141), (datetime.datetime(2016, 3, 12, 11, 0), 168), (datetime.datetime(2016, 3, 13, 4, 0), 65), (datetime.datetime(2016, 3, 13, 8, 0), 101), (datetime.datetime(2016, 3, 13, 12, 0), 120), (datetime.datetime(2016, 3, 14, 0, 0), 36), (datetime.datetime(2016, 3, 14, 4, 0), 226)]\n",
      "[(datetime.datetime(2016, 3, 12, 3, 0), 63), (datetime.datetime(2016, 3, 12, 7, 0), 176), (datetime.datetime(2016, 3, 12, 11, 0), 149), (datetime.datetime(2016, 3, 13, 4, 0), 42), (datetime.datetime(2016, 3, 13, 8, 0), 128), (datetime.datetime(2016, 3, 13, 12, 0), 45), (datetime.datetime(2016, 3, 14, 0, 0), 35), (datetime.datetime(2016, 3, 14, 4, 0), 91), (datetime.datetime(2016, 3, 14, 8, 0), 88), (datetime.datetime(2016, 3, 14, 12, 0), 349), (datetime.datetime(2016, 3, 15, 0, 0), 32), (datetime.datetime(2016, 3, 15, 4, 0), 86), (datetime.datetime(2016, 3, 15, 8, 0), 134), (datetime.datetime(2016, 3, 15, 12, 0), 135), (datetime.datetime(2016, 3, 16, 0, 0), 30), (datetime.datetime(2016, 3, 16, 4, 0), 5), (datetime.datetime(2016, 3, 16, 8, 0), 211), (datetime.datetime(2016, 3, 16, 12, 0), 261), (datetime.datetime(2016, 3, 17, 0, 0), 38), (datetime.datetime(2016, 3, 17, 4, 0), 20), (datetime.datetime(2016, 3, 17, 8, 0), 48), (datetime.datetime(2016, 3, 17, 12, 0), 420), (datetime.datetime(2016, 3, 18, 0, 0), 44), (datetime.datetime(2016, 3, 18, 4, 0), 40), (datetime.datetime(2016, 3, 18, 8, 0), 162), (datetime.datetime(2016, 3, 18, 12, 0), 272)]\n",
      "[(datetime.datetime(2016, 3, 12, 3, 0), 84), (datetime.datetime(2016, 3, 12, 7, 0), 162), (datetime.datetime(2016, 3, 12, 11, 0), 133), (datetime.datetime(2016, 3, 13, 4, 0), 71), (datetime.datetime(2016, 3, 13, 8, 0), 173), (datetime.datetime(2016, 3, 13, 12, 0), 140), (datetime.datetime(2016, 3, 14, 0, 0), 23), (datetime.datetime(2016, 3, 14, 4, 0), 104), (datetime.datetime(2016, 3, 14, 8, 0), 161), (datetime.datetime(2016, 3, 14, 12, 0), 357), (datetime.datetime(2016, 3, 15, 0, 0), 25), (datetime.datetime(2016, 3, 15, 4, 0), 160), (datetime.datetime(2016, 3, 15, 8, 0), 95), (datetime.datetime(2016, 3, 15, 12, 0), 500), (datetime.datetime(2016, 3, 16, 0, 0), 33), (datetime.datetime(2016, 3, 16, 4, 0), 137), (datetime.datetime(2016, 3, 16, 8, 0), 142), (datetime.datetime(2016, 3, 16, 12, 0), 419), (datetime.datetime(2016, 3, 17, 0, 0), 7), (datetime.datetime(2016, 3, 17, 4, 0), 156), (datetime.datetime(2016, 3, 17, 8, 0), 197), (datetime.datetime(2016, 3, 17, 12, 0), 324), (datetime.datetime(2016, 3, 18, 0, 0), 4), (datetime.datetime(2016, 3, 18, 4, 0), 145), (datetime.datetime(2016, 3, 18, 8, 0), 159), (datetime.datetime(2016, 3, 18, 12, 0), 383)]\n",
      "[(datetime.datetime(2016, 3, 12, 3, 0), 84), (datetime.datetime(2016, 3, 12, 7, 0), 141), (datetime.datetime(2016, 3, 12, 11, 0), 115), (datetime.datetime(2016, 3, 13, 4, 0), 58), (datetime.datetime(2016, 3, 13, 8, 0), 99), (datetime.datetime(2016, 3, 13, 12, 0), 188), (datetime.datetime(2016, 3, 14, 0, 0), 27), (datetime.datetime(2016, 3, 14, 4, 0), 157), (datetime.datetime(2016, 3, 14, 8, 0), 115), (datetime.datetime(2016, 3, 14, 12, 0), 443), (datetime.datetime(2016, 3, 15, 0, 0), 41), (datetime.datetime(2016, 3, 15, 4, 0), 196), (datetime.datetime(2016, 3, 15, 8, 0), 76), (datetime.datetime(2016, 3, 15, 12, 0), 491), (datetime.datetime(2016, 3, 16, 0, 0), 12), (datetime.datetime(2016, 3, 16, 4, 0), 260), (datetime.datetime(2016, 3, 16, 8, 0), 0), (datetime.datetime(2016, 3, 16, 12, 0), 465), (datetime.datetime(2016, 3, 17, 0, 0), 32), (datetime.datetime(2016, 3, 17, 4, 0), 216), (datetime.datetime(2016, 3, 17, 8, 0), 132), (datetime.datetime(2016, 3, 17, 12, 0), 344), (datetime.datetime(2016, 3, 18, 0, 0), 7), (datetime.datetime(2016, 3, 18, 4, 0), 207), (datetime.datetime(2016, 3, 18, 8, 0), 117), (datetime.datetime(2016, 3, 18, 12, 0), 472)]\n",
      "[(datetime.datetime(2016, 3, 12, 3, 0), 32), (datetime.datetime(2016, 3, 12, 7, 0), 44), (datetime.datetime(2016, 3, 12, 11, 0), 66), (datetime.datetime(2016, 3, 13, 4, 0), 15), (datetime.datetime(2016, 3, 13, 8, 0), 68), (datetime.datetime(2016, 3, 13, 12, 0), 62), (datetime.datetime(2016, 3, 14, 0, 0), 9), (datetime.datetime(2016, 3, 14, 4, 0), 19), (datetime.datetime(2016, 3, 14, 8, 0), 72), (datetime.datetime(2016, 3, 14, 12, 0), 313), (datetime.datetime(2016, 3, 15, 0, 0), 18), (datetime.datetime(2016, 3, 15, 4, 0), 60), (datetime.datetime(2016, 3, 15, 8, 0), 32), (datetime.datetime(2016, 3, 15, 12, 0), 353), (datetime.datetime(2016, 3, 16, 0, 0), 8), (datetime.datetime(2016, 3, 16, 4, 0), 59), (datetime.datetime(2016, 3, 16, 8, 0), 22), (datetime.datetime(2016, 3, 16, 12, 0), 261), (datetime.datetime(2016, 3, 17, 4, 0), 65), (datetime.datetime(2016, 3, 17, 8, 0), 78), (datetime.datetime(2016, 3, 17, 12, 0), 223), (datetime.datetime(2016, 3, 18, 0, 0), 1), (datetime.datetime(2016, 3, 18, 4, 0), 59), (datetime.datetime(2016, 3, 18, 8, 0), 41), (datetime.datetime(2016, 3, 18, 12, 0), 254)]\n",
      "[(datetime.datetime(2016, 3, 12, 3, 0), 80), (datetime.datetime(2016, 3, 12, 7, 0), 156), (datetime.datetime(2016, 3, 12, 11, 0), 193), (datetime.datetime(2016, 3, 13, 4, 0), 42), (datetime.datetime(2016, 3, 13, 8, 0), 152), (datetime.datetime(2016, 3, 13, 12, 0), 17), (datetime.datetime(2016, 3, 14, 0, 0), 40), (datetime.datetime(2016, 3, 14, 4, 0), 100), (datetime.datetime(2016, 3, 14, 8, 0), 104), (datetime.datetime(2016, 3, 14, 12, 0), 295), (datetime.datetime(2016, 3, 15, 0, 0), 36), (datetime.datetime(2016, 3, 15, 4, 0), 57), (datetime.datetime(2016, 3, 15, 8, 0), 198), (datetime.datetime(2016, 3, 15, 12, 0), 120), (datetime.datetime(2016, 3, 16, 0, 0), 30), (datetime.datetime(2016, 3, 16, 4, 0), 6), (datetime.datetime(2016, 3, 16, 8, 0), 220), (datetime.datetime(2016, 3, 16, 12, 0), 246), (datetime.datetime(2016, 3, 17, 0, 0), 36), (datetime.datetime(2016, 3, 17, 8, 0), 99), (datetime.datetime(2016, 3, 17, 12, 0), 435), (datetime.datetime(2016, 3, 18, 0, 0), 41), (datetime.datetime(2016, 3, 18, 4, 0), 66), (datetime.datetime(2016, 3, 18, 8, 0), 180), (datetime.datetime(2016, 3, 18, 12, 0), 225)]\n"
     ]
    }
   ],
   "source": [
    "chal_5_dict = {}\n",
    "\n",
    "for turnstile,day_time_count_list_of_tuples in chal_3_dict.items():\n",
    "    # (Preparation Step) Massaging the key...\n",
    "    # Extract out the control area, unit, and turnstyle of each key.\n",
    "    control = turnstile[0]\n",
    "    unit = turnstile[1]\n",
    "    station = turnstile[3]\n",
    "    \n",
    "    control_unit_station_tuple = (control,unit,station)\n",
    "    \n",
    "    # (Preparation Step) Massaing the values...\n",
    "    # This is nec. because later I will have to update the counts. Since tuples are immutable, it wouldn't update.\n",
    "       # day_time_count_list_of_lists = map(list, day_time_count_list_of_tuples)\n",
    "    \n",
    "    #The keys will be dates, the values will be a rolling sum for a given station (iterating across all the turnstyles)\n",
    "    date_sum = {}\n",
    "    \n",
    "    print day_time_count_list_of_tuples\n",
    "    \n",
    "    for day_times,counts in day_time_count_list_of_tuples:\n",
    "        date_sum[day_times] = date_sum.get(day_times, 0) + counts\n",
    "    \n",
    "    if control_unit_station_tuple in chal_5_dict:\n",
    "        preexisting_station_dictionary = chal_5_dict[control_unit_station_tuple]\n",
    "\n",
    "        for temp_times,temp_counts in date_sum.items():\n",
    "            preexisting_station_dictionary[temp_times] = preexisting_station_dictionary.get(temp_times, 0) + temp_counts\n",
    "    else:\n",
    "        chal_5_dict[control_unit_station_tuple] = date_sum   #This takes out all the values of the date dictionary \n",
    "    \n",
    "    #chal_5_dict[control_unit_station_tuple] = sorted(date_sum.items())"
   ]
  },
  {
   "cell_type": "code",
   "execution_count": null,
   "metadata": {
    "collapsed": false
   },
   "outputs": [],
   "source": []
  },
  {
   "cell_type": "code",
   "execution_count": null,
   "metadata": {
    "collapsed": false
   },
   "outputs": [],
   "source": []
  },
  {
   "cell_type": "code",
   "execution_count": 307,
   "metadata": {
    "collapsed": false
   },
   "outputs": [
    {
     "data": {
      "text/plain": [
       "[(('A002', 'R051', '59 ST'),\n",
       "  {datetime.datetime(2016, 3, 12, 3, 0): 420,\n",
       "   datetime.datetime(2016, 3, 12, 7, 0): 820,\n",
       "   datetime.datetime(2016, 3, 12, 11, 0): 824,\n",
       "   datetime.datetime(2016, 3, 13, 4, 0): 293,\n",
       "   datetime.datetime(2016, 3, 13, 8, 0): 721,\n",
       "   datetime.datetime(2016, 3, 13, 12, 0): 572,\n",
       "   datetime.datetime(2016, 3, 14, 0, 0): 170,\n",
       "   datetime.datetime(2016, 3, 14, 4, 0): 697,\n",
       "   datetime.datetime(2016, 3, 14, 8, 0): 540,\n",
       "   datetime.datetime(2016, 3, 14, 12, 0): 1757,\n",
       "   datetime.datetime(2016, 3, 15, 0, 0): 152,\n",
       "   datetime.datetime(2016, 3, 15, 4, 0): 559,\n",
       "   datetime.datetime(2016, 3, 15, 8, 0): 535,\n",
       "   datetime.datetime(2016, 3, 15, 12, 0): 1599,\n",
       "   datetime.datetime(2016, 3, 16, 0, 0): 113,\n",
       "   datetime.datetime(2016, 3, 16, 4, 0): 467,\n",
       "   datetime.datetime(2016, 3, 16, 8, 0): 595,\n",
       "   datetime.datetime(2016, 3, 16, 12, 0): 1652,\n",
       "   datetime.datetime(2016, 3, 17, 0, 0): 113,\n",
       "   datetime.datetime(2016, 3, 17, 4, 0): 457,\n",
       "   datetime.datetime(2016, 3, 17, 8, 0): 554,\n",
       "   datetime.datetime(2016, 3, 17, 12, 0): 1746,\n",
       "   datetime.datetime(2016, 3, 18, 0, 0): 97,\n",
       "   datetime.datetime(2016, 3, 18, 4, 0): 517,\n",
       "   datetime.datetime(2016, 3, 18, 8, 0): 659,\n",
       "   datetime.datetime(2016, 3, 18, 12, 0): 1606})]"
      ]
     },
     "execution_count": 307,
     "metadata": {},
     "output_type": "execute_result"
    }
   ],
   "source": [
    "chal_5_dict.items()"
   ]
  },
  {
   "cell_type": "code",
   "execution_count": 247,
   "metadata": {
    "collapsed": true
   },
   "outputs": [],
   "source": [
    "from datetime import datetime"
   ]
  },
  {
   "cell_type": "code",
   "execution_count": 308,
   "metadata": {
    "collapsed": false
   },
   "outputs": [
    {
     "data": {
      "text/plain": [
       "[(('A002', 'R051', '02-03-03', '59 ST'),\n",
       "  [(datetime.datetime(2016, 3, 12, 3, 0), 77),\n",
       "   (datetime.datetime(2016, 3, 12, 7, 0), 141),\n",
       "   (datetime.datetime(2016, 3, 12, 11, 0), 168),\n",
       "   (datetime.datetime(2016, 3, 13, 4, 0), 65),\n",
       "   (datetime.datetime(2016, 3, 13, 8, 0), 101),\n",
       "   (datetime.datetime(2016, 3, 13, 12, 0), 120),\n",
       "   (datetime.datetime(2016, 3, 14, 0, 0), 36),\n",
       "   (datetime.datetime(2016, 3, 14, 4, 0), 226)]),\n",
       " (('A002', 'R051', '02-00-01', '59 ST'),\n",
       "  [(datetime.datetime(2016, 3, 12, 3, 0), 63),\n",
       "   (datetime.datetime(2016, 3, 12, 7, 0), 176),\n",
       "   (datetime.datetime(2016, 3, 12, 11, 0), 149),\n",
       "   (datetime.datetime(2016, 3, 13, 4, 0), 42),\n",
       "   (datetime.datetime(2016, 3, 13, 8, 0), 128),\n",
       "   (datetime.datetime(2016, 3, 13, 12, 0), 45),\n",
       "   (datetime.datetime(2016, 3, 14, 0, 0), 35),\n",
       "   (datetime.datetime(2016, 3, 14, 4, 0), 91),\n",
       "   (datetime.datetime(2016, 3, 14, 8, 0), 88),\n",
       "   (datetime.datetime(2016, 3, 14, 12, 0), 349),\n",
       "   (datetime.datetime(2016, 3, 15, 0, 0), 32),\n",
       "   (datetime.datetime(2016, 3, 15, 4, 0), 86),\n",
       "   (datetime.datetime(2016, 3, 15, 8, 0), 134),\n",
       "   (datetime.datetime(2016, 3, 15, 12, 0), 135),\n",
       "   (datetime.datetime(2016, 3, 16, 0, 0), 30),\n",
       "   (datetime.datetime(2016, 3, 16, 4, 0), 5),\n",
       "   (datetime.datetime(2016, 3, 16, 8, 0), 211),\n",
       "   (datetime.datetime(2016, 3, 16, 12, 0), 261),\n",
       "   (datetime.datetime(2016, 3, 17, 0, 0), 38),\n",
       "   (datetime.datetime(2016, 3, 17, 4, 0), 20),\n",
       "   (datetime.datetime(2016, 3, 17, 8, 0), 48),\n",
       "   (datetime.datetime(2016, 3, 17, 12, 0), 420),\n",
       "   (datetime.datetime(2016, 3, 18, 0, 0), 44),\n",
       "   (datetime.datetime(2016, 3, 18, 4, 0), 40),\n",
       "   (datetime.datetime(2016, 3, 18, 8, 0), 162),\n",
       "   (datetime.datetime(2016, 3, 18, 12, 0), 272)]),\n",
       " (('A002', 'R051', '02-03-01', '59 ST'),\n",
       "  [(datetime.datetime(2016, 3, 12, 3, 0), 84),\n",
       "   (datetime.datetime(2016, 3, 12, 7, 0), 162),\n",
       "   (datetime.datetime(2016, 3, 12, 11, 0), 133),\n",
       "   (datetime.datetime(2016, 3, 13, 4, 0), 71),\n",
       "   (datetime.datetime(2016, 3, 13, 8, 0), 173),\n",
       "   (datetime.datetime(2016, 3, 13, 12, 0), 140),\n",
       "   (datetime.datetime(2016, 3, 14, 0, 0), 23),\n",
       "   (datetime.datetime(2016, 3, 14, 4, 0), 104),\n",
       "   (datetime.datetime(2016, 3, 14, 8, 0), 161),\n",
       "   (datetime.datetime(2016, 3, 14, 12, 0), 357),\n",
       "   (datetime.datetime(2016, 3, 15, 0, 0), 25),\n",
       "   (datetime.datetime(2016, 3, 15, 4, 0), 160),\n",
       "   (datetime.datetime(2016, 3, 15, 8, 0), 95),\n",
       "   (datetime.datetime(2016, 3, 15, 12, 0), 500),\n",
       "   (datetime.datetime(2016, 3, 16, 0, 0), 33),\n",
       "   (datetime.datetime(2016, 3, 16, 4, 0), 137),\n",
       "   (datetime.datetime(2016, 3, 16, 8, 0), 142),\n",
       "   (datetime.datetime(2016, 3, 16, 12, 0), 419),\n",
       "   (datetime.datetime(2016, 3, 17, 0, 0), 7),\n",
       "   (datetime.datetime(2016, 3, 17, 4, 0), 156),\n",
       "   (datetime.datetime(2016, 3, 17, 8, 0), 197),\n",
       "   (datetime.datetime(2016, 3, 17, 12, 0), 324),\n",
       "   (datetime.datetime(2016, 3, 18, 0, 0), 4),\n",
       "   (datetime.datetime(2016, 3, 18, 4, 0), 145),\n",
       "   (datetime.datetime(2016, 3, 18, 8, 0), 159),\n",
       "   (datetime.datetime(2016, 3, 18, 12, 0), 383)]),\n",
       " (('A002', 'R051', '02-03-02', '59 ST'),\n",
       "  [(datetime.datetime(2016, 3, 12, 3, 0), 84),\n",
       "   (datetime.datetime(2016, 3, 12, 7, 0), 141),\n",
       "   (datetime.datetime(2016, 3, 12, 11, 0), 115),\n",
       "   (datetime.datetime(2016, 3, 13, 4, 0), 58),\n",
       "   (datetime.datetime(2016, 3, 13, 8, 0), 99),\n",
       "   (datetime.datetime(2016, 3, 13, 12, 0), 188),\n",
       "   (datetime.datetime(2016, 3, 14, 0, 0), 27),\n",
       "   (datetime.datetime(2016, 3, 14, 4, 0), 157),\n",
       "   (datetime.datetime(2016, 3, 14, 8, 0), 115),\n",
       "   (datetime.datetime(2016, 3, 14, 12, 0), 443),\n",
       "   (datetime.datetime(2016, 3, 15, 0, 0), 41),\n",
       "   (datetime.datetime(2016, 3, 15, 4, 0), 196),\n",
       "   (datetime.datetime(2016, 3, 15, 8, 0), 76),\n",
       "   (datetime.datetime(2016, 3, 15, 12, 0), 491),\n",
       "   (datetime.datetime(2016, 3, 16, 0, 0), 12),\n",
       "   (datetime.datetime(2016, 3, 16, 4, 0), 260),\n",
       "   (datetime.datetime(2016, 3, 16, 8, 0), 0),\n",
       "   (datetime.datetime(2016, 3, 16, 12, 0), 465),\n",
       "   (datetime.datetime(2016, 3, 17, 0, 0), 32),\n",
       "   (datetime.datetime(2016, 3, 17, 4, 0), 216),\n",
       "   (datetime.datetime(2016, 3, 17, 8, 0), 132),\n",
       "   (datetime.datetime(2016, 3, 17, 12, 0), 344),\n",
       "   (datetime.datetime(2016, 3, 18, 0, 0), 7),\n",
       "   (datetime.datetime(2016, 3, 18, 4, 0), 207),\n",
       "   (datetime.datetime(2016, 3, 18, 8, 0), 117),\n",
       "   (datetime.datetime(2016, 3, 18, 12, 0), 472)]),\n",
       " (('A002', 'R051', '02-03-00', '59 ST'),\n",
       "  [(datetime.datetime(2016, 3, 12, 3, 0), 32),\n",
       "   (datetime.datetime(2016, 3, 12, 7, 0), 44),\n",
       "   (datetime.datetime(2016, 3, 12, 11, 0), 66),\n",
       "   (datetime.datetime(2016, 3, 13, 4, 0), 15),\n",
       "   (datetime.datetime(2016, 3, 13, 8, 0), 68),\n",
       "   (datetime.datetime(2016, 3, 13, 12, 0), 62),\n",
       "   (datetime.datetime(2016, 3, 14, 0, 0), 9),\n",
       "   (datetime.datetime(2016, 3, 14, 4, 0), 19),\n",
       "   (datetime.datetime(2016, 3, 14, 8, 0), 72),\n",
       "   (datetime.datetime(2016, 3, 14, 12, 0), 313),\n",
       "   (datetime.datetime(2016, 3, 15, 0, 0), 18),\n",
       "   (datetime.datetime(2016, 3, 15, 4, 0), 60),\n",
       "   (datetime.datetime(2016, 3, 15, 8, 0), 32),\n",
       "   (datetime.datetime(2016, 3, 15, 12, 0), 353),\n",
       "   (datetime.datetime(2016, 3, 16, 0, 0), 8),\n",
       "   (datetime.datetime(2016, 3, 16, 4, 0), 59),\n",
       "   (datetime.datetime(2016, 3, 16, 8, 0), 22),\n",
       "   (datetime.datetime(2016, 3, 16, 12, 0), 261),\n",
       "   (datetime.datetime(2016, 3, 17, 4, 0), 65),\n",
       "   (datetime.datetime(2016, 3, 17, 8, 0), 78),\n",
       "   (datetime.datetime(2016, 3, 17, 12, 0), 223),\n",
       "   (datetime.datetime(2016, 3, 18, 0, 0), 1),\n",
       "   (datetime.datetime(2016, 3, 18, 4, 0), 59),\n",
       "   (datetime.datetime(2016, 3, 18, 8, 0), 41),\n",
       "   (datetime.datetime(2016, 3, 18, 12, 0), 254)]),\n",
       " (('A002', 'R051', '02-00-00', '59 ST'),\n",
       "  [(datetime.datetime(2016, 3, 12, 3, 0), 80),\n",
       "   (datetime.datetime(2016, 3, 12, 7, 0), 156),\n",
       "   (datetime.datetime(2016, 3, 12, 11, 0), 193),\n",
       "   (datetime.datetime(2016, 3, 13, 4, 0), 42),\n",
       "   (datetime.datetime(2016, 3, 13, 8, 0), 152),\n",
       "   (datetime.datetime(2016, 3, 13, 12, 0), 17),\n",
       "   (datetime.datetime(2016, 3, 14, 0, 0), 40),\n",
       "   (datetime.datetime(2016, 3, 14, 4, 0), 100),\n",
       "   (datetime.datetime(2016, 3, 14, 8, 0), 104),\n",
       "   (datetime.datetime(2016, 3, 14, 12, 0), 295),\n",
       "   (datetime.datetime(2016, 3, 15, 0, 0), 36),\n",
       "   (datetime.datetime(2016, 3, 15, 4, 0), 57),\n",
       "   (datetime.datetime(2016, 3, 15, 8, 0), 198),\n",
       "   (datetime.datetime(2016, 3, 15, 12, 0), 120),\n",
       "   (datetime.datetime(2016, 3, 16, 0, 0), 30),\n",
       "   (datetime.datetime(2016, 3, 16, 4, 0), 6),\n",
       "   (datetime.datetime(2016, 3, 16, 8, 0), 220),\n",
       "   (datetime.datetime(2016, 3, 16, 12, 0), 246),\n",
       "   (datetime.datetime(2016, 3, 17, 0, 0), 36),\n",
       "   (datetime.datetime(2016, 3, 17, 8, 0), 99),\n",
       "   (datetime.datetime(2016, 3, 17, 12, 0), 435),\n",
       "   (datetime.datetime(2016, 3, 18, 0, 0), 41),\n",
       "   (datetime.datetime(2016, 3, 18, 4, 0), 66),\n",
       "   (datetime.datetime(2016, 3, 18, 8, 0), 180),\n",
       "   (datetime.datetime(2016, 3, 18, 12, 0), 225)])]"
      ]
     },
     "execution_count": 308,
     "metadata": {},
     "output_type": "execute_result"
    }
   ],
   "source": [
    "chal_3_dict.items()"
   ]
  },
  {
   "cell_type": "code",
   "execution_count": 255,
   "metadata": {
    "collapsed": false
   },
   "outputs": [
    {
     "name": "stdout",
     "output_type": "stream",
     "text": [
      "(datetime.datetime(2016, 3, 12, 3, 0), 77)\n",
      "\n",
      "(datetime.datetime(2016, 3, 12, 3, 0), 63)\n",
      "\n",
      "(datetime.datetime(2016, 3, 12, 3, 0), 84)\n",
      "\n",
      "(datetime.datetime(2016, 3, 12, 3, 0), 84)\n",
      "\n",
      "(datetime.datetime(2016, 3, 12, 3, 0), 32)\n",
      "\n",
      "(datetime.datetime(2016, 3, 12, 3, 0), 80)\n",
      "\n"
     ]
    }
   ],
   "source": [
    "for x in chal_3_dict.items():\n",
    "    for y in x[1]:\n",
    "        if y[0] == datetime(2016, 3, 12, 3, 0):\n",
    "            print y\n",
    "            print''"
   ]
  },
  {
   "cell_type": "code",
   "execution_count": 217,
   "metadata": {
    "collapsed": false
   },
   "outputs": [
    {
     "data": {
      "text/plain": [
       "420"
      ]
     },
     "execution_count": 217,
     "metadata": {},
     "output_type": "execute_result"
    }
   ],
   "source": [
    "77 + 63 + 84 + 84 + 32 + 80"
   ]
  },
  {
   "cell_type": "markdown",
   "metadata": {},
   "source": [
    "# Challenge 6\n",
    "\n",
    "Similarly, combine everything in each station, and come up with a time series of [(date1, count1),(date2,count2),...] type of time series for each STATION, by adding up all the turnstiles in a station."
   ]
  },
  {
   "cell_type": "markdown",
   "metadata": {},
   "source": [
    "# Challenge 7\n",
    "\n",
    "Plot the time series for a station."
   ]
  },
  {
   "cell_type": "markdown",
   "metadata": {},
   "source": [
    "# Challenge 8\n",
    "\n",
    "Make one list of counts for one week for one station. Monday's count, Tuesday's count, etc. so it's a list of 7 counts. Make the same list for another week, and another week, and another week. plt.plot(week_count_list) for every week_count_list you created this way. You should get a rainbow plot of weekly commute numbers on top of each other."
   ]
  },
  {
   "cell_type": "markdown",
   "metadata": {},
   "source": [
    "# Challenge 9\n",
    "\n",
    "Over multiple weeks, sum total ridership for each station and sort them, so you can find out the stations with the highest traffic during the time you investigate"
   ]
  },
  {
   "cell_type": "markdown",
   "metadata": {},
   "source": [
    "# Challenge 10\n",
    "\n",
    "Make a single list of these total ridership values and plot it with\n",
    "\n",
    "plt.hist(total_ridership_counts)\n",
    "\n",
    "to get an idea about the distribution of total ridership among different stations.\n",
    "\n",
    "This should show you that most stations have a small traffic, and the histogram bins for large traffic volumes have small bars.\n",
    "\n",
    "Additional Hint:\n",
    "\n",
    "If you want to see which stations take the meat of the traffic, you can sort the total ridership counts and make a plt.bar graph. For this, you want to have two lists: the indices of each bar, and the values. The indices can just be 0,1,2,3,..., so you can do\n",
    "\n",
    "indices = range(len(total_ridership_values))\n",
    "plt.bar(indices, total_ridership_values)"
   ]
  }
 ],
 "metadata": {
  "kernelspec": {
   "display_name": "Python 2",
   "language": "python",
   "name": "python2"
  },
  "language_info": {
   "codemirror_mode": {
    "name": "ipython",
    "version": 2
   },
   "file_extension": ".py",
   "mimetype": "text/x-python",
   "name": "python",
   "nbconvert_exporter": "python",
   "pygments_lexer": "ipython2",
   "version": "2.7.11"
  }
 },
 "nbformat": 4,
 "nbformat_minor": 0
}
