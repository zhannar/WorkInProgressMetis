{
 "cells": [
  {
   "cell_type": "code",
   "execution_count": 1,
   "metadata": {
    "collapsed": true
   },
   "outputs": [],
   "source": [
    "import pandas as pd"
   ]
  },
  {
   "cell_type": "code",
   "execution_count": 2,
   "metadata": {
    "collapsed": false
   },
   "outputs": [],
   "source": [
    "#\n",
    "#df = pd.read_csv('turnstile_160319_simplified.csv')\n",
    "\n",
    "# Real data\n",
    "df = pd.read_csv('turnstile_160319.txt')"
   ]
  },
  {
   "cell_type": "code",
   "execution_count": 3,
   "metadata": {
    "collapsed": false
   },
   "outputs": [
    {
     "name": "stdout",
     "output_type": "stream",
     "text": [
      "['C/A', 'UNIT', 'SCP', 'STATION', 'LINENAME', 'DIVISION', 'DATE', 'TIME', 'DESC', 'ENTRIES', 'EXITS                                                               ']\n"
     ]
    }
   ],
   "source": [
    "my_list =  list(df.columns)\n",
    "print my_list"
   ]
  },
  {
   "cell_type": "code",
   "execution_count": 4,
   "metadata": {
    "collapsed": false
   },
   "outputs": [
    {
     "data": {
      "text/html": [
       "<div>\n",
       "<table border=\"1\" class=\"dataframe\">\n",
       "  <thead>\n",
       "    <tr style=\"text-align: right;\">\n",
       "      <th></th>\n",
       "      <th>ENTRIES</th>\n",
       "      <th>EXITS</th>\n",
       "    </tr>\n",
       "  </thead>\n",
       "  <tbody>\n",
       "    <tr>\n",
       "      <th>count</th>\n",
       "      <td>1.918900e+05</td>\n",
       "      <td>1.918900e+05</td>\n",
       "    </tr>\n",
       "    <tr>\n",
       "      <th>mean</th>\n",
       "      <td>3.454893e+07</td>\n",
       "      <td>2.816179e+07</td>\n",
       "    </tr>\n",
       "    <tr>\n",
       "      <th>std</th>\n",
       "      <td>1.931732e+08</td>\n",
       "      <td>1.741115e+08</td>\n",
       "    </tr>\n",
       "    <tr>\n",
       "      <th>min</th>\n",
       "      <td>0.000000e+00</td>\n",
       "      <td>0.000000e+00</td>\n",
       "    </tr>\n",
       "    <tr>\n",
       "      <th>25%</th>\n",
       "      <td>5.664950e+05</td>\n",
       "      <td>2.942732e+05</td>\n",
       "    </tr>\n",
       "    <tr>\n",
       "      <th>50%</th>\n",
       "      <td>2.528994e+06</td>\n",
       "      <td>1.474844e+06</td>\n",
       "    </tr>\n",
       "    <tr>\n",
       "      <th>75%</th>\n",
       "      <td>6.406928e+06</td>\n",
       "      <td>4.598537e+06</td>\n",
       "    </tr>\n",
       "    <tr>\n",
       "      <th>max</th>\n",
       "      <td>2.146697e+09</td>\n",
       "      <td>2.097164e+09</td>\n",
       "    </tr>\n",
       "  </tbody>\n",
       "</table>\n",
       "</div>"
      ],
      "text/plain": [
       "            ENTRIES  \\\n",
       "count  1.918900e+05   \n",
       "mean   3.454893e+07   \n",
       "std    1.931732e+08   \n",
       "min    0.000000e+00   \n",
       "25%    5.664950e+05   \n",
       "50%    2.528994e+06   \n",
       "75%    6.406928e+06   \n",
       "max    2.146697e+09   \n",
       "\n",
       "       EXITS                                                                 \n",
       "count                                       1.918900e+05                     \n",
       "mean                                        2.816179e+07                     \n",
       "std                                         1.741115e+08                     \n",
       "min                                         0.000000e+00                     \n",
       "25%                                         2.942732e+05                     \n",
       "50%                                         1.474844e+06                     \n",
       "75%                                         4.598537e+06                     \n",
       "max                                         2.097164e+09                     "
      ]
     },
     "execution_count": 4,
     "metadata": {},
     "output_type": "execute_result"
    }
   ],
   "source": [
    "df.describe()"
   ]
  },
  {
   "cell_type": "code",
   "execution_count": 25,
   "metadata": {
    "collapsed": false
   },
   "outputs": [
    {
     "data": {
      "text/plain": [
       "Index([u'C/A', u'UNIT', u'SCP', u'STATION', u'LINENAME', u'DIVISION', u'DATE',\n",
       "       u'TIME', u'DESC', u'ENTRIES',\n",
       "       u'EXITS                                                               '],\n",
       "      dtype='object')"
      ]
     },
     "execution_count": 25,
     "metadata": {},
     "output_type": "execute_result"
    }
   ],
   "source": [
    "df.columns"
   ]
  },
  {
   "cell_type": "code",
   "execution_count": 5,
   "metadata": {
    "collapsed": false
   },
   "outputs": [],
   "source": [
    "# Removing unnec. columns\n",
    "del df['C/A'], df['UNIT'], df['DIVISION'], df['LINENAME']"
   ]
  },
  {
   "cell_type": "code",
   "execution_count": 6,
   "metadata": {
    "collapsed": true
   },
   "outputs": [],
   "source": [
    "# Clearing up the remaining column titles including exits\n",
    "df.columns = [\"turnstyle\", \"station\",\"date\",\"time\",\"type\",\"entries\",\"exits\"]"
   ]
  },
  {
   "cell_type": "code",
   "execution_count": 7,
   "metadata": {
    "collapsed": false
   },
   "outputs": [
    {
     "name": "stdout",
     "output_type": "stream",
     "text": [
      "  turnstyle station        date      time     type  entries    exits\n",
      "0  02-00-00   59 ST  03/12/2016  03:00:00  REGULAR  5583673  1884949\n",
      "1  02-00-00   59 ST  03/12/2016  07:00:00  REGULAR  5583689  1884968\n",
      "2  02-00-00   59 ST  03/12/2016  11:00:00  REGULAR  5583785  1885067\n",
      "3  02-00-00   59 ST  03/12/2016  15:00:00  REGULAR  5584037  1885157\n",
      "4  02-00-00   59 ST  03/12/2016  19:00:00  REGULAR  5584482  1885250\n"
     ]
    }
   ],
   "source": [
    "print df.head()"
   ]
  },
  {
   "cell_type": "markdown",
   "metadata": {},
   "source": [
    "# Here i add in lattitude and longitude into our main dataframe (\"df\")"
   ]
  },
  {
   "cell_type": "code",
   "execution_count": 7,
   "metadata": {
    "collapsed": true
   },
   "outputs": [],
   "source": [
    "### Here I build the function which calls the google api and shoots out location data"
   ]
  },
  {
   "cell_type": "code",
   "execution_count": 8,
   "metadata": {
    "collapsed": true
   },
   "outputs": [],
   "source": [
    "    # Import nec. libraries\n",
    "import urllib\n",
    "import json\n"
   ]
  },
  {
   "cell_type": "code",
   "execution_count": 9,
   "metadata": {
    "collapsed": false
   },
   "outputs": [],
   "source": [
    "def get_LatLong(address):\n",
    "# 1) Set-up service url:\n",
    "        import urllib\n",
    "        import json\n",
    "\n",
    "# Google URL\n",
    "        serviceurl = \"http://maps.googleapis.com/maps/api/geocode/json?\"\n",
    "\n",
    "# 2) Encode location data into 'url-speak' to be added to the end of the service url\n",
    "        url = serviceurl + urllib.urlencode({'sensor':'false', 'address': address})\n",
    "#        print \"Retrieving:\", url\n",
    "\n",
    "# 3) Open the socket to the url\n",
    "        socket = urllib.urlopen(url)\n",
    "\n",
    "# 4) Read th data in as a string.\n",
    "        data_string = socket.read()\n",
    "#        print 'Retrieved',len(data_string),'characters'\n",
    "\n",
    "# 5) Convert it from a JSON string to a dictionary\n",
    "        data_dict = json.loads(data_string)\n",
    "\n",
    "# 6) Sort through results until you get to what you want...\n",
    "        \n",
    "\n",
    "#print type(data_dict[\"results\"])\n",
    "        print data_dict\n",
    "        # place_id = data_dict[\"results\"][0][\"place_id\"]\n",
    "        #location_id = data_dict[\"geometry\"]\n",
    "        #print location_id\n",
    "\n",
    "        # print \n",
    "        return data_dict[\"results\"][0][\"geometry\"][\"location\"]\n",
    "#        print data_dict[\"results\"][0][\"place_id\"]\n",
    "#        print json.dumps(data_dict[\"results\"], indent=4)\n",
    "# 8) Print it out!\n",
    "        # print \"Place ID:\", place_id\n",
    "\n",
    "# print location_id\n",
    "\n",
    "\n",
    "#1 ave nyc subway\n",
    "\n",
    "\n"
   ]
  },
  {
   "cell_type": "code",
   "execution_count": 10,
   "metadata": {
    "collapsed": false
   },
   "outputs": [
    {
     "name": "stdout",
     "output_type": "stream",
     "text": [
      "{u'status': u'OK', u'results': [{u'geometry': {u'location_type': u'GEOMETRIC_CENTER', u'bounds': {u'northeast': {u'lat': 40.7269581, u'lng': -73.993223}, u'southwest': {u'lat': 40.7223437, u'lng': -74.00346069999999}}, u'viewport': {u'northeast': {u'lat': 40.7269581, u'lng': -73.993223}, u'southwest': {u'lat': 40.7223437, u'lng': -74.00346069999999}}, u'location': {u'lat': 40.724628, u'lng': -73.9986114}}, u'formatted_address': u'Prince St, New York, NY 10012, USA', u'place_id': u'ChIJzwnt-o5ZwokR3d37C8NBwO4', u'address_components': [{u'long_name': u'Prince Street', u'types': [u'route'], u'short_name': u'Prince St'}, {u'long_name': u'Lower Manhattan', u'types': [u'neighborhood', u'political'], u'short_name': u'Lower Manhattan'}, {u'long_name': u'Manhattan', u'types': [u'sublocality_level_1', u'sublocality', u'political'], u'short_name': u'Manhattan'}, {u'long_name': u'New York', u'types': [u'locality', u'political'], u'short_name': u'New York'}, {u'long_name': u'New York County', u'types': [u'administrative_area_level_2', u'political'], u'short_name': u'New York County'}, {u'long_name': u'New York', u'types': [u'administrative_area_level_1', u'political'], u'short_name': u'NY'}, {u'long_name': u'United States', u'types': [u'country', u'political'], u'short_name': u'US'}, {u'long_name': u'10012', u'types': [u'postal_code'], u'short_name': u'10012'}], u'partial_match': True, u'types': [u'route']}]}\n"
     ]
    },
    {
     "data": {
      "text/plain": [
       "{u'lat': 40.724628, u'lng': -73.9986114}"
      ]
     },
     "execution_count": 10,
     "metadata": {},
     "output_type": "execute_result"
    }
   ],
   "source": [
    "get_LatLong(\"PRINCE ST nyc subway\")"
   ]
  },
  {
   "cell_type": "code",
   "execution_count": null,
   "metadata": {
    "collapsed": true
   },
   "outputs": [],
   "source": []
  },
  {
   "cell_type": "code",
   "execution_count": 10,
   "metadata": {
    "collapsed": false
   },
   "outputs": [
    {
     "data": {
      "text/plain": [
       "373"
      ]
     },
     "execution_count": 10,
     "metadata": {},
     "output_type": "execute_result"
    }
   ],
   "source": [
    "len(df[\"station\"].unique())"
   ]
  },
  {
   "cell_type": "code",
   "execution_count": 11,
   "metadata": {
    "collapsed": false
   },
   "outputs": [
    {
     "data": {
      "text/plain": [
       "array(['59 ST', '5 AV/59 ST', '57 ST-7 AV', '49 ST', 'TIMES SQ-42 ST',\n",
       "       '34 ST-HERALD SQ', '28 ST', '23 ST', '14 ST-UNION SQ', '8 ST-NYU',\n",
       "       'PRINCE ST', 'CANAL ST', 'CITY HALL', 'CORTLANDT ST', 'RECTOR ST'], dtype=object)"
      ]
     },
     "execution_count": 11,
     "metadata": {},
     "output_type": "execute_result"
    }
   ],
   "source": [
    "df[\"station\"].unique()[0:15]"
   ]
  },
  {
   "cell_type": "code",
   "execution_count": 12,
   "metadata": {
    "collapsed": false
   },
   "outputs": [],
   "source": [
    "station_loc_dict = {}"
   ]
  },
  {
   "cell_type": "code",
   "execution_count": null,
   "metadata": {
    "collapsed": true
   },
   "outputs": [],
   "source": []
  },
  {
   "cell_type": "markdown",
   "metadata": {},
   "source": [
    "This function has to be run a couple of times..."
   ]
  },
  {
   "cell_type": "code",
   "execution_count": null,
   "metadata": {
    "collapsed": true
   },
   "outputs": [],
   "source": [
    "len(station_loc_dict)\n",
    "len(df[\"station\"].unique())"
   ]
  },
  {
   "cell_type": "code",
   "execution_count": 11,
   "metadata": {
    "collapsed": false
   },
   "outputs": [
    {
     "ename": "NameError",
     "evalue": "name 'station_loc_dict' is not defined",
     "output_type": "error",
     "traceback": [
      "\u001b[0;31m---------------------------------------------------------------------------\u001b[0m",
      "\u001b[0;31mNameError\u001b[0m                                 Traceback (most recent call last)",
      "\u001b[0;32m<ipython-input-11-64d4cfd99251>\u001b[0m in \u001b[0;36m<module>\u001b[0;34m()\u001b[0m\n\u001b[1;32m      4\u001b[0m \u001b[0mn\u001b[0m \u001b[0;34m=\u001b[0m \u001b[0mlen\u001b[0m\u001b[0;34m(\u001b[0m\u001b[0mdf\u001b[0m\u001b[0;34m[\u001b[0m\u001b[0;34m\"station\"\u001b[0m\u001b[0;34m]\u001b[0m\u001b[0;34m.\u001b[0m\u001b[0munique\u001b[0m\u001b[0;34m(\u001b[0m\u001b[0;34m)\u001b[0m\u001b[0;34m)\u001b[0m  \u001b[0;31m# Saving this here for now.\u001b[0m\u001b[0;34m\u001b[0m\u001b[0m\n\u001b[1;32m      5\u001b[0m \u001b[0;34m\u001b[0m\u001b[0m\n\u001b[0;32m----> 6\u001b[0;31m \u001b[0;32mwhile\u001b[0m \u001b[0mlen\u001b[0m\u001b[0;34m(\u001b[0m\u001b[0mstation_loc_dict\u001b[0m\u001b[0;34m)\u001b[0m \u001b[0;34m<\u001b[0m \u001b[0;36m200\u001b[0m\u001b[0;34m:\u001b[0m\u001b[0;34m\u001b[0m\u001b[0m\n\u001b[0m\u001b[1;32m      7\u001b[0m     \u001b[0;32mfor\u001b[0m \u001b[0mstation\u001b[0m \u001b[0;32min\u001b[0m \u001b[0mdf\u001b[0m\u001b[0;34m[\u001b[0m\u001b[0;34m\"station\"\u001b[0m\u001b[0;34m]\u001b[0m\u001b[0;34m.\u001b[0m\u001b[0munique\u001b[0m\u001b[0;34m(\u001b[0m\u001b[0;34m)\u001b[0m\u001b[0;34m:\u001b[0m\u001b[0;34m\u001b[0m\u001b[0m\n\u001b[1;32m      8\u001b[0m         \u001b[0;32mtry\u001b[0m\u001b[0;34m:\u001b[0m\u001b[0;34m\u001b[0m\u001b[0m\n",
      "\u001b[0;31mNameError\u001b[0m: name 'station_loc_dict' is not defined"
     ]
    }
   ],
   "source": [
    "# I'm not sure why, but the while statement doesn't seem to make a difference.\n",
    "\n",
    "# Keep running until it doesn't spit out anymore output\n",
    "n = len(df[\"station\"].unique())  # Saving this here for now.\n",
    "\n",
    "while len(station_loc_dict) < 200:\n",
    "    for station in df[\"station\"].unique():\n",
    "        try:\n",
    "            if station not in station_loc_dict:\n",
    "                search_phrase = str(station) + \" station nyc\"\n",
    "                LatLongTuple = get_LatLong(search_phrase)\n",
    "                print station, LatLongTuple\n",
    "                #search_phrase, \n",
    "                station_loc_dict[station] = LatLongTuple\n",
    "        except:\n",
    "            pass"
   ]
  },
  {
   "cell_type": "code",
   "execution_count": 61,
   "metadata": {
    "collapsed": false
   },
   "outputs": [
    {
     "name": "stdout",
     "output_type": "stream",
     "text": [
      "373\n"
     ]
    },
    {
     "data": {
      "text/plain": [
       "{'1 AV': {u'lat': 40.70714419999999, u'lng': -73.83479990000001},\n",
       " '103 ST': {u'lat': 40.7122867, u'lng': -74.00473769999999},\n",
       " '103 ST-CORONA': {u'lat': 40.7127837, u'lng': -74.0059413},\n",
       " '104 ST': {u'lat': 40.7122867, u'lng': -74.00473769999999},\n",
       " '110 ST': {u'lat': 40.7122867, u'lng': -74.00473769999999},\n",
       " '111 ST': {u'lat': 40.7122867, u'lng': -74.00473769999999},\n",
       " '116 ST': {u'lat': 40.7122867, u'lng': -74.00473769999999},\n",
       " '116 ST-COLUMBIA': {u'lat': 40.7127837, u'lng': -74.0059413},\n",
       " '121 ST': {u'lat': 40.7122867, u'lng': -74.00473769999999},\n",
       " '125 ST': {u'lat': 40.7122867, u'lng': -74.00473769999999},\n",
       " '135 ST': {u'lat': 40.7122867, u'lng': -74.00473769999999},\n",
       " '137 ST CITY COL': {u'lat': 40.7127837, u'lng': -74.0059413},\n",
       " '138/GRAND CONC': {u'lat': 40.7127837, u'lng': -74.0059413},\n",
       " '14 ST': {u'lat': 40.713982, u'lng': -73.932068},\n",
       " '14 ST-UNION SQ': {u'lat': 40.7127837, u'lng': -74.0059413},\n",
       " '145 ST': {u'lat': 40.7122867, u'lng': -74.00473769999999},\n",
       " '149/GRAND CONC': {u'lat': 40.7127837, u'lng': -74.0059413},\n",
       " '14TH STREET': {u'lat': 40.7127837, u'lng': -74.0059413},\n",
       " '15 ST-PROSPECT': {u'lat': 40.7127837, u'lng': -74.0059413},\n",
       " '155 ST': {u'lat': 40.7122867, u'lng': -74.00473769999999},\n",
       " '157 ST': {u'lat': 40.7122867, u'lng': -74.00473769999999},\n",
       " '161/YANKEE STAD': {u'lat': 40.7127837, u'lng': -74.0059413},\n",
       " '163 ST-AMSTERDM': {u'lat': 40.7127837, u'lng': -74.0059413},\n",
       " '167 ST': {u'lat': 40.7122867, u'lng': -74.00473769999999},\n",
       " '168 ST': {u'lat': 40.7122867, u'lng': -74.00473769999999},\n",
       " '169 ST': {u'lat': 40.7122867, u'lng': -74.00473769999999},\n",
       " '170 ST': {u'lat': 40.7122867, u'lng': -74.00473769999999},\n",
       " '174 ST': {u'lat': 40.7122867, u'lng': -74.00473769999999},\n",
       " '174-175 STS': {u'lat': 40.7122867, u'lng': -74.00473769999999},\n",
       " '175 ST': {u'lat': 40.7122867, u'lng': -74.00473769999999},\n",
       " '176 ST': {u'lat': 40.7122867, u'lng': -74.00473769999999},\n",
       " '18 AV': {u'lat': 40.7107, u'lng': -73.85305},\n",
       " '18 ST': {u'lat': 40.7107, u'lng': -73.85305},\n",
       " '181 ST': {u'lat': 40.7122867, u'lng': -74.00473769999999},\n",
       " '182-183 STS': {u'lat': 40.7122867, u'lng': -74.00473769999999},\n",
       " '183 ST': {u'lat': 40.7122867, u'lng': -74.00473769999999},\n",
       " '190 ST': {u'lat': 40.7122867, u'lng': -74.00473769999999},\n",
       " '191 ST': {u'lat': 40.8553621, u'lng': -73.9295207},\n",
       " '2 AV': {u'lat': 40.7629881, u'lng': -73.9678661},\n",
       " '20 AV': {u'lat': 40.7106877, u'lng': -73.85297349999999},\n",
       " '207 ST': {u'lat': 40.7122867, u'lng': -74.00473769999999},\n",
       " '21 ST': {u'lat': 40.7122867, u'lng': -74.00473769999999},\n",
       " '21 ST-QNSBRIDGE': {u'lat': 40.7127837, u'lng': -74.0059413},\n",
       " '215 ST': {u'lat': 40.7122867, u'lng': -74.00473769999999},\n",
       " '219 ST': {u'lat': 40.7122867, u'lng': -74.00473769999999},\n",
       " '225 ST': {u'lat': 40.7122867, u'lng': -74.00473769999999},\n",
       " '23 ST': {u'lat': 40.7130365, u'lng': -73.8773667},\n",
       " '231 ST': {u'lat': 40.7122867, u'lng': -74.00473769999999},\n",
       " '233 ST': {u'lat': 40.7122867, u'lng': -74.00473769999999},\n",
       " '238 ST': {u'lat': 40.7122867, u'lng': -74.00473769999999},\n",
       " '25 AV': {u'lat': 40.7141209, u'lng': -73.9162594},\n",
       " '25 ST': {u'lat': 40.7141209, u'lng': -73.9162594},\n",
       " '28 ST': {u'lat': 40.7122867, u'lng': -74.00473769999999},\n",
       " '3 AV': {u'lat': 40.7103778, u'lng': -73.8496768},\n",
       " '3 AV 138 ST': {u'lat': 40.7127837, u'lng': -74.0059413},\n",
       " '3 AV-149 ST': {u'lat': 40.7127837, u'lng': -74.0059413},\n",
       " '30 AV': {u'lat': 40.7122867, u'lng': -74.00473769999999},\n",
       " '33 ST': {u'lat': 40.7122867, u'lng': -74.00473769999999},\n",
       " '33 ST-RAWSON ST': {u'lat': 40.7127837, u'lng': -74.0059413},\n",
       " '34 ST-HERALD SQ': {u'lat': 40.7127837, u'lng': -74.0059413},\n",
       " '34 ST-HUDSON YD': {u'lat': 40.7127837, u'lng': -74.0059413},\n",
       " '34 ST-PENN STA': {u'lat': 40.7127837, u'lng': -74.0059413},\n",
       " '36 AV': {u'lat': 40.7122867, u'lng': -74.00473769999999},\n",
       " '36 ST': {u'lat': 40.7122867, u'lng': -74.00473769999999},\n",
       " '39 AV': {u'lat': 40.7122867, u'lng': -74.00473769999999},\n",
       " '4 AV-9 ST': {u'lat': 40.7127837, u'lng': -74.0059413},\n",
       " '40 ST LOWERY ST': {u'lat': 40.7127837, u'lng': -74.0059413},\n",
       " '42 ST-BRYANT PK': {u'lat': 40.7127837, u'lng': -74.0059413},\n",
       " '42 ST-PORT AUTH': {u'lat': 40.7127837, u'lng': -74.0059413},\n",
       " '45 ST': {u'lat': 40.7122867, u'lng': -74.00473769999999},\n",
       " '46 ST': {u'lat': 40.7122867, u'lng': -74.00473769999999},\n",
       " '46 ST BLISS ST': {u'lat': 40.7127837, u'lng': -74.0059413},\n",
       " '47-50 STS ROCK': {u'lat': 40.7127837, u'lng': -74.0059413},\n",
       " '49 ST': {u'lat': 40.7122867, u'lng': -74.00473769999999},\n",
       " '4AV-9 ST': {u'lat': 40.7127837, u'lng': -74.0059413},\n",
       " '5 AV/53 ST': {u'lat': 40.7127837, u'lng': -74.0059413},\n",
       " '5 AV/59 ST': {u'lat': 40.7127837, u'lng': -74.0059413},\n",
       " '5 AVE': {u'lat': 40.709891, u'lng': -73.794949},\n",
       " '50 ST': {u'lat': 40.7122867, u'lng': -74.00473769999999},\n",
       " '51 ST': {u'lat': 40.7122867, u'lng': -74.00473769999999},\n",
       " '52 ST': {u'lat': 40.7122867, u'lng': -74.00473769999999},\n",
       " '53 ST': {u'lat': 40.7122867, u'lng': -74.00473769999999},\n",
       " '55 ST': {u'lat': 40.7122867, u'lng': -74.00473769999999},\n",
       " '57 ST': {u'lat': 40.7122867, u'lng': -74.00473769999999},\n",
       " '57 ST-7 AV': {u'lat': 40.73658, u'lng': -74.0011456},\n",
       " '59 ST': {u'lat': 40.7629881, u'lng': -73.9678661},\n",
       " '59 ST COLUMBUS': {u'lat': 40.7127837, u'lng': -74.0059413},\n",
       " '6 AV': {u'lat': 40.71237199999999, u'lng': -73.889526},\n",
       " '61 ST WOODSIDE': {u'lat': 40.7127837, u'lng': -74.0059413},\n",
       " '63 DR-REGO PARK': {u'lat': 40.7127837, u'lng': -74.0059413},\n",
       " '65 ST': {u'lat': 40.7122867, u'lng': -74.00473769999999},\n",
       " '66 ST-LINCOLN': {u'lat': 40.7127837, u'lng': -74.0059413},\n",
       " '67 AV': {u'lat': 40.712498, u'lng': -73.8890256},\n",
       " '68ST-HUNTER CO': {u'lat': 40.7127837, u'lng': -74.0059413},\n",
       " '69 ST': {u'lat': 40.7122867, u'lng': -74.00473769999999},\n",
       " '7 AV': {u'lat': 40.73658, u'lng': -74.0011456},\n",
       " '71 ST': {u'lat': 40.7122867, u'lng': -74.00473769999999},\n",
       " '72 ST': {u'lat': 40.7122867, u'lng': -74.00473769999999},\n",
       " '74 ST-BROADWAY': {u'lat': 40.7127837, u'lng': -74.0059413},\n",
       " '75 AV': {u'lat': 40.7129806, u'lng': -73.8758532},\n",
       " '75 ST-ELDERTS': {u'lat': 40.7127837, u'lng': -74.0059413},\n",
       " '77 ST': {u'lat': 40.7122867, u'lng': -74.00473769999999},\n",
       " '79 ST': {u'lat': 40.7122867, u'lng': -74.00473769999999},\n",
       " '8 AV': {u'lat': 40.8338811, u'lng': -73.85120289999999},\n",
       " '8 ST-NYU': {u'lat': 40.7127837, u'lng': -74.0059413},\n",
       " '80 ST': {u'lat': 40.7122867, u'lng': -74.00473769999999},\n",
       " '81 ST-MUSEUM': {u'lat': 40.7127837, u'lng': -74.0059413},\n",
       " '82 ST-JACKSON H': {u'lat': 40.7127837, u'lng': -74.0059413},\n",
       " '85 ST-FOREST PK': {u'lat': 40.7127837, u'lng': -74.0059413},\n",
       " '86 ST': {u'lat': 40.7122867, u'lng': -74.00473769999999},\n",
       " '88 ST': {u'lat': 40.7122867, u'lng': -74.00473769999999},\n",
       " '9 AV': {u'lat': 40.7041134, u'lng': -73.82309719999999},\n",
       " '90 ST-ELMHURST': {u'lat': 40.7127837, u'lng': -74.0059413},\n",
       " '96 ST': {u'lat': 40.7122867, u'lng': -74.00473769999999},\n",
       " '9TH STREET': {u'lat': 40.7127837, u'lng': -74.0059413},\n",
       " 'ALABAMA AV': {u'lat': 40.7629881, u'lng': -73.9678661},\n",
       " 'ALLERTON AV': {u'lat': 40.8746616, u'lng': -73.9057548},\n",
       " 'AQUEDUCT N.COND': {u'lat': 40.7127837, u'lng': -74.0059413},\n",
       " 'AQUEDUCT RACETR': {u'lat': 40.7127837, u'lng': -74.0059413},\n",
       " 'ASTOR PL': {u'lat': 40.72305619999999, u'lng': -74.038853},\n",
       " 'ASTORIA BLVD': {u'lat': 40.790242, u'lng': -73.9477967},\n",
       " 'ASTORIA DITMARS': {u'lat': 40.7127837, u'lng': -74.0059413},\n",
       " 'ATL AV-BARCLAY': {u'lat': 40.7127837, u'lng': -74.0059413},\n",
       " 'ATLANTIC AV': {u'lat': 40.7629881, u'lng': -73.9678661},\n",
       " 'AVENUE H': {u'lat': 40.7629881, u'lng': -73.9678661},\n",
       " 'AVENUE I': {u'lat': 40.7629881, u'lng': -73.9678661},\n",
       " 'AVENUE J': {u'lat': 40.7629881, u'lng': -73.9678661},\n",
       " 'AVENUE M': {u'lat': 40.7629881, u'lng': -73.9678661},\n",
       " 'AVENUE N': {u'lat': 40.81776259999999, u'lng': -73.96256079999999},\n",
       " 'AVENUE P': {u'lat': 40.7629881, u'lng': -73.9678661},\n",
       " 'AVENUE U': {u'lat': 40.7629881, u'lng': -73.9678661},\n",
       " 'AVENUE X': {u'lat': 40.7629881, u'lng': -73.9678661},\n",
       " \"B'WAY-LAFAYETTE\": {u'lat': 40.7127837, u'lng': -74.0059413},\n",
       " 'BAY 50 ST': {u'lat': 40.81776259999999, u'lng': -73.96256079999999},\n",
       " 'BAY PKWY': {u'lat': 40.6457491, u'lng': -73.9023102},\n",
       " 'BAY RIDGE AV': {u'lat': 40.7127837, u'lng': -74.0059413},\n",
       " 'BAYCHESTER AV': {u'lat': 40.7127837, u'lng': -74.0059413},\n",
       " 'BEACH 105 ST': {u'lat': 40.7127837, u'lng': -74.0059413},\n",
       " 'BEACH 25 ST': {u'lat': 40.7127837, u'lng': -74.0059413},\n",
       " 'BEACH 36 ST': {u'lat': 40.7127837, u'lng': -74.0059413},\n",
       " 'BEACH 44 ST': {u'lat': 40.7127837, u'lng': -74.0059413},\n",
       " 'BEACH 60 ST': {u'lat': 40.7629881, u'lng': -73.9678661},\n",
       " 'BEACH 67 ST': {u'lat': 40.7127837, u'lng': -74.0059413},\n",
       " 'BEACH 90 ST': {u'lat': 40.7127837, u'lng': -74.0059413},\n",
       " 'BEACH 98 ST': {u'lat': 40.7127837, u'lng': -74.0059413},\n",
       " 'BEDFORD AV': {u'lat': 40.6457491, u'lng': -73.9023102},\n",
       " 'BEDFORD PK BLVD': {u'lat': 40.6457491, u'lng': -73.9023102},\n",
       " 'BEDFORD-NOSTRAN': {u'lat': 40.7127837, u'lng': -74.0059413},\n",
       " 'BERGEN ST': {u'lat': 40.6457491, u'lng': -73.9023102},\n",
       " 'BEVERLEY ROAD': {u'lat': 40.7127837, u'lng': -74.0059413},\n",
       " 'BEVERLY RD': {u'lat': 40.7127837, u'lng': -74.0059413},\n",
       " 'BLEECKER ST': {u'lat': 40.7127837, u'lng': -74.0059413},\n",
       " 'BOROUGH HALL': {u'lat': 40.7127837, u'lng': -74.0059413},\n",
       " 'BOTANIC GARDEN': {u'lat': 40.7127837, u'lng': -74.0059413},\n",
       " 'BOWERY': {u'lat': 40.81776259999999, u'lng': -73.96256079999999},\n",
       " 'BOWLING GREEN': {u'lat': 40.7046534, u'lng': -74.0135121},\n",
       " 'BRIARWOOD': {u'lat': 40.7127837, u'lng': -74.0059413},\n",
       " 'BRIGHTON BEACH': {u'lat': 40.7127837, u'lng': -74.0059413},\n",
       " 'BROAD CHANNEL': {u'lat': 40.7127837, u'lng': -74.0059413},\n",
       " 'BROAD ST': {u'lat': 40.7127837, u'lng': -74.0059413},\n",
       " 'BROADWAY': {u'lat': 40.7250151, u'lng': -73.9956959},\n",
       " 'BROADWAY JCT': {u'lat': 40.6457491, u'lng': -73.9023102},\n",
       " 'BRONX PARK EAST': {u'lat': 40.8746616, u'lng': -73.9057548},\n",
       " 'BROOK AV': {u'lat': 40.7629881, u'lng': -73.9678661},\n",
       " 'BROOKLYN BRIDGE': {u'lat': 40.6457491, u'lng': -73.9023102},\n",
       " 'BUHRE AV': {u'lat': 40.7629881, u'lng': -73.9678661},\n",
       " 'BURKE AV': {u'lat': 40.7629881, u'lng': -73.9678661},\n",
       " 'BURNSIDE AV': {u'lat': 40.7629881, u'lng': -73.9678661},\n",
       " 'BUSHWICK AV': {u'lat': 40.6457491, u'lng': -73.9023102},\n",
       " 'CANAL ST': {u'lat': 40.81776259999999, u'lng': -73.96256079999999},\n",
       " 'CANARSIE-ROCKAW': {u'lat': 40.6457491, u'lng': -73.9023102},\n",
       " 'CARROLL ST': {u'lat': 40.7127837, u'lng': -74.0059413},\n",
       " 'CASTLE HILL AV': {u'lat': 40.8338811, u'lng': -73.85120289999999},\n",
       " 'CATHEDRAL PKWY': {u'lat': 40.7127837, u'lng': -74.0059413},\n",
       " 'CENTRAL AV': {u'lat': 40.790242, u'lng': -73.9477967},\n",
       " 'CENTRAL PK N110': {u'lat': 40.790242, u'lng': -73.9477967},\n",
       " 'CHAMBERS ST': {u'lat': 40.7127837, u'lng': -74.0059413},\n",
       " 'CHAUNCEY ST': {u'lat': 40.7127837, u'lng': -74.0059413},\n",
       " 'CHRISTOPHER ST': {u'lat': 40.7127837, u'lng': -74.0059413},\n",
       " 'CHURCH AV': {u'lat': 40.7629881, u'lng': -73.9678661},\n",
       " 'CITY / BUS': {u'lat': 40.7127837, u'lng': -74.0059413},\n",
       " 'CITY HALL': {u'lat': 40.754258, u'lng': -73.9778244},\n",
       " 'CLARK ST': {u'lat': 40.7127837, u'lng': -74.0059413},\n",
       " 'CLASSON AV': {u'lat': 40.7629881, u'lng': -73.9678661},\n",
       " 'CLEVELAND ST': {u'lat': 40.7127837, u'lng': -74.0059413},\n",
       " 'CLINTON-WASH AV': {u'lat': 40.7629881, u'lng': -73.9678661},\n",
       " 'CONEY IS-STILLW': {u'lat': 40.7127837, u'lng': -74.0059413},\n",
       " 'CORTELYOU RD': {u'lat': 40.7127837, u'lng': -74.0059413},\n",
       " 'CORTLANDT ST': {u'lat': 40.7127837, u'lng': -74.0059413},\n",
       " 'COURT SQ': {u'lat': 40.72305619999999, u'lng': -74.038853},\n",
       " 'COURT SQ-23 ST': {u'lat': 40.7127837, u'lng': -74.0059413},\n",
       " 'CRESCENT ST': {u'lat': 40.72305619999999, u'lng': -74.038853},\n",
       " 'CROWN HTS-UTICA': {u'lat': 43.9560014, u'lng': -88.6747499},\n",
       " 'CYPRESS AV': {u'lat': 40.6457491, u'lng': -73.9023102},\n",
       " 'CYPRESS HILLS': {u'lat': 40.6457491, u'lng': -73.9023102},\n",
       " 'DEKALB AV': {u'lat': 40.7629881, u'lng': -73.9678661},\n",
       " 'DELANCEY/ESSEX': {u'lat': 40.7127837, u'lng': -74.0059413},\n",
       " 'DITMAS AV': {u'lat': 40.7629881, u'lng': -73.9678661},\n",
       " 'DYCKMAN ST': {u'lat': 40.7127837, u'lng': -74.0059413},\n",
       " \"E 143/ST MARY'S\": {u'lat': 40.7127837, u'lng': -74.0059413},\n",
       " 'E 149 ST': {u'lat': 40.8160854, u'lng': -73.9177402},\n",
       " 'E 180 ST': {u'lat': 40.7122867, u'lng': -74.00473769999999},\n",
       " 'EAST 105 ST': {u'lat': 40.7122867, u'lng': -74.00473769999999},\n",
       " 'EAST BROADWAY': {u'lat': 40.7250151, u'lng': -73.9956959},\n",
       " 'EASTCHSTER/DYRE': {u'lat': 40.7127837, u'lng': -74.0059413},\n",
       " 'EASTN PKWY-MUSM': {u'lat': 40.7127837, u'lng': -74.0059413},\n",
       " 'ELDER AV': {u'lat': 40.7629881, u'lng': -73.9678661},\n",
       " 'ELMHURST AV': {u'lat': 40.7127837, u'lng': -74.0059413},\n",
       " 'EUCLID AV': {u'lat': 40.7629881, u'lng': -73.9678661},\n",
       " 'EXCHANGE PLACE': {u'lat': 40.72305619999999, u'lng': -74.038853},\n",
       " 'FAR ROCKAWAY': {u'lat': 40.7127837, u'lng': -74.0059413},\n",
       " 'FLATBUSH AV-B.C': {u'lat': 40.6457491, u'lng': -73.9023102},\n",
       " 'FLUSHING AV': {u'lat': 40.7127837, u'lng': -74.0059413},\n",
       " 'FLUSHING-MAIN': {u'lat': 40.7127837, u'lng': -74.0059413},\n",
       " 'FORDHAM RD': {u'lat': 40.8746616, u'lng': -73.9057548},\n",
       " 'FOREST AVE': {u'lat': 40.7629881, u'lng': -73.9678661},\n",
       " 'FOREST HILLS 71': {u'lat': 40.7123682, u'lng': -73.88410979999999},\n",
       " 'FRANKLIN AV': {u'lat': 40.7629881, u'lng': -73.9678661},\n",
       " 'FRANKLIN ST': {u'lat': 40.7127837, u'lng': -74.0059413},\n",
       " 'FREEMAN ST': {u'lat': 40.7127837, u'lng': -74.0059413},\n",
       " 'FRESH POND RD': {u'lat': 40.7127837, u'lng': -74.0059413},\n",
       " 'FT HAMILTON PKY': {u'lat': 40.6495574, u'lng': -73.9757135},\n",
       " 'FULTON ST': {u'lat': 40.709395, u'lng': -74.0083169},\n",
       " 'GATES AV': {u'lat': 40.7629881, u'lng': -73.9678661},\n",
       " 'GRAHAM AV': {u'lat': 40.7629881, u'lng': -73.9678661},\n",
       " 'GRAND ARMY PLAZ': {u'lat': 40.7127837, u'lng': -74.0059413},\n",
       " 'GRAND ST': {u'lat': 40.713982, u'lng': -73.932068},\n",
       " 'GRAND-NEWTOWN': {u'lat': 40.7127837, u'lng': -74.0059413},\n",
       " 'GRANT AV': {u'lat': 40.7629881, u'lng': -73.9678661},\n",
       " 'GRD CNTRL-42 ST': {u'lat': 40.7127837, u'lng': -74.0059413},\n",
       " 'GREENPOINT AV': {u'lat': 40.81776259999999, u'lng': -73.96256079999999},\n",
       " 'GROVE STREET': {u'lat': 40.72305619999999, u'lng': -74.038853},\n",
       " 'GUN HILL RD': {u'lat': 40.8746616, u'lng': -73.9057548},\n",
       " 'HALSEY ST': {u'lat': 40.7127837, u'lng': -74.0059413},\n",
       " 'HARLEM 148 ST': {u'lat': 40.81597920000001, u'lng': -73.958129},\n",
       " 'HARRISON': {u'lat': 40.7127837, u'lng': -74.0059413},\n",
       " 'HEWES ST': {u'lat': 40.7127837, u'lng': -74.0059413},\n",
       " 'HIGH ST': {u'lat': 40.81776259999999, u'lng': -73.96256079999999},\n",
       " 'HOUSTON ST': {u'lat': 40.7127837, u'lng': -74.0059413},\n",
       " 'HOWARD BCH JFK': {u'lat': 40.7127837, u'lng': -74.0059413},\n",
       " 'HOYT ST': {u'lat': 40.7127837, u'lng': -74.0059413},\n",
       " 'HOYT-SCHER': {u'lat': 40.7127837, u'lng': -74.0059413},\n",
       " 'HUNTERS PT AV': {u'lat': 40.81776259999999, u'lng': -73.96256079999999},\n",
       " 'HUNTS POINT AV': {u'lat': 40.81776259999999, u'lng': -73.96256079999999},\n",
       " 'INTERVALE AV': {u'lat': 40.7629881, u'lng': -73.9678661},\n",
       " 'INWOOD-207 ST': {u'lat': 40.81776259999999, u'lng': -73.96256079999999},\n",
       " 'JACKSON AV': {u'lat': 40.7629881, u'lng': -73.9678661},\n",
       " 'JAMAICA 179 ST': {u'lat': 40.712528, u'lng': -73.78408100000001},\n",
       " 'JAMAICA CENTER': {u'lat': 40.7127837, u'lng': -74.0059413},\n",
       " 'JAMAICA VAN WK': {u'lat': 40.7127837, u'lng': -74.0059413},\n",
       " 'JAY ST-METROTEC': {u'lat': 40.7127837, u'lng': -74.0059413},\n",
       " 'JEFFERSON ST': {u'lat': 40.72305619999999, u'lng': -74.038853},\n",
       " 'JFK JAMAICA CT1': {u'lat': 40.7127837, u'lng': -74.0059413},\n",
       " 'JKSN HT-ROOSVLT': {u'lat': 40.7127837, u'lng': -74.0059413},\n",
       " 'JOURNAL SQUARE': {u'lat': 40.72305619999999, u'lng': -74.038853},\n",
       " 'JUNCTION BLVD': {u'lat': 40.7122867, u'lng': -74.00473769999999},\n",
       " 'JUNIUS ST': {u'lat': 40.7127837, u'lng': -74.0059413},\n",
       " 'KEW GARDENS': {u'lat': 40.7127837, u'lng': -74.0059413},\n",
       " 'KINGS HWY': {u'lat': 40.7127837, u'lng': -74.0059413},\n",
       " 'KINGSBRIDGE RD': {u'lat': 40.8746616, u'lng': -73.9057548},\n",
       " 'KINGSTON AV': {u'lat': 40.7629881, u'lng': -73.9678661},\n",
       " 'KINGSTON-THROOP': {u'lat': 40.7127837, u'lng': -74.0059413},\n",
       " 'KNICKERBOCKER': {u'lat': 40.7127837, u'lng': -74.0059413},\n",
       " 'KOSCIUSZKO ST': {u'lat': 40.7127837, u'lng': -74.0059413},\n",
       " 'LACKAWANNA': {u'lat': 40.7127837, u'lng': -74.0059413},\n",
       " 'LAFAYETTE AV': {u'lat': 40.7629881, u'lng': -73.9678661},\n",
       " 'LEXINGTON AV/53': {u'lat': 40.7127837, u'lng': -74.0059413},\n",
       " 'LEXINGTON AV/63': {u'lat': 40.7127837, u'lng': -74.0059413},\n",
       " 'LIBERTY AV': {u'lat': 40.7629881, u'lng': -73.9678661},\n",
       " 'LIVONIA AV': {u'lat': 40.7629881, u'lng': -73.9678661},\n",
       " 'LONGWOOD AV': {u'lat': 40.81776259999999, u'lng': -73.96256079999999},\n",
       " 'LORIMER ST': {u'lat': 40.7127837, u'lng': -74.0059413},\n",
       " 'MARBLE HILL-225': {u'lat': 40.81776259999999, u'lng': -73.96256079999999},\n",
       " 'MARCY AV': {u'lat': 40.7629881, u'lng': -73.9678661},\n",
       " 'METROPOLITAN AV': {u'lat': 40.71237199999999, u'lng': -73.889526},\n",
       " 'METS-WILLETS PT': {u'lat': 40.7127837, u'lng': -74.0059413},\n",
       " 'MIDDLETOWN RD': {u'lat': 40.7127837, u'lng': -74.0059413},\n",
       " 'MONTROSE AV': {u'lat': 40.7629881, u'lng': -73.9678661},\n",
       " 'MORGAN AV': {u'lat': 40.7629881, u'lng': -73.9678661},\n",
       " 'MORISN AV/SNDVW': {u'lat': 40.7127837, u'lng': -74.0059413},\n",
       " 'MORRIS PARK': {u'lat': 40.790242, u'lng': -73.9477967},\n",
       " 'MOSHOLU PKWY': {u'lat': 40.7127837, u'lng': -74.0059413},\n",
       " 'MT EDEN AV': {u'lat': 40.81776259999999, u'lng': -73.96256079999999},\n",
       " 'MYRTLE AV': {u'lat': 40.7629881, u'lng': -73.9678661},\n",
       " 'MYRTLE-WILLOUGH': {u'lat': 40.7127837, u'lng': -74.0059413},\n",
       " 'MYRTLE-WYCKOFF': {u'lat': 40.6996964, u'lng': -73.91171419999999},\n",
       " 'NASSAU ST': {u'lat': 40.7127837, u'lng': -74.0059413},\n",
       " 'NECK RD': {u'lat': 40.7127837, u'lng': -74.0059413},\n",
       " 'NEPTUNE AV': {u'lat': 40.7629881, u'lng': -73.9678661},\n",
       " 'NEREID AV': {u'lat': 40.7629881, u'lng': -73.9678661},\n",
       " 'NEVINS ST': {u'lat': 40.7127837, u'lng': -74.0059413},\n",
       " 'NEW LOTS': {u'lat': 40.7127837, u'lng': -74.0059413},\n",
       " 'NEW LOTS AV': {u'lat': 40.7629881, u'lng': -73.9678661},\n",
       " 'NEW UTRECHT AV': {u'lat': 40.7127837, u'lng': -74.0059413},\n",
       " 'NEWARK BM BW': {u'lat': 40.7127837, u'lng': -74.0059413},\n",
       " 'NEWARK C': {u'lat': 40.7122867, u'lng': -74.00473769999999},\n",
       " 'NEWARK HM HE': {u'lat': 40.7127837, u'lng': -74.0059413},\n",
       " 'NEWARK HW BMEBE': {u'lat': 40.7127837, u'lng': -74.0059413},\n",
       " 'NEWKIRK AV': {u'lat': 40.7629881, u'lng': -73.9678661},\n",
       " 'NEWKIRK PLAZA': {u'lat': 40.72305619999999, u'lng': -74.038853},\n",
       " 'NORTHERN BLVD': {u'lat': 40.7122867, u'lng': -74.00473769999999},\n",
       " 'NORWOOD 205 ST': {u'lat': 40.8746616, u'lng': -73.9057548},\n",
       " 'NORWOOD AV': {u'lat': 40.8746616, u'lng': -73.9057548},\n",
       " 'NOSTRAND AV': {u'lat': 40.7629881, u'lng': -73.9678661},\n",
       " 'OCEAN PKWY': {u'lat': 40.7127837, u'lng': -74.0059413},\n",
       " 'OZONE PK LEFFRT': {u'lat': 40.7127837, u'lng': -74.0059413},\n",
       " 'PARK PLACE': {u'lat': 40.72305619999999, u'lng': -74.038853},\n",
       " 'PARKCHESTER': {u'lat': 40.7127837, u'lng': -74.0059413},\n",
       " 'PARKSIDE AV': {u'lat': 40.8746616, u'lng': -73.9057548},\n",
       " 'PARSONS BLVD': {u'lat': 40.7122867, u'lng': -74.00473769999999},\n",
       " 'PATH WTC': {u'lat': 40.7127837, u'lng': -74.0059413},\n",
       " 'PATH WTC 2': {u'lat': 40.7127837, u'lng': -74.0059413},\n",
       " 'PAVONIA/NEWPORT': {u'lat': 40.7127837, u'lng': -74.0059413},\n",
       " 'PELHAM BAY PARK': {u'lat': 40.7127837, u'lng': -74.0059413},\n",
       " 'PELHAM PKWY': {u'lat': 40.8746616, u'lng': -73.9057548},\n",
       " 'PENNSYLVANIA AV': {u'lat': 40.7629881, u'lng': -73.9678661},\n",
       " 'PRESIDENT ST': {u'lat': 40.7127837, u'lng': -74.0059413},\n",
       " 'PRINCE ST': {u'lat': 40.7127837, u'lng': -74.0059413},\n",
       " 'PROSPECT AV': {u'lat': 40.7629881, u'lng': -73.9678661},\n",
       " 'PROSPECT PARK': {u'lat': 40.6616199, u'lng': -73.962245},\n",
       " 'QUEENS PLAZA': {u'lat': 40.6457491, u'lng': -73.9023102},\n",
       " 'QUEENSBORO PLZ': {u'lat': 40.72305619999999, u'lng': -74.038853},\n",
       " 'RALPH AV': {u'lat': 40.7629881, u'lng': -73.9678661},\n",
       " 'RECTOR ST': {u'lat': 40.7127837, u'lng': -74.0059413},\n",
       " 'RIT-MANHATTAN': {u'lat': 40.7127837, u'lng': -74.0059413},\n",
       " 'RIT-ROOSEVELT': {u'lat': 40.7127837, u'lng': -74.0059413},\n",
       " 'ROCKAWAY AV': {u'lat': 40.6457491, u'lng': -73.9023102},\n",
       " 'ROCKAWAY BLVD': {u'lat': 40.6457491, u'lng': -73.9023102},\n",
       " 'ROCKAWAY PARK B': {u'lat': 40.7127837, u'lng': -74.0059413},\n",
       " 'ROOSEVELT ISLND': {u'lat': 40.790242, u'lng': -73.9477967},\n",
       " 'SARATOGA AV': {u'lat': 40.7629881, u'lng': -73.9678661},\n",
       " 'SENECA AVE': {u'lat': 40.7629881, u'lng': -73.9678661},\n",
       " 'SHEEPSHEAD BAY': {u'lat': 40.7127837, u'lng': -74.0059413},\n",
       " 'SHEPHERD AV': {u'lat': 40.7629881, u'lng': -73.9678661},\n",
       " 'SIMPSON ST': {u'lat': 40.7127837, u'lng': -74.0059413},\n",
       " 'SMITH-9 ST': {u'lat': 40.7127837, u'lng': -74.0059413},\n",
       " 'SOUTH FERRY': {u'lat': 40.7127837, u'lng': -74.0059413},\n",
       " 'SPRING ST': {u'lat': 40.7127837, u'lng': -74.0059413},\n",
       " 'ST LAWRENCE AV': {u'lat': 40.7629881, u'lng': -73.9678661},\n",
       " 'ST. GEORGE': {u'lat': 40.7127837, u'lng': -74.0059413},\n",
       " 'STEINWAY ST': {u'lat': 40.790242, u'lng': -73.9477967},\n",
       " 'STERLING ST': {u'lat': 40.7127837, u'lng': -74.0059413},\n",
       " 'SUTPHIN BLVD': {u'lat': 40.7127837, u'lng': -74.0059413},\n",
       " 'SUTPHIN-ARCHER': {u'lat': 40.7127837, u'lng': -74.0059413},\n",
       " 'SUTTER AV': {u'lat': 40.7629881, u'lng': -73.9678661},\n",
       " 'SUTTER AV-RUTLD': {u'lat': 40.7127837, u'lng': -74.0059413},\n",
       " 'THIRTY ST': {u'lat': 40.7127837, u'lng': -74.0059413},\n",
       " 'THIRTY THIRD ST': {u'lat': 40.7127837, u'lng': -74.0059413},\n",
       " 'TIMES SQ-42 ST': {u'lat': 40.81776259999999, u'lng': -73.96256079999999},\n",
       " 'TOMPKINSVILLE': {u'lat': 40.7127837, u'lng': -74.0059413},\n",
       " 'TREMONT AV': {u'lat': 40.81776259999999, u'lng': -73.96256079999999},\n",
       " 'TWENTY THIRD ST': {u'lat': 40.7127837, u'lng': -74.0059413},\n",
       " 'UNION ST': {u'lat': 40.81776259999999, u'lng': -73.96256079999999},\n",
       " 'UTICA AV': {u'lat': 40.7629881, u'lng': -73.9678661},\n",
       " 'V.CORTLANDT PK': {u'lat': 40.7127837, u'lng': -74.0059413},\n",
       " 'VAN SICLEN AV': {u'lat': 40.7629881, u'lng': -73.9678661},\n",
       " 'VAN SICLEN AVE': {u'lat': 40.7629881, u'lng': -73.9678661},\n",
       " 'VERNON-JACKSON': {u'lat': 40.7127837, u'lng': -74.0059413},\n",
       " 'W 4 ST-WASH SQ': {u'lat': 40.7127837, u'lng': -74.0059413},\n",
       " 'W 8 ST-AQUARIUM': {u'lat': 40.7127837, u'lng': -74.0059413},\n",
       " 'WAKEFIELD/241': {u'lat': 40.8746616, u'lng': -73.9057548},\n",
       " 'WALL ST': {u'lat': 40.7127837, u'lng': -74.0059413},\n",
       " 'WEST FARMS SQ': {u'lat': 40.8746616, u'lng': -73.9057548},\n",
       " 'WESTCHESTER SQ': {u'lat': 40.7127837, u'lng': -74.0059413},\n",
       " 'WHITEHALL S-FRY': {u'lat': 40.7127837, u'lng': -74.0059413},\n",
       " 'WHITLOCK AV': {u'lat': 40.7629881, u'lng': -73.9678661},\n",
       " 'WILSON AV': {u'lat': 40.7629881, u'lng': -73.9678661},\n",
       " 'WINTHROP ST': {u'lat': 40.7127837, u'lng': -74.0059413},\n",
       " 'WOODHAVEN BLVD': {u'lat': 40.7127837, u'lng': -74.0059413},\n",
       " 'WOODLAWN': {u'lat': 40.8746616, u'lng': -73.9057548},\n",
       " 'WORLD TRADE CTR': {u'lat': 40.72305619999999, u'lng': -74.038853},\n",
       " 'YORK ST': {u'lat': 40.709395, u'lng': -74.0083169},\n",
       " 'ZEREGA AV': {u'lat': 40.7629881, u'lng': -73.9678661}}"
      ]
     },
     "execution_count": 61,
     "metadata": {},
     "output_type": "execute_result"
    }
   ],
   "source": [
    "print len(station_loc_dict)\n",
    "len(station_loc_dict)"
   ]
  },
  {
   "cell_type": "code",
   "execution_count": 1,
   "metadata": {
    "collapsed": false
   },
   "outputs": [
    {
     "ename": "NameError",
     "evalue": "name 'station_loc_dict' is not defined",
     "output_type": "error",
     "traceback": [
      "\u001b[0;31m---------------------------------------------------------------------------\u001b[0m",
      "\u001b[0;31mNameError\u001b[0m                                 Traceback (most recent call last)",
      "\u001b[0;32m<ipython-input-1-717fbb17474e>\u001b[0m in \u001b[0;36m<module>\u001b[0;34m()\u001b[0m\n\u001b[0;32m----> 1\u001b[0;31m \u001b[0mstation_loc_dict\u001b[0m\u001b[0;34m\u001b[0m\u001b[0m\n\u001b[0m",
      "\u001b[0;31mNameError\u001b[0m: name 'station_loc_dict' is not defined"
     ]
    }
   ],
   "source": [
    "station_loc_dict"
   ]
  },
  {
   "cell_type": "code",
   "execution_count": null,
   "metadata": {
    "collapsed": true
   },
   "outputs": [],
   "source": []
  },
  {
   "cell_type": "code",
   "execution_count": null,
   "metadata": {
    "collapsed": true
   },
   "outputs": [],
   "source": [
    "import csv"
   ]
  },
  {
   "cell_type": "code",
   "execution_count": 63,
   "metadata": {
    "collapsed": true
   },
   "outputs": [],
   "source": [
    "with open('station_loc.csv','wb') as f:\n",
    "    w = csv.writer(f)\n",
    "    w.writerow(station_loc_dict.keys())\n",
    "    w.writerow(station_loc_dict.values())"
   ]
  },
  {
   "cell_type": "code",
   "execution_count": 64,
   "metadata": {
    "collapsed": false
   },
   "outputs": [
    {
     "name": "stdout",
     "output_type": "stream",
     "text": [
      "191890\n"
     ]
    }
   ],
   "source": [
    "n = len(df)\n",
    "print n"
   ]
  },
  {
   "cell_type": "code",
   "execution_count": 50,
   "metadata": {
    "collapsed": true
   },
   "outputs": [],
   "source": [
    "#df[\"Latitude\"] = 0\n",
    "#df[\"Longitude\"] = 0"
   ]
  },
  {
   "cell_type": "code",
   "execution_count": null,
   "metadata": {
    "collapsed": false
   },
   "outputs": [],
   "source": [
    "# print df.head()"
   ]
  },
  {
   "cell_type": "code",
   "execution_count": null,
   "metadata": {
    "collapsed": false
   },
   "outputs": [],
   "source": [
    "'''\n",
    "for i in range(0,len(df)):\n",
    "    station_name = df[\"station\"][i]\n",
    "#    print station\n",
    "#    print station_name in station_loc_dict\n",
    "#    print station_loc_dict[station_name]\n",
    "#    print type(station_loc_dict[station_name])\n",
    "    \n",
    "    location_info_dict = station_loc_dict[station_name]\n",
    "    #print location_info_dict\n",
    "#    print type(location_info_dict)\n",
    "#    print location_info_dict.keys()\n",
    "    #lat = float(location_info_dict[u'lat'])\n",
    "    #lon = float(location_info_dict[u'lng'])\n",
    "    df[\"Latitude\"][i] = float(location_info_dict[u'lat'])      #<<-- for some reason when i tried to declare them directly, it turned into an integer automatically\n",
    "    df[\"Longitude\"][i] = float(location_info_dict[u'lng'])    #<<-- for some reason when i tried to declare them directly, it turned into an integer automatically\n",
    "    \n",
    "''' \n",
    "    "
   ]
  },
  {
   "cell_type": "code",
   "execution_count": null,
   "metadata": {
    "collapsed": false
   },
   "outputs": [],
   "source": []
  },
  {
   "cell_type": "code",
   "execution_count": null,
   "metadata": {
    "collapsed": false
   },
   "outputs": [],
   "source": []
  },
  {
   "cell_type": "code",
   "execution_count": null,
   "metadata": {
    "collapsed": false
   },
   "outputs": [],
   "source": []
  },
  {
   "cell_type": "code",
   "execution_count": null,
   "metadata": {
    "collapsed": false
   },
   "outputs": [],
   "source": []
  },
  {
   "cell_type": "code",
   "execution_count": null,
   "metadata": {
    "collapsed": false
   },
   "outputs": [],
   "source": []
  },
  {
   "cell_type": "code",
   "execution_count": null,
   "metadata": {
    "collapsed": false
   },
   "outputs": [],
   "source": []
  },
  {
   "cell_type": "code",
   "execution_count": null,
   "metadata": {
    "collapsed": false
   },
   "outputs": [],
   "source": []
  },
  {
   "cell_type": "markdown",
   "metadata": {},
   "source": []
  },
  {
   "cell_type": "code",
   "execution_count": null,
   "metadata": {
    "collapsed": true
   },
   "outputs": [],
   "source": []
  },
  {
   "cell_type": "code",
   "execution_count": null,
   "metadata": {
    "collapsed": false
   },
   "outputs": [],
   "source": [
    "print df.shape\n",
    "print df.shape[0]"
   ]
  },
  {
   "cell_type": "code",
   "execution_count": 65,
   "metadata": {
    "collapsed": false
   },
   "outputs": [
    {
     "name": "stdout",
     "output_type": "stream",
     "text": [
      "  turnstyle station        date      time     type  entries    exits\n",
      "0  02-00-00   59 ST  03/12/2016  03:00:00  REGULAR  5583673  1884949\n",
      "1  02-00-00   59 ST  03/12/2016  07:00:00  REGULAR  5583689  1884968\n",
      "2  02-00-00   59 ST  03/12/2016  11:00:00  REGULAR  5583785  1885067\n",
      "3  02-00-00   59 ST  03/12/2016  15:00:00  REGULAR  5584037  1885157\n",
      "4  02-00-00   59 ST  03/12/2016  19:00:00  REGULAR  5584482  1885250\n"
     ]
    }
   ],
   "source": [
    "print df.head()"
   ]
  },
  {
   "cell_type": "code",
   "execution_count": null,
   "metadata": {
    "collapsed": false
   },
   "outputs": [],
   "source": [
    "'''\n",
    "#for i in range(0,df.shape[0])\n",
    "for i in range(0,50):\n",
    "    row_station = df[\"station\"][i]          # Extract out the station for the particular turnstyle row\n",
    "\n",
    "    # This isn't working yet!!\n",
    "    location_tuple = stationLocDict[row_station]                     # Look up that station in the station location dictionary\n",
    "    print location_tuple\n",
    "    \n",
    "    #df[\"Latitude\"] = location_tuple[0]\n",
    "    #df[\"Longitude\"] = location_tuple[2]\n",
    "    '''"
   ]
  },
  {
   "cell_type": "code",
   "execution_count": null,
   "metadata": {
    "collapsed": false
   },
   "outputs": [],
   "source": []
  },
  {
   "cell_type": "code",
   "execution_count": null,
   "metadata": {
    "collapsed": true
   },
   "outputs": [],
   "source": []
  },
  {
   "cell_type": "code",
   "execution_count": null,
   "metadata": {
    "collapsed": true
   },
   "outputs": [],
   "source": []
  },
  {
   "cell_type": "markdown",
   "metadata": {
    "collapsed": true
   },
   "source": [
    "# Here's what needs to happen:\n",
    "\n",
    "1. Step 1 - create date time\n",
    "2. Step 2 - split - station\n",
    "3. Step 3 - split on date_time\n",
    "4. Step 4 sum on turnstyle\n",
    "5. Step 5 diff on entries & exits\n",
    "\n"
   ]
  },
  {
   "cell_type": "markdown",
   "metadata": {},
   "source": [
    "## Step 1 - create date time"
   ]
  },
  {
   "cell_type": "code",
   "execution_count": 66,
   "metadata": {
    "collapsed": false
   },
   "outputs": [
    {
     "name": "stdout",
     "output_type": "stream",
     "text": [
      "  turnstyle station        date      time     type  entries    exits  \\\n",
      "0  02-00-00   59 ST  03/12/2016  03:00:00  REGULAR  5583673  1884949   \n",
      "1  02-00-00   59 ST  03/12/2016  07:00:00  REGULAR  5583689  1884968   \n",
      "2  02-00-00   59 ST  03/12/2016  11:00:00  REGULAR  5583785  1885067   \n",
      "3  02-00-00   59 ST  03/12/2016  15:00:00  REGULAR  5584037  1885157   \n",
      "4  02-00-00   59 ST  03/12/2016  19:00:00  REGULAR  5584482  1885250   \n",
      "\n",
      "            date_time  \n",
      "0 2016-03-12 03:00:00  \n",
      "1 2016-03-12 07:00:00  \n",
      "2 2016-03-12 11:00:00  \n",
      "3 2016-03-12 15:00:00  \n",
      "4 2016-03-12 19:00:00  \n"
     ]
    }
   ],
   "source": [
    "# Reference: http://stackoverflow.com/questions/17978092/combine-date-and-time-columns-using-python-pandas\n",
    "df[\"date_time\"] = pd.to_datetime(df[\"date\"] + \" \" + df[\"time\"])\n",
    "print df.head()"
   ]
  },
  {
   "cell_type": "markdown",
   "metadata": {},
   "source": [
    "# Step 2, 3, 4 - split station & date-time, sum on turnstyle"
   ]
  },
  {
   "cell_type": "code",
   "execution_count": 67,
   "metadata": {
    "collapsed": false
   },
   "outputs": [
    {
     "data": {
      "text/html": [
       "<div>\n",
       "<table border=\"1\" class=\"dataframe\">\n",
       "  <thead>\n",
       "    <tr style=\"text-align: right;\">\n",
       "      <th></th>\n",
       "      <th></th>\n",
       "      <th>entries</th>\n",
       "      <th>exits</th>\n",
       "    </tr>\n",
       "    <tr>\n",
       "      <th>station</th>\n",
       "      <th>date_time</th>\n",
       "      <th></th>\n",
       "      <th></th>\n",
       "    </tr>\n",
       "  </thead>\n",
       "  <tbody>\n",
       "    <tr>\n",
       "      <th rowspan=\"5\" valign=\"top\">1 AV</th>\n",
       "      <th>2016-03-12 03:00:00</th>\n",
       "      <td>1559766030</td>\n",
       "      <td>3475080175</td>\n",
       "    </tr>\n",
       "    <tr>\n",
       "      <th>2016-03-12 07:00:00</th>\n",
       "      <td>1559766573</td>\n",
       "      <td>3475080719</td>\n",
       "    </tr>\n",
       "    <tr>\n",
       "      <th>2016-03-12 11:00:00</th>\n",
       "      <td>1559768714</td>\n",
       "      <td>3475082789</td>\n",
       "    </tr>\n",
       "    <tr>\n",
       "      <th>2016-03-12 15:00:00</th>\n",
       "      <td>1559773222</td>\n",
       "      <td>3475085644</td>\n",
       "    </tr>\n",
       "    <tr>\n",
       "      <th>2016-03-12 19:00:00</th>\n",
       "      <td>1559778512</td>\n",
       "      <td>3475089242</td>\n",
       "    </tr>\n",
       "  </tbody>\n",
       "</table>\n",
       "</div>"
      ],
      "text/plain": [
       "                                entries       exits\n",
       "station date_time                                  \n",
       "1 AV    2016-03-12 03:00:00  1559766030  3475080175\n",
       "        2016-03-12 07:00:00  1559766573  3475080719\n",
       "        2016-03-12 11:00:00  1559768714  3475082789\n",
       "        2016-03-12 15:00:00  1559773222  3475085644\n",
       "        2016-03-12 19:00:00  1559778512  3475089242"
      ]
     },
     "execution_count": 67,
     "metadata": {},
     "output_type": "execute_result"
    }
   ],
   "source": [
    "grouped_dataframe = df.groupby([\"station\",\"date_time\"]).sum()\n",
    "grouped_dataframe.head()"
   ]
  },
  {
   "cell_type": "markdown",
   "metadata": {},
   "source": [
    "# Step 5 - Find differences between entries and exits"
   ]
  },
  {
   "cell_type": "code",
   "execution_count": null,
   "metadata": {
    "collapsed": true
   },
   "outputs": [],
   "source": []
  },
  {
   "cell_type": "code",
   "execution_count": 68,
   "metadata": {
    "collapsed": false
   },
   "outputs": [],
   "source": [
    "peter_final_dataframe = grouped_dataframe.groupby(level=0).diff().fillna(grouped_dataframe).reset_index()\n",
    "# setting groupby(level=0) -> tells it keep the first variable (\"station\") constant .. or aggregate across them.\n",
    "\n",
    "# we can probably remove the fillna(grouped_dataframe) can probably be removed since those first points will be removed anyway."
   ]
  },
  {
   "cell_type": "code",
   "execution_count": 74,
   "metadata": {
    "collapsed": false
   },
   "outputs": [
    {
     "data": {
      "text/html": [
       "<div>\n",
       "<table border=\"1\" class=\"dataframe\">\n",
       "  <thead>\n",
       "    <tr style=\"text-align: right;\">\n",
       "      <th></th>\n",
       "      <th>station</th>\n",
       "      <th>date_time</th>\n",
       "      <th>entries</th>\n",
       "      <th>exits</th>\n",
       "    </tr>\n",
       "  </thead>\n",
       "  <tbody>\n",
       "    <tr>\n",
       "      <th>0</th>\n",
       "      <td>1 AV</td>\n",
       "      <td>2016-03-12 03:00:00</td>\n",
       "      <td>1559766030</td>\n",
       "      <td>3475080175</td>\n",
       "    </tr>\n",
       "    <tr>\n",
       "      <th>1</th>\n",
       "      <td>1 AV</td>\n",
       "      <td>2016-03-12 07:00:00</td>\n",
       "      <td>543</td>\n",
       "      <td>544</td>\n",
       "    </tr>\n",
       "    <tr>\n",
       "      <th>2</th>\n",
       "      <td>1 AV</td>\n",
       "      <td>2016-03-12 11:00:00</td>\n",
       "      <td>2141</td>\n",
       "      <td>2070</td>\n",
       "    </tr>\n",
       "    <tr>\n",
       "      <th>3</th>\n",
       "      <td>1 AV</td>\n",
       "      <td>2016-03-12 15:00:00</td>\n",
       "      <td>4508</td>\n",
       "      <td>2855</td>\n",
       "    </tr>\n",
       "    <tr>\n",
       "      <th>4</th>\n",
       "      <td>1 AV</td>\n",
       "      <td>2016-03-12 19:00:00</td>\n",
       "      <td>5290</td>\n",
       "      <td>3598</td>\n",
       "    </tr>\n",
       "    <tr>\n",
       "      <th>5</th>\n",
       "      <td>103 ST</td>\n",
       "      <td>2016-03-12 00:00:00</td>\n",
       "      <td>-1408047936</td>\n",
       "      <td>-2881263719</td>\n",
       "    </tr>\n",
       "    <tr>\n",
       "      <th>6</th>\n",
       "      <td>103 ST</td>\n",
       "      <td>2016-03-12 04:00:00</td>\n",
       "      <td>408</td>\n",
       "      <td>529</td>\n",
       "    </tr>\n",
       "    <tr>\n",
       "      <th>7</th>\n",
       "      <td>103 ST</td>\n",
       "      <td>2016-03-12 08:00:00</td>\n",
       "      <td>1230</td>\n",
       "      <td>561</td>\n",
       "    </tr>\n",
       "    <tr>\n",
       "      <th>8</th>\n",
       "      <td>103 ST</td>\n",
       "      <td>2016-03-12 12:00:00</td>\n",
       "      <td>4919</td>\n",
       "      <td>1940</td>\n",
       "    </tr>\n",
       "    <tr>\n",
       "      <th>9</th>\n",
       "      <td>103 ST</td>\n",
       "      <td>2016-03-12 16:00:00</td>\n",
       "      <td>5552</td>\n",
       "      <td>2380</td>\n",
       "    </tr>\n",
       "    <tr>\n",
       "      <th>10</th>\n",
       "      <td>103 ST-CORONA</td>\n",
       "      <td>2016-03-12 03:00:00</td>\n",
       "      <td>-89463537</td>\n",
       "      <td>-534148199</td>\n",
       "    </tr>\n",
       "    <tr>\n",
       "      <th>11</th>\n",
       "      <td>103 ST-CORONA</td>\n",
       "      <td>2016-03-12 07:00:00</td>\n",
       "      <td>1015</td>\n",
       "      <td>543</td>\n",
       "    </tr>\n",
       "    <tr>\n",
       "      <th>12</th>\n",
       "      <td>103 ST-CORONA</td>\n",
       "      <td>2016-03-12 11:00:00</td>\n",
       "      <td>3134</td>\n",
       "      <td>1199</td>\n",
       "    </tr>\n",
       "    <tr>\n",
       "      <th>13</th>\n",
       "      <td>103 ST-CORONA</td>\n",
       "      <td>2016-03-12 15:00:00</td>\n",
       "      <td>2061</td>\n",
       "      <td>1673</td>\n",
       "    </tr>\n",
       "    <tr>\n",
       "      <th>14</th>\n",
       "      <td>103 ST-CORONA</td>\n",
       "      <td>2016-03-12 19:00:00</td>\n",
       "      <td>1704</td>\n",
       "      <td>2964</td>\n",
       "    </tr>\n",
       "    <tr>\n",
       "      <th>15</th>\n",
       "      <td>104 ST</td>\n",
       "      <td>2016-03-12 03:00:00</td>\n",
       "      <td>3799141417</td>\n",
       "      <td>3107600168</td>\n",
       "    </tr>\n",
       "    <tr>\n",
       "      <th>16</th>\n",
       "      <td>104 ST</td>\n",
       "      <td>2016-03-12 07:00:00</td>\n",
       "      <td>287</td>\n",
       "      <td>30</td>\n",
       "    </tr>\n",
       "    <tr>\n",
       "      <th>17</th>\n",
       "      <td>104 ST</td>\n",
       "      <td>2016-03-12 11:00:00</td>\n",
       "      <td>682</td>\n",
       "      <td>107</td>\n",
       "    </tr>\n",
       "    <tr>\n",
       "      <th>18</th>\n",
       "      <td>104 ST</td>\n",
       "      <td>2016-03-12 15:00:00</td>\n",
       "      <td>500</td>\n",
       "      <td>142</td>\n",
       "    </tr>\n",
       "    <tr>\n",
       "      <th>19</th>\n",
       "      <td>104 ST</td>\n",
       "      <td>2016-03-12 19:00:00</td>\n",
       "      <td>367</td>\n",
       "      <td>319</td>\n",
       "    </tr>\n",
       "    <tr>\n",
       "      <th>20</th>\n",
       "      <td>110 ST</td>\n",
       "      <td>2016-03-12 03:00:00</td>\n",
       "      <td>-3835426404</td>\n",
       "      <td>-3140665480</td>\n",
       "    </tr>\n",
       "    <tr>\n",
       "      <th>21</th>\n",
       "      <td>110 ST</td>\n",
       "      <td>2016-03-12 07:00:00</td>\n",
       "      <td>430</td>\n",
       "      <td>374</td>\n",
       "    </tr>\n",
       "    <tr>\n",
       "      <th>22</th>\n",
       "      <td>110 ST</td>\n",
       "      <td>2016-03-12 11:00:00</td>\n",
       "      <td>2307</td>\n",
       "      <td>1359</td>\n",
       "    </tr>\n",
       "    <tr>\n",
       "      <th>23</th>\n",
       "      <td>110 ST</td>\n",
       "      <td>2016-03-12 15:00:00</td>\n",
       "      <td>2637</td>\n",
       "      <td>1900</td>\n",
       "    </tr>\n",
       "    <tr>\n",
       "      <th>24</th>\n",
       "      <td>110 ST</td>\n",
       "      <td>2016-03-12 19:00:00</td>\n",
       "      <td>2549</td>\n",
       "      <td>2083</td>\n",
       "    </tr>\n",
       "    <tr>\n",
       "      <th>25</th>\n",
       "      <td>111 ST</td>\n",
       "      <td>2016-03-12 00:00:00</td>\n",
       "      <td>-23890532</td>\n",
       "      <td>-24335875</td>\n",
       "    </tr>\n",
       "    <tr>\n",
       "      <th>26</th>\n",
       "      <td>111 ST</td>\n",
       "      <td>2016-03-12 03:00:00</td>\n",
       "      <td>53407915</td>\n",
       "      <td>35907471</td>\n",
       "    </tr>\n",
       "    <tr>\n",
       "      <th>27</th>\n",
       "      <td>111 ST</td>\n",
       "      <td>2016-03-12 04:00:00</td>\n",
       "      <td>-53407913</td>\n",
       "      <td>-35907463</td>\n",
       "    </tr>\n",
       "    <tr>\n",
       "      <th>28</th>\n",
       "      <td>111 ST</td>\n",
       "      <td>2016-03-12 07:00:00</td>\n",
       "      <td>53409151</td>\n",
       "      <td>35907772</td>\n",
       "    </tr>\n",
       "    <tr>\n",
       "      <th>29</th>\n",
       "      <td>111 ST</td>\n",
       "      <td>2016-03-12 08:00:00</td>\n",
       "      <td>-53409126</td>\n",
       "      <td>-35907767</td>\n",
       "    </tr>\n",
       "    <tr>\n",
       "      <th>...</th>\n",
       "      <td>...</td>\n",
       "      <td>...</td>\n",
       "      <td>...</td>\n",
       "      <td>...</td>\n",
       "    </tr>\n",
       "    <tr>\n",
       "      <th>1835</th>\n",
       "      <td>WINTHROP ST</td>\n",
       "      <td>2016-03-12 00:00:00</td>\n",
       "      <td>17094008</td>\n",
       "      <td>-7526098</td>\n",
       "    </tr>\n",
       "    <tr>\n",
       "      <th>1836</th>\n",
       "      <td>WINTHROP ST</td>\n",
       "      <td>2016-03-12 04:00:00</td>\n",
       "      <td>73</td>\n",
       "      <td>56</td>\n",
       "    </tr>\n",
       "    <tr>\n",
       "      <th>1837</th>\n",
       "      <td>WINTHROP ST</td>\n",
       "      <td>2016-03-12 08:00:00</td>\n",
       "      <td>398</td>\n",
       "      <td>61</td>\n",
       "    </tr>\n",
       "    <tr>\n",
       "      <th>1838</th>\n",
       "      <td>WINTHROP ST</td>\n",
       "      <td>2016-03-12 12:00:00</td>\n",
       "      <td>972</td>\n",
       "      <td>206</td>\n",
       "    </tr>\n",
       "    <tr>\n",
       "      <th>1839</th>\n",
       "      <td>WINTHROP ST</td>\n",
       "      <td>2016-03-12 16:00:00</td>\n",
       "      <td>1007</td>\n",
       "      <td>235</td>\n",
       "    </tr>\n",
       "    <tr>\n",
       "      <th>1840</th>\n",
       "      <td>WOODHAVEN BLVD</td>\n",
       "      <td>2016-03-12 00:00:00</td>\n",
       "      <td>24282633</td>\n",
       "      <td>31395311</td>\n",
       "    </tr>\n",
       "    <tr>\n",
       "      <th>1841</th>\n",
       "      <td>WOODHAVEN BLVD</td>\n",
       "      <td>2016-03-12 03:00:00</td>\n",
       "      <td>-4776552</td>\n",
       "      <td>-22957759</td>\n",
       "    </tr>\n",
       "    <tr>\n",
       "      <th>1842</th>\n",
       "      <td>WOODHAVEN BLVD</td>\n",
       "      <td>2016-03-12 04:00:00</td>\n",
       "      <td>4776753</td>\n",
       "      <td>22958237</td>\n",
       "    </tr>\n",
       "    <tr>\n",
       "      <th>1843</th>\n",
       "      <td>WOODHAVEN BLVD</td>\n",
       "      <td>2016-03-12 07:00:00</td>\n",
       "      <td>-4776477</td>\n",
       "      <td>-22958167</td>\n",
       "    </tr>\n",
       "    <tr>\n",
       "      <th>1844</th>\n",
       "      <td>WOODHAVEN BLVD</td>\n",
       "      <td>2016-03-12 08:00:00</td>\n",
       "      <td>4778059</td>\n",
       "      <td>22958519</td>\n",
       "    </tr>\n",
       "    <tr>\n",
       "      <th>1845</th>\n",
       "      <td>WOODLAWN</td>\n",
       "      <td>2016-03-12 03:00:00</td>\n",
       "      <td>-28601628</td>\n",
       "      <td>-25758057</td>\n",
       "    </tr>\n",
       "    <tr>\n",
       "      <th>1846</th>\n",
       "      <td>WOODLAWN</td>\n",
       "      <td>2016-03-12 07:00:00</td>\n",
       "      <td>476</td>\n",
       "      <td>83</td>\n",
       "    </tr>\n",
       "    <tr>\n",
       "      <th>1847</th>\n",
       "      <td>WOODLAWN</td>\n",
       "      <td>2016-03-12 11:00:00</td>\n",
       "      <td>1160</td>\n",
       "      <td>235</td>\n",
       "    </tr>\n",
       "    <tr>\n",
       "      <th>1848</th>\n",
       "      <td>WOODLAWN</td>\n",
       "      <td>2016-03-12 15:00:00</td>\n",
       "      <td>1064</td>\n",
       "      <td>364</td>\n",
       "    </tr>\n",
       "    <tr>\n",
       "      <th>1849</th>\n",
       "      <td>WOODLAWN</td>\n",
       "      <td>2016-03-12 19:00:00</td>\n",
       "      <td>1247</td>\n",
       "      <td>456</td>\n",
       "    </tr>\n",
       "    <tr>\n",
       "      <th>1850</th>\n",
       "      <td>WORLD TRADE CTR</td>\n",
       "      <td>2016-03-12 03:00:00</td>\n",
       "      <td>7871068</td>\n",
       "      <td>7629079</td>\n",
       "    </tr>\n",
       "    <tr>\n",
       "      <th>1851</th>\n",
       "      <td>WORLD TRADE CTR</td>\n",
       "      <td>2016-03-12 07:00:00</td>\n",
       "      <td>141</td>\n",
       "      <td>181</td>\n",
       "    </tr>\n",
       "    <tr>\n",
       "      <th>1852</th>\n",
       "      <td>WORLD TRADE CTR</td>\n",
       "      <td>2016-03-12 11:00:00</td>\n",
       "      <td>732</td>\n",
       "      <td>943</td>\n",
       "    </tr>\n",
       "    <tr>\n",
       "      <th>1853</th>\n",
       "      <td>WORLD TRADE CTR</td>\n",
       "      <td>2016-03-12 15:00:00</td>\n",
       "      <td>2001</td>\n",
       "      <td>1546</td>\n",
       "    </tr>\n",
       "    <tr>\n",
       "      <th>1854</th>\n",
       "      <td>WORLD TRADE CTR</td>\n",
       "      <td>2016-03-12 19:00:00</td>\n",
       "      <td>3086</td>\n",
       "      <td>1529</td>\n",
       "    </tr>\n",
       "    <tr>\n",
       "      <th>1855</th>\n",
       "      <td>YORK ST</td>\n",
       "      <td>2016-03-12 00:00:00</td>\n",
       "      <td>-3503705</td>\n",
       "      <td>10188941</td>\n",
       "    </tr>\n",
       "    <tr>\n",
       "      <th>1856</th>\n",
       "      <td>YORK ST</td>\n",
       "      <td>2016-03-12 04:00:00</td>\n",
       "      <td>133</td>\n",
       "      <td>270</td>\n",
       "    </tr>\n",
       "    <tr>\n",
       "      <th>1857</th>\n",
       "      <td>YORK ST</td>\n",
       "      <td>2016-03-12 08:00:00</td>\n",
       "      <td>194</td>\n",
       "      <td>432</td>\n",
       "    </tr>\n",
       "    <tr>\n",
       "      <th>1858</th>\n",
       "      <td>YORK ST</td>\n",
       "      <td>2016-03-12 12:00:00</td>\n",
       "      <td>1096</td>\n",
       "      <td>1947</td>\n",
       "    </tr>\n",
       "    <tr>\n",
       "      <th>1859</th>\n",
       "      <td>YORK ST</td>\n",
       "      <td>2016-03-12 16:00:00</td>\n",
       "      <td>2459</td>\n",
       "      <td>2495</td>\n",
       "    </tr>\n",
       "    <tr>\n",
       "      <th>1860</th>\n",
       "      <td>ZEREGA AV</td>\n",
       "      <td>2016-03-12 00:00:00</td>\n",
       "      <td>21788225</td>\n",
       "      <td>-28494377</td>\n",
       "    </tr>\n",
       "    <tr>\n",
       "      <th>1861</th>\n",
       "      <td>ZEREGA AV</td>\n",
       "      <td>2016-03-12 04:00:00</td>\n",
       "      <td>21</td>\n",
       "      <td>113</td>\n",
       "    </tr>\n",
       "    <tr>\n",
       "      <th>1862</th>\n",
       "      <td>ZEREGA AV</td>\n",
       "      <td>2016-03-12 08:00:00</td>\n",
       "      <td>223</td>\n",
       "      <td>103</td>\n",
       "    </tr>\n",
       "    <tr>\n",
       "      <th>1863</th>\n",
       "      <td>ZEREGA AV</td>\n",
       "      <td>2016-03-12 12:00:00</td>\n",
       "      <td>387</td>\n",
       "      <td>236</td>\n",
       "    </tr>\n",
       "    <tr>\n",
       "      <th>1864</th>\n",
       "      <td>ZEREGA AV</td>\n",
       "      <td>2016-03-12 16:00:00</td>\n",
       "      <td>425</td>\n",
       "      <td>267</td>\n",
       "    </tr>\n",
       "  </tbody>\n",
       "</table>\n",
       "<p>1865 rows × 4 columns</p>\n",
       "</div>"
      ],
      "text/plain": [
       "              station           date_time     entries       exits\n",
       "0                1 AV 2016-03-12 03:00:00  1559766030  3475080175\n",
       "1                1 AV 2016-03-12 07:00:00         543         544\n",
       "2                1 AV 2016-03-12 11:00:00        2141        2070\n",
       "3                1 AV 2016-03-12 15:00:00        4508        2855\n",
       "4                1 AV 2016-03-12 19:00:00        5290        3598\n",
       "5              103 ST 2016-03-12 00:00:00 -1408047936 -2881263719\n",
       "6              103 ST 2016-03-12 04:00:00         408         529\n",
       "7              103 ST 2016-03-12 08:00:00        1230         561\n",
       "8              103 ST 2016-03-12 12:00:00        4919        1940\n",
       "9              103 ST 2016-03-12 16:00:00        5552        2380\n",
       "10      103 ST-CORONA 2016-03-12 03:00:00   -89463537  -534148199\n",
       "11      103 ST-CORONA 2016-03-12 07:00:00        1015         543\n",
       "12      103 ST-CORONA 2016-03-12 11:00:00        3134        1199\n",
       "13      103 ST-CORONA 2016-03-12 15:00:00        2061        1673\n",
       "14      103 ST-CORONA 2016-03-12 19:00:00        1704        2964\n",
       "15             104 ST 2016-03-12 03:00:00  3799141417  3107600168\n",
       "16             104 ST 2016-03-12 07:00:00         287          30\n",
       "17             104 ST 2016-03-12 11:00:00         682         107\n",
       "18             104 ST 2016-03-12 15:00:00         500         142\n",
       "19             104 ST 2016-03-12 19:00:00         367         319\n",
       "20             110 ST 2016-03-12 03:00:00 -3835426404 -3140665480\n",
       "21             110 ST 2016-03-12 07:00:00         430         374\n",
       "22             110 ST 2016-03-12 11:00:00        2307        1359\n",
       "23             110 ST 2016-03-12 15:00:00        2637        1900\n",
       "24             110 ST 2016-03-12 19:00:00        2549        2083\n",
       "25             111 ST 2016-03-12 00:00:00   -23890532   -24335875\n",
       "26             111 ST 2016-03-12 03:00:00    53407915    35907471\n",
       "27             111 ST 2016-03-12 04:00:00   -53407913   -35907463\n",
       "28             111 ST 2016-03-12 07:00:00    53409151    35907772\n",
       "29             111 ST 2016-03-12 08:00:00   -53409126   -35907767\n",
       "...               ...                 ...         ...         ...\n",
       "1835      WINTHROP ST 2016-03-12 00:00:00    17094008    -7526098\n",
       "1836      WINTHROP ST 2016-03-12 04:00:00          73          56\n",
       "1837      WINTHROP ST 2016-03-12 08:00:00         398          61\n",
       "1838      WINTHROP ST 2016-03-12 12:00:00         972         206\n",
       "1839      WINTHROP ST 2016-03-12 16:00:00        1007         235\n",
       "1840   WOODHAVEN BLVD 2016-03-12 00:00:00    24282633    31395311\n",
       "1841   WOODHAVEN BLVD 2016-03-12 03:00:00    -4776552   -22957759\n",
       "1842   WOODHAVEN BLVD 2016-03-12 04:00:00     4776753    22958237\n",
       "1843   WOODHAVEN BLVD 2016-03-12 07:00:00    -4776477   -22958167\n",
       "1844   WOODHAVEN BLVD 2016-03-12 08:00:00     4778059    22958519\n",
       "1845         WOODLAWN 2016-03-12 03:00:00   -28601628   -25758057\n",
       "1846         WOODLAWN 2016-03-12 07:00:00         476          83\n",
       "1847         WOODLAWN 2016-03-12 11:00:00        1160         235\n",
       "1848         WOODLAWN 2016-03-12 15:00:00        1064         364\n",
       "1849         WOODLAWN 2016-03-12 19:00:00        1247         456\n",
       "1850  WORLD TRADE CTR 2016-03-12 03:00:00     7871068     7629079\n",
       "1851  WORLD TRADE CTR 2016-03-12 07:00:00         141         181\n",
       "1852  WORLD TRADE CTR 2016-03-12 11:00:00         732         943\n",
       "1853  WORLD TRADE CTR 2016-03-12 15:00:00        2001        1546\n",
       "1854  WORLD TRADE CTR 2016-03-12 19:00:00        3086        1529\n",
       "1855          YORK ST 2016-03-12 00:00:00    -3503705    10188941\n",
       "1856          YORK ST 2016-03-12 04:00:00         133         270\n",
       "1857          YORK ST 2016-03-12 08:00:00         194         432\n",
       "1858          YORK ST 2016-03-12 12:00:00        1096        1947\n",
       "1859          YORK ST 2016-03-12 16:00:00        2459        2495\n",
       "1860        ZEREGA AV 2016-03-12 00:00:00    21788225   -28494377\n",
       "1861        ZEREGA AV 2016-03-12 04:00:00          21         113\n",
       "1862        ZEREGA AV 2016-03-12 08:00:00         223         103\n",
       "1863        ZEREGA AV 2016-03-12 12:00:00         387         236\n",
       "1864        ZEREGA AV 2016-03-12 16:00:00         425         267\n",
       "\n",
       "[1865 rows x 4 columns]"
      ]
     },
     "execution_count": 74,
     "metadata": {},
     "output_type": "execute_result"
    }
   ],
   "source": [
    "grouped_dataframe.groupby(level=0).head().diff().fillna(grouped_dataframe).reset_index()\n",
    "#.diff().fillna(grouped_dataframe).reset_index()."
   ]
  },
  {
   "cell_type": "markdown",
   "metadata": {},
   "source": [
    "# Adding Totals Column"
   ]
  },
  {
   "cell_type": "code",
   "execution_count": 69,
   "metadata": {
    "collapsed": false
   },
   "outputs": [
    {
     "data": {
      "text/html": [
       "<div>\n",
       "<table border=\"1\" class=\"dataframe\">\n",
       "  <thead>\n",
       "    <tr style=\"text-align: right;\">\n",
       "      <th></th>\n",
       "      <th>station</th>\n",
       "      <th>date_time</th>\n",
       "      <th>entries</th>\n",
       "      <th>exits</th>\n",
       "      <th>total</th>\n",
       "    </tr>\n",
       "  </thead>\n",
       "  <tbody>\n",
       "    <tr>\n",
       "      <th>0</th>\n",
       "      <td>1 AV</td>\n",
       "      <td>2016-03-12 03:00:00</td>\n",
       "      <td>1559766030</td>\n",
       "      <td>3475080175</td>\n",
       "      <td>5034846205</td>\n",
       "    </tr>\n",
       "    <tr>\n",
       "      <th>1</th>\n",
       "      <td>1 AV</td>\n",
       "      <td>2016-03-12 07:00:00</td>\n",
       "      <td>543</td>\n",
       "      <td>544</td>\n",
       "      <td>1087</td>\n",
       "    </tr>\n",
       "    <tr>\n",
       "      <th>2</th>\n",
       "      <td>1 AV</td>\n",
       "      <td>2016-03-12 11:00:00</td>\n",
       "      <td>2141</td>\n",
       "      <td>2070</td>\n",
       "      <td>4211</td>\n",
       "    </tr>\n",
       "    <tr>\n",
       "      <th>3</th>\n",
       "      <td>1 AV</td>\n",
       "      <td>2016-03-12 15:00:00</td>\n",
       "      <td>4508</td>\n",
       "      <td>2855</td>\n",
       "      <td>7363</td>\n",
       "    </tr>\n",
       "    <tr>\n",
       "      <th>4</th>\n",
       "      <td>1 AV</td>\n",
       "      <td>2016-03-12 19:00:00</td>\n",
       "      <td>5290</td>\n",
       "      <td>3598</td>\n",
       "      <td>8888</td>\n",
       "    </tr>\n",
       "  </tbody>\n",
       "</table>\n",
       "</div>"
      ],
      "text/plain": [
       "  station           date_time     entries       exits       total\n",
       "0    1 AV 2016-03-12 03:00:00  1559766030  3475080175  5034846205\n",
       "1    1 AV 2016-03-12 07:00:00         543         544        1087\n",
       "2    1 AV 2016-03-12 11:00:00        2141        2070        4211\n",
       "3    1 AV 2016-03-12 15:00:00        4508        2855        7363\n",
       "4    1 AV 2016-03-12 19:00:00        5290        3598        8888"
      ]
     },
     "execution_count": 69,
     "metadata": {},
     "output_type": "execute_result"
    }
   ],
   "source": [
    "peter_final_dataframe[\"total\"] = peter_final_dataframe[\"entries\"] + peter_final_dataframe[\"exits\"] \n",
    "peter_final_dataframe.head()"
   ]
  },
  {
   "cell_type": "markdown",
   "metadata": {},
   "source": []
  },
  {
   "cell_type": "code",
   "execution_count": 70,
   "metadata": {
    "collapsed": false
   },
   "outputs": [],
   "source": [
    "peter_final_dataframe.to_csv(\"peter_final_dataframe_counts\")"
   ]
  },
  {
   "cell_type": "code",
   "execution_count": null,
   "metadata": {
    "collapsed": false
   },
   "outputs": [],
   "source": []
  },
  {
   "cell_type": "code",
   "execution_count": null,
   "metadata": {
    "collapsed": false
   },
   "outputs": [],
   "source": [
    "\n"
   ]
  },
  {
   "cell_type": "code",
   "execution_count": null,
   "metadata": {
    "collapsed": true
   },
   "outputs": [],
   "source": []
  },
  {
   "cell_type": "code",
   "execution_count": null,
   "metadata": {
    "collapsed": false
   },
   "outputs": [],
   "source": []
  },
  {
   "cell_type": "code",
   "execution_count": null,
   "metadata": {
    "collapsed": false
   },
   "outputs": [],
   "source": []
  },
  {
   "cell_type": "code",
   "execution_count": null,
   "metadata": {
    "collapsed": false
   },
   "outputs": [],
   "source": []
  },
  {
   "cell_type": "code",
   "execution_count": null,
   "metadata": {
    "collapsed": true
   },
   "outputs": [],
   "source": []
  },
  {
   "cell_type": "markdown",
   "metadata": {},
   "source": [
    "# This is a slight diversion from working on the main dataframe.\n",
    "# Here I create a dictionary of lat's and long's for each station"
   ]
  },
  {
   "cell_type": "code",
   "execution_count": null,
   "metadata": {
    "collapsed": false
   },
   "outputs": [],
   "source": [
    "# Real data\n",
    "station_loc_table = pd.read_csv('StationEntrances.csv')\n",
    "station_loc_table.head()\n",
    "\n",
    "Station_Names_List = station_loc_table[\"Station_Name\"]\n",
    "Station_Latitude_List = station_loc_table[\"Station_Latitude\"]\n",
    "Station_Longitude_List = station_loc_table[\"Station_Longitude\"]\n",
    "\n",
    "print len(Station_Latitude_List)\n",
    "print len(Station_Longitude_List)\n",
    "print len(Station_Names_List)\n",
    "\n",
    "'''\n",
    "# Method 1 of creating the dictionary\n",
    "stationLocDict = {}\n",
    "for i in range(0, len(Station_Names_List)):\n",
    "    stationLocDict[Station_Names_List[i]] = (Station_Latitude_List[i], Station_Longitude_List[i])\n",
    "'''\n",
    "\n",
    "# Method 2 of creating the dictionary\n",
    "stationLocDict = {Station_Names_List[i]: (Station_Latitude_List[i], Station_Longitude_List[i]) for i in range(0, len(Station_Names_List))}\n",
    "print len(stationLocDict.keys())\n",
    "print \n",
    "\n",
    "'''\n",
    "for station in stationLocDict.keys():\n",
    "    print station\n",
    "'''\n",
    "\n",
    "len(df[\"station\"].unique())\n",
    "\n",
    "for station in df[\"station\"].unique():\n",
    "    print station\n",
    "\n",
    "    \n",
    "print stationLocDict[\"59 St\"]\n",
    "\n",
    "print stationLocDict[\"59th St\"]"
   ]
  },
  {
   "cell_type": "code",
   "execution_count": null,
   "metadata": {
    "collapsed": false
   },
   "outputs": [],
   "source": []
  },
  {
   "cell_type": "code",
   "execution_count": null,
   "metadata": {
    "collapsed": false
   },
   "outputs": [],
   "source": []
  },
  {
   "cell_type": "code",
   "execution_count": null,
   "metadata": {
    "collapsed": true
   },
   "outputs": [],
   "source": []
  }
 ],
 "metadata": {
  "kernelspec": {
   "display_name": "Python 2",
   "language": "python",
   "name": "python2"
  },
  "language_info": {
   "codemirror_mode": {
    "name": "ipython",
    "version": 2
   },
   "file_extension": ".py",
   "mimetype": "text/x-python",
   "name": "python",
   "nbconvert_exporter": "python",
   "pygments_lexer": "ipython2",
   "version": "2.7.11"
  }
 },
 "nbformat": 4,
 "nbformat_minor": 0
}
